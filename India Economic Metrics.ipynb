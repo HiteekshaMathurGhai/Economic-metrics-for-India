{
 "cells": [
  {
   "cell_type": "code",
   "execution_count": 1,
   "id": "a446703c-3ac0-4ac3-9271-5c80a8915cc3",
   "metadata": {},
   "outputs": [
    {
     "name": "stdout",
     "output_type": "stream",
     "text": [
      "Requirement already satisfied: pandas_datareader in /Users/hit/anaconda3/lib/python3.11/site-packages (0.10.0)\n",
      "Requirement already satisfied: lxml in /Users/hit/anaconda3/lib/python3.11/site-packages (from pandas_datareader) (4.9.3)\n",
      "Requirement already satisfied: pandas>=0.23 in /Users/hit/anaconda3/lib/python3.11/site-packages (from pandas_datareader) (2.0.3)\n",
      "Requirement already satisfied: requests>=2.19.0 in /Users/hit/anaconda3/lib/python3.11/site-packages (from pandas_datareader) (2.31.0)\n",
      "Requirement already satisfied: python-dateutil>=2.8.2 in /Users/hit/anaconda3/lib/python3.11/site-packages (from pandas>=0.23->pandas_datareader) (2.8.2)\n",
      "Requirement already satisfied: pytz>=2020.1 in /Users/hit/anaconda3/lib/python3.11/site-packages (from pandas>=0.23->pandas_datareader) (2023.3.post1)\n",
      "Requirement already satisfied: tzdata>=2022.1 in /Users/hit/anaconda3/lib/python3.11/site-packages (from pandas>=0.23->pandas_datareader) (2023.3)\n",
      "Requirement already satisfied: numpy>=1.21.0 in /Users/hit/anaconda3/lib/python3.11/site-packages (from pandas>=0.23->pandas_datareader) (1.24.3)\n",
      "Requirement already satisfied: charset-normalizer<4,>=2 in /Users/hit/anaconda3/lib/python3.11/site-packages (from requests>=2.19.0->pandas_datareader) (2.0.4)\n",
      "Requirement already satisfied: idna<4,>=2.5 in /Users/hit/anaconda3/lib/python3.11/site-packages (from requests>=2.19.0->pandas_datareader) (3.4)\n",
      "Requirement already satisfied: urllib3<3,>=1.21.1 in /Users/hit/anaconda3/lib/python3.11/site-packages (from requests>=2.19.0->pandas_datareader) (1.26.16)\n",
      "Requirement already satisfied: certifi>=2017.4.17 in /Users/hit/anaconda3/lib/python3.11/site-packages (from requests>=2.19.0->pandas_datareader) (2023.7.22)\n",
      "Requirement already satisfied: six>=1.5 in /Users/hit/anaconda3/lib/python3.11/site-packages (from python-dateutil>=2.8.2->pandas>=0.23->pandas_datareader) (1.16.0)\n"
     ]
    },
    {
     "data": {
      "text/html": [
       "<style>\n",
       "        .bk-notebook-logo {\n",
       "            display: block;\n",
       "            width: 20px;\n",
       "            height: 20px;\n",
       "            background-image: url(data:image/png;base64,iVBORw0KGgoAAAANSUhEUgAAABQAAAAUCAYAAACNiR0NAAAABHNCSVQICAgIfAhkiAAAAAlwSFlzAAALEgAACxIB0t1+/AAAABx0RVh0U29mdHdhcmUAQWRvYmUgRmlyZXdvcmtzIENTNui8sowAAAOkSURBVDiNjZRtaJVlGMd/1/08zzln5zjP1LWcU9N0NkN8m2CYjpgQYQXqSs0I84OLIC0hkEKoPtiH3gmKoiJDU7QpLgoLjLIQCpEsNJ1vqUOdO7ppbuec5+V+rj4ctwzd8IIbbi6u+8f1539dt3A78eXC7QizUF7gyV1fD1Yqg4JWz84yffhm0qkFqBogB9rM8tZdtwVsPUhWhGcFJngGeWrPzHm5oaMmkfEg1usvLFyc8jLRqDOMru7AyC8saQr7GG7f5fvDeH7Ej8CM66nIF+8yngt6HWaKh7k49Soy9nXurCi1o3qUbS3zWfrYeQDTB/Qj6kX6Ybhw4B+bOYoLKCC9H3Nu/leUTZ1JdRWkkn2ldcCamzrcf47KKXdAJllSlxAOkRgyHsGC/zRday5Qld9DyoM4/q/rUoy/CXh3jzOu3bHUVZeU+DEn8FInkPBFlu3+nW3Nw0mk6vCDiWg8CeJaxEwuHS3+z5RgY+YBR6V1Z1nxSOfoaPa4LASWxxdNp+VWTk7+4vzaou8v8PN+xo+KY2xsw6une2frhw05CTYOmQvsEhjhWjn0bmXPjpE1+kplmmkP3suftwTubK9Vq22qKmrBhpY4jvd5afdRA3wGjFAgcnTK2s4hY0/GPNIb0nErGMCRxWOOX64Z8RAC4oCXdklmEvcL8o0BfkNK4lUg9HTl+oPlQxdNo3Mg4Nv175e/1LDGzZen30MEjRUtmXSfiTVu1kK8W4txyV6BMKlbgk3lMwYCiusNy9fVfvvwMxv8Ynl6vxoByANLTWplvuj/nF9m2+PDtt1eiHPBr1oIfhCChQMBw6Aw0UulqTKZdfVvfG7VcfIqLG9bcldL/+pdWTLxLUy8Qq38heUIjh4XlzZxzQm19lLFlr8vdQ97rjZVOLf8nclzckbcD4wxXMidpX30sFd37Fv/GtwwhzhxGVAprjbg0gCAEeIgwCZyTV2Z1REEW8O4py0wsjeloKoMr6iCY6dP92H6Vw/oTyICIthibxjm/DfN9lVz8IqtqKYLUXfoKVMVQVVJOElGjrnnUt9T9wbgp8AyYKaGlqingHZU/uG2NTZSVqwHQTWkx9hxjkpWDaCg6Ckj5qebgBVbT3V3NNXMSiWSDdGV3hrtzla7J+duwPOToIg42ChPQOQjspnSlp1V+Gjdged7+8UN5CRAV7a5EdFNwCjEaBR27b3W890TE7g24NAP/mMDXRWrGoFPQI9ls/MWO2dWFAar/xcOIImbbpA3zgAAAABJRU5ErkJggg==);\n",
       "        }\n",
       "    </style>\n",
       "    <div>\n",
       "        <a href=\"https://bokeh.org\" target=\"_blank\" class=\"bk-notebook-logo\"></a>\n",
       "        <span id=\"be6f91e5-4fcc-4e4f-b873-4d596bf0be9d\">Loading BokehJS ...</span>\n",
       "    </div>\n"
      ]
     },
     "metadata": {},
     "output_type": "display_data"
    },
    {
     "data": {
      "application/javascript": [
       "(function(root) {\n",
       "  function now() {\n",
       "    return new Date();\n",
       "  }\n",
       "\n",
       "  const force = true;\n",
       "\n",
       "  if (typeof root._bokeh_onload_callbacks === \"undefined\" || force === true) {\n",
       "    root._bokeh_onload_callbacks = [];\n",
       "    root._bokeh_is_loading = undefined;\n",
       "  }\n",
       "\n",
       "const JS_MIME_TYPE = 'application/javascript';\n",
       "  const HTML_MIME_TYPE = 'text/html';\n",
       "  const EXEC_MIME_TYPE = 'application/vnd.bokehjs_exec.v0+json';\n",
       "  const CLASS_NAME = 'output_bokeh rendered_html';\n",
       "\n",
       "  /**\n",
       "   * Render data to the DOM node\n",
       "   */\n",
       "  function render(props, node) {\n",
       "    const script = document.createElement(\"script\");\n",
       "    node.appendChild(script);\n",
       "  }\n",
       "\n",
       "  /**\n",
       "   * Handle when an output is cleared or removed\n",
       "   */\n",
       "  function handleClearOutput(event, handle) {\n",
       "    const cell = handle.cell;\n",
       "\n",
       "    const id = cell.output_area._bokeh_element_id;\n",
       "    const server_id = cell.output_area._bokeh_server_id;\n",
       "    // Clean up Bokeh references\n",
       "    if (id != null && id in Bokeh.index) {\n",
       "      Bokeh.index[id].model.document.clear();\n",
       "      delete Bokeh.index[id];\n",
       "    }\n",
       "\n",
       "    if (server_id !== undefined) {\n",
       "      // Clean up Bokeh references\n",
       "      const cmd_clean = \"from bokeh.io.state import curstate; print(curstate().uuid_to_server['\" + server_id + \"'].get_sessions()[0].document.roots[0]._id)\";\n",
       "      cell.notebook.kernel.execute(cmd_clean, {\n",
       "        iopub: {\n",
       "          output: function(msg) {\n",
       "            const id = msg.content.text.trim();\n",
       "            if (id in Bokeh.index) {\n",
       "              Bokeh.index[id].model.document.clear();\n",
       "              delete Bokeh.index[id];\n",
       "            }\n",
       "          }\n",
       "        }\n",
       "      });\n",
       "      // Destroy server and session\n",
       "      const cmd_destroy = \"import bokeh.io.notebook as ion; ion.destroy_server('\" + server_id + \"')\";\n",
       "      cell.notebook.kernel.execute(cmd_destroy);\n",
       "    }\n",
       "  }\n",
       "\n",
       "  /**\n",
       "   * Handle when a new output is added\n",
       "   */\n",
       "  function handleAddOutput(event, handle) {\n",
       "    const output_area = handle.output_area;\n",
       "    const output = handle.output;\n",
       "\n",
       "    // limit handleAddOutput to display_data with EXEC_MIME_TYPE content only\n",
       "    if ((output.output_type != \"display_data\") || (!Object.prototype.hasOwnProperty.call(output.data, EXEC_MIME_TYPE))) {\n",
       "      return\n",
       "    }\n",
       "\n",
       "    const toinsert = output_area.element.find(\".\" + CLASS_NAME.split(' ')[0]);\n",
       "\n",
       "    if (output.metadata[EXEC_MIME_TYPE][\"id\"] !== undefined) {\n",
       "      toinsert[toinsert.length - 1].firstChild.textContent = output.data[JS_MIME_TYPE];\n",
       "      // store reference to embed id on output_area\n",
       "      output_area._bokeh_element_id = output.metadata[EXEC_MIME_TYPE][\"id\"];\n",
       "    }\n",
       "    if (output.metadata[EXEC_MIME_TYPE][\"server_id\"] !== undefined) {\n",
       "      const bk_div = document.createElement(\"div\");\n",
       "      bk_div.innerHTML = output.data[HTML_MIME_TYPE];\n",
       "      const script_attrs = bk_div.children[0].attributes;\n",
       "      for (let i = 0; i < script_attrs.length; i++) {\n",
       "        toinsert[toinsert.length - 1].firstChild.setAttribute(script_attrs[i].name, script_attrs[i].value);\n",
       "        toinsert[toinsert.length - 1].firstChild.textContent = bk_div.children[0].textContent\n",
       "      }\n",
       "      // store reference to server id on output_area\n",
       "      output_area._bokeh_server_id = output.metadata[EXEC_MIME_TYPE][\"server_id\"];\n",
       "    }\n",
       "  }\n",
       "\n",
       "  function register_renderer(events, OutputArea) {\n",
       "\n",
       "    function append_mime(data, metadata, element) {\n",
       "      // create a DOM node to render to\n",
       "      const toinsert = this.create_output_subarea(\n",
       "        metadata,\n",
       "        CLASS_NAME,\n",
       "        EXEC_MIME_TYPE\n",
       "      );\n",
       "      this.keyboard_manager.register_events(toinsert);\n",
       "      // Render to node\n",
       "      const props = {data: data, metadata: metadata[EXEC_MIME_TYPE]};\n",
       "      render(props, toinsert[toinsert.length - 1]);\n",
       "      element.append(toinsert);\n",
       "      return toinsert\n",
       "    }\n",
       "\n",
       "    /* Handle when an output is cleared or removed */\n",
       "    events.on('clear_output.CodeCell', handleClearOutput);\n",
       "    events.on('delete.Cell', handleClearOutput);\n",
       "\n",
       "    /* Handle when a new output is added */\n",
       "    events.on('output_added.OutputArea', handleAddOutput);\n",
       "\n",
       "    /**\n",
       "     * Register the mime type and append_mime function with output_area\n",
       "     */\n",
       "    OutputArea.prototype.register_mime_type(EXEC_MIME_TYPE, append_mime, {\n",
       "      /* Is output safe? */\n",
       "      safe: true,\n",
       "      /* Index of renderer in `output_area.display_order` */\n",
       "      index: 0\n",
       "    });\n",
       "  }\n",
       "\n",
       "  // register the mime type if in Jupyter Notebook environment and previously unregistered\n",
       "  if (root.Jupyter !== undefined) {\n",
       "    const events = require('base/js/events');\n",
       "    const OutputArea = require('notebook/js/outputarea').OutputArea;\n",
       "\n",
       "    if (OutputArea.prototype.mime_types().indexOf(EXEC_MIME_TYPE) == -1) {\n",
       "      register_renderer(events, OutputArea);\n",
       "    }\n",
       "  }\n",
       "  if (typeof (root._bokeh_timeout) === \"undefined\" || force === true) {\n",
       "    root._bokeh_timeout = Date.now() + 5000;\n",
       "    root._bokeh_failed_load = false;\n",
       "  }\n",
       "\n",
       "  const NB_LOAD_WARNING = {'data': {'text/html':\n",
       "     \"<div style='background-color: #fdd'>\\n\"+\n",
       "     \"<p>\\n\"+\n",
       "     \"BokehJS does not appear to have successfully loaded. If loading BokehJS from CDN, this \\n\"+\n",
       "     \"may be due to a slow or bad network connection. Possible fixes:\\n\"+\n",
       "     \"</p>\\n\"+\n",
       "     \"<ul>\\n\"+\n",
       "     \"<li>re-rerun `output_notebook()` to attempt to load from CDN again, or</li>\\n\"+\n",
       "     \"<li>use INLINE resources instead, as so:</li>\\n\"+\n",
       "     \"</ul>\\n\"+\n",
       "     \"<code>\\n\"+\n",
       "     \"from bokeh.resources import INLINE\\n\"+\n",
       "     \"output_notebook(resources=INLINE)\\n\"+\n",
       "     \"</code>\\n\"+\n",
       "     \"</div>\"}};\n",
       "\n",
       "  function display_loaded() {\n",
       "    const el = document.getElementById(\"be6f91e5-4fcc-4e4f-b873-4d596bf0be9d\");\n",
       "    if (el != null) {\n",
       "      el.textContent = \"BokehJS is loading...\";\n",
       "    }\n",
       "    if (root.Bokeh !== undefined) {\n",
       "      if (el != null) {\n",
       "        el.textContent = \"BokehJS \" + root.Bokeh.version + \" successfully loaded.\";\n",
       "      }\n",
       "    } else if (Date.now() < root._bokeh_timeout) {\n",
       "      setTimeout(display_loaded, 100)\n",
       "    }\n",
       "  }\n",
       "\n",
       "  function run_callbacks() {\n",
       "    try {\n",
       "      root._bokeh_onload_callbacks.forEach(function(callback) {\n",
       "        if (callback != null)\n",
       "          callback();\n",
       "      });\n",
       "    } finally {\n",
       "      delete root._bokeh_onload_callbacks\n",
       "    }\n",
       "    console.debug(\"Bokeh: all callbacks have finished\");\n",
       "  }\n",
       "\n",
       "  function load_libs(css_urls, js_urls, callback) {\n",
       "    if (css_urls == null) css_urls = [];\n",
       "    if (js_urls == null) js_urls = [];\n",
       "\n",
       "    root._bokeh_onload_callbacks.push(callback);\n",
       "    if (root._bokeh_is_loading > 0) {\n",
       "      console.debug(\"Bokeh: BokehJS is being loaded, scheduling callback at\", now());\n",
       "      return null;\n",
       "    }\n",
       "    if (js_urls == null || js_urls.length === 0) {\n",
       "      run_callbacks();\n",
       "      return null;\n",
       "    }\n",
       "    console.debug(\"Bokeh: BokehJS not loaded, scheduling load and callback at\", now());\n",
       "    root._bokeh_is_loading = css_urls.length + js_urls.length;\n",
       "\n",
       "    function on_load() {\n",
       "      root._bokeh_is_loading--;\n",
       "      if (root._bokeh_is_loading === 0) {\n",
       "        console.debug(\"Bokeh: all BokehJS libraries/stylesheets loaded\");\n",
       "        run_callbacks()\n",
       "      }\n",
       "    }\n",
       "\n",
       "    function on_error(url) {\n",
       "      console.error(\"failed to load \" + url);\n",
       "    }\n",
       "\n",
       "    for (let i = 0; i < css_urls.length; i++) {\n",
       "      const url = css_urls[i];\n",
       "      const element = document.createElement(\"link\");\n",
       "      element.onload = on_load;\n",
       "      element.onerror = on_error.bind(null, url);\n",
       "      element.rel = \"stylesheet\";\n",
       "      element.type = \"text/css\";\n",
       "      element.href = url;\n",
       "      console.debug(\"Bokeh: injecting link tag for BokehJS stylesheet: \", url);\n",
       "      document.body.appendChild(element);\n",
       "    }\n",
       "\n",
       "    for (let i = 0; i < js_urls.length; i++) {\n",
       "      const url = js_urls[i];\n",
       "      const element = document.createElement('script');\n",
       "      element.onload = on_load;\n",
       "      element.onerror = on_error.bind(null, url);\n",
       "      element.async = false;\n",
       "      element.src = url;\n",
       "      console.debug(\"Bokeh: injecting script tag for BokehJS library: \", url);\n",
       "      document.head.appendChild(element);\n",
       "    }\n",
       "  };\n",
       "\n",
       "  function inject_raw_css(css) {\n",
       "    const element = document.createElement(\"style\");\n",
       "    element.appendChild(document.createTextNode(css));\n",
       "    document.body.appendChild(element);\n",
       "  }\n",
       "\n",
       "  const js_urls = [\"https://cdn.bokeh.org/bokeh/release/bokeh-3.2.1.min.js\", \"https://cdn.bokeh.org/bokeh/release/bokeh-gl-3.2.1.min.js\", \"https://cdn.bokeh.org/bokeh/release/bokeh-widgets-3.2.1.min.js\", \"https://cdn.bokeh.org/bokeh/release/bokeh-tables-3.2.1.min.js\", \"https://cdn.bokeh.org/bokeh/release/bokeh-mathjax-3.2.1.min.js\"];\n",
       "  const css_urls = [];\n",
       "\n",
       "  const inline_js = [    function(Bokeh) {\n",
       "      Bokeh.set_log_level(\"info\");\n",
       "    },\n",
       "function(Bokeh) {\n",
       "    }\n",
       "  ];\n",
       "\n",
       "  function run_inline_js() {\n",
       "    if (root.Bokeh !== undefined || force === true) {\n",
       "          for (let i = 0; i < inline_js.length; i++) {\n",
       "      inline_js[i].call(root, root.Bokeh);\n",
       "    }\n",
       "if (force === true) {\n",
       "        display_loaded();\n",
       "      }} else if (Date.now() < root._bokeh_timeout) {\n",
       "      setTimeout(run_inline_js, 100);\n",
       "    } else if (!root._bokeh_failed_load) {\n",
       "      console.log(\"Bokeh: BokehJS failed to load within specified timeout.\");\n",
       "      root._bokeh_failed_load = true;\n",
       "    } else if (force !== true) {\n",
       "      const cell = $(document.getElementById(\"be6f91e5-4fcc-4e4f-b873-4d596bf0be9d\")).parents('.cell').data().cell;\n",
       "      cell.output_area.append_execute_result(NB_LOAD_WARNING)\n",
       "    }\n",
       "  }\n",
       "\n",
       "  if (root._bokeh_is_loading === 0) {\n",
       "    console.debug(\"Bokeh: BokehJS loaded, going straight to plotting\");\n",
       "    run_inline_js();\n",
       "  } else {\n",
       "    load_libs(css_urls, js_urls, function() {\n",
       "      console.debug(\"Bokeh: BokehJS plotting callback run at\", now());\n",
       "      run_inline_js();\n",
       "    });\n",
       "  }\n",
       "}(window));"
      ],
      "application/vnd.bokehjs_load.v0+json": "(function(root) {\n  function now() {\n    return new Date();\n  }\n\n  const force = true;\n\n  if (typeof root._bokeh_onload_callbacks === \"undefined\" || force === true) {\n    root._bokeh_onload_callbacks = [];\n    root._bokeh_is_loading = undefined;\n  }\n\n\n  if (typeof (root._bokeh_timeout) === \"undefined\" || force === true) {\n    root._bokeh_timeout = Date.now() + 5000;\n    root._bokeh_failed_load = false;\n  }\n\n  const NB_LOAD_WARNING = {'data': {'text/html':\n     \"<div style='background-color: #fdd'>\\n\"+\n     \"<p>\\n\"+\n     \"BokehJS does not appear to have successfully loaded. If loading BokehJS from CDN, this \\n\"+\n     \"may be due to a slow or bad network connection. Possible fixes:\\n\"+\n     \"</p>\\n\"+\n     \"<ul>\\n\"+\n     \"<li>re-rerun `output_notebook()` to attempt to load from CDN again, or</li>\\n\"+\n     \"<li>use INLINE resources instead, as so:</li>\\n\"+\n     \"</ul>\\n\"+\n     \"<code>\\n\"+\n     \"from bokeh.resources import INLINE\\n\"+\n     \"output_notebook(resources=INLINE)\\n\"+\n     \"</code>\\n\"+\n     \"</div>\"}};\n\n  function display_loaded() {\n    const el = document.getElementById(\"be6f91e5-4fcc-4e4f-b873-4d596bf0be9d\");\n    if (el != null) {\n      el.textContent = \"BokehJS is loading...\";\n    }\n    if (root.Bokeh !== undefined) {\n      if (el != null) {\n        el.textContent = \"BokehJS \" + root.Bokeh.version + \" successfully loaded.\";\n      }\n    } else if (Date.now() < root._bokeh_timeout) {\n      setTimeout(display_loaded, 100)\n    }\n  }\n\n  function run_callbacks() {\n    try {\n      root._bokeh_onload_callbacks.forEach(function(callback) {\n        if (callback != null)\n          callback();\n      });\n    } finally {\n      delete root._bokeh_onload_callbacks\n    }\n    console.debug(\"Bokeh: all callbacks have finished\");\n  }\n\n  function load_libs(css_urls, js_urls, callback) {\n    if (css_urls == null) css_urls = [];\n    if (js_urls == null) js_urls = [];\n\n    root._bokeh_onload_callbacks.push(callback);\n    if (root._bokeh_is_loading > 0) {\n      console.debug(\"Bokeh: BokehJS is being loaded, scheduling callback at\", now());\n      return null;\n    }\n    if (js_urls == null || js_urls.length === 0) {\n      run_callbacks();\n      return null;\n    }\n    console.debug(\"Bokeh: BokehJS not loaded, scheduling load and callback at\", now());\n    root._bokeh_is_loading = css_urls.length + js_urls.length;\n\n    function on_load() {\n      root._bokeh_is_loading--;\n      if (root._bokeh_is_loading === 0) {\n        console.debug(\"Bokeh: all BokehJS libraries/stylesheets loaded\");\n        run_callbacks()\n      }\n    }\n\n    function on_error(url) {\n      console.error(\"failed to load \" + url);\n    }\n\n    for (let i = 0; i < css_urls.length; i++) {\n      const url = css_urls[i];\n      const element = document.createElement(\"link\");\n      element.onload = on_load;\n      element.onerror = on_error.bind(null, url);\n      element.rel = \"stylesheet\";\n      element.type = \"text/css\";\n      element.href = url;\n      console.debug(\"Bokeh: injecting link tag for BokehJS stylesheet: \", url);\n      document.body.appendChild(element);\n    }\n\n    for (let i = 0; i < js_urls.length; i++) {\n      const url = js_urls[i];\n      const element = document.createElement('script');\n      element.onload = on_load;\n      element.onerror = on_error.bind(null, url);\n      element.async = false;\n      element.src = url;\n      console.debug(\"Bokeh: injecting script tag for BokehJS library: \", url);\n      document.head.appendChild(element);\n    }\n  };\n\n  function inject_raw_css(css) {\n    const element = document.createElement(\"style\");\n    element.appendChild(document.createTextNode(css));\n    document.body.appendChild(element);\n  }\n\n  const js_urls = [\"https://cdn.bokeh.org/bokeh/release/bokeh-3.2.1.min.js\", \"https://cdn.bokeh.org/bokeh/release/bokeh-gl-3.2.1.min.js\", \"https://cdn.bokeh.org/bokeh/release/bokeh-widgets-3.2.1.min.js\", \"https://cdn.bokeh.org/bokeh/release/bokeh-tables-3.2.1.min.js\", \"https://cdn.bokeh.org/bokeh/release/bokeh-mathjax-3.2.1.min.js\"];\n  const css_urls = [];\n\n  const inline_js = [    function(Bokeh) {\n      Bokeh.set_log_level(\"info\");\n    },\nfunction(Bokeh) {\n    }\n  ];\n\n  function run_inline_js() {\n    if (root.Bokeh !== undefined || force === true) {\n          for (let i = 0; i < inline_js.length; i++) {\n      inline_js[i].call(root, root.Bokeh);\n    }\nif (force === true) {\n        display_loaded();\n      }} else if (Date.now() < root._bokeh_timeout) {\n      setTimeout(run_inline_js, 100);\n    } else if (!root._bokeh_failed_load) {\n      console.log(\"Bokeh: BokehJS failed to load within specified timeout.\");\n      root._bokeh_failed_load = true;\n    } else if (force !== true) {\n      const cell = $(document.getElementById(\"be6f91e5-4fcc-4e4f-b873-4d596bf0be9d\")).parents('.cell').data().cell;\n      cell.output_area.append_execute_result(NB_LOAD_WARNING)\n    }\n  }\n\n  if (root._bokeh_is_loading === 0) {\n    console.debug(\"Bokeh: BokehJS loaded, going straight to plotting\");\n    run_inline_js();\n  } else {\n    load_libs(css_urls, js_urls, function() {\n      console.debug(\"Bokeh: BokehJS plotting callback run at\", now());\n      run_inline_js();\n    });\n  }\n}(window));"
     },
     "metadata": {},
     "output_type": "display_data"
    },
    {
     "name": "stdout",
     "output_type": "stream",
     "text": [
      "The bokeh module is not an IPython extension.\n"
     ]
    }
   ],
   "source": [
    "!pip install pandas_datareader\n",
    "import pandas as pd\n",
    "import datetime as dt\n",
    "import pandas_datareader.data as web\n",
    "from datetime import datetime\n",
    "from bokeh.plotting import figure\n",
    "from bokeh.io import output_notebook,show\n",
    "output_notebook()\n",
    "from bokeh.io import output_notebook\n",
    "from bokeh.models import ColumnDataSource,SingleIntervalTicker,Range1d,LinearAxis\n",
    "from bokeh.models import LabelSet, ColumnDataSource, Range1d, NumeralTickFormatter\n",
    "\n",
    "\n",
    "from bokeh.transform import factor_cmap\n",
    "from bokeh.palettes import Category20c\n",
    "\n",
    "\n",
    "%load_ext bokeh\n",
    "start_time = dt.datetime(2010, 1, 1)\n",
    "end_time = dt.datetime(2022, 2, 1)\n",
    "\n",
    "\n",
    "from bokeh.palettes import Category20\n",
    "\n"
   ]
  },
  {
   "cell_type": "code",
   "execution_count": 2,
   "id": "d7ab70df-7922-40a8-8e40-09a27f89ba72",
   "metadata": {},
   "outputs": [],
   "source": [
    "# country_codes=['HUN', 'CZE', 'MEX', 'POL', 'ZAF', 'IND', 'IDN', 'BRA', 'CHN']\n",
    "country_codes=[ 'IND','BRA', 'IDN', 'CHN']\n"
   ]
  },
  {
   "cell_type": "code",
   "execution_count": 3,
   "id": "866cf74a-b50b-4924-bd60-54df1c4f7678",
   "metadata": {},
   "outputs": [],
   "source": [
    "df_rates=pd.read_csv('Long-term-interest-rates.csv')\n",
    "df_rates = df_rates[df_rates['LOCATION'].isin(country_codes)]\n",
    "df_rates=df_rates[df_rates['TIME']>'2013-Q4']\n",
    "\n",
    "df_rates = df_rates[df_rates['TIME'].str.contains('Q1|Q4')]\n"
   ]
  },
  {
   "cell_type": "code",
   "execution_count": 4,
   "id": "769f94e6-8e28-4d5b-bc45-5ddbfd951efa",
   "metadata": {},
   "outputs": [],
   "source": [
    "# https://data.oecd.org/interest/long-term-interest-rates.htm#indicator-chart\n",
    "def rates_bop(df_rates,y_label,bop_fdi):\n",
    "    \n",
    "    if(bop_fdi!=1):\n",
    "        n_countries = len(df_rates['LOCATION'].unique())\n",
    "        line_colors = Category20[n_countries]    \n",
    "        p = figure(width=1500, height=700, x_range=df_rates['TIME'].unique(), x_axis_label='Date', y_axis_label=y_label)\n",
    "\n",
    "    else:\n",
    "        p = figure(title=\"India current account and FDI Inflows \",width=1500, height=700, x_range=df_rates['TIME'].unique(), x_axis_label='Date', y_axis_label=y_label)\n",
    "    \n",
    "    locations = df_rates['LOCATION'].unique()\n",
    "    \n",
    "    # Create a multiline for each country\n",
    "    for i, location in enumerate(locations):\n",
    "        location_data = df_rates[df_rates['LOCATION'] == location]\n",
    "        if(bop_fdi):\n",
    "            p.vbar(x='TIME', top='Value_x',  fill_alpha=0.8, color='blue',source=ColumnDataSource(location_data), legend_label='Current Account',width = 0.5, bottom = 0)\n",
    "            p.line(x='TIME', y='Value_y', source=ColumnDataSource(location_data), legend_label='FDI Inflows', line_width=2,line_color='green', muted_alpha=0.2)\n",
    "        else:\n",
    "            p.line(x='TIME', y='Value', source=ColumnDataSource(location_data), legend_label=f'Country: {location}', line_width=2,line_color=line_colors[i], muted_alpha=0.2)\n",
    "            p.legend.title = 'Countries'\n",
    "    \n",
    "    p.xaxis.major_label_orientation = 45\n",
    "    \n",
    "    p.legend.click_policy = \"mute\" \n",
    "    p.legend.location = \"top_left\"\n",
    "\n",
    "    \n",
    "    show(p)\n"
   ]
  },
  {
   "cell_type": "code",
   "execution_count": 5,
   "id": "c09a277a-27ee-4dc4-8616-b8a55093dc2d",
   "metadata": {},
   "outputs": [
    {
     "data": {
      "text/html": [
       "\n",
       "  <div id=\"ca3e0fa8-1295-483f-a081-e12f06c5d656\" data-root-id=\"p1001\" style=\"display: contents;\"></div>\n"
      ]
     },
     "metadata": {},
     "output_type": "display_data"
    },
    {
     "data": {
      "application/javascript": [
       "(function(root) {\n",
       "  function embed_document(root) {\n",
       "  const docs_json = {\"8196fee3-fee1-441b-8419-2be068ce3c94\":{\"version\":\"3.2.1\",\"title\":\"Bokeh Application\",\"roots\":[{\"type\":\"object\",\"name\":\"Figure\",\"id\":\"p1001\",\"attributes\":{\"width\":1500,\"height\":700,\"x_range\":{\"type\":\"object\",\"name\":\"FactorRange\",\"id\":\"p1010\",\"attributes\":{\"factors\":[\"2014-Q1\",\"2014-Q4\",\"2015-Q1\",\"2015-Q4\",\"2016-Q1\",\"2016-Q4\",\"2017-Q1\",\"2017-Q4\",\"2018-Q1\",\"2018-Q4\",\"2019-Q1\",\"2019-Q4\",\"2020-Q1\",\"2020-Q4\",\"2021-Q1\",\"2021-Q4\",\"2022-Q1\",\"2022-Q4\",\"2023-Q1\"]}},\"y_range\":{\"type\":\"object\",\"name\":\"DataRange1d\",\"id\":\"p1003\"},\"x_scale\":{\"type\":\"object\",\"name\":\"CategoricalScale\",\"id\":\"p1011\"},\"y_scale\":{\"type\":\"object\",\"name\":\"LinearScale\",\"id\":\"p1012\"},\"title\":{\"type\":\"object\",\"name\":\"Title\",\"id\":\"p1008\"},\"renderers\":[{\"type\":\"object\",\"name\":\"GlyphRenderer\",\"id\":\"p1039\",\"attributes\":{\"data_source\":{\"type\":\"object\",\"name\":\"ColumnDataSource\",\"id\":\"p1030\",\"attributes\":{\"selected\":{\"type\":\"object\",\"name\":\"Selection\",\"id\":\"p1031\",\"attributes\":{\"indices\":[],\"line_indices\":[]}},\"selection_policy\":{\"type\":\"object\",\"name\":\"UnionRenderers\",\"id\":\"p1032\"},\"data\":{\"type\":\"map\",\"entries\":[[\"index\",{\"type\":\"ndarray\",\"array\":{\"type\":\"bytes\",\"data\":\"QQUAAEQFAABFBQAASAUAAEkFAABMBQAATQUAAFAFAABRBQAAVAUAAFUFAABYBQAAWQUAAFwFAABdBQAAYAUAAGEFAABkBQAAZQUAAA==\"},\"shape\":[19],\"dtype\":\"int32\",\"order\":\"little\"}],[\"LOCATION\",{\"type\":\"ndarray\",\"array\":[\"IND\",\"IND\",\"IND\",\"IND\",\"IND\",\"IND\",\"IND\",\"IND\",\"IND\",\"IND\",\"IND\",\"IND\",\"IND\",\"IND\",\"IND\",\"IND\",\"IND\",\"IND\",\"IND\"],\"shape\":[19],\"dtype\":\"object\",\"order\":\"little\"}],[\"INDICATOR\",{\"type\":\"ndarray\",\"array\":[\"LTINT\",\"LTINT\",\"LTINT\",\"LTINT\",\"LTINT\",\"LTINT\",\"LTINT\",\"LTINT\",\"LTINT\",\"LTINT\",\"LTINT\",\"LTINT\",\"LTINT\",\"LTINT\",\"LTINT\",\"LTINT\",\"LTINT\",\"LTINT\",\"LTINT\"],\"shape\":[19],\"dtype\":\"object\",\"order\":\"little\"}],[\"SUBJECT\",{\"type\":\"ndarray\",\"array\":[\"TOT\",\"TOT\",\"TOT\",\"TOT\",\"TOT\",\"TOT\",\"TOT\",\"TOT\",\"TOT\",\"TOT\",\"TOT\",\"TOT\",\"TOT\",\"TOT\",\"TOT\",\"TOT\",\"TOT\",\"TOT\",\"TOT\"],\"shape\":[19],\"dtype\":\"object\",\"order\":\"little\"}],[\"MEASURE\",{\"type\":\"ndarray\",\"array\":[\"PC_PA\",\"PC_PA\",\"PC_PA\",\"PC_PA\",\"PC_PA\",\"PC_PA\",\"PC_PA\",\"PC_PA\",\"PC_PA\",\"PC_PA\",\"PC_PA\",\"PC_PA\",\"PC_PA\",\"PC_PA\",\"PC_PA\",\"PC_PA\",\"PC_PA\",\"PC_PA\",\"PC_PA\"],\"shape\":[19],\"dtype\":\"object\",\"order\":\"little\"}],[\"FREQUENCY\",{\"type\":\"ndarray\",\"array\":[\"Q\",\"Q\",\"Q\",\"Q\",\"Q\",\"Q\",\"Q\",\"Q\",\"Q\",\"Q\",\"Q\",\"Q\",\"Q\",\"Q\",\"Q\",\"Q\",\"Q\",\"Q\",\"Q\"],\"shape\":[19],\"dtype\":\"object\",\"order\":\"little\"}],[\"TIME\",{\"type\":\"ndarray\",\"array\":[\"2014-Q1\",\"2014-Q4\",\"2015-Q1\",\"2015-Q4\",\"2016-Q1\",\"2016-Q4\",\"2017-Q1\",\"2017-Q4\",\"2018-Q1\",\"2018-Q4\",\"2019-Q1\",\"2019-Q4\",\"2020-Q1\",\"2020-Q4\",\"2021-Q1\",\"2021-Q4\",\"2022-Q1\",\"2022-Q4\",\"2023-Q1\"],\"shape\":[19],\"dtype\":\"object\",\"order\":\"little\"}],[\"Value\",{\"type\":\"ndarray\",\"array\":{\"type\":\"bytes\",\"data\":\"Q1ciUP2bIUDQ7pBigFwgQG8Sg8DKIR9Astr8v+rYHkA8okJ1c6EeQMIyNnSzjxpAtMh2vp/aG0BffTz03Z0cQLe28LxU3B1Abarukc3FHkBzaJHtfH8dQDYhrTHotBpA+BbWjXd3GkCkcD0K16MXQCZuFcRApxhACOkpcoiIGUD2KFyPwvUaQHsUrkfheh1A8zrikA10HUA=\"},\"shape\":[19],\"dtype\":\"float64\",\"order\":\"little\"}],[\"Flag Codes\",{\"type\":\"ndarray\",\"array\":{\"type\":\"bytes\",\"data\":\"AAAAAAAA+H8AAAAAAAD4fwAAAAAAAPh/AAAAAAAA+H8AAAAAAAD4fwAAAAAAAPh/AAAAAAAA+H8AAAAAAAD4fwAAAAAAAPh/AAAAAAAA+H8AAAAAAAD4fwAAAAAAAPh/AAAAAAAA+H8AAAAAAAD4fwAAAAAAAPh/AAAAAAAA+H8AAAAAAAD4fwAAAAAAAPh/AAAAAAAA+H8=\"},\"shape\":[19],\"dtype\":\"float64\",\"order\":\"little\"}]]}}},\"view\":{\"type\":\"object\",\"name\":\"CDSView\",\"id\":\"p1040\",\"attributes\":{\"filter\":{\"type\":\"object\",\"name\":\"AllIndices\",\"id\":\"p1041\"}}},\"glyph\":{\"type\":\"object\",\"name\":\"Line\",\"id\":\"p1036\",\"attributes\":{\"x\":{\"type\":\"field\",\"field\":\"TIME\"},\"y\":{\"type\":\"field\",\"field\":\"Value\"},\"line_color\":\"#1f77b4\",\"line_width\":2}},\"nonselection_glyph\":{\"type\":\"object\",\"name\":\"Line\",\"id\":\"p1037\",\"attributes\":{\"x\":{\"type\":\"field\",\"field\":\"TIME\"},\"y\":{\"type\":\"field\",\"field\":\"Value\"},\"line_color\":\"#1f77b4\",\"line_alpha\":0.1,\"line_width\":2}},\"muted_glyph\":{\"type\":\"object\",\"name\":\"Line\",\"id\":\"p1038\",\"attributes\":{\"x\":{\"type\":\"field\",\"field\":\"TIME\"},\"y\":{\"type\":\"field\",\"field\":\"Value\"},\"line_color\":\"#1f77b4\",\"line_alpha\":0.2,\"line_width\":2}}}},{\"type\":\"object\",\"name\":\"GlyphRenderer\",\"id\":\"p1053\",\"attributes\":{\"data_source\":{\"type\":\"object\",\"name\":\"ColumnDataSource\",\"id\":\"p1044\",\"attributes\":{\"selected\":{\"type\":\"object\",\"name\":\"Selection\",\"id\":\"p1045\",\"attributes\":{\"indices\":[],\"line_indices\":[]}},\"selection_policy\":{\"type\":\"object\",\"name\":\"UnionRenderers\",\"id\":\"p1046\"},\"data\":{\"type\":\"map\",\"entries\":[[\"index\",{\"type\":\"ndarray\",\"array\":{\"type\":\"bytes\",\"data\":\"bwUAAHIFAABzBQAAdgUAAHcFAAB6BQAAewUAAH4FAAB/BQAAggUAAIMFAACGBQAAhwUAAIoFAACLBQAAjgUAAI8FAACSBQAAkwUAAA==\"},\"shape\":[19],\"dtype\":\"int32\",\"order\":\"little\"}],[\"LOCATION\",{\"type\":\"ndarray\",\"array\":[\"IDN\",\"IDN\",\"IDN\",\"IDN\",\"IDN\",\"IDN\",\"IDN\",\"IDN\",\"IDN\",\"IDN\",\"IDN\",\"IDN\",\"IDN\",\"IDN\",\"IDN\",\"IDN\",\"IDN\",\"IDN\",\"IDN\"],\"shape\":[19],\"dtype\":\"object\",\"order\":\"little\"}],[\"INDICATOR\",{\"type\":\"ndarray\",\"array\":[\"LTINT\",\"LTINT\",\"LTINT\",\"LTINT\",\"LTINT\",\"LTINT\",\"LTINT\",\"LTINT\",\"LTINT\",\"LTINT\",\"LTINT\",\"LTINT\",\"LTINT\",\"LTINT\",\"LTINT\",\"LTINT\",\"LTINT\",\"LTINT\",\"LTINT\"],\"shape\":[19],\"dtype\":\"object\",\"order\":\"little\"}],[\"SUBJECT\",{\"type\":\"ndarray\",\"array\":[\"TOT\",\"TOT\",\"TOT\",\"TOT\",\"TOT\",\"TOT\",\"TOT\",\"TOT\",\"TOT\",\"TOT\",\"TOT\",\"TOT\",\"TOT\",\"TOT\",\"TOT\",\"TOT\",\"TOT\",\"TOT\",\"TOT\"],\"shape\":[19],\"dtype\":\"object\",\"order\":\"little\"}],[\"MEASURE\",{\"type\":\"ndarray\",\"array\":[\"PC_PA\",\"PC_PA\",\"PC_PA\",\"PC_PA\",\"PC_PA\",\"PC_PA\",\"PC_PA\",\"PC_PA\",\"PC_PA\",\"PC_PA\",\"PC_PA\",\"PC_PA\",\"PC_PA\",\"PC_PA\",\"PC_PA\",\"PC_PA\",\"PC_PA\",\"PC_PA\",\"PC_PA\"],\"shape\":[19],\"dtype\":\"object\",\"order\":\"little\"}],[\"FREQUENCY\",{\"type\":\"ndarray\",\"array\":[\"Q\",\"Q\",\"Q\",\"Q\",\"Q\",\"Q\",\"Q\",\"Q\",\"Q\",\"Q\",\"Q\",\"Q\",\"Q\",\"Q\",\"Q\",\"Q\",\"Q\",\"Q\",\"Q\"],\"shape\":[19],\"dtype\":\"object\",\"order\":\"little\"}],[\"TIME\",{\"type\":\"ndarray\",\"array\":[\"2014-Q1\",\"2014-Q4\",\"2015-Q1\",\"2015-Q4\",\"2016-Q1\",\"2016-Q4\",\"2017-Q1\",\"2017-Q4\",\"2018-Q1\",\"2018-Q4\",\"2019-Q1\",\"2019-Q4\",\"2020-Q1\",\"2020-Q4\",\"2021-Q1\",\"2021-Q4\",\"2022-Q1\",\"2022-Q4\",\"2023-Q1\"],\"shape\":[19],\"dtype\":\"object\",\"order\":\"little\"}],[\"Value\",{\"type\":\"ndarray\",\"array\":{\"type\":\"bytes\",\"data\":\"w/UoXI/CIEBcj8L1KFwfQO4/Mh06bRxAPBOaJJZ8IUApXI/C9SggQD0K16NwPR9AA+55/rSBHUAfhetRuB4aQG5PkNju7hlAPQrXo3A9IEDkaI6s/GIfQFDhCFIpJhxAf/s6cM6IHEAo84++SeMYQNTWiGAcHBpAx2KbVDQGGUD9FMeBVysaQGZmZmZmZhxAGoo73uQXG0A=\"},\"shape\":[19],\"dtype\":\"float64\",\"order\":\"little\"}],[\"Flag Codes\",{\"type\":\"ndarray\",\"array\":{\"type\":\"bytes\",\"data\":\"AAAAAAAA+H8AAAAAAAD4fwAAAAAAAPh/AAAAAAAA+H8AAAAAAAD4fwAAAAAAAPh/AAAAAAAA+H8AAAAAAAD4fwAAAAAAAPh/AAAAAAAA+H8AAAAAAAD4fwAAAAAAAPh/AAAAAAAA+H8AAAAAAAD4fwAAAAAAAPh/AAAAAAAA+H8AAAAAAAD4fwAAAAAAAPh/AAAAAAAA+H8=\"},\"shape\":[19],\"dtype\":\"float64\",\"order\":\"little\"}]]}}},\"view\":{\"type\":\"object\",\"name\":\"CDSView\",\"id\":\"p1054\",\"attributes\":{\"filter\":{\"type\":\"object\",\"name\":\"AllIndices\",\"id\":\"p1055\"}}},\"glyph\":{\"type\":\"object\",\"name\":\"Line\",\"id\":\"p1050\",\"attributes\":{\"x\":{\"type\":\"field\",\"field\":\"TIME\"},\"y\":{\"type\":\"field\",\"field\":\"Value\"},\"line_color\":\"#aec7e8\",\"line_width\":2}},\"nonselection_glyph\":{\"type\":\"object\",\"name\":\"Line\",\"id\":\"p1051\",\"attributes\":{\"x\":{\"type\":\"field\",\"field\":\"TIME\"},\"y\":{\"type\":\"field\",\"field\":\"Value\"},\"line_color\":\"#aec7e8\",\"line_alpha\":0.1,\"line_width\":2}},\"muted_glyph\":{\"type\":\"object\",\"name\":\"Line\",\"id\":\"p1052\",\"attributes\":{\"x\":{\"type\":\"field\",\"field\":\"TIME\"},\"y\":{\"type\":\"field\",\"field\":\"Value\"},\"line_color\":\"#aec7e8\",\"line_alpha\":0.2,\"line_width\":2}}}},{\"type\":\"object\",\"name\":\"GlyphRenderer\",\"id\":\"p1066\",\"attributes\":{\"data_source\":{\"type\":\"object\",\"name\":\"ColumnDataSource\",\"id\":\"p1057\",\"attributes\":{\"selected\":{\"type\":\"object\",\"name\":\"Selection\",\"id\":\"p1058\",\"attributes\":{\"indices\":[],\"line_indices\":[]}},\"selection_policy\":{\"type\":\"object\",\"name\":\"UnionRenderers\",\"id\":\"p1059\"},\"data\":{\"type\":\"map\",\"entries\":[[\"index\",{\"type\":\"ndarray\",\"array\":{\"type\":\"bytes\",\"data\":\"zQUAANAFAADRBQAA1AUAANUFAADYBQAA2QUAANwFAADdBQAA4AUAAOEFAADkBQAA5QUAAOgFAADpBQAA7AUAAO0FAADwBQAA8QUAAA==\"},\"shape\":[19],\"dtype\":\"int32\",\"order\":\"little\"}],[\"LOCATION\",{\"type\":\"ndarray\",\"array\":[\"BRA\",\"BRA\",\"BRA\",\"BRA\",\"BRA\",\"BRA\",\"BRA\",\"BRA\",\"BRA\",\"BRA\",\"BRA\",\"BRA\",\"BRA\",\"BRA\",\"BRA\",\"BRA\",\"BRA\",\"BRA\",\"BRA\"],\"shape\":[19],\"dtype\":\"object\",\"order\":\"little\"}],[\"INDICATOR\",{\"type\":\"ndarray\",\"array\":[\"LTINT\",\"LTINT\",\"LTINT\",\"LTINT\",\"LTINT\",\"LTINT\",\"LTINT\",\"LTINT\",\"LTINT\",\"LTINT\",\"LTINT\",\"LTINT\",\"LTINT\",\"LTINT\",\"LTINT\",\"LTINT\",\"LTINT\",\"LTINT\",\"LTINT\"],\"shape\":[19],\"dtype\":\"object\",\"order\":\"little\"}],[\"SUBJECT\",{\"type\":\"ndarray\",\"array\":[\"TOT\",\"TOT\",\"TOT\",\"TOT\",\"TOT\",\"TOT\",\"TOT\",\"TOT\",\"TOT\",\"TOT\",\"TOT\",\"TOT\",\"TOT\",\"TOT\",\"TOT\",\"TOT\",\"TOT\",\"TOT\",\"TOT\"],\"shape\":[19],\"dtype\":\"object\",\"order\":\"little\"}],[\"MEASURE\",{\"type\":\"ndarray\",\"array\":[\"PC_PA\",\"PC_PA\",\"PC_PA\",\"PC_PA\",\"PC_PA\",\"PC_PA\",\"PC_PA\",\"PC_PA\",\"PC_PA\",\"PC_PA\",\"PC_PA\",\"PC_PA\",\"PC_PA\",\"PC_PA\",\"PC_PA\",\"PC_PA\",\"PC_PA\",\"PC_PA\",\"PC_PA\"],\"shape\":[19],\"dtype\":\"object\",\"order\":\"little\"}],[\"FREQUENCY\",{\"type\":\"ndarray\",\"array\":[\"Q\",\"Q\",\"Q\",\"Q\",\"Q\",\"Q\",\"Q\",\"Q\",\"Q\",\"Q\",\"Q\",\"Q\",\"Q\",\"Q\",\"Q\",\"Q\",\"Q\",\"Q\",\"Q\"],\"shape\":[19],\"dtype\":\"object\",\"order\":\"little\"}],[\"TIME\",{\"type\":\"ndarray\",\"array\":[\"2014-Q1\",\"2014-Q4\",\"2015-Q1\",\"2015-Q4\",\"2016-Q1\",\"2016-Q4\",\"2017-Q1\",\"2017-Q4\",\"2018-Q1\",\"2018-Q4\",\"2019-Q1\",\"2019-Q4\",\"2020-Q1\",\"2020-Q4\",\"2021-Q1\",\"2021-Q4\",\"2022-Q1\",\"2022-Q4\",\"2023-Q1\"],\"shape\":[19],\"dtype\":\"object\",\"order\":\"little\"}],[\"Value\",{\"type\":\"ndarray\",\"array\":{\"type\":\"bytes\",\"data\":\"AAAAAAAAFEAAAAAAAAAUQAAAAAAAABZAAAAAAAAAHEAAAAAAAAAeQAAAAAAAAB5AAAAAAAAAHkAAAAAAAAAcQAAAAAAAABtA7FG4HoXrG0AfhetRuB4cQEjhehSuRxZAXI/C9ShcFEAzMzMzMzMSQI/C9ShcjxFASOF6FK5HFUBSuB6F61EYQM3MzMzMzBxAexSuR+F6HUA=\"},\"shape\":[19],\"dtype\":\"float64\",\"order\":\"little\"}],[\"Flag Codes\",{\"type\":\"ndarray\",\"array\":{\"type\":\"bytes\",\"data\":\"AAAAAAAA+H8AAAAAAAD4fwAAAAAAAPh/AAAAAAAA+H8AAAAAAAD4fwAAAAAAAPh/AAAAAAAA+H8AAAAAAAD4fwAAAAAAAPh/AAAAAAAA+H8AAAAAAAD4fwAAAAAAAPh/AAAAAAAA+H8AAAAAAAD4fwAAAAAAAPh/AAAAAAAA+H8AAAAAAAD4fwAAAAAAAPh/AAAAAAAA+H8=\"},\"shape\":[19],\"dtype\":\"float64\",\"order\":\"little\"}]]}}},\"view\":{\"type\":\"object\",\"name\":\"CDSView\",\"id\":\"p1067\",\"attributes\":{\"filter\":{\"type\":\"object\",\"name\":\"AllIndices\",\"id\":\"p1068\"}}},\"glyph\":{\"type\":\"object\",\"name\":\"Line\",\"id\":\"p1063\",\"attributes\":{\"x\":{\"type\":\"field\",\"field\":\"TIME\"},\"y\":{\"type\":\"field\",\"field\":\"Value\"},\"line_color\":\"#ff7f0e\",\"line_width\":2}},\"nonselection_glyph\":{\"type\":\"object\",\"name\":\"Line\",\"id\":\"p1064\",\"attributes\":{\"x\":{\"type\":\"field\",\"field\":\"TIME\"},\"y\":{\"type\":\"field\",\"field\":\"Value\"},\"line_color\":\"#ff7f0e\",\"line_alpha\":0.1,\"line_width\":2}},\"muted_glyph\":{\"type\":\"object\",\"name\":\"Line\",\"id\":\"p1065\",\"attributes\":{\"x\":{\"type\":\"field\",\"field\":\"TIME\"},\"y\":{\"type\":\"field\",\"field\":\"Value\"},\"line_color\":\"#ff7f0e\",\"line_alpha\":0.2,\"line_width\":2}}}},{\"type\":\"object\",\"name\":\"GlyphRenderer\",\"id\":\"p1079\",\"attributes\":{\"data_source\":{\"type\":\"object\",\"name\":\"ColumnDataSource\",\"id\":\"p1070\",\"attributes\":{\"selected\":{\"type\":\"object\",\"name\":\"Selection\",\"id\":\"p1071\",\"attributes\":{\"indices\":[],\"line_indices\":[]}},\"selection_policy\":{\"type\":\"object\",\"name\":\"UnionRenderers\",\"id\":\"p1072\"},\"data\":{\"type\":\"map\",\"entries\":[[\"index\",{\"type\":\"ndarray\",\"array\":{\"type\":\"bytes\",\"data\":\"9AUAAPcFAAD4BQAA+wUAAPwFAAD/BQAAAAYAAAMGAAAEBgAABwYAAAgGAAALBgAADAYAAA8GAAAQBgAAEwYAABQGAAAXBgAAGAYAAA==\"},\"shape\":[19],\"dtype\":\"int32\",\"order\":\"little\"}],[\"LOCATION\",{\"type\":\"ndarray\",\"array\":[\"CHN\",\"CHN\",\"CHN\",\"CHN\",\"CHN\",\"CHN\",\"CHN\",\"CHN\",\"CHN\",\"CHN\",\"CHN\",\"CHN\",\"CHN\",\"CHN\",\"CHN\",\"CHN\",\"CHN\",\"CHN\",\"CHN\"],\"shape\":[19],\"dtype\":\"object\",\"order\":\"little\"}],[\"INDICATOR\",{\"type\":\"ndarray\",\"array\":[\"LTINT\",\"LTINT\",\"LTINT\",\"LTINT\",\"LTINT\",\"LTINT\",\"LTINT\",\"LTINT\",\"LTINT\",\"LTINT\",\"LTINT\",\"LTINT\",\"LTINT\",\"LTINT\",\"LTINT\",\"LTINT\",\"LTINT\",\"LTINT\",\"LTINT\"],\"shape\":[19],\"dtype\":\"object\",\"order\":\"little\"}],[\"SUBJECT\",{\"type\":\"ndarray\",\"array\":[\"TOT\",\"TOT\",\"TOT\",\"TOT\",\"TOT\",\"TOT\",\"TOT\",\"TOT\",\"TOT\",\"TOT\",\"TOT\",\"TOT\",\"TOT\",\"TOT\",\"TOT\",\"TOT\",\"TOT\",\"TOT\",\"TOT\"],\"shape\":[19],\"dtype\":\"object\",\"order\":\"little\"}],[\"MEASURE\",{\"type\":\"ndarray\",\"array\":[\"PC_PA\",\"PC_PA\",\"PC_PA\",\"PC_PA\",\"PC_PA\",\"PC_PA\",\"PC_PA\",\"PC_PA\",\"PC_PA\",\"PC_PA\",\"PC_PA\",\"PC_PA\",\"PC_PA\",\"PC_PA\",\"PC_PA\",\"PC_PA\",\"PC_PA\",\"PC_PA\",\"PC_PA\"],\"shape\":[19],\"dtype\":\"object\",\"order\":\"little\"}],[\"FREQUENCY\",{\"type\":\"ndarray\",\"array\":[\"Q\",\"Q\",\"Q\",\"Q\",\"Q\",\"Q\",\"Q\",\"Q\",\"Q\",\"Q\",\"Q\",\"Q\",\"Q\",\"Q\",\"Q\",\"Q\",\"Q\",\"Q\",\"Q\"],\"shape\":[19],\"dtype\":\"object\",\"order\":\"little\"}],[\"TIME\",{\"type\":\"ndarray\",\"array\":[\"2014-Q1\",\"2014-Q4\",\"2015-Q1\",\"2015-Q4\",\"2016-Q1\",\"2016-Q4\",\"2017-Q1\",\"2017-Q4\",\"2018-Q1\",\"2018-Q4\",\"2019-Q1\",\"2019-Q4\",\"2020-Q1\",\"2020-Q4\",\"2021-Q1\",\"2021-Q4\",\"2022-Q1\",\"2022-Q4\",\"2023-Q1\"],\"shape\":[19],\"dtype\":\"object\",\"order\":\"little\"}],[\"Value\",{\"type\":\"ndarray\",\"array\":{\"type\":\"bytes\",\"data\":\"i6VIvhLoEUAMWkjA6BINQME5I0p7AwxAozodyHrKB0BdFajF4MEGQEvqBDQRNgdAdhn+0w10CkAaijve5BcPQJS9pZwvlg5A8S2sG+/uCkCnr+drlusIQN9PjZdukglAYB4y5UMwBkBkzF1LyIcJQET67evAuQlAg4qqX+ncBkCKx0W1iAgGQFK4HoXrUQZAD9JT5BARB0A=\"},\"shape\":[19],\"dtype\":\"float64\",\"order\":\"little\"}],[\"Flag Codes\",{\"type\":\"ndarray\",\"array\":{\"type\":\"bytes\",\"data\":\"AAAAAAAA+H8AAAAAAAD4fwAAAAAAAPh/AAAAAAAA+H8AAAAAAAD4fwAAAAAAAPh/AAAAAAAA+H8AAAAAAAD4fwAAAAAAAPh/AAAAAAAA+H8AAAAAAAD4fwAAAAAAAPh/AAAAAAAA+H8AAAAAAAD4fwAAAAAAAPh/AAAAAAAA+H8AAAAAAAD4fwAAAAAAAPh/AAAAAAAA+H8=\"},\"shape\":[19],\"dtype\":\"float64\",\"order\":\"little\"}]]}}},\"view\":{\"type\":\"object\",\"name\":\"CDSView\",\"id\":\"p1080\",\"attributes\":{\"filter\":{\"type\":\"object\",\"name\":\"AllIndices\",\"id\":\"p1081\"}}},\"glyph\":{\"type\":\"object\",\"name\":\"Line\",\"id\":\"p1076\",\"attributes\":{\"x\":{\"type\":\"field\",\"field\":\"TIME\"},\"y\":{\"type\":\"field\",\"field\":\"Value\"},\"line_color\":\"#ffbb78\",\"line_width\":2}},\"nonselection_glyph\":{\"type\":\"object\",\"name\":\"Line\",\"id\":\"p1077\",\"attributes\":{\"x\":{\"type\":\"field\",\"field\":\"TIME\"},\"y\":{\"type\":\"field\",\"field\":\"Value\"},\"line_color\":\"#ffbb78\",\"line_alpha\":0.1,\"line_width\":2}},\"muted_glyph\":{\"type\":\"object\",\"name\":\"Line\",\"id\":\"p1078\",\"attributes\":{\"x\":{\"type\":\"field\",\"field\":\"TIME\"},\"y\":{\"type\":\"field\",\"field\":\"Value\"},\"line_color\":\"#ffbb78\",\"line_alpha\":0.2,\"line_width\":2}}}}],\"toolbar\":{\"type\":\"object\",\"name\":\"Toolbar\",\"id\":\"p1009\",\"attributes\":{\"tools\":[{\"type\":\"object\",\"name\":\"PanTool\",\"id\":\"p1023\"},{\"type\":\"object\",\"name\":\"WheelZoomTool\",\"id\":\"p1024\"},{\"type\":\"object\",\"name\":\"BoxZoomTool\",\"id\":\"p1025\",\"attributes\":{\"overlay\":{\"type\":\"object\",\"name\":\"BoxAnnotation\",\"id\":\"p1026\",\"attributes\":{\"syncable\":false,\"level\":\"overlay\",\"visible\":false,\"left_units\":\"canvas\",\"right_units\":\"canvas\",\"bottom_units\":\"canvas\",\"top_units\":\"canvas\",\"line_color\":\"black\",\"line_alpha\":1.0,\"line_width\":2,\"line_dash\":[4,4],\"fill_color\":\"lightgrey\",\"fill_alpha\":0.5}}}},{\"type\":\"object\",\"name\":\"SaveTool\",\"id\":\"p1027\"},{\"type\":\"object\",\"name\":\"ResetTool\",\"id\":\"p1028\"},{\"type\":\"object\",\"name\":\"HelpTool\",\"id\":\"p1029\"}]}},\"left\":[{\"type\":\"object\",\"name\":\"LinearAxis\",\"id\":\"p1018\",\"attributes\":{\"ticker\":{\"type\":\"object\",\"name\":\"BasicTicker\",\"id\":\"p1019\",\"attributes\":{\"mantissas\":[1,2,5]}},\"formatter\":{\"type\":\"object\",\"name\":\"BasicTickFormatter\",\"id\":\"p1020\"},\"axis_label\":\"Long term rates (%)\",\"major_label_policy\":{\"type\":\"object\",\"name\":\"AllLabels\",\"id\":\"p1021\"}}}],\"below\":[{\"type\":\"object\",\"name\":\"CategoricalAxis\",\"id\":\"p1013\",\"attributes\":{\"ticker\":{\"type\":\"object\",\"name\":\"CategoricalTicker\",\"id\":\"p1014\"},\"formatter\":{\"type\":\"object\",\"name\":\"CategoricalTickFormatter\",\"id\":\"p1015\"},\"axis_label\":\"Date\",\"major_label_orientation\":45,\"major_label_policy\":{\"type\":\"object\",\"name\":\"AllLabels\",\"id\":\"p1016\"}}}],\"center\":[{\"type\":\"object\",\"name\":\"Grid\",\"id\":\"p1017\",\"attributes\":{\"axis\":{\"id\":\"p1013\"}}},{\"type\":\"object\",\"name\":\"Grid\",\"id\":\"p1022\",\"attributes\":{\"dimension\":1,\"axis\":{\"id\":\"p1018\"}}},{\"type\":\"object\",\"name\":\"Legend\",\"id\":\"p1042\",\"attributes\":{\"location\":\"top_left\",\"title\":\"Countries\",\"click_policy\":\"mute\",\"items\":[{\"type\":\"object\",\"name\":\"LegendItem\",\"id\":\"p1043\",\"attributes\":{\"label\":{\"type\":\"value\",\"value\":\"Country: IND\"},\"renderers\":[{\"id\":\"p1039\"}]}},{\"type\":\"object\",\"name\":\"LegendItem\",\"id\":\"p1056\",\"attributes\":{\"label\":{\"type\":\"value\",\"value\":\"Country: IDN\"},\"renderers\":[{\"id\":\"p1053\"}]}},{\"type\":\"object\",\"name\":\"LegendItem\",\"id\":\"p1069\",\"attributes\":{\"label\":{\"type\":\"value\",\"value\":\"Country: BRA\"},\"renderers\":[{\"id\":\"p1066\"}]}},{\"type\":\"object\",\"name\":\"LegendItem\",\"id\":\"p1082\",\"attributes\":{\"label\":{\"type\":\"value\",\"value\":\"Country: CHN\"},\"renderers\":[{\"id\":\"p1079\"}]}}]}}]}}]}};\n",
       "  const render_items = [{\"docid\":\"8196fee3-fee1-441b-8419-2be068ce3c94\",\"roots\":{\"p1001\":\"ca3e0fa8-1295-483f-a081-e12f06c5d656\"},\"root_ids\":[\"p1001\"]}];\n",
       "  root.Bokeh.embed.embed_items_notebook(docs_json, render_items);\n",
       "  }\n",
       "  if (root.Bokeh !== undefined) {\n",
       "    embed_document(root);\n",
       "  } else {\n",
       "    let attempts = 0;\n",
       "    const timer = setInterval(function(root) {\n",
       "      if (root.Bokeh !== undefined) {\n",
       "        clearInterval(timer);\n",
       "        embed_document(root);\n",
       "      } else {\n",
       "        attempts++;\n",
       "        if (attempts > 100) {\n",
       "          clearInterval(timer);\n",
       "          console.log(\"Bokeh: ERROR: Unable to run BokehJS code because BokehJS library is missing\");\n",
       "        }\n",
       "      }\n",
       "    }, 10, root)\n",
       "  }\n",
       "})(window);"
      ],
      "application/vnd.bokehjs_exec.v0+json": ""
     },
     "metadata": {
      "application/vnd.bokehjs_exec.v0+json": {
       "id": "p1001"
      }
     },
     "output_type": "display_data"
    }
   ],
   "source": [
    "rates_bop(df_rates,'Long term rates (%)',0)"
   ]
  },
  {
   "cell_type": "code",
   "execution_count": 6,
   "id": "0f8fc801-05e8-4187-9fd8-e30c7280816c",
   "metadata": {
    "tags": []
   },
   "outputs": [
    {
     "data": {
      "text/html": [
       "\n",
       "  <div id=\"ed155d9b-5045-409f-a134-421dab331c98\" data-root-id=\"p1095\" style=\"display: contents;\"></div>\n"
      ]
     },
     "metadata": {},
     "output_type": "display_data"
    },
    {
     "data": {
      "application/javascript": [
       "(function(root) {\n",
       "  function embed_document(root) {\n",
       "  const docs_json = {\"ad8c3579-dccb-411c-8d9a-321f63918b4a\":{\"version\":\"3.2.1\",\"title\":\"Bokeh Application\",\"roots\":[{\"type\":\"object\",\"name\":\"Figure\",\"id\":\"p1095\",\"attributes\":{\"width\":1500,\"height\":700,\"x_range\":{\"type\":\"object\",\"name\":\"FactorRange\",\"id\":\"p1104\",\"attributes\":{\"factors\":[\"1990-Q1\",\"1990-Q2\",\"1990-Q3\",\"1990-Q4\",\"1991-Q1\",\"1991-Q2\",\"1991-Q3\",\"1991-Q4\",\"1992-Q1\",\"1992-Q2\",\"1992-Q3\",\"1992-Q4\",\"1993-Q1\",\"1993-Q2\",\"1993-Q3\",\"1993-Q4\",\"1994-Q1\",\"1994-Q2\",\"1994-Q3\",\"1994-Q4\",\"1995-Q1\",\"1995-Q2\",\"1995-Q3\",\"1995-Q4\",\"1996-Q1\",\"1996-Q2\",\"1996-Q3\",\"1996-Q4\",\"1997-Q1\",\"1997-Q2\",\"1997-Q3\",\"1997-Q4\",\"1998-Q1\",\"1998-Q2\",\"1998-Q3\",\"1998-Q4\",\"1999-Q1\",\"1999-Q2\",\"1999-Q3\",\"1999-Q4\",\"2000-Q1\",\"2000-Q2\",\"2000-Q3\",\"2000-Q4\",\"2001-Q1\",\"2001-Q2\",\"2001-Q3\",\"2001-Q4\",\"2002-Q1\",\"2002-Q2\",\"2002-Q3\",\"2002-Q4\",\"2003-Q1\",\"2003-Q2\",\"2003-Q3\",\"2003-Q4\",\"2004-Q1\",\"2004-Q2\",\"2004-Q3\",\"2004-Q4\",\"2005-Q1\",\"2005-Q2\",\"2005-Q3\",\"2005-Q4\",\"2006-Q1\",\"2006-Q2\",\"2006-Q3\",\"2006-Q4\",\"2007-Q1\",\"2007-Q2\",\"2007-Q3\",\"2007-Q4\",\"2008-Q1\",\"2008-Q2\",\"2008-Q3\",\"2008-Q4\",\"2009-Q1\",\"2009-Q2\",\"2009-Q3\",\"2009-Q4\",\"2010-Q1\",\"2010-Q2\",\"2010-Q3\",\"2010-Q4\",\"2011-Q1\",\"2011-Q2\",\"2011-Q3\",\"2011-Q4\",\"2012-Q1\",\"2012-Q2\",\"2012-Q3\",\"2012-Q4\",\"2013-Q1\",\"2013-Q2\",\"2013-Q3\",\"2013-Q4\",\"2014-Q1\",\"2014-Q2\",\"2014-Q3\",\"2014-Q4\",\"2015-Q1\",\"2015-Q2\",\"2015-Q3\",\"2015-Q4\",\"2016-Q1\",\"2016-Q2\",\"2016-Q3\",\"2016-Q4\",\"2017-Q1\",\"2017-Q2\",\"2017-Q3\",\"2017-Q4\",\"2018-Q1\",\"2018-Q2\",\"2018-Q3\",\"2018-Q4\",\"2019-Q1\",\"2019-Q2\",\"2019-Q3\",\"2019-Q4\",\"2020-Q1\",\"2020-Q2\",\"2020-Q3\",\"2020-Q4\",\"2021-Q1\",\"2021-Q2\",\"2021-Q3\",\"2021-Q4\",\"2022-Q1\",\"2022-Q2\",\"2022-Q3\",\"2022-Q4\",\"2023-Q1\",\"2023-Q2\"]}},\"y_range\":{\"type\":\"object\",\"name\":\"DataRange1d\",\"id\":\"p1097\"},\"x_scale\":{\"type\":\"object\",\"name\":\"CategoricalScale\",\"id\":\"p1105\"},\"y_scale\":{\"type\":\"object\",\"name\":\"LinearScale\",\"id\":\"p1106\"},\"title\":{\"type\":\"object\",\"name\":\"Title\",\"id\":\"p1102\"},\"renderers\":[{\"type\":\"object\",\"name\":\"GlyphRenderer\",\"id\":\"p1133\",\"attributes\":{\"data_source\":{\"type\":\"object\",\"name\":\"ColumnDataSource\",\"id\":\"p1124\",\"attributes\":{\"selected\":{\"type\":\"object\",\"name\":\"Selection\",\"id\":\"p1125\",\"attributes\":{\"indices\":[],\"line_indices\":[]}},\"selection_policy\":{\"type\":\"object\",\"name\":\"UnionRenderers\",\"id\":\"p1126\"},\"data\":{\"type\":\"map\",\"entries\":[[\"index\",{\"type\":\"ndarray\",\"array\":{\"type\":\"bytes\",\"data\":\"/yoAAAArAAABKwAAAisAAAMrAAAEKwAABSsAAAYrAAAHKwAACCsAAAkrAAAKKwAACysAAAwrAAANKwAADisAAA8rAAAQKwAAESsAABIrAAATKwAAFCsAABUrAAAWKwAAFysAABgrAAAZKwAAGisAABsrAAAcKwAAHSsAAB4rAAAfKwAAICsAACErAAAiKwAAIysAACQrAAAlKwAAJisAACcrAAAoKwAAKSsAACorAAArKwAALCsAAC0rAAAuKwAALysAADArAAAxKwAAMisAADMrAAA0KwAANSsAADYrAAA3KwAAOCsAADkrAAA6KwAAOysAADwrAAA9KwAAPisAAD8rAABAKwAAQSsAAEIrAABDKwAARCsAAEUrAABGKwAARysAAEgrAABJKwAASisAAEsrAABMKwAATSsAAE4rAABPKwAAUCsAAFErAABSKwAAUysAAFQrAABVKwAAVisAAFcrAABYKwAAWSsAAForAABbKwAAXCsAAF0rAABeKwAAXysAAGArAABhKwAAYisAAGMrAABkKwAAZSsAAGYrAABnKwAAaCsAAGkrAABqKwAAaysAAGwrAABtKwAAbisAAG8rAABwKwAAcSsAAHIrAABzKwAAdCsAAHUrAAB2KwAAdysAAHgrAAB5KwAAeisAAHsrAAB8KwAAfSsAAH4rAAB/KwAAgCsAAIErAACCKwAAgysAAIQrAAA=\"},\"shape\":[134],\"dtype\":\"int32\",\"order\":\"little\"}],[\"LOCATION\",{\"type\":\"ndarray\",\"array\":[\"IND\",\"IND\",\"IND\",\"IND\",\"IND\",\"IND\",\"IND\",\"IND\",\"IND\",\"IND\",\"IND\",\"IND\",\"IND\",\"IND\",\"IND\",\"IND\",\"IND\",\"IND\",\"IND\",\"IND\",\"IND\",\"IND\",\"IND\",\"IND\",\"IND\",\"IND\",\"IND\",\"IND\",\"IND\",\"IND\",\"IND\",\"IND\",\"IND\",\"IND\",\"IND\",\"IND\",\"IND\",\"IND\",\"IND\",\"IND\",\"IND\",\"IND\",\"IND\",\"IND\",\"IND\",\"IND\",\"IND\",\"IND\",\"IND\",\"IND\",\"IND\",\"IND\",\"IND\",\"IND\",\"IND\",\"IND\",\"IND\",\"IND\",\"IND\",\"IND\",\"IND\",\"IND\",\"IND\",\"IND\",\"IND\",\"IND\",\"IND\",\"IND\",\"IND\",\"IND\",\"IND\",\"IND\",\"IND\",\"IND\",\"IND\",\"IND\",\"IND\",\"IND\",\"IND\",\"IND\",\"IND\",\"IND\",\"IND\",\"IND\",\"IND\",\"IND\",\"IND\",\"IND\",\"IND\",\"IND\",\"IND\",\"IND\",\"IND\",\"IND\",\"IND\",\"IND\",\"IND\",\"IND\",\"IND\",\"IND\",\"IND\",\"IND\",\"IND\",\"IND\",\"IND\",\"IND\",\"IND\",\"IND\",\"IND\",\"IND\",\"IND\",\"IND\",\"IND\",\"IND\",\"IND\",\"IND\",\"IND\",\"IND\",\"IND\",\"IND\",\"IND\",\"IND\",\"IND\",\"IND\",\"IND\",\"IND\",\"IND\",\"IND\",\"IND\",\"IND\",\"IND\",\"IND\",\"IND\",\"IND\"],\"shape\":[134],\"dtype\":\"object\",\"order\":\"little\"}],[\"INDICATOR\",{\"type\":\"ndarray\",\"array\":[\"BOP\",\"BOP\",\"BOP\",\"BOP\",\"BOP\",\"BOP\",\"BOP\",\"BOP\",\"BOP\",\"BOP\",\"BOP\",\"BOP\",\"BOP\",\"BOP\",\"BOP\",\"BOP\",\"BOP\",\"BOP\",\"BOP\",\"BOP\",\"BOP\",\"BOP\",\"BOP\",\"BOP\",\"BOP\",\"BOP\",\"BOP\",\"BOP\",\"BOP\",\"BOP\",\"BOP\",\"BOP\",\"BOP\",\"BOP\",\"BOP\",\"BOP\",\"BOP\",\"BOP\",\"BOP\",\"BOP\",\"BOP\",\"BOP\",\"BOP\",\"BOP\",\"BOP\",\"BOP\",\"BOP\",\"BOP\",\"BOP\",\"BOP\",\"BOP\",\"BOP\",\"BOP\",\"BOP\",\"BOP\",\"BOP\",\"BOP\",\"BOP\",\"BOP\",\"BOP\",\"BOP\",\"BOP\",\"BOP\",\"BOP\",\"BOP\",\"BOP\",\"BOP\",\"BOP\",\"BOP\",\"BOP\",\"BOP\",\"BOP\",\"BOP\",\"BOP\",\"BOP\",\"BOP\",\"BOP\",\"BOP\",\"BOP\",\"BOP\",\"BOP\",\"BOP\",\"BOP\",\"BOP\",\"BOP\",\"BOP\",\"BOP\",\"BOP\",\"BOP\",\"BOP\",\"BOP\",\"BOP\",\"BOP\",\"BOP\",\"BOP\",\"BOP\",\"BOP\",\"BOP\",\"BOP\",\"BOP\",\"BOP\",\"BOP\",\"BOP\",\"BOP\",\"BOP\",\"BOP\",\"BOP\",\"BOP\",\"BOP\",\"BOP\",\"BOP\",\"BOP\",\"BOP\",\"BOP\",\"BOP\",\"BOP\",\"BOP\",\"BOP\",\"BOP\",\"BOP\",\"BOP\",\"BOP\",\"BOP\",\"BOP\",\"BOP\",\"BOP\",\"BOP\",\"BOP\",\"BOP\",\"BOP\",\"BOP\",\"BOP\",\"BOP\",\"BOP\"],\"shape\":[134],\"dtype\":\"object\",\"order\":\"little\"}],[\"SUBJECT\",{\"type\":\"ndarray\",\"array\":[\"TOT\",\"TOT\",\"TOT\",\"TOT\",\"TOT\",\"TOT\",\"TOT\",\"TOT\",\"TOT\",\"TOT\",\"TOT\",\"TOT\",\"TOT\",\"TOT\",\"TOT\",\"TOT\",\"TOT\",\"TOT\",\"TOT\",\"TOT\",\"TOT\",\"TOT\",\"TOT\",\"TOT\",\"TOT\",\"TOT\",\"TOT\",\"TOT\",\"TOT\",\"TOT\",\"TOT\",\"TOT\",\"TOT\",\"TOT\",\"TOT\",\"TOT\",\"TOT\",\"TOT\",\"TOT\",\"TOT\",\"TOT\",\"TOT\",\"TOT\",\"TOT\",\"TOT\",\"TOT\",\"TOT\",\"TOT\",\"TOT\",\"TOT\",\"TOT\",\"TOT\",\"TOT\",\"TOT\",\"TOT\",\"TOT\",\"TOT\",\"TOT\",\"TOT\",\"TOT\",\"TOT\",\"TOT\",\"TOT\",\"TOT\",\"TOT\",\"TOT\",\"TOT\",\"TOT\",\"TOT\",\"TOT\",\"TOT\",\"TOT\",\"TOT\",\"TOT\",\"TOT\",\"TOT\",\"TOT\",\"TOT\",\"TOT\",\"TOT\",\"TOT\",\"TOT\",\"TOT\",\"TOT\",\"TOT\",\"TOT\",\"TOT\",\"TOT\",\"TOT\",\"TOT\",\"TOT\",\"TOT\",\"TOT\",\"TOT\",\"TOT\",\"TOT\",\"TOT\",\"TOT\",\"TOT\",\"TOT\",\"TOT\",\"TOT\",\"TOT\",\"TOT\",\"TOT\",\"TOT\",\"TOT\",\"TOT\",\"TOT\",\"TOT\",\"TOT\",\"TOT\",\"TOT\",\"TOT\",\"TOT\",\"TOT\",\"TOT\",\"TOT\",\"TOT\",\"TOT\",\"TOT\",\"TOT\",\"TOT\",\"TOT\",\"TOT\",\"TOT\",\"TOT\",\"TOT\",\"TOT\",\"TOT\",\"TOT\",\"TOT\",\"TOT\",\"TOT\"],\"shape\":[134],\"dtype\":\"object\",\"order\":\"little\"}],[\"MEASURE\",{\"type\":\"ndarray\",\"array\":[\"MLN_USD\",\"MLN_USD\",\"MLN_USD\",\"MLN_USD\",\"MLN_USD\",\"MLN_USD\",\"MLN_USD\",\"MLN_USD\",\"MLN_USD\",\"MLN_USD\",\"MLN_USD\",\"MLN_USD\",\"MLN_USD\",\"MLN_USD\",\"MLN_USD\",\"MLN_USD\",\"MLN_USD\",\"MLN_USD\",\"MLN_USD\",\"MLN_USD\",\"MLN_USD\",\"MLN_USD\",\"MLN_USD\",\"MLN_USD\",\"MLN_USD\",\"MLN_USD\",\"MLN_USD\",\"MLN_USD\",\"MLN_USD\",\"MLN_USD\",\"MLN_USD\",\"MLN_USD\",\"MLN_USD\",\"MLN_USD\",\"MLN_USD\",\"MLN_USD\",\"MLN_USD\",\"MLN_USD\",\"MLN_USD\",\"MLN_USD\",\"MLN_USD\",\"MLN_USD\",\"MLN_USD\",\"MLN_USD\",\"MLN_USD\",\"MLN_USD\",\"MLN_USD\",\"MLN_USD\",\"MLN_USD\",\"MLN_USD\",\"MLN_USD\",\"MLN_USD\",\"MLN_USD\",\"MLN_USD\",\"MLN_USD\",\"MLN_USD\",\"MLN_USD\",\"MLN_USD\",\"MLN_USD\",\"MLN_USD\",\"MLN_USD\",\"MLN_USD\",\"MLN_USD\",\"MLN_USD\",\"MLN_USD\",\"MLN_USD\",\"MLN_USD\",\"MLN_USD\",\"MLN_USD\",\"MLN_USD\",\"MLN_USD\",\"MLN_USD\",\"MLN_USD\",\"MLN_USD\",\"MLN_USD\",\"MLN_USD\",\"MLN_USD\",\"MLN_USD\",\"MLN_USD\",\"MLN_USD\",\"MLN_USD\",\"MLN_USD\",\"MLN_USD\",\"MLN_USD\",\"MLN_USD\",\"MLN_USD\",\"MLN_USD\",\"MLN_USD\",\"MLN_USD\",\"MLN_USD\",\"MLN_USD\",\"MLN_USD\",\"MLN_USD\",\"MLN_USD\",\"MLN_USD\",\"MLN_USD\",\"MLN_USD\",\"MLN_USD\",\"MLN_USD\",\"MLN_USD\",\"MLN_USD\",\"MLN_USD\",\"MLN_USD\",\"MLN_USD\",\"MLN_USD\",\"MLN_USD\",\"MLN_USD\",\"MLN_USD\",\"MLN_USD\",\"MLN_USD\",\"MLN_USD\",\"MLN_USD\",\"MLN_USD\",\"MLN_USD\",\"MLN_USD\",\"MLN_USD\",\"MLN_USD\",\"MLN_USD\",\"MLN_USD\",\"MLN_USD\",\"MLN_USD\",\"MLN_USD\",\"MLN_USD\",\"MLN_USD\",\"MLN_USD\",\"MLN_USD\",\"MLN_USD\",\"MLN_USD\",\"MLN_USD\",\"MLN_USD\",\"MLN_USD\",\"MLN_USD\",\"MLN_USD\",\"MLN_USD\"],\"shape\":[134],\"dtype\":\"object\",\"order\":\"little\"}],[\"FREQUENCY\",{\"type\":\"ndarray\",\"array\":[\"Q\",\"Q\",\"Q\",\"Q\",\"Q\",\"Q\",\"Q\",\"Q\",\"Q\",\"Q\",\"Q\",\"Q\",\"Q\",\"Q\",\"Q\",\"Q\",\"Q\",\"Q\",\"Q\",\"Q\",\"Q\",\"Q\",\"Q\",\"Q\",\"Q\",\"Q\",\"Q\",\"Q\",\"Q\",\"Q\",\"Q\",\"Q\",\"Q\",\"Q\",\"Q\",\"Q\",\"Q\",\"Q\",\"Q\",\"Q\",\"Q\",\"Q\",\"Q\",\"Q\",\"Q\",\"Q\",\"Q\",\"Q\",\"Q\",\"Q\",\"Q\",\"Q\",\"Q\",\"Q\",\"Q\",\"Q\",\"Q\",\"Q\",\"Q\",\"Q\",\"Q\",\"Q\",\"Q\",\"Q\",\"Q\",\"Q\",\"Q\",\"Q\",\"Q\",\"Q\",\"Q\",\"Q\",\"Q\",\"Q\",\"Q\",\"Q\",\"Q\",\"Q\",\"Q\",\"Q\",\"Q\",\"Q\",\"Q\",\"Q\",\"Q\",\"Q\",\"Q\",\"Q\",\"Q\",\"Q\",\"Q\",\"Q\",\"Q\",\"Q\",\"Q\",\"Q\",\"Q\",\"Q\",\"Q\",\"Q\",\"Q\",\"Q\",\"Q\",\"Q\",\"Q\",\"Q\",\"Q\",\"Q\",\"Q\",\"Q\",\"Q\",\"Q\",\"Q\",\"Q\",\"Q\",\"Q\",\"Q\",\"Q\",\"Q\",\"Q\",\"Q\",\"Q\",\"Q\",\"Q\",\"Q\",\"Q\",\"Q\",\"Q\",\"Q\",\"Q\",\"Q\",\"Q\",\"Q\",\"Q\"],\"shape\":[134],\"dtype\":\"object\",\"order\":\"little\"}],[\"TIME\",{\"type\":\"ndarray\",\"array\":[\"1990-Q1\",\"1990-Q2\",\"1990-Q3\",\"1990-Q4\",\"1991-Q1\",\"1991-Q2\",\"1991-Q3\",\"1991-Q4\",\"1992-Q1\",\"1992-Q2\",\"1992-Q3\",\"1992-Q4\",\"1993-Q1\",\"1993-Q2\",\"1993-Q3\",\"1993-Q4\",\"1994-Q1\",\"1994-Q2\",\"1994-Q3\",\"1994-Q4\",\"1995-Q1\",\"1995-Q2\",\"1995-Q3\",\"1995-Q4\",\"1996-Q1\",\"1996-Q2\",\"1996-Q3\",\"1996-Q4\",\"1997-Q1\",\"1997-Q2\",\"1997-Q3\",\"1997-Q4\",\"1998-Q1\",\"1998-Q2\",\"1998-Q3\",\"1998-Q4\",\"1999-Q1\",\"1999-Q2\",\"1999-Q3\",\"1999-Q4\",\"2000-Q1\",\"2000-Q2\",\"2000-Q3\",\"2000-Q4\",\"2001-Q1\",\"2001-Q2\",\"2001-Q3\",\"2001-Q4\",\"2002-Q1\",\"2002-Q2\",\"2002-Q3\",\"2002-Q4\",\"2003-Q1\",\"2003-Q2\",\"2003-Q3\",\"2003-Q4\",\"2004-Q1\",\"2004-Q2\",\"2004-Q3\",\"2004-Q4\",\"2005-Q1\",\"2005-Q2\",\"2005-Q3\",\"2005-Q4\",\"2006-Q1\",\"2006-Q2\",\"2006-Q3\",\"2006-Q4\",\"2007-Q1\",\"2007-Q2\",\"2007-Q3\",\"2007-Q4\",\"2008-Q1\",\"2008-Q2\",\"2008-Q3\",\"2008-Q4\",\"2009-Q1\",\"2009-Q2\",\"2009-Q3\",\"2009-Q4\",\"2010-Q1\",\"2010-Q2\",\"2010-Q3\",\"2010-Q4\",\"2011-Q1\",\"2011-Q2\",\"2011-Q3\",\"2011-Q4\",\"2012-Q1\",\"2012-Q2\",\"2012-Q3\",\"2012-Q4\",\"2013-Q1\",\"2013-Q2\",\"2013-Q3\",\"2013-Q4\",\"2014-Q1\",\"2014-Q2\",\"2014-Q3\",\"2014-Q4\",\"2015-Q1\",\"2015-Q2\",\"2015-Q3\",\"2015-Q4\",\"2016-Q1\",\"2016-Q2\",\"2016-Q3\",\"2016-Q4\",\"2017-Q1\",\"2017-Q2\",\"2017-Q3\",\"2017-Q4\",\"2018-Q1\",\"2018-Q2\",\"2018-Q3\",\"2018-Q4\",\"2019-Q1\",\"2019-Q2\",\"2019-Q3\",\"2019-Q4\",\"2020-Q1\",\"2020-Q2\",\"2020-Q3\",\"2020-Q4\",\"2021-Q1\",\"2021-Q2\",\"2021-Q3\",\"2021-Q4\",\"2022-Q1\",\"2022-Q2\",\"2022-Q3\",\"2022-Q4\",\"2023-Q1\",\"2023-Q2\"],\"shape\":[134],\"dtype\":\"object\",\"order\":\"little\"}],[\"Value\",{\"type\":\"ndarray\",\"array\":{\"type\":\"bytes\",\"data\":\"OGdEaW8EgcCwcmiRbQmWwOF6FK5HCKHA9ihcjwLjpsBvEoPACiCowHE9Ctej0JLADi2ynW+Ol8CsHFpku9+YQFzmdFlMNE/AKVyPwvVWm8C+nxovXcSXwDVeukmMtJPAkQ96NqtLf8Cyne+nRnOCwMbctYR8KYHA/fZ14JwzccCGONbFbahkQAgEOpM2NSFAOUVHcvmCjcBGlPYGX1GMwC/dJAYBuJbABFYOLTLZkMAIrBxaZICewPCFyVRBjo7AoBov3STjm8BMN4lBYPSewL8OnDOiPI/A5dAi23mokcCTOgFNhJV0wKJFtvN9o5DAy6FFtvNZXUCq8dJN4peYwAAAAADAoqbANV66SQw7nMB1ApoIG9qNwIts5/spKpHAyjLEsS5ddMDHSzeJwbOQwHKKjuRyWIjAPL1SliGgjsCoxks3CYyhwFCNl26SopnAI9v5fuqWlMAlBoGVwwqGQD7o2ax6NIPA+FPjpZtBn0DKMsSxLkR9wDGZKhgVQ4ZA1XjpJjFPkUBOYhBYOWKfQJhuEoNApaRAfT81XjoFmkBq+1dWmihTwOY/pN++lH1AokW2812osUDXo3A9SmeyQJHtfD/1V7BAKVyPwrUbskBQjZdukr2lwLx0kxhEG7PAtvP91HjJcsAxCKwcmoWrwG8Sg8AKtqTAfT81XnqFrcD129eBcyF+wKjGSzcJDqbAqMZLNwkAq8DjpZvEIMmkwNPe4AuTjIbABFYOLfKYpsD0/dR4aWOcwESLbOe76aTAN4lBYKU+wsCBJsKGp6mAwB1aZDu/msHAH4XrUTiux8DufD81HhiwwG8Sg8BKWKLAH4XrUZj2vMA9CtejUIvHwI/C9Si8oM/AuB6F65H7yMDXo3A9qt/NwCcxCKzcYsPAarx0k3iywsBcj8L1OAbRwOxRuB5F99DACtejcJ3Z0cAK16NwrV7YwKRwPQo3XNHAexSuR4HL0sDsUbgetcTcwOxRuB4F29TApHA9CkeW1sAK16Nw/RCrwGQ7308NQJ3A/Knx0g30r8D4U+OlG9W/wO58PzUuQMPAqMZLN2kBtsC+nxovXTKqwP7UeOkGDLjAukkMAus/v8Cyne+npoW0wFCNl26Sg6fAw9MrZRlSZkAhsHJoUWmjwEjhehQOUbnAxSCwcogvuMAK16Nw3ZTLwNNNYhCYD7fAAAAAAKDHxsBI4XoUDuXQwAAAAAAg38zAKVyPwnXm0cBSuB6Fi/vMwHWTGAQWTMLA9ihcj8I6y8DRItv53vi4wNyAzw8jBCvApHA9CvcpsMBcj8L1iEXTQNejcD2q4M9A1CtlGWIai0DhehSuR8XJwHnpJjFoU7hA9P3UeOm/vsCkcD0K1w7RwArXo3B9/tLAmpmZmenh0sAfhetRoIXgwB+F61GYjcvAPQrXo/CEusApXI/ClRLEwA==\"},\"shape\":[134],\"dtype\":\"float64\",\"order\":\"little\"}],[\"Flag Codes\",{\"type\":\"ndarray\",\"array\":[{\"type\":\"number\",\"value\":\"nan\"},{\"type\":\"number\",\"value\":\"nan\"},{\"type\":\"number\",\"value\":\"nan\"},{\"type\":\"number\",\"value\":\"nan\"},{\"type\":\"number\",\"value\":\"nan\"},{\"type\":\"number\",\"value\":\"nan\"},{\"type\":\"number\",\"value\":\"nan\"},{\"type\":\"number\",\"value\":\"nan\"},{\"type\":\"number\",\"value\":\"nan\"},{\"type\":\"number\",\"value\":\"nan\"},{\"type\":\"number\",\"value\":\"nan\"},{\"type\":\"number\",\"value\":\"nan\"},{\"type\":\"number\",\"value\":\"nan\"},{\"type\":\"number\",\"value\":\"nan\"},{\"type\":\"number\",\"value\":\"nan\"},{\"type\":\"number\",\"value\":\"nan\"},{\"type\":\"number\",\"value\":\"nan\"},{\"type\":\"number\",\"value\":\"nan\"},{\"type\":\"number\",\"value\":\"nan\"},{\"type\":\"number\",\"value\":\"nan\"},{\"type\":\"number\",\"value\":\"nan\"},{\"type\":\"number\",\"value\":\"nan\"},{\"type\":\"number\",\"value\":\"nan\"},{\"type\":\"number\",\"value\":\"nan\"},{\"type\":\"number\",\"value\":\"nan\"},{\"type\":\"number\",\"value\":\"nan\"},{\"type\":\"number\",\"value\":\"nan\"},{\"type\":\"number\",\"value\":\"nan\"},{\"type\":\"number\",\"value\":\"nan\"},{\"type\":\"number\",\"value\":\"nan\"},{\"type\":\"number\",\"value\":\"nan\"},{\"type\":\"number\",\"value\":\"nan\"},{\"type\":\"number\",\"value\":\"nan\"},{\"type\":\"number\",\"value\":\"nan\"},{\"type\":\"number\",\"value\":\"nan\"},{\"type\":\"number\",\"value\":\"nan\"},{\"type\":\"number\",\"value\":\"nan\"},{\"type\":\"number\",\"value\":\"nan\"},{\"type\":\"number\",\"value\":\"nan\"},{\"type\":\"number\",\"value\":\"nan\"},{\"type\":\"number\",\"value\":\"nan\"},{\"type\":\"number\",\"value\":\"nan\"},{\"type\":\"number\",\"value\":\"nan\"},{\"type\":\"number\",\"value\":\"nan\"},{\"type\":\"number\",\"value\":\"nan\"},{\"type\":\"number\",\"value\":\"nan\"},{\"type\":\"number\",\"value\":\"nan\"},{\"type\":\"number\",\"value\":\"nan\"},{\"type\":\"number\",\"value\":\"nan\"},{\"type\":\"number\",\"value\":\"nan\"},{\"type\":\"number\",\"value\":\"nan\"},{\"type\":\"number\",\"value\":\"nan\"},{\"type\":\"number\",\"value\":\"nan\"},{\"type\":\"number\",\"value\":\"nan\"},{\"type\":\"number\",\"value\":\"nan\"},{\"type\":\"number\",\"value\":\"nan\"},{\"type\":\"number\",\"value\":\"nan\"},{\"type\":\"number\",\"value\":\"nan\"},{\"type\":\"number\",\"value\":\"nan\"},{\"type\":\"number\",\"value\":\"nan\"},{\"type\":\"number\",\"value\":\"nan\"},{\"type\":\"number\",\"value\":\"nan\"},{\"type\":\"number\",\"value\":\"nan\"},{\"type\":\"number\",\"value\":\"nan\"},{\"type\":\"number\",\"value\":\"nan\"},{\"type\":\"number\",\"value\":\"nan\"},{\"type\":\"number\",\"value\":\"nan\"},{\"type\":\"number\",\"value\":\"nan\"},{\"type\":\"number\",\"value\":\"nan\"},{\"type\":\"number\",\"value\":\"nan\"},{\"type\":\"number\",\"value\":\"nan\"},{\"type\":\"number\",\"value\":\"nan\"},{\"type\":\"number\",\"value\":\"nan\"},{\"type\":\"number\",\"value\":\"nan\"},{\"type\":\"number\",\"value\":\"nan\"},{\"type\":\"number\",\"value\":\"nan\"},{\"type\":\"number\",\"value\":\"nan\"},{\"type\":\"number\",\"value\":\"nan\"},{\"type\":\"number\",\"value\":\"nan\"},{\"type\":\"number\",\"value\":\"nan\"},{\"type\":\"number\",\"value\":\"nan\"},{\"type\":\"number\",\"value\":\"nan\"},{\"type\":\"number\",\"value\":\"nan\"},{\"type\":\"number\",\"value\":\"nan\"},{\"type\":\"number\",\"value\":\"nan\"},{\"type\":\"number\",\"value\":\"nan\"},{\"type\":\"number\",\"value\":\"nan\"},{\"type\":\"number\",\"value\":\"nan\"},{\"type\":\"number\",\"value\":\"nan\"},{\"type\":\"number\",\"value\":\"nan\"},{\"type\":\"number\",\"value\":\"nan\"},{\"type\":\"number\",\"value\":\"nan\"},{\"type\":\"number\",\"value\":\"nan\"},{\"type\":\"number\",\"value\":\"nan\"},{\"type\":\"number\",\"value\":\"nan\"},{\"type\":\"number\",\"value\":\"nan\"},{\"type\":\"number\",\"value\":\"nan\"},{\"type\":\"number\",\"value\":\"nan\"},{\"type\":\"number\",\"value\":\"nan\"},{\"type\":\"number\",\"value\":\"nan\"},{\"type\":\"number\",\"value\":\"nan\"},{\"type\":\"number\",\"value\":\"nan\"},{\"type\":\"number\",\"value\":\"nan\"},{\"type\":\"number\",\"value\":\"nan\"},{\"type\":\"number\",\"value\":\"nan\"},{\"type\":\"number\",\"value\":\"nan\"},{\"type\":\"number\",\"value\":\"nan\"},{\"type\":\"number\",\"value\":\"nan\"},{\"type\":\"number\",\"value\":\"nan\"},{\"type\":\"number\",\"value\":\"nan\"},{\"type\":\"number\",\"value\":\"nan\"},{\"type\":\"number\",\"value\":\"nan\"},{\"type\":\"number\",\"value\":\"nan\"},{\"type\":\"number\",\"value\":\"nan\"},{\"type\":\"number\",\"value\":\"nan\"},{\"type\":\"number\",\"value\":\"nan\"},{\"type\":\"number\",\"value\":\"nan\"},{\"type\":\"number\",\"value\":\"nan\"},{\"type\":\"number\",\"value\":\"nan\"},{\"type\":\"number\",\"value\":\"nan\"},{\"type\":\"number\",\"value\":\"nan\"},{\"type\":\"number\",\"value\":\"nan\"},{\"type\":\"number\",\"value\":\"nan\"},{\"type\":\"number\",\"value\":\"nan\"},{\"type\":\"number\",\"value\":\"nan\"},{\"type\":\"number\",\"value\":\"nan\"},{\"type\":\"number\",\"value\":\"nan\"},{\"type\":\"number\",\"value\":\"nan\"},{\"type\":\"number\",\"value\":\"nan\"},{\"type\":\"number\",\"value\":\"nan\"},{\"type\":\"number\",\"value\":\"nan\"},{\"type\":\"number\",\"value\":\"nan\"},{\"type\":\"number\",\"value\":\"nan\"},{\"type\":\"number\",\"value\":\"nan\"}],\"shape\":[134],\"dtype\":\"object\",\"order\":\"little\"}]]}}},\"view\":{\"type\":\"object\",\"name\":\"CDSView\",\"id\":\"p1134\",\"attributes\":{\"filter\":{\"type\":\"object\",\"name\":\"AllIndices\",\"id\":\"p1135\"}}},\"glyph\":{\"type\":\"object\",\"name\":\"Line\",\"id\":\"p1130\",\"attributes\":{\"x\":{\"type\":\"field\",\"field\":\"TIME\"},\"y\":{\"type\":\"field\",\"field\":\"Value\"},\"line_color\":\"#1f77b4\",\"line_width\":2}},\"nonselection_glyph\":{\"type\":\"object\",\"name\":\"Line\",\"id\":\"p1131\",\"attributes\":{\"x\":{\"type\":\"field\",\"field\":\"TIME\"},\"y\":{\"type\":\"field\",\"field\":\"Value\"},\"line_color\":\"#1f77b4\",\"line_alpha\":0.1,\"line_width\":2}},\"muted_glyph\":{\"type\":\"object\",\"name\":\"Line\",\"id\":\"p1132\",\"attributes\":{\"x\":{\"type\":\"field\",\"field\":\"TIME\"},\"y\":{\"type\":\"field\",\"field\":\"Value\"},\"line_color\":\"#1f77b4\",\"line_alpha\":0.2,\"line_width\":2}}}},{\"type\":\"object\",\"name\":\"GlyphRenderer\",\"id\":\"p1147\",\"attributes\":{\"data_source\":{\"type\":\"object\",\"name\":\"ColumnDataSource\",\"id\":\"p1138\",\"attributes\":{\"selected\":{\"type\":\"object\",\"name\":\"Selection\",\"id\":\"p1139\",\"attributes\":{\"indices\":[],\"line_indices\":[]}},\"selection_policy\":{\"type\":\"object\",\"name\":\"UnionRenderers\",\"id\":\"p1140\"},\"data\":{\"type\":\"map\",\"entries\":[[\"index\",{\"type\":\"ndarray\",\"array\":{\"type\":\"bytes\",\"data\":\"KSgAACooAAArKAAALCgAAC0oAAAuKAAALygAADAoAAAxKAAAMigAADMoAAA0KAAANSgAADYoAAA3KAAAOCgAADkoAAA6KAAAOygAADwoAAA9KAAAPigAAD8oAABAKAAAQSgAAEIoAABDKAAARCgAAEUoAABGKAAARygAAEgoAABJKAAASigAAEsoAABMKAAATSgAAE4oAABPKAAAUCgAAFEoAABSKAAAUygAAFQoAABVKAAAVigAAFcoAABYKAAAWSgAAFooAABbKAAAXCgAAF0oAABeKAAAXygAAGAoAABhKAAAYigAAGMoAABkKAAAZSgAAGYoAABnKAAAaCgAAGkoAABqKAAAaygAAGwoAABtKAAAbigAAG8oAABwKAAAcSgAAHIoAABzKAAAdCgAAHUoAAB2KAAAdygAAHgoAAB5KAAAeigAAHsoAAB8KAAAfSgAAH4oAAB/KAAAgCgAAIEoAACCKAAAgygAAIQoAACFKAAAhigAAIcoAACIKAAAiSgAAIooAACLKAAAjCgAAI0oAACOKAAAjygAAJAoAACRKAAAkigAAJMoAACUKAAAlSgAAJYoAACXKAAAmCgAAJkoAACaKAAA\"},\"shape\":[114],\"dtype\":\"int32\",\"order\":\"little\"}],[\"LOCATION\",{\"type\":\"ndarray\",\"array\":[\"BRA\",\"BRA\",\"BRA\",\"BRA\",\"BRA\",\"BRA\",\"BRA\",\"BRA\",\"BRA\",\"BRA\",\"BRA\",\"BRA\",\"BRA\",\"BRA\",\"BRA\",\"BRA\",\"BRA\",\"BRA\",\"BRA\",\"BRA\",\"BRA\",\"BRA\",\"BRA\",\"BRA\",\"BRA\",\"BRA\",\"BRA\",\"BRA\",\"BRA\",\"BRA\",\"BRA\",\"BRA\",\"BRA\",\"BRA\",\"BRA\",\"BRA\",\"BRA\",\"BRA\",\"BRA\",\"BRA\",\"BRA\",\"BRA\",\"BRA\",\"BRA\",\"BRA\",\"BRA\",\"BRA\",\"BRA\",\"BRA\",\"BRA\",\"BRA\",\"BRA\",\"BRA\",\"BRA\",\"BRA\",\"BRA\",\"BRA\",\"BRA\",\"BRA\",\"BRA\",\"BRA\",\"BRA\",\"BRA\",\"BRA\",\"BRA\",\"BRA\",\"BRA\",\"BRA\",\"BRA\",\"BRA\",\"BRA\",\"BRA\",\"BRA\",\"BRA\",\"BRA\",\"BRA\",\"BRA\",\"BRA\",\"BRA\",\"BRA\",\"BRA\",\"BRA\",\"BRA\",\"BRA\",\"BRA\",\"BRA\",\"BRA\",\"BRA\",\"BRA\",\"BRA\",\"BRA\",\"BRA\",\"BRA\",\"BRA\",\"BRA\",\"BRA\",\"BRA\",\"BRA\",\"BRA\",\"BRA\",\"BRA\",\"BRA\",\"BRA\",\"BRA\",\"BRA\",\"BRA\",\"BRA\",\"BRA\",\"BRA\",\"BRA\",\"BRA\",\"BRA\",\"BRA\",\"BRA\"],\"shape\":[114],\"dtype\":\"object\",\"order\":\"little\"}],[\"INDICATOR\",{\"type\":\"ndarray\",\"array\":[\"BOP\",\"BOP\",\"BOP\",\"BOP\",\"BOP\",\"BOP\",\"BOP\",\"BOP\",\"BOP\",\"BOP\",\"BOP\",\"BOP\",\"BOP\",\"BOP\",\"BOP\",\"BOP\",\"BOP\",\"BOP\",\"BOP\",\"BOP\",\"BOP\",\"BOP\",\"BOP\",\"BOP\",\"BOP\",\"BOP\",\"BOP\",\"BOP\",\"BOP\",\"BOP\",\"BOP\",\"BOP\",\"BOP\",\"BOP\",\"BOP\",\"BOP\",\"BOP\",\"BOP\",\"BOP\",\"BOP\",\"BOP\",\"BOP\",\"BOP\",\"BOP\",\"BOP\",\"BOP\",\"BOP\",\"BOP\",\"BOP\",\"BOP\",\"BOP\",\"BOP\",\"BOP\",\"BOP\",\"BOP\",\"BOP\",\"BOP\",\"BOP\",\"BOP\",\"BOP\",\"BOP\",\"BOP\",\"BOP\",\"BOP\",\"BOP\",\"BOP\",\"BOP\",\"BOP\",\"BOP\",\"BOP\",\"BOP\",\"BOP\",\"BOP\",\"BOP\",\"BOP\",\"BOP\",\"BOP\",\"BOP\",\"BOP\",\"BOP\",\"BOP\",\"BOP\",\"BOP\",\"BOP\",\"BOP\",\"BOP\",\"BOP\",\"BOP\",\"BOP\",\"BOP\",\"BOP\",\"BOP\",\"BOP\",\"BOP\",\"BOP\",\"BOP\",\"BOP\",\"BOP\",\"BOP\",\"BOP\",\"BOP\",\"BOP\",\"BOP\",\"BOP\",\"BOP\",\"BOP\",\"BOP\",\"BOP\",\"BOP\",\"BOP\",\"BOP\",\"BOP\",\"BOP\",\"BOP\"],\"shape\":[114],\"dtype\":\"object\",\"order\":\"little\"}],[\"SUBJECT\",{\"type\":\"ndarray\",\"array\":[\"TOT\",\"TOT\",\"TOT\",\"TOT\",\"TOT\",\"TOT\",\"TOT\",\"TOT\",\"TOT\",\"TOT\",\"TOT\",\"TOT\",\"TOT\",\"TOT\",\"TOT\",\"TOT\",\"TOT\",\"TOT\",\"TOT\",\"TOT\",\"TOT\",\"TOT\",\"TOT\",\"TOT\",\"TOT\",\"TOT\",\"TOT\",\"TOT\",\"TOT\",\"TOT\",\"TOT\",\"TOT\",\"TOT\",\"TOT\",\"TOT\",\"TOT\",\"TOT\",\"TOT\",\"TOT\",\"TOT\",\"TOT\",\"TOT\",\"TOT\",\"TOT\",\"TOT\",\"TOT\",\"TOT\",\"TOT\",\"TOT\",\"TOT\",\"TOT\",\"TOT\",\"TOT\",\"TOT\",\"TOT\",\"TOT\",\"TOT\",\"TOT\",\"TOT\",\"TOT\",\"TOT\",\"TOT\",\"TOT\",\"TOT\",\"TOT\",\"TOT\",\"TOT\",\"TOT\",\"TOT\",\"TOT\",\"TOT\",\"TOT\",\"TOT\",\"TOT\",\"TOT\",\"TOT\",\"TOT\",\"TOT\",\"TOT\",\"TOT\",\"TOT\",\"TOT\",\"TOT\",\"TOT\",\"TOT\",\"TOT\",\"TOT\",\"TOT\",\"TOT\",\"TOT\",\"TOT\",\"TOT\",\"TOT\",\"TOT\",\"TOT\",\"TOT\",\"TOT\",\"TOT\",\"TOT\",\"TOT\",\"TOT\",\"TOT\",\"TOT\",\"TOT\",\"TOT\",\"TOT\",\"TOT\",\"TOT\",\"TOT\",\"TOT\",\"TOT\",\"TOT\",\"TOT\",\"TOT\"],\"shape\":[114],\"dtype\":\"object\",\"order\":\"little\"}],[\"MEASURE\",{\"type\":\"ndarray\",\"array\":[\"MLN_USD\",\"MLN_USD\",\"MLN_USD\",\"MLN_USD\",\"MLN_USD\",\"MLN_USD\",\"MLN_USD\",\"MLN_USD\",\"MLN_USD\",\"MLN_USD\",\"MLN_USD\",\"MLN_USD\",\"MLN_USD\",\"MLN_USD\",\"MLN_USD\",\"MLN_USD\",\"MLN_USD\",\"MLN_USD\",\"MLN_USD\",\"MLN_USD\",\"MLN_USD\",\"MLN_USD\",\"MLN_USD\",\"MLN_USD\",\"MLN_USD\",\"MLN_USD\",\"MLN_USD\",\"MLN_USD\",\"MLN_USD\",\"MLN_USD\",\"MLN_USD\",\"MLN_USD\",\"MLN_USD\",\"MLN_USD\",\"MLN_USD\",\"MLN_USD\",\"MLN_USD\",\"MLN_USD\",\"MLN_USD\",\"MLN_USD\",\"MLN_USD\",\"MLN_USD\",\"MLN_USD\",\"MLN_USD\",\"MLN_USD\",\"MLN_USD\",\"MLN_USD\",\"MLN_USD\",\"MLN_USD\",\"MLN_USD\",\"MLN_USD\",\"MLN_USD\",\"MLN_USD\",\"MLN_USD\",\"MLN_USD\",\"MLN_USD\",\"MLN_USD\",\"MLN_USD\",\"MLN_USD\",\"MLN_USD\",\"MLN_USD\",\"MLN_USD\",\"MLN_USD\",\"MLN_USD\",\"MLN_USD\",\"MLN_USD\",\"MLN_USD\",\"MLN_USD\",\"MLN_USD\",\"MLN_USD\",\"MLN_USD\",\"MLN_USD\",\"MLN_USD\",\"MLN_USD\",\"MLN_USD\",\"MLN_USD\",\"MLN_USD\",\"MLN_USD\",\"MLN_USD\",\"MLN_USD\",\"MLN_USD\",\"MLN_USD\",\"MLN_USD\",\"MLN_USD\",\"MLN_USD\",\"MLN_USD\",\"MLN_USD\",\"MLN_USD\",\"MLN_USD\",\"MLN_USD\",\"MLN_USD\",\"MLN_USD\",\"MLN_USD\",\"MLN_USD\",\"MLN_USD\",\"MLN_USD\",\"MLN_USD\",\"MLN_USD\",\"MLN_USD\",\"MLN_USD\",\"MLN_USD\",\"MLN_USD\",\"MLN_USD\",\"MLN_USD\",\"MLN_USD\",\"MLN_USD\",\"MLN_USD\",\"MLN_USD\",\"MLN_USD\",\"MLN_USD\",\"MLN_USD\",\"MLN_USD\",\"MLN_USD\",\"MLN_USD\"],\"shape\":[114],\"dtype\":\"object\",\"order\":\"little\"}],[\"FREQUENCY\",{\"type\":\"ndarray\",\"array\":[\"Q\",\"Q\",\"Q\",\"Q\",\"Q\",\"Q\",\"Q\",\"Q\",\"Q\",\"Q\",\"Q\",\"Q\",\"Q\",\"Q\",\"Q\",\"Q\",\"Q\",\"Q\",\"Q\",\"Q\",\"Q\",\"Q\",\"Q\",\"Q\",\"Q\",\"Q\",\"Q\",\"Q\",\"Q\",\"Q\",\"Q\",\"Q\",\"Q\",\"Q\",\"Q\",\"Q\",\"Q\",\"Q\",\"Q\",\"Q\",\"Q\",\"Q\",\"Q\",\"Q\",\"Q\",\"Q\",\"Q\",\"Q\",\"Q\",\"Q\",\"Q\",\"Q\",\"Q\",\"Q\",\"Q\",\"Q\",\"Q\",\"Q\",\"Q\",\"Q\",\"Q\",\"Q\",\"Q\",\"Q\",\"Q\",\"Q\",\"Q\",\"Q\",\"Q\",\"Q\",\"Q\",\"Q\",\"Q\",\"Q\",\"Q\",\"Q\",\"Q\",\"Q\",\"Q\",\"Q\",\"Q\",\"Q\",\"Q\",\"Q\",\"Q\",\"Q\",\"Q\",\"Q\",\"Q\",\"Q\",\"Q\",\"Q\",\"Q\",\"Q\",\"Q\",\"Q\",\"Q\",\"Q\",\"Q\",\"Q\",\"Q\",\"Q\",\"Q\",\"Q\",\"Q\",\"Q\",\"Q\",\"Q\",\"Q\",\"Q\",\"Q\",\"Q\",\"Q\",\"Q\"],\"shape\":[114],\"dtype\":\"object\",\"order\":\"little\"}],[\"TIME\",{\"type\":\"ndarray\",\"array\":[\"1995-Q1\",\"1995-Q2\",\"1995-Q3\",\"1995-Q4\",\"1996-Q1\",\"1996-Q2\",\"1996-Q3\",\"1996-Q4\",\"1997-Q1\",\"1997-Q2\",\"1997-Q3\",\"1997-Q4\",\"1998-Q1\",\"1998-Q2\",\"1998-Q3\",\"1998-Q4\",\"1999-Q1\",\"1999-Q2\",\"1999-Q3\",\"1999-Q4\",\"2000-Q1\",\"2000-Q2\",\"2000-Q3\",\"2000-Q4\",\"2001-Q1\",\"2001-Q2\",\"2001-Q3\",\"2001-Q4\",\"2002-Q1\",\"2002-Q2\",\"2002-Q3\",\"2002-Q4\",\"2003-Q1\",\"2003-Q2\",\"2003-Q3\",\"2003-Q4\",\"2004-Q1\",\"2004-Q2\",\"2004-Q3\",\"2004-Q4\",\"2005-Q1\",\"2005-Q2\",\"2005-Q3\",\"2005-Q4\",\"2006-Q1\",\"2006-Q2\",\"2006-Q3\",\"2006-Q4\",\"2007-Q1\",\"2007-Q2\",\"2007-Q3\",\"2007-Q4\",\"2008-Q1\",\"2008-Q2\",\"2008-Q3\",\"2008-Q4\",\"2009-Q1\",\"2009-Q2\",\"2009-Q3\",\"2009-Q4\",\"2010-Q1\",\"2010-Q2\",\"2010-Q3\",\"2010-Q4\",\"2011-Q1\",\"2011-Q2\",\"2011-Q3\",\"2011-Q4\",\"2012-Q1\",\"2012-Q2\",\"2012-Q3\",\"2012-Q4\",\"2013-Q1\",\"2013-Q2\",\"2013-Q3\",\"2013-Q4\",\"2014-Q1\",\"2014-Q2\",\"2014-Q3\",\"2014-Q4\",\"2015-Q1\",\"2015-Q2\",\"2015-Q3\",\"2015-Q4\",\"2016-Q1\",\"2016-Q2\",\"2016-Q3\",\"2016-Q4\",\"2017-Q1\",\"2017-Q2\",\"2017-Q3\",\"2017-Q4\",\"2018-Q1\",\"2018-Q2\",\"2018-Q3\",\"2018-Q4\",\"2019-Q1\",\"2019-Q2\",\"2019-Q3\",\"2019-Q4\",\"2020-Q1\",\"2020-Q2\",\"2020-Q3\",\"2020-Q4\",\"2021-Q1\",\"2021-Q2\",\"2021-Q3\",\"2021-Q4\",\"2022-Q1\",\"2022-Q2\",\"2022-Q3\",\"2022-Q4\",\"2023-Q1\",\"2023-Q2\"],\"shape\":[114],\"dtype\":\"object\",\"order\":\"little\"}],[\"Value\",{\"type\":\"ndarray\",\"array\":{\"type\":\"bytes\",\"data\":\"ukkMAgv9uMBYObTINpa4wCcxCKxcsKrApHA9CpfKpMAhsHJosQSxwH0/NV56CrDAhxbZzjd3usCLbOf7+TnAwJZDi2zn5LbAWmQ738/EvsDwp8ZLpxjBwGiR7XyvucDAyXa+n/qnv8Coxks36U28wC/dJAZRF8PACKwcWsTBwcB9PzVeeia9wLTIdr5fwrrAhxbZztdat8AIrBxapDu2wKrx0k3i3LTAx0s3iSGCusCR7Xw/VRG5wKJFtvMNBcDA+FPjpfsPvsCHFtnOVxa6wKAaL90EarfAYhBYOXQLs8C8dJMYhL2uwIts5/tJ+7PAbxKDwErAksAPC7WmeTdcQPRsVn2udmhAyjLEsS6bcUCI9NvXAZyJQBKDwMohyZVALbKd76cxmEC8dJMYhBuiQEJg5dBiz6hAvp8aL51apUCwcmiR7ZqkQHE9CtdjXKFAsp3vpwYyqEAxCKwcGlWoQPyp8dKNbKVAZDvfTw2mhUDHSzeJQSytQLgehetRWahARrbz/dRjm0BtVn2utrmFQM/3U+MlJaXAkxgEVg6nq8C4HoXrIWDDwI2XbhJz18LAZmZmZqZqx8Db+X5qXEq0wH9qvHRTR7TAw/UoXG9xsMBzaJHt/GO8wI/C9Sg85cbAexSuR5HE1cCF61G4brzUwIXrUbhOWdfApHA9Ctdv0sApXI/CpYPTwIXrUbgOTNXAPQrXo/CL1MBI4XoUXhbXwOxRuB61FtTAzczMzNzH18DNzMzM3LfUwGZmZmb2KdzAPQrXo8B71sBSuB6FO4vVwB+F61HYAtjApHA9CocT1MAK16NwHRDawGZmZmbmz9jAMzMzMxMn28DhehSu987cwNejcD3aetnAw/UoXI8l0cBmZmZmxvDGwFpkO9+vVb7AMQisHJp+ucA/NV66qXe6wNV46SZRQ7rAcT0K18NvxMAIrBxaZC2mwHsUrkchY7DABoGVQ1uxwMAUrkfhmvHEwJqZmZn538fAFK5H4XqGxsC4HoXrYSXQwPYoXI9COs3AcT0K18OfxsApXI/C1S3MwKRwPQr32dXASOF6FH6Y08DsUbgepfjPwM3MzMxMTJVA0ETY8PQ9gkA9CtejEMTFwHsUrkfRfdLALNSa5h3jYkAfhetRGG+8wLgehesRgNPApHA9CvcYyMCamZmZGUzIwNejcD0K087APQrXo5BQ0sA730+Nd9ewwLx0kxiUTsPA\"},\"shape\":[114],\"dtype\":\"float64\",\"order\":\"little\"}],[\"Flag Codes\",{\"type\":\"ndarray\",\"array\":[{\"type\":\"number\",\"value\":\"nan\"},{\"type\":\"number\",\"value\":\"nan\"},{\"type\":\"number\",\"value\":\"nan\"},{\"type\":\"number\",\"value\":\"nan\"},{\"type\":\"number\",\"value\":\"nan\"},{\"type\":\"number\",\"value\":\"nan\"},{\"type\":\"number\",\"value\":\"nan\"},{\"type\":\"number\",\"value\":\"nan\"},{\"type\":\"number\",\"value\":\"nan\"},{\"type\":\"number\",\"value\":\"nan\"},{\"type\":\"number\",\"value\":\"nan\"},{\"type\":\"number\",\"value\":\"nan\"},{\"type\":\"number\",\"value\":\"nan\"},{\"type\":\"number\",\"value\":\"nan\"},{\"type\":\"number\",\"value\":\"nan\"},{\"type\":\"number\",\"value\":\"nan\"},{\"type\":\"number\",\"value\":\"nan\"},{\"type\":\"number\",\"value\":\"nan\"},{\"type\":\"number\",\"value\":\"nan\"},{\"type\":\"number\",\"value\":\"nan\"},{\"type\":\"number\",\"value\":\"nan\"},{\"type\":\"number\",\"value\":\"nan\"},{\"type\":\"number\",\"value\":\"nan\"},{\"type\":\"number\",\"value\":\"nan\"},{\"type\":\"number\",\"value\":\"nan\"},{\"type\":\"number\",\"value\":\"nan\"},{\"type\":\"number\",\"value\":\"nan\"},{\"type\":\"number\",\"value\":\"nan\"},{\"type\":\"number\",\"value\":\"nan\"},{\"type\":\"number\",\"value\":\"nan\"},{\"type\":\"number\",\"value\":\"nan\"},{\"type\":\"number\",\"value\":\"nan\"},{\"type\":\"number\",\"value\":\"nan\"},{\"type\":\"number\",\"value\":\"nan\"},{\"type\":\"number\",\"value\":\"nan\"},{\"type\":\"number\",\"value\":\"nan\"},{\"type\":\"number\",\"value\":\"nan\"},{\"type\":\"number\",\"value\":\"nan\"},{\"type\":\"number\",\"value\":\"nan\"},{\"type\":\"number\",\"value\":\"nan\"},{\"type\":\"number\",\"value\":\"nan\"},{\"type\":\"number\",\"value\":\"nan\"},{\"type\":\"number\",\"value\":\"nan\"},{\"type\":\"number\",\"value\":\"nan\"},{\"type\":\"number\",\"value\":\"nan\"},{\"type\":\"number\",\"value\":\"nan\"},{\"type\":\"number\",\"value\":\"nan\"},{\"type\":\"number\",\"value\":\"nan\"},{\"type\":\"number\",\"value\":\"nan\"},{\"type\":\"number\",\"value\":\"nan\"},{\"type\":\"number\",\"value\":\"nan\"},{\"type\":\"number\",\"value\":\"nan\"},{\"type\":\"number\",\"value\":\"nan\"},{\"type\":\"number\",\"value\":\"nan\"},{\"type\":\"number\",\"value\":\"nan\"},{\"type\":\"number\",\"value\":\"nan\"},{\"type\":\"number\",\"value\":\"nan\"},{\"type\":\"number\",\"value\":\"nan\"},{\"type\":\"number\",\"value\":\"nan\"},{\"type\":\"number\",\"value\":\"nan\"},{\"type\":\"number\",\"value\":\"nan\"},{\"type\":\"number\",\"value\":\"nan\"},{\"type\":\"number\",\"value\":\"nan\"},{\"type\":\"number\",\"value\":\"nan\"},{\"type\":\"number\",\"value\":\"nan\"},{\"type\":\"number\",\"value\":\"nan\"},{\"type\":\"number\",\"value\":\"nan\"},{\"type\":\"number\",\"value\":\"nan\"},{\"type\":\"number\",\"value\":\"nan\"},{\"type\":\"number\",\"value\":\"nan\"},{\"type\":\"number\",\"value\":\"nan\"},{\"type\":\"number\",\"value\":\"nan\"},{\"type\":\"number\",\"value\":\"nan\"},{\"type\":\"number\",\"value\":\"nan\"},{\"type\":\"number\",\"value\":\"nan\"},{\"type\":\"number\",\"value\":\"nan\"},{\"type\":\"number\",\"value\":\"nan\"},{\"type\":\"number\",\"value\":\"nan\"},{\"type\":\"number\",\"value\":\"nan\"},{\"type\":\"number\",\"value\":\"nan\"},{\"type\":\"number\",\"value\":\"nan\"},{\"type\":\"number\",\"value\":\"nan\"},{\"type\":\"number\",\"value\":\"nan\"},{\"type\":\"number\",\"value\":\"nan\"},{\"type\":\"number\",\"value\":\"nan\"},{\"type\":\"number\",\"value\":\"nan\"},{\"type\":\"number\",\"value\":\"nan\"},{\"type\":\"number\",\"value\":\"nan\"},{\"type\":\"number\",\"value\":\"nan\"},{\"type\":\"number\",\"value\":\"nan\"},{\"type\":\"number\",\"value\":\"nan\"},{\"type\":\"number\",\"value\":\"nan\"},{\"type\":\"number\",\"value\":\"nan\"},{\"type\":\"number\",\"value\":\"nan\"},{\"type\":\"number\",\"value\":\"nan\"},{\"type\":\"number\",\"value\":\"nan\"},{\"type\":\"number\",\"value\":\"nan\"},{\"type\":\"number\",\"value\":\"nan\"},{\"type\":\"number\",\"value\":\"nan\"},{\"type\":\"number\",\"value\":\"nan\"},{\"type\":\"number\",\"value\":\"nan\"},{\"type\":\"number\",\"value\":\"nan\"},{\"type\":\"number\",\"value\":\"nan\"},{\"type\":\"number\",\"value\":\"nan\"},{\"type\":\"number\",\"value\":\"nan\"},{\"type\":\"number\",\"value\":\"nan\"},{\"type\":\"number\",\"value\":\"nan\"},{\"type\":\"number\",\"value\":\"nan\"},{\"type\":\"number\",\"value\":\"nan\"},{\"type\":\"number\",\"value\":\"nan\"},{\"type\":\"number\",\"value\":\"nan\"},{\"type\":\"number\",\"value\":\"nan\"},{\"type\":\"number\",\"value\":\"nan\"},{\"type\":\"number\",\"value\":\"nan\"}],\"shape\":[114],\"dtype\":\"object\",\"order\":\"little\"}]]}}},\"view\":{\"type\":\"object\",\"name\":\"CDSView\",\"id\":\"p1148\",\"attributes\":{\"filter\":{\"type\":\"object\",\"name\":\"AllIndices\",\"id\":\"p1149\"}}},\"glyph\":{\"type\":\"object\",\"name\":\"Line\",\"id\":\"p1144\",\"attributes\":{\"x\":{\"type\":\"field\",\"field\":\"TIME\"},\"y\":{\"type\":\"field\",\"field\":\"Value\"},\"line_color\":\"#aec7e8\",\"line_width\":2}},\"nonselection_glyph\":{\"type\":\"object\",\"name\":\"Line\",\"id\":\"p1145\",\"attributes\":{\"x\":{\"type\":\"field\",\"field\":\"TIME\"},\"y\":{\"type\":\"field\",\"field\":\"Value\"},\"line_color\":\"#aec7e8\",\"line_alpha\":0.1,\"line_width\":2}},\"muted_glyph\":{\"type\":\"object\",\"name\":\"Line\",\"id\":\"p1146\",\"attributes\":{\"x\":{\"type\":\"field\",\"field\":\"TIME\"},\"y\":{\"type\":\"field\",\"field\":\"Value\"},\"line_color\":\"#aec7e8\",\"line_alpha\":0.2,\"line_width\":2}}}},{\"type\":\"object\",\"name\":\"GlyphRenderer\",\"id\":\"p1160\",\"attributes\":{\"data_source\":{\"type\":\"object\",\"name\":\"ColumnDataSource\",\"id\":\"p1151\",\"attributes\":{\"selected\":{\"type\":\"object\",\"name\":\"Selection\",\"id\":\"p1152\",\"attributes\":{\"indices\":[],\"line_indices\":[]}},\"selection_policy\":{\"type\":\"object\",\"name\":\"UnionRenderers\",\"id\":\"p1153\"},\"data\":{\"type\":\"map\",\"entries\":[[\"index\",{\"type\":\"ndarray\",\"array\":{\"type\":\"bytes\",\"data\":\"8isAAPMrAAD0KwAA9SsAAPYrAAD3KwAA+CsAAPkrAAD6KwAA+ysAAPwrAAD9KwAA/isAAP8rAAAALAAAASwAAAIsAAADLAAABCwAAAUsAAAGLAAABywAAAgsAAAJLAAACiwAAAssAAAMLAAADSwAAA4sAAAPLAAAECwAABEsAAASLAAAEywAABQsAAAVLAAAFiwAABcsAAAYLAAAGSwAABosAAAbLAAAHCwAAB0sAAAeLAAAHywAACAsAAAhLAAAIiwAACMsAAAkLAAAJSwAACYsAAAnLAAAKCwAACksAAAqLAAAKywAACwsAAAtLAAALiwAAC8sAAAwLAAAMSwAADIsAAAzLAAANCwAADUsAAA2LAAANywAADgsAAA5LAAAOiwAADssAAA8LAAAPSwAAD4sAAA/LAAA\"},\"shape\":[78],\"dtype\":\"int32\",\"order\":\"little\"}],[\"LOCATION\",{\"type\":\"ndarray\",\"array\":[\"IDN\",\"IDN\",\"IDN\",\"IDN\",\"IDN\",\"IDN\",\"IDN\",\"IDN\",\"IDN\",\"IDN\",\"IDN\",\"IDN\",\"IDN\",\"IDN\",\"IDN\",\"IDN\",\"IDN\",\"IDN\",\"IDN\",\"IDN\",\"IDN\",\"IDN\",\"IDN\",\"IDN\",\"IDN\",\"IDN\",\"IDN\",\"IDN\",\"IDN\",\"IDN\",\"IDN\",\"IDN\",\"IDN\",\"IDN\",\"IDN\",\"IDN\",\"IDN\",\"IDN\",\"IDN\",\"IDN\",\"IDN\",\"IDN\",\"IDN\",\"IDN\",\"IDN\",\"IDN\",\"IDN\",\"IDN\",\"IDN\",\"IDN\",\"IDN\",\"IDN\",\"IDN\",\"IDN\",\"IDN\",\"IDN\",\"IDN\",\"IDN\",\"IDN\",\"IDN\",\"IDN\",\"IDN\",\"IDN\",\"IDN\",\"IDN\",\"IDN\",\"IDN\",\"IDN\",\"IDN\",\"IDN\",\"IDN\",\"IDN\",\"IDN\",\"IDN\",\"IDN\",\"IDN\",\"IDN\",\"IDN\"],\"shape\":[78],\"dtype\":\"object\",\"order\":\"little\"}],[\"INDICATOR\",{\"type\":\"ndarray\",\"array\":[\"BOP\",\"BOP\",\"BOP\",\"BOP\",\"BOP\",\"BOP\",\"BOP\",\"BOP\",\"BOP\",\"BOP\",\"BOP\",\"BOP\",\"BOP\",\"BOP\",\"BOP\",\"BOP\",\"BOP\",\"BOP\",\"BOP\",\"BOP\",\"BOP\",\"BOP\",\"BOP\",\"BOP\",\"BOP\",\"BOP\",\"BOP\",\"BOP\",\"BOP\",\"BOP\",\"BOP\",\"BOP\",\"BOP\",\"BOP\",\"BOP\",\"BOP\",\"BOP\",\"BOP\",\"BOP\",\"BOP\",\"BOP\",\"BOP\",\"BOP\",\"BOP\",\"BOP\",\"BOP\",\"BOP\",\"BOP\",\"BOP\",\"BOP\",\"BOP\",\"BOP\",\"BOP\",\"BOP\",\"BOP\",\"BOP\",\"BOP\",\"BOP\",\"BOP\",\"BOP\",\"BOP\",\"BOP\",\"BOP\",\"BOP\",\"BOP\",\"BOP\",\"BOP\",\"BOP\",\"BOP\",\"BOP\",\"BOP\",\"BOP\",\"BOP\",\"BOP\",\"BOP\",\"BOP\",\"BOP\",\"BOP\"],\"shape\":[78],\"dtype\":\"object\",\"order\":\"little\"}],[\"SUBJECT\",{\"type\":\"ndarray\",\"array\":[\"TOT\",\"TOT\",\"TOT\",\"TOT\",\"TOT\",\"TOT\",\"TOT\",\"TOT\",\"TOT\",\"TOT\",\"TOT\",\"TOT\",\"TOT\",\"TOT\",\"TOT\",\"TOT\",\"TOT\",\"TOT\",\"TOT\",\"TOT\",\"TOT\",\"TOT\",\"TOT\",\"TOT\",\"TOT\",\"TOT\",\"TOT\",\"TOT\",\"TOT\",\"TOT\",\"TOT\",\"TOT\",\"TOT\",\"TOT\",\"TOT\",\"TOT\",\"TOT\",\"TOT\",\"TOT\",\"TOT\",\"TOT\",\"TOT\",\"TOT\",\"TOT\",\"TOT\",\"TOT\",\"TOT\",\"TOT\",\"TOT\",\"TOT\",\"TOT\",\"TOT\",\"TOT\",\"TOT\",\"TOT\",\"TOT\",\"TOT\",\"TOT\",\"TOT\",\"TOT\",\"TOT\",\"TOT\",\"TOT\",\"TOT\",\"TOT\",\"TOT\",\"TOT\",\"TOT\",\"TOT\",\"TOT\",\"TOT\",\"TOT\",\"TOT\",\"TOT\",\"TOT\",\"TOT\",\"TOT\",\"TOT\"],\"shape\":[78],\"dtype\":\"object\",\"order\":\"little\"}],[\"MEASURE\",{\"type\":\"ndarray\",\"array\":[\"MLN_USD\",\"MLN_USD\",\"MLN_USD\",\"MLN_USD\",\"MLN_USD\",\"MLN_USD\",\"MLN_USD\",\"MLN_USD\",\"MLN_USD\",\"MLN_USD\",\"MLN_USD\",\"MLN_USD\",\"MLN_USD\",\"MLN_USD\",\"MLN_USD\",\"MLN_USD\",\"MLN_USD\",\"MLN_USD\",\"MLN_USD\",\"MLN_USD\",\"MLN_USD\",\"MLN_USD\",\"MLN_USD\",\"MLN_USD\",\"MLN_USD\",\"MLN_USD\",\"MLN_USD\",\"MLN_USD\",\"MLN_USD\",\"MLN_USD\",\"MLN_USD\",\"MLN_USD\",\"MLN_USD\",\"MLN_USD\",\"MLN_USD\",\"MLN_USD\",\"MLN_USD\",\"MLN_USD\",\"MLN_USD\",\"MLN_USD\",\"MLN_USD\",\"MLN_USD\",\"MLN_USD\",\"MLN_USD\",\"MLN_USD\",\"MLN_USD\",\"MLN_USD\",\"MLN_USD\",\"MLN_USD\",\"MLN_USD\",\"MLN_USD\",\"MLN_USD\",\"MLN_USD\",\"MLN_USD\",\"MLN_USD\",\"MLN_USD\",\"MLN_USD\",\"MLN_USD\",\"MLN_USD\",\"MLN_USD\",\"MLN_USD\",\"MLN_USD\",\"MLN_USD\",\"MLN_USD\",\"MLN_USD\",\"MLN_USD\",\"MLN_USD\",\"MLN_USD\",\"MLN_USD\",\"MLN_USD\",\"MLN_USD\",\"MLN_USD\",\"MLN_USD\",\"MLN_USD\",\"MLN_USD\",\"MLN_USD\",\"MLN_USD\",\"MLN_USD\"],\"shape\":[78],\"dtype\":\"object\",\"order\":\"little\"}],[\"FREQUENCY\",{\"type\":\"ndarray\",\"array\":[\"Q\",\"Q\",\"Q\",\"Q\",\"Q\",\"Q\",\"Q\",\"Q\",\"Q\",\"Q\",\"Q\",\"Q\",\"Q\",\"Q\",\"Q\",\"Q\",\"Q\",\"Q\",\"Q\",\"Q\",\"Q\",\"Q\",\"Q\",\"Q\",\"Q\",\"Q\",\"Q\",\"Q\",\"Q\",\"Q\",\"Q\",\"Q\",\"Q\",\"Q\",\"Q\",\"Q\",\"Q\",\"Q\",\"Q\",\"Q\",\"Q\",\"Q\",\"Q\",\"Q\",\"Q\",\"Q\",\"Q\",\"Q\",\"Q\",\"Q\",\"Q\",\"Q\",\"Q\",\"Q\",\"Q\",\"Q\",\"Q\",\"Q\",\"Q\",\"Q\",\"Q\",\"Q\",\"Q\",\"Q\",\"Q\",\"Q\",\"Q\",\"Q\",\"Q\",\"Q\",\"Q\",\"Q\",\"Q\",\"Q\",\"Q\",\"Q\",\"Q\",\"Q\"],\"shape\":[78],\"dtype\":\"object\",\"order\":\"little\"}],[\"TIME\",{\"type\":\"ndarray\",\"array\":[\"2004-Q1\",\"2004-Q2\",\"2004-Q3\",\"2004-Q4\",\"2005-Q1\",\"2005-Q2\",\"2005-Q3\",\"2005-Q4\",\"2006-Q1\",\"2006-Q2\",\"2006-Q3\",\"2006-Q4\",\"2007-Q1\",\"2007-Q2\",\"2007-Q3\",\"2007-Q4\",\"2008-Q1\",\"2008-Q2\",\"2008-Q3\",\"2008-Q4\",\"2009-Q1\",\"2009-Q2\",\"2009-Q3\",\"2009-Q4\",\"2010-Q1\",\"2010-Q2\",\"2010-Q3\",\"2010-Q4\",\"2011-Q1\",\"2011-Q2\",\"2011-Q3\",\"2011-Q4\",\"2012-Q1\",\"2012-Q2\",\"2012-Q3\",\"2012-Q4\",\"2013-Q1\",\"2013-Q2\",\"2013-Q3\",\"2013-Q4\",\"2014-Q1\",\"2014-Q2\",\"2014-Q3\",\"2014-Q4\",\"2015-Q1\",\"2015-Q2\",\"2015-Q3\",\"2015-Q4\",\"2016-Q1\",\"2016-Q2\",\"2016-Q3\",\"2016-Q4\",\"2017-Q1\",\"2017-Q2\",\"2017-Q3\",\"2017-Q4\",\"2018-Q1\",\"2018-Q2\",\"2018-Q3\",\"2018-Q4\",\"2019-Q1\",\"2019-Q2\",\"2019-Q3\",\"2019-Q4\",\"2020-Q1\",\"2020-Q2\",\"2020-Q3\",\"2020-Q4\",\"2021-Q1\",\"2021-Q2\",\"2021-Q3\",\"2021-Q4\",\"2022-Q1\",\"2022-Q2\",\"2022-Q3\",\"2022-Q4\",\"2023-Q1\",\"2023-Q2\"],\"shape\":[78],\"dtype\":\"object\",\"order\":\"little\"}],[\"Value\",{\"type\":\"ndarray\",\"array\":{\"type\":\"bytes\",\"data\":\"16NwPYomlsAVjErqBEh8QAIrhxZZu5NAWDm0yHazkkD5D+m3r4VyQNF0djI4TkJAhetRuB5glcCmm8QgMBGcQGQ7308NTadAokW2830OmEB56SYxyOumQJzEILByCKRASgwCKwd3p0BvEoPAisiiQEjhehSu859AqMZLNwkNrEAGgZVDi52iQPp+arz0lJTA7zhFR3LYf8Ck374OHGSFwNv5fmr8gqRA+n5qvLTzokA3iUFgZeGgQPyp8dJNXKZAAAAAAICQnED0/dR46VGbQOXQItu5AKBAO99PjRdrm0DdJAaBlUCgQKJFtvN9r4fAsAPnjCjTf0APnDOiNBKAwHWTGAS2K7DA1XjpJiHGwMBeukkMYhG0wNejcD0qw7nAFK5H4Rqdu8DXo3A96o7DwIcW2c43XsDABFYOLRIjsMBGtvP9FES0wHWTGATWgMPAL90kBqEMvMB7FK5HIYS1wA4tsp0vrq/A46WbxIAdtMCsHFpku1OvwM/3U+Ml97DAObTIdr78ssCR7Xw/VdW0wDvfT4133rDAEoPAyuEzosC4HoXrEQeowP7UeOnm8KjAVg4tst2yscAj2/l+ShO1wHNoke380rTA9ihcj0LjuMBcj8L1aAPFwJHtfD91P8HA+FPjpbt8ucC0yHa+/9C6wJqZmZkJlsHADAIrhxb8u8D2KFyPQm6wwFg5tMh2Pp7A5/up8dIAcUBYObTIdrOXQC/dJAaBDJrAeekmMYiQlcBYObTIdsWrQJZDi2wnTalAkxgEVg40jkDZzvdTo0SiQI/C9ShcFp5A9ihcj6IdvEBaZDvfz5GsQPT91HipqKjA\"},\"shape\":[78],\"dtype\":\"float64\",\"order\":\"little\"}],[\"Flag Codes\",{\"type\":\"ndarray\",\"array\":[{\"type\":\"number\",\"value\":\"nan\"},{\"type\":\"number\",\"value\":\"nan\"},{\"type\":\"number\",\"value\":\"nan\"},{\"type\":\"number\",\"value\":\"nan\"},{\"type\":\"number\",\"value\":\"nan\"},{\"type\":\"number\",\"value\":\"nan\"},{\"type\":\"number\",\"value\":\"nan\"},{\"type\":\"number\",\"value\":\"nan\"},{\"type\":\"number\",\"value\":\"nan\"},{\"type\":\"number\",\"value\":\"nan\"},{\"type\":\"number\",\"value\":\"nan\"},{\"type\":\"number\",\"value\":\"nan\"},{\"type\":\"number\",\"value\":\"nan\"},{\"type\":\"number\",\"value\":\"nan\"},{\"type\":\"number\",\"value\":\"nan\"},{\"type\":\"number\",\"value\":\"nan\"},{\"type\":\"number\",\"value\":\"nan\"},{\"type\":\"number\",\"value\":\"nan\"},{\"type\":\"number\",\"value\":\"nan\"},{\"type\":\"number\",\"value\":\"nan\"},{\"type\":\"number\",\"value\":\"nan\"},{\"type\":\"number\",\"value\":\"nan\"},{\"type\":\"number\",\"value\":\"nan\"},{\"type\":\"number\",\"value\":\"nan\"},{\"type\":\"number\",\"value\":\"nan\"},{\"type\":\"number\",\"value\":\"nan\"},{\"type\":\"number\",\"value\":\"nan\"},{\"type\":\"number\",\"value\":\"nan\"},{\"type\":\"number\",\"value\":\"nan\"},{\"type\":\"number\",\"value\":\"nan\"},{\"type\":\"number\",\"value\":\"nan\"},{\"type\":\"number\",\"value\":\"nan\"},{\"type\":\"number\",\"value\":\"nan\"},{\"type\":\"number\",\"value\":\"nan\"},{\"type\":\"number\",\"value\":\"nan\"},{\"type\":\"number\",\"value\":\"nan\"},{\"type\":\"number\",\"value\":\"nan\"},{\"type\":\"number\",\"value\":\"nan\"},{\"type\":\"number\",\"value\":\"nan\"},{\"type\":\"number\",\"value\":\"nan\"},{\"type\":\"number\",\"value\":\"nan\"},{\"type\":\"number\",\"value\":\"nan\"},{\"type\":\"number\",\"value\":\"nan\"},{\"type\":\"number\",\"value\":\"nan\"},{\"type\":\"number\",\"value\":\"nan\"},{\"type\":\"number\",\"value\":\"nan\"},{\"type\":\"number\",\"value\":\"nan\"},{\"type\":\"number\",\"value\":\"nan\"},{\"type\":\"number\",\"value\":\"nan\"},{\"type\":\"number\",\"value\":\"nan\"},{\"type\":\"number\",\"value\":\"nan\"},{\"type\":\"number\",\"value\":\"nan\"},{\"type\":\"number\",\"value\":\"nan\"},{\"type\":\"number\",\"value\":\"nan\"},{\"type\":\"number\",\"value\":\"nan\"},{\"type\":\"number\",\"value\":\"nan\"},{\"type\":\"number\",\"value\":\"nan\"},{\"type\":\"number\",\"value\":\"nan\"},{\"type\":\"number\",\"value\":\"nan\"},{\"type\":\"number\",\"value\":\"nan\"},{\"type\":\"number\",\"value\":\"nan\"},{\"type\":\"number\",\"value\":\"nan\"},{\"type\":\"number\",\"value\":\"nan\"},{\"type\":\"number\",\"value\":\"nan\"},{\"type\":\"number\",\"value\":\"nan\"},{\"type\":\"number\",\"value\":\"nan\"},{\"type\":\"number\",\"value\":\"nan\"},{\"type\":\"number\",\"value\":\"nan\"},{\"type\":\"number\",\"value\":\"nan\"},{\"type\":\"number\",\"value\":\"nan\"},{\"type\":\"number\",\"value\":\"nan\"},{\"type\":\"number\",\"value\":\"nan\"},{\"type\":\"number\",\"value\":\"nan\"},{\"type\":\"number\",\"value\":\"nan\"},{\"type\":\"number\",\"value\":\"nan\"},{\"type\":\"number\",\"value\":\"nan\"},{\"type\":\"number\",\"value\":\"nan\"},{\"type\":\"number\",\"value\":\"nan\"}],\"shape\":[78],\"dtype\":\"object\",\"order\":\"little\"}]]}}},\"view\":{\"type\":\"object\",\"name\":\"CDSView\",\"id\":\"p1161\",\"attributes\":{\"filter\":{\"type\":\"object\",\"name\":\"AllIndices\",\"id\":\"p1162\"}}},\"glyph\":{\"type\":\"object\",\"name\":\"Line\",\"id\":\"p1157\",\"attributes\":{\"x\":{\"type\":\"field\",\"field\":\"TIME\"},\"y\":{\"type\":\"field\",\"field\":\"Value\"},\"line_color\":\"#ff7f0e\",\"line_width\":2}},\"nonselection_glyph\":{\"type\":\"object\",\"name\":\"Line\",\"id\":\"p1158\",\"attributes\":{\"x\":{\"type\":\"field\",\"field\":\"TIME\"},\"y\":{\"type\":\"field\",\"field\":\"Value\"},\"line_color\":\"#ff7f0e\",\"line_alpha\":0.1,\"line_width\":2}},\"muted_glyph\":{\"type\":\"object\",\"name\":\"Line\",\"id\":\"p1159\",\"attributes\":{\"x\":{\"type\":\"field\",\"field\":\"TIME\"},\"y\":{\"type\":\"field\",\"field\":\"Value\"},\"line_color\":\"#ff7f0e\",\"line_alpha\":0.2,\"line_width\":2}}}}],\"toolbar\":{\"type\":\"object\",\"name\":\"Toolbar\",\"id\":\"p1103\",\"attributes\":{\"tools\":[{\"type\":\"object\",\"name\":\"PanTool\",\"id\":\"p1117\"},{\"type\":\"object\",\"name\":\"WheelZoomTool\",\"id\":\"p1118\"},{\"type\":\"object\",\"name\":\"BoxZoomTool\",\"id\":\"p1119\",\"attributes\":{\"overlay\":{\"type\":\"object\",\"name\":\"BoxAnnotation\",\"id\":\"p1120\",\"attributes\":{\"syncable\":false,\"level\":\"overlay\",\"visible\":false,\"left_units\":\"canvas\",\"right_units\":\"canvas\",\"bottom_units\":\"canvas\",\"top_units\":\"canvas\",\"line_color\":\"black\",\"line_alpha\":1.0,\"line_width\":2,\"line_dash\":[4,4],\"fill_color\":\"lightgrey\",\"fill_alpha\":0.5}}}},{\"type\":\"object\",\"name\":\"SaveTool\",\"id\":\"p1121\"},{\"type\":\"object\",\"name\":\"ResetTool\",\"id\":\"p1122\"},{\"type\":\"object\",\"name\":\"HelpTool\",\"id\":\"p1123\"}]}},\"left\":[{\"type\":\"object\",\"name\":\"LinearAxis\",\"id\":\"p1112\",\"attributes\":{\"ticker\":{\"type\":\"object\",\"name\":\"BasicTicker\",\"id\":\"p1113\",\"attributes\":{\"mantissas\":[1,2,5]}},\"formatter\":{\"type\":\"object\",\"name\":\"BasicTickFormatter\",\"id\":\"p1114\"},\"axis_label\":\"Balance Of Payments\",\"major_label_policy\":{\"type\":\"object\",\"name\":\"AllLabels\",\"id\":\"p1115\"}}}],\"below\":[{\"type\":\"object\",\"name\":\"CategoricalAxis\",\"id\":\"p1107\",\"attributes\":{\"ticker\":{\"type\":\"object\",\"name\":\"CategoricalTicker\",\"id\":\"p1108\"},\"formatter\":{\"type\":\"object\",\"name\":\"CategoricalTickFormatter\",\"id\":\"p1109\"},\"axis_label\":\"Date\",\"major_label_orientation\":45,\"major_label_policy\":{\"type\":\"object\",\"name\":\"AllLabels\",\"id\":\"p1110\"}}}],\"center\":[{\"type\":\"object\",\"name\":\"Grid\",\"id\":\"p1111\",\"attributes\":{\"axis\":{\"id\":\"p1107\"}}},{\"type\":\"object\",\"name\":\"Grid\",\"id\":\"p1116\",\"attributes\":{\"dimension\":1,\"axis\":{\"id\":\"p1112\"}}},{\"type\":\"object\",\"name\":\"Legend\",\"id\":\"p1136\",\"attributes\":{\"location\":\"top_left\",\"title\":\"Countries\",\"click_policy\":\"mute\",\"items\":[{\"type\":\"object\",\"name\":\"LegendItem\",\"id\":\"p1137\",\"attributes\":{\"label\":{\"type\":\"value\",\"value\":\"Country: IND\"},\"renderers\":[{\"id\":\"p1133\"}]}},{\"type\":\"object\",\"name\":\"LegendItem\",\"id\":\"p1150\",\"attributes\":{\"label\":{\"type\":\"value\",\"value\":\"Country: BRA\"},\"renderers\":[{\"id\":\"p1147\"}]}},{\"type\":\"object\",\"name\":\"LegendItem\",\"id\":\"p1163\",\"attributes\":{\"label\":{\"type\":\"value\",\"value\":\"Country: IDN\"},\"renderers\":[{\"id\":\"p1160\"}]}}]}}]}}]}};\n",
       "  const render_items = [{\"docid\":\"ad8c3579-dccb-411c-8d9a-321f63918b4a\",\"roots\":{\"p1095\":\"ed155d9b-5045-409f-a134-421dab331c98\"},\"root_ids\":[\"p1095\"]}];\n",
       "  root.Bokeh.embed.embed_items_notebook(docs_json, render_items);\n",
       "  }\n",
       "  if (root.Bokeh !== undefined) {\n",
       "    embed_document(root);\n",
       "  } else {\n",
       "    let attempts = 0;\n",
       "    const timer = setInterval(function(root) {\n",
       "      if (root.Bokeh !== undefined) {\n",
       "        clearInterval(timer);\n",
       "        embed_document(root);\n",
       "      } else {\n",
       "        attempts++;\n",
       "        if (attempts > 100) {\n",
       "          clearInterval(timer);\n",
       "          console.log(\"Bokeh: ERROR: Unable to run BokehJS code because BokehJS library is missing\");\n",
       "        }\n",
       "      }\n",
       "    }, 10, root)\n",
       "  }\n",
       "})(window);"
      ],
      "application/vnd.bokehjs_exec.v0+json": ""
     },
     "metadata": {
      "application/vnd.bokehjs_exec.v0+json": {
       "id": "p1095"
      }
     },
     "output_type": "display_data"
    }
   ],
   "source": [
    "balanceofpayments=pd.read_csv('BalanceOfPayments.csv')\n",
    "country_codes=['IND','IDN','BRA']\n",
    "\n",
    "bop = balanceofpayments[balanceofpayments['LOCATION'].isin(country_codes)]\n",
    "bop=bop[bop['MEASURE']=='MLN_USD']\n",
    "bop=bop.sort_values('TIME')\n",
    "# bop=bop[(df_rates_forecast['TIME']>'2016') &(bop['TIME']<'2024')]\n",
    "bop = bop[bop['TIME'].str.contains('Q1|Q2|Q3|Q4')]\n",
    "\n",
    "rates_bop(bop,'Balance Of Payments',0)"
   ]
  },
  {
   "cell_type": "code",
   "execution_count": 7,
   "id": "18da19c5-1c9b-49cc-88dc-a5d890fdcc2b",
   "metadata": {},
   "outputs": [
    {
     "data": {
      "text/html": [
       "\n",
       "  <div id=\"a0a84fc2-3225-475d-ae6c-057fe5385c32\" data-root-id=\"p1170\" style=\"display: contents;\"></div>\n"
      ]
     },
     "metadata": {},
     "output_type": "display_data"
    },
    {
     "data": {
      "application/javascript": [
       "(function(root) {\n",
       "  function embed_document(root) {\n",
       "  const docs_json = {\"e4be95ce-ef30-404e-bda1-73a39ffffbed\":{\"version\":\"3.2.1\",\"title\":\"Bokeh Application\",\"roots\":[{\"type\":\"object\",\"name\":\"Figure\",\"id\":\"p1170\",\"attributes\":{\"width\":1500,\"height\":700,\"x_range\":{\"type\":\"object\",\"name\":\"FactorRange\",\"id\":\"p1179\",\"attributes\":{\"factors\":[\"2013-Q1\",\"2013-Q2\",\"2013-Q3\",\"2013-Q4\",\"2014-Q1\",\"2014-Q2\",\"2014-Q3\",\"2014-Q4\",\"2015-Q1\",\"2015-Q2\",\"2015-Q3\",\"2015-Q4\",\"2016-Q1\",\"2016-Q2\",\"2016-Q3\",\"2016-Q4\",\"2017-Q1\",\"2017-Q2\",\"2017-Q3\",\"2017-Q4\",\"2018-Q1\",\"2018-Q2\",\"2018-Q3\",\"2018-Q4\",\"2019-Q1\",\"2019-Q2\",\"2019-Q3\",\"2019-Q4\",\"2020-Q1\",\"2020-Q2\",\"2020-Q3\",\"2020-Q4\",\"2021-Q1\",\"2021-Q2\",\"2021-Q3\",\"2021-Q4\",\"2022-Q1\",\"2022-Q2\",\"2022-Q3\",\"2022-Q4\",\"2023-Q1\"]}},\"y_range\":{\"type\":\"object\",\"name\":\"DataRange1d\",\"id\":\"p1172\"},\"x_scale\":{\"type\":\"object\",\"name\":\"CategoricalScale\",\"id\":\"p1180\"},\"y_scale\":{\"type\":\"object\",\"name\":\"LinearScale\",\"id\":\"p1181\"},\"title\":{\"type\":\"object\",\"name\":\"Title\",\"id\":\"p1177\"},\"renderers\":[{\"type\":\"object\",\"name\":\"GlyphRenderer\",\"id\":\"p1208\",\"attributes\":{\"data_source\":{\"type\":\"object\",\"name\":\"ColumnDataSource\",\"id\":\"p1199\",\"attributes\":{\"selected\":{\"type\":\"object\",\"name\":\"Selection\",\"id\":\"p1200\",\"attributes\":{\"indices\":[],\"line_indices\":[]}},\"selection_policy\":{\"type\":\"object\",\"name\":\"UnionRenderers\",\"id\":\"p1201\"},\"data\":{\"type\":\"map\",\"entries\":[[\"index\",{\"type\":\"ndarray\",\"array\":{\"type\":\"bytes\",\"data\":\"WBYAAFkWAABaFgAAWxYAAFwWAABdFgAAXhYAAF8WAABgFgAAYRYAAGIWAABjFgAAZBYAAGUWAABmFgAAZxYAAGgWAABpFgAAahYAAGsWAABsFgAAbRYAAG4WAABvFgAAcBYAAHEWAAByFgAAcxYAAHQWAAB1FgAAdhYAAHcWAAB4FgAAeRYAAHoWAAB7FgAAfBYAAH0WAAB+FgAAfxYAAIAWAAA=\"},\"shape\":[41],\"dtype\":\"int32\",\"order\":\"little\"}],[\"LOCATION\",{\"type\":\"ndarray\",\"array\":[\"BRA\",\"BRA\",\"BRA\",\"BRA\",\"BRA\",\"BRA\",\"BRA\",\"BRA\",\"BRA\",\"BRA\",\"BRA\",\"BRA\",\"BRA\",\"BRA\",\"BRA\",\"BRA\",\"BRA\",\"BRA\",\"BRA\",\"BRA\",\"BRA\",\"BRA\",\"BRA\",\"BRA\",\"BRA\",\"BRA\",\"BRA\",\"BRA\",\"BRA\",\"BRA\",\"BRA\",\"BRA\",\"BRA\",\"BRA\",\"BRA\",\"BRA\",\"BRA\",\"BRA\",\"BRA\",\"BRA\",\"BRA\"],\"shape\":[41],\"dtype\":\"object\",\"order\":\"little\"}],[\"INDICATOR\",{\"type\":\"ndarray\",\"array\":[\"FDIFLOW\",\"FDIFLOW\",\"FDIFLOW\",\"FDIFLOW\",\"FDIFLOW\",\"FDIFLOW\",\"FDIFLOW\",\"FDIFLOW\",\"FDIFLOW\",\"FDIFLOW\",\"FDIFLOW\",\"FDIFLOW\",\"FDIFLOW\",\"FDIFLOW\",\"FDIFLOW\",\"FDIFLOW\",\"FDIFLOW\",\"FDIFLOW\",\"FDIFLOW\",\"FDIFLOW\",\"FDIFLOW\",\"FDIFLOW\",\"FDIFLOW\",\"FDIFLOW\",\"FDIFLOW\",\"FDIFLOW\",\"FDIFLOW\",\"FDIFLOW\",\"FDIFLOW\",\"FDIFLOW\",\"FDIFLOW\",\"FDIFLOW\",\"FDIFLOW\",\"FDIFLOW\",\"FDIFLOW\",\"FDIFLOW\",\"FDIFLOW\",\"FDIFLOW\",\"FDIFLOW\",\"FDIFLOW\",\"FDIFLOW\"],\"shape\":[41],\"dtype\":\"object\",\"order\":\"little\"}],[\"SUBJECT\",{\"type\":\"ndarray\",\"array\":[\"INWARD\",\"INWARD\",\"INWARD\",\"INWARD\",\"INWARD\",\"INWARD\",\"INWARD\",\"INWARD\",\"INWARD\",\"INWARD\",\"INWARD\",\"INWARD\",\"INWARD\",\"INWARD\",\"INWARD\",\"INWARD\",\"INWARD\",\"INWARD\",\"INWARD\",\"INWARD\",\"INWARD\",\"INWARD\",\"INWARD\",\"INWARD\",\"INWARD\",\"INWARD\",\"INWARD\",\"INWARD\",\"INWARD\",\"INWARD\",\"INWARD\",\"INWARD\",\"INWARD\",\"INWARD\",\"INWARD\",\"INWARD\",\"INWARD\",\"INWARD\",\"INWARD\",\"INWARD\",\"INWARD\"],\"shape\":[41],\"dtype\":\"object\",\"order\":\"little\"}],[\"MEASURE\",{\"type\":\"ndarray\",\"array\":[\"MLN_USD\",\"MLN_USD\",\"MLN_USD\",\"MLN_USD\",\"MLN_USD\",\"MLN_USD\",\"MLN_USD\",\"MLN_USD\",\"MLN_USD\",\"MLN_USD\",\"MLN_USD\",\"MLN_USD\",\"MLN_USD\",\"MLN_USD\",\"MLN_USD\",\"MLN_USD\",\"MLN_USD\",\"MLN_USD\",\"MLN_USD\",\"MLN_USD\",\"MLN_USD\",\"MLN_USD\",\"MLN_USD\",\"MLN_USD\",\"MLN_USD\",\"MLN_USD\",\"MLN_USD\",\"MLN_USD\",\"MLN_USD\",\"MLN_USD\",\"MLN_USD\",\"MLN_USD\",\"MLN_USD\",\"MLN_USD\",\"MLN_USD\",\"MLN_USD\",\"MLN_USD\",\"MLN_USD\",\"MLN_USD\",\"MLN_USD\",\"MLN_USD\"],\"shape\":[41],\"dtype\":\"object\",\"order\":\"little\"}],[\"FREQUENCY\",{\"type\":\"ndarray\",\"array\":[\"Q\",\"Q\",\"Q\",\"Q\",\"Q\",\"Q\",\"Q\",\"Q\",\"Q\",\"Q\",\"Q\",\"Q\",\"Q\",\"Q\",\"Q\",\"Q\",\"Q\",\"Q\",\"Q\",\"Q\",\"Q\",\"Q\",\"Q\",\"Q\",\"Q\",\"Q\",\"Q\",\"Q\",\"Q\",\"Q\",\"Q\",\"Q\",\"Q\",\"Q\",\"Q\",\"Q\",\"Q\",\"Q\",\"Q\",\"Q\",\"Q\"],\"shape\":[41],\"dtype\":\"object\",\"order\":\"little\"}],[\"TIME\",{\"type\":\"ndarray\",\"array\":[\"2013-Q1\",\"2013-Q2\",\"2013-Q3\",\"2013-Q4\",\"2014-Q1\",\"2014-Q2\",\"2014-Q3\",\"2014-Q4\",\"2015-Q1\",\"2015-Q2\",\"2015-Q3\",\"2015-Q4\",\"2016-Q1\",\"2016-Q2\",\"2016-Q3\",\"2016-Q4\",\"2017-Q1\",\"2017-Q2\",\"2017-Q3\",\"2017-Q4\",\"2018-Q1\",\"2018-Q2\",\"2018-Q3\",\"2018-Q4\",\"2019-Q1\",\"2019-Q2\",\"2019-Q3\",\"2019-Q4\",\"2020-Q1\",\"2020-Q2\",\"2020-Q3\",\"2020-Q4\",\"2021-Q1\",\"2021-Q2\",\"2021-Q3\",\"2021-Q4\",\"2022-Q1\",\"2022-Q2\",\"2022-Q3\",\"2022-Q4\",\"2023-Q1\"],\"shape\":[41],\"dtype\":\"object\",\"order\":\"little\"}],[\"Value\",{\"type\":\"ndarray\",\"array\":{\"type\":\"bytes\",\"data\":\"RNtzEcDqyEA4FxwxMq7OQGUVeB/+mMhAYEQV3V2b0UCKx0U14xHNQM8g9KJEl81ANZumE2Ql0UCfxEp5Ab/PQNspBA8Ea8JABCHVh0k1yUCuzlofUhPGQCdpYUMP4c9AufaqOkE9ykBgpILQXs3LQCGeuiwMucNA+xDI44Qez0C+KGr+/vvUQH2m6mCi089ASBpYHhGtyECJ6WM6xZPPQKf7KSN17tFANaDWmyJXx0BxdghvmU3HQMlZVNvGJdFAAAAAAICxxkAAAAAAwPTQQAAAAACABNZAAAAAAAARy0DV8rlJGy/EQLkqWPz5hLlA9h2JOHcQwUB1kzkSqTSlQEe++SqFStBAvNTf/QcKwUDUbYFrMJ/SQD8O1kFFILhAbFWWkUka20A1ayHvAifWQJqQOYMNAdFAyKV99TzG0UBfaa7Na2zUQA==\"},\"shape\":[41],\"dtype\":\"float64\",\"order\":\"little\"}],[\"Flag Codes\",{\"type\":\"ndarray\",\"array\":[{\"type\":\"number\",\"value\":\"nan\"},{\"type\":\"number\",\"value\":\"nan\"},{\"type\":\"number\",\"value\":\"nan\"},{\"type\":\"number\",\"value\":\"nan\"},{\"type\":\"number\",\"value\":\"nan\"},{\"type\":\"number\",\"value\":\"nan\"},{\"type\":\"number\",\"value\":\"nan\"},{\"type\":\"number\",\"value\":\"nan\"},{\"type\":\"number\",\"value\":\"nan\"},{\"type\":\"number\",\"value\":\"nan\"},{\"type\":\"number\",\"value\":\"nan\"},{\"type\":\"number\",\"value\":\"nan\"},{\"type\":\"number\",\"value\":\"nan\"},{\"type\":\"number\",\"value\":\"nan\"},{\"type\":\"number\",\"value\":\"nan\"},{\"type\":\"number\",\"value\":\"nan\"},{\"type\":\"number\",\"value\":\"nan\"},{\"type\":\"number\",\"value\":\"nan\"},{\"type\":\"number\",\"value\":\"nan\"},{\"type\":\"number\",\"value\":\"nan\"},{\"type\":\"number\",\"value\":\"nan\"},{\"type\":\"number\",\"value\":\"nan\"},{\"type\":\"number\",\"value\":\"nan\"},{\"type\":\"number\",\"value\":\"nan\"},{\"type\":\"number\",\"value\":\"nan\"},{\"type\":\"number\",\"value\":\"nan\"},{\"type\":\"number\",\"value\":\"nan\"},{\"type\":\"number\",\"value\":\"nan\"},{\"type\":\"number\",\"value\":\"nan\"},{\"type\":\"number\",\"value\":\"nan\"},{\"type\":\"number\",\"value\":\"nan\"},{\"type\":\"number\",\"value\":\"nan\"},{\"type\":\"number\",\"value\":\"nan\"},{\"type\":\"number\",\"value\":\"nan\"},{\"type\":\"number\",\"value\":\"nan\"},{\"type\":\"number\",\"value\":\"nan\"},{\"type\":\"number\",\"value\":\"nan\"},{\"type\":\"number\",\"value\":\"nan\"},{\"type\":\"number\",\"value\":\"nan\"},{\"type\":\"number\",\"value\":\"nan\"},{\"type\":\"number\",\"value\":\"nan\"}],\"shape\":[41],\"dtype\":\"object\",\"order\":\"little\"}]]}}},\"view\":{\"type\":\"object\",\"name\":\"CDSView\",\"id\":\"p1209\",\"attributes\":{\"filter\":{\"type\":\"object\",\"name\":\"AllIndices\",\"id\":\"p1210\"}}},\"glyph\":{\"type\":\"object\",\"name\":\"Line\",\"id\":\"p1205\",\"attributes\":{\"x\":{\"type\":\"field\",\"field\":\"TIME\"},\"y\":{\"type\":\"field\",\"field\":\"Value\"},\"line_color\":\"#1f77b4\",\"line_width\":2}},\"nonselection_glyph\":{\"type\":\"object\",\"name\":\"Line\",\"id\":\"p1206\",\"attributes\":{\"x\":{\"type\":\"field\",\"field\":\"TIME\"},\"y\":{\"type\":\"field\",\"field\":\"Value\"},\"line_color\":\"#1f77b4\",\"line_alpha\":0.1,\"line_width\":2}},\"muted_glyph\":{\"type\":\"object\",\"name\":\"Line\",\"id\":\"p1207\",\"attributes\":{\"x\":{\"type\":\"field\",\"field\":\"TIME\"},\"y\":{\"type\":\"field\",\"field\":\"Value\"},\"line_color\":\"#1f77b4\",\"line_alpha\":0.2,\"line_width\":2}}}},{\"type\":\"object\",\"name\":\"GlyphRenderer\",\"id\":\"p1222\",\"attributes\":{\"data_source\":{\"type\":\"object\",\"name\":\"ColumnDataSource\",\"id\":\"p1213\",\"attributes\":{\"selected\":{\"type\":\"object\",\"name\":\"Selection\",\"id\":\"p1214\",\"attributes\":{\"indices\":[],\"line_indices\":[]}},\"selection_policy\":{\"type\":\"object\",\"name\":\"UnionRenderers\",\"id\":\"p1215\"},\"data\":{\"type\":\"map\",\"entries\":[[\"index\",{\"type\":\"ndarray\",\"array\":{\"type\":\"bytes\",\"data\":\"8hcAAPMXAAD0FwAA9RcAAPYXAAD3FwAA+BcAAPkXAAD6FwAA+xcAAPwXAAD9FwAA/hcAAP8XAAAAGAAAARgAAAIYAAADGAAABBgAAAUYAAAGGAAABxgAAAgYAAAJGAAAChgAAAsYAAAMGAAADRgAAA4YAAAPGAAAEBgAABEYAAASGAAAExgAABQYAAAVGAAAFhgAABcYAAAYGAAAGRgAABoYAAA=\"},\"shape\":[41],\"dtype\":\"int32\",\"order\":\"little\"}],[\"LOCATION\",{\"type\":\"ndarray\",\"array\":[\"IDN\",\"IDN\",\"IDN\",\"IDN\",\"IDN\",\"IDN\",\"IDN\",\"IDN\",\"IDN\",\"IDN\",\"IDN\",\"IDN\",\"IDN\",\"IDN\",\"IDN\",\"IDN\",\"IDN\",\"IDN\",\"IDN\",\"IDN\",\"IDN\",\"IDN\",\"IDN\",\"IDN\",\"IDN\",\"IDN\",\"IDN\",\"IDN\",\"IDN\",\"IDN\",\"IDN\",\"IDN\",\"IDN\",\"IDN\",\"IDN\",\"IDN\",\"IDN\",\"IDN\",\"IDN\",\"IDN\",\"IDN\"],\"shape\":[41],\"dtype\":\"object\",\"order\":\"little\"}],[\"INDICATOR\",{\"type\":\"ndarray\",\"array\":[\"FDIFLOW\",\"FDIFLOW\",\"FDIFLOW\",\"FDIFLOW\",\"FDIFLOW\",\"FDIFLOW\",\"FDIFLOW\",\"FDIFLOW\",\"FDIFLOW\",\"FDIFLOW\",\"FDIFLOW\",\"FDIFLOW\",\"FDIFLOW\",\"FDIFLOW\",\"FDIFLOW\",\"FDIFLOW\",\"FDIFLOW\",\"FDIFLOW\",\"FDIFLOW\",\"FDIFLOW\",\"FDIFLOW\",\"FDIFLOW\",\"FDIFLOW\",\"FDIFLOW\",\"FDIFLOW\",\"FDIFLOW\",\"FDIFLOW\",\"FDIFLOW\",\"FDIFLOW\",\"FDIFLOW\",\"FDIFLOW\",\"FDIFLOW\",\"FDIFLOW\",\"FDIFLOW\",\"FDIFLOW\",\"FDIFLOW\",\"FDIFLOW\",\"FDIFLOW\",\"FDIFLOW\",\"FDIFLOW\",\"FDIFLOW\"],\"shape\":[41],\"dtype\":\"object\",\"order\":\"little\"}],[\"SUBJECT\",{\"type\":\"ndarray\",\"array\":[\"INWARD\",\"INWARD\",\"INWARD\",\"INWARD\",\"INWARD\",\"INWARD\",\"INWARD\",\"INWARD\",\"INWARD\",\"INWARD\",\"INWARD\",\"INWARD\",\"INWARD\",\"INWARD\",\"INWARD\",\"INWARD\",\"INWARD\",\"INWARD\",\"INWARD\",\"INWARD\",\"INWARD\",\"INWARD\",\"INWARD\",\"INWARD\",\"INWARD\",\"INWARD\",\"INWARD\",\"INWARD\",\"INWARD\",\"INWARD\",\"INWARD\",\"INWARD\",\"INWARD\",\"INWARD\",\"INWARD\",\"INWARD\",\"INWARD\",\"INWARD\",\"INWARD\",\"INWARD\",\"INWARD\"],\"shape\":[41],\"dtype\":\"object\",\"order\":\"little\"}],[\"MEASURE\",{\"type\":\"ndarray\",\"array\":[\"MLN_USD\",\"MLN_USD\",\"MLN_USD\",\"MLN_USD\",\"MLN_USD\",\"MLN_USD\",\"MLN_USD\",\"MLN_USD\",\"MLN_USD\",\"MLN_USD\",\"MLN_USD\",\"MLN_USD\",\"MLN_USD\",\"MLN_USD\",\"MLN_USD\",\"MLN_USD\",\"MLN_USD\",\"MLN_USD\",\"MLN_USD\",\"MLN_USD\",\"MLN_USD\",\"MLN_USD\",\"MLN_USD\",\"MLN_USD\",\"MLN_USD\",\"MLN_USD\",\"MLN_USD\",\"MLN_USD\",\"MLN_USD\",\"MLN_USD\",\"MLN_USD\",\"MLN_USD\",\"MLN_USD\",\"MLN_USD\",\"MLN_USD\",\"MLN_USD\",\"MLN_USD\",\"MLN_USD\",\"MLN_USD\",\"MLN_USD\",\"MLN_USD\"],\"shape\":[41],\"dtype\":\"object\",\"order\":\"little\"}],[\"FREQUENCY\",{\"type\":\"ndarray\",\"array\":[\"Q\",\"Q\",\"Q\",\"Q\",\"Q\",\"Q\",\"Q\",\"Q\",\"Q\",\"Q\",\"Q\",\"Q\",\"Q\",\"Q\",\"Q\",\"Q\",\"Q\",\"Q\",\"Q\",\"Q\",\"Q\",\"Q\",\"Q\",\"Q\",\"Q\",\"Q\",\"Q\",\"Q\",\"Q\",\"Q\",\"Q\",\"Q\",\"Q\",\"Q\",\"Q\",\"Q\",\"Q\",\"Q\",\"Q\",\"Q\",\"Q\"],\"shape\":[41],\"dtype\":\"object\",\"order\":\"little\"}],[\"TIME\",{\"type\":\"ndarray\",\"array\":[\"2013-Q1\",\"2013-Q2\",\"2013-Q3\",\"2013-Q4\",\"2014-Q1\",\"2014-Q2\",\"2014-Q3\",\"2014-Q4\",\"2015-Q1\",\"2015-Q2\",\"2015-Q3\",\"2015-Q4\",\"2016-Q1\",\"2016-Q2\",\"2016-Q3\",\"2016-Q4\",\"2017-Q1\",\"2017-Q2\",\"2017-Q3\",\"2017-Q4\",\"2018-Q1\",\"2018-Q2\",\"2018-Q3\",\"2018-Q4\",\"2019-Q1\",\"2019-Q2\",\"2019-Q3\",\"2019-Q4\",\"2020-Q1\",\"2020-Q2\",\"2020-Q3\",\"2020-Q4\",\"2021-Q1\",\"2021-Q2\",\"2021-Q3\",\"2021-Q4\",\"2022-Q1\",\"2022-Q2\",\"2022-Q3\",\"2022-Q4\",\"2023-Q1\"],\"shape\":[41],\"dtype\":\"object\",\"order\":\"little\"}],[\"Value\",{\"type\":\"ndarray\",\"array\":{\"type\":\"bytes\",\"data\":\"AAAAAAAArkAAAAAAAM6xQAAAAAAAALdAAAAAAACzsUAAAAAAANKtQAAAAAAAWLZAAAAAAAAUvUAAAAAAAN6yQAAAAAAAQbFAAAAAAADxs0AAAAAAAJKtQAAAAAAADKpAAAAAAACmpUAAAAAAAIqsQAAAAAAAkLNAAAAAAABXvcAAAAAAANimQAAAAAAA8LNAAAAAAIACwEAAAAAAAAKxQAAAAAAARbRAAAAAAADyt0AAAAAAADG6QAAAAAAA1qNAAAAAAADZuUAAAAAAAPa3QAAAAAAABrhAAAAAAAB2s0AAAAAAAKO0QAAAAAAAW7RAAAAAAAAurUAAAAAAAAqxQClcj8L1erRAzczMzEz3uUAfhetRuCOzQHsUrkch9bBAAAAAAAA9t0AAAAAAAPmyQAAAAAAAw7ZAAAAAAAD0s0AAAAAAABi0QA==\"},\"shape\":[41],\"dtype\":\"float64\",\"order\":\"little\"}],[\"Flag Codes\",{\"type\":\"ndarray\",\"array\":[{\"type\":\"number\",\"value\":\"nan\"},{\"type\":\"number\",\"value\":\"nan\"},{\"type\":\"number\",\"value\":\"nan\"},{\"type\":\"number\",\"value\":\"nan\"},{\"type\":\"number\",\"value\":\"nan\"},{\"type\":\"number\",\"value\":\"nan\"},{\"type\":\"number\",\"value\":\"nan\"},{\"type\":\"number\",\"value\":\"nan\"},{\"type\":\"number\",\"value\":\"nan\"},{\"type\":\"number\",\"value\":\"nan\"},{\"type\":\"number\",\"value\":\"nan\"},{\"type\":\"number\",\"value\":\"nan\"},{\"type\":\"number\",\"value\":\"nan\"},{\"type\":\"number\",\"value\":\"nan\"},{\"type\":\"number\",\"value\":\"nan\"},{\"type\":\"number\",\"value\":\"nan\"},{\"type\":\"number\",\"value\":\"nan\"},{\"type\":\"number\",\"value\":\"nan\"},{\"type\":\"number\",\"value\":\"nan\"},{\"type\":\"number\",\"value\":\"nan\"},{\"type\":\"number\",\"value\":\"nan\"},{\"type\":\"number\",\"value\":\"nan\"},{\"type\":\"number\",\"value\":\"nan\"},{\"type\":\"number\",\"value\":\"nan\"},{\"type\":\"number\",\"value\":\"nan\"},{\"type\":\"number\",\"value\":\"nan\"},{\"type\":\"number\",\"value\":\"nan\"},{\"type\":\"number\",\"value\":\"nan\"},{\"type\":\"number\",\"value\":\"nan\"},{\"type\":\"number\",\"value\":\"nan\"},{\"type\":\"number\",\"value\":\"nan\"},{\"type\":\"number\",\"value\":\"nan\"},{\"type\":\"number\",\"value\":\"nan\"},{\"type\":\"number\",\"value\":\"nan\"},{\"type\":\"number\",\"value\":\"nan\"},{\"type\":\"number\",\"value\":\"nan\"},{\"type\":\"number\",\"value\":\"nan\"},{\"type\":\"number\",\"value\":\"nan\"},{\"type\":\"number\",\"value\":\"nan\"},{\"type\":\"number\",\"value\":\"nan\"},{\"type\":\"number\",\"value\":\"nan\"}],\"shape\":[41],\"dtype\":\"object\",\"order\":\"little\"}]]}}},\"view\":{\"type\":\"object\",\"name\":\"CDSView\",\"id\":\"p1223\",\"attributes\":{\"filter\":{\"type\":\"object\",\"name\":\"AllIndices\",\"id\":\"p1224\"}}},\"glyph\":{\"type\":\"object\",\"name\":\"Line\",\"id\":\"p1219\",\"attributes\":{\"x\":{\"type\":\"field\",\"field\":\"TIME\"},\"y\":{\"type\":\"field\",\"field\":\"Value\"},\"line_color\":\"#aec7e8\",\"line_width\":2}},\"nonselection_glyph\":{\"type\":\"object\",\"name\":\"Line\",\"id\":\"p1220\",\"attributes\":{\"x\":{\"type\":\"field\",\"field\":\"TIME\"},\"y\":{\"type\":\"field\",\"field\":\"Value\"},\"line_color\":\"#aec7e8\",\"line_alpha\":0.1,\"line_width\":2}},\"muted_glyph\":{\"type\":\"object\",\"name\":\"Line\",\"id\":\"p1221\",\"attributes\":{\"x\":{\"type\":\"field\",\"field\":\"TIME\"},\"y\":{\"type\":\"field\",\"field\":\"Value\"},\"line_color\":\"#aec7e8\",\"line_alpha\":0.2,\"line_width\":2}}}},{\"type\":\"object\",\"name\":\"GlyphRenderer\",\"id\":\"p1235\",\"attributes\":{\"data_source\":{\"type\":\"object\",\"name\":\"ColumnDataSource\",\"id\":\"p1226\",\"attributes\":{\"selected\":{\"type\":\"object\",\"name\":\"Selection\",\"id\":\"p1227\",\"attributes\":{\"indices\":[],\"line_indices\":[]}},\"selection_policy\":{\"type\":\"object\",\"name\":\"UnionRenderers\",\"id\":\"p1228\"},\"data\":{\"type\":\"map\",\"entries\":[[\"index\",{\"type\":\"ndarray\",\"array\":{\"type\":\"bytes\",\"data\":\"oBcAAKEXAACiFwAAoxcAAKQXAAClFwAAphcAAKcXAACoFwAAqRcAAKoXAACrFwAArBcAAK0XAACuFwAArxcAALAXAACxFwAAshcAALMXAAC0FwAAtRcAALYXAAC3FwAAuBcAALkXAAC6FwAAuxcAALwXAAC9FwAAvhcAAL8XAADAFwAAwRcAAMIXAADDFwAAxBcAAMUXAADGFwAAxxcAAMgXAAA=\"},\"shape\":[41],\"dtype\":\"int32\",\"order\":\"little\"}],[\"LOCATION\",{\"type\":\"ndarray\",\"array\":[\"IND\",\"IND\",\"IND\",\"IND\",\"IND\",\"IND\",\"IND\",\"IND\",\"IND\",\"IND\",\"IND\",\"IND\",\"IND\",\"IND\",\"IND\",\"IND\",\"IND\",\"IND\",\"IND\",\"IND\",\"IND\",\"IND\",\"IND\",\"IND\",\"IND\",\"IND\",\"IND\",\"IND\",\"IND\",\"IND\",\"IND\",\"IND\",\"IND\",\"IND\",\"IND\",\"IND\",\"IND\",\"IND\",\"IND\",\"IND\",\"IND\"],\"shape\":[41],\"dtype\":\"object\",\"order\":\"little\"}],[\"INDICATOR\",{\"type\":\"ndarray\",\"array\":[\"FDIFLOW\",\"FDIFLOW\",\"FDIFLOW\",\"FDIFLOW\",\"FDIFLOW\",\"FDIFLOW\",\"FDIFLOW\",\"FDIFLOW\",\"FDIFLOW\",\"FDIFLOW\",\"FDIFLOW\",\"FDIFLOW\",\"FDIFLOW\",\"FDIFLOW\",\"FDIFLOW\",\"FDIFLOW\",\"FDIFLOW\",\"FDIFLOW\",\"FDIFLOW\",\"FDIFLOW\",\"FDIFLOW\",\"FDIFLOW\",\"FDIFLOW\",\"FDIFLOW\",\"FDIFLOW\",\"FDIFLOW\",\"FDIFLOW\",\"FDIFLOW\",\"FDIFLOW\",\"FDIFLOW\",\"FDIFLOW\",\"FDIFLOW\",\"FDIFLOW\",\"FDIFLOW\",\"FDIFLOW\",\"FDIFLOW\",\"FDIFLOW\",\"FDIFLOW\",\"FDIFLOW\",\"FDIFLOW\",\"FDIFLOW\"],\"shape\":[41],\"dtype\":\"object\",\"order\":\"little\"}],[\"SUBJECT\",{\"type\":\"ndarray\",\"array\":[\"INWARD\",\"INWARD\",\"INWARD\",\"INWARD\",\"INWARD\",\"INWARD\",\"INWARD\",\"INWARD\",\"INWARD\",\"INWARD\",\"INWARD\",\"INWARD\",\"INWARD\",\"INWARD\",\"INWARD\",\"INWARD\",\"INWARD\",\"INWARD\",\"INWARD\",\"INWARD\",\"INWARD\",\"INWARD\",\"INWARD\",\"INWARD\",\"INWARD\",\"INWARD\",\"INWARD\",\"INWARD\",\"INWARD\",\"INWARD\",\"INWARD\",\"INWARD\",\"INWARD\",\"INWARD\",\"INWARD\",\"INWARD\",\"INWARD\",\"INWARD\",\"INWARD\",\"INWARD\",\"INWARD\"],\"shape\":[41],\"dtype\":\"object\",\"order\":\"little\"}],[\"MEASURE\",{\"type\":\"ndarray\",\"array\":[\"MLN_USD\",\"MLN_USD\",\"MLN_USD\",\"MLN_USD\",\"MLN_USD\",\"MLN_USD\",\"MLN_USD\",\"MLN_USD\",\"MLN_USD\",\"MLN_USD\",\"MLN_USD\",\"MLN_USD\",\"MLN_USD\",\"MLN_USD\",\"MLN_USD\",\"MLN_USD\",\"MLN_USD\",\"MLN_USD\",\"MLN_USD\",\"MLN_USD\",\"MLN_USD\",\"MLN_USD\",\"MLN_USD\",\"MLN_USD\",\"MLN_USD\",\"MLN_USD\",\"MLN_USD\",\"MLN_USD\",\"MLN_USD\",\"MLN_USD\",\"MLN_USD\",\"MLN_USD\",\"MLN_USD\",\"MLN_USD\",\"MLN_USD\",\"MLN_USD\",\"MLN_USD\",\"MLN_USD\",\"MLN_USD\",\"MLN_USD\",\"MLN_USD\"],\"shape\":[41],\"dtype\":\"object\",\"order\":\"little\"}],[\"FREQUENCY\",{\"type\":\"ndarray\",\"array\":[\"Q\",\"Q\",\"Q\",\"Q\",\"Q\",\"Q\",\"Q\",\"Q\",\"Q\",\"Q\",\"Q\",\"Q\",\"Q\",\"Q\",\"Q\",\"Q\",\"Q\",\"Q\",\"Q\",\"Q\",\"Q\",\"Q\",\"Q\",\"Q\",\"Q\",\"Q\",\"Q\",\"Q\",\"Q\",\"Q\",\"Q\",\"Q\",\"Q\",\"Q\",\"Q\",\"Q\",\"Q\",\"Q\",\"Q\",\"Q\",\"Q\"],\"shape\":[41],\"dtype\":\"object\",\"order\":\"little\"}],[\"TIME\",{\"type\":\"ndarray\",\"array\":[\"2013-Q1\",\"2013-Q2\",\"2013-Q3\",\"2013-Q4\",\"2014-Q1\",\"2014-Q2\",\"2014-Q3\",\"2014-Q4\",\"2015-Q1\",\"2015-Q2\",\"2015-Q3\",\"2015-Q4\",\"2016-Q1\",\"2016-Q2\",\"2016-Q3\",\"2016-Q4\",\"2017-Q1\",\"2017-Q2\",\"2017-Q3\",\"2017-Q4\",\"2018-Q1\",\"2018-Q2\",\"2018-Q3\",\"2018-Q4\",\"2019-Q1\",\"2019-Q2\",\"2019-Q3\",\"2019-Q4\",\"2020-Q1\",\"2020-Q2\",\"2020-Q3\",\"2020-Q4\",\"2021-Q1\",\"2021-Q2\",\"2021-Q3\",\"2021-Q4\",\"2022-Q1\",\"2022-Q2\",\"2022-Q3\",\"2022-Q4\",\"2023-Q1\"],\"shape\":[41],\"dtype\":\"object\",\"order\":\"little\"}],[\"Value\",{\"type\":\"ndarray\",\"array\":{\"type\":\"bytes\",\"data\":\"MgVrnDUDvEDBqQ8kS0y5QHYaaanaC8FAcqd0sNKRtkDp1JXPpBrDQAySPq32MsBA/FQVGp49wUCUFFgAM/q9QBcrajCle8RAyO9t+jtcxkAUd7zJT92/QEAYeO41LstAw9hCkCs8xkBqTIi5XAe3QF+1MuGjT8tAvqQxWsvFyUCQhlPmVNrBQA034PML0sNAe6AVGPaxzEALKqp+aWG3QKETQgePzsBAXI/C9QijyUB7FK5HYZLDQAAAAADAPsRAKVyPwvUew0AAAAAAgMrQQAAAAACATMRAAAAAAIDYyUAAAAAAgKjNQAAAAAAAcqBAAAAAAIBx2kAAAAAAgIbTQAAAAAAAdrZAAAAAAEDV0EAAAAAAADLJQAAAAAAARMFAAAAAAEDZ0EAAAAAAgMzPQAAAAACAxsFAAAAAAACPvEAAAAAAgDPCQA==\"},\"shape\":[41],\"dtype\":\"float64\",\"order\":\"little\"}],[\"Flag Codes\",{\"type\":\"ndarray\",\"array\":[{\"type\":\"number\",\"value\":\"nan\"},{\"type\":\"number\",\"value\":\"nan\"},{\"type\":\"number\",\"value\":\"nan\"},{\"type\":\"number\",\"value\":\"nan\"},{\"type\":\"number\",\"value\":\"nan\"},{\"type\":\"number\",\"value\":\"nan\"},{\"type\":\"number\",\"value\":\"nan\"},{\"type\":\"number\",\"value\":\"nan\"},{\"type\":\"number\",\"value\":\"nan\"},{\"type\":\"number\",\"value\":\"nan\"},{\"type\":\"number\",\"value\":\"nan\"},{\"type\":\"number\",\"value\":\"nan\"},{\"type\":\"number\",\"value\":\"nan\"},{\"type\":\"number\",\"value\":\"nan\"},{\"type\":\"number\",\"value\":\"nan\"},{\"type\":\"number\",\"value\":\"nan\"},{\"type\":\"number\",\"value\":\"nan\"},{\"type\":\"number\",\"value\":\"nan\"},{\"type\":\"number\",\"value\":\"nan\"},{\"type\":\"number\",\"value\":\"nan\"},{\"type\":\"number\",\"value\":\"nan\"},{\"type\":\"number\",\"value\":\"nan\"},{\"type\":\"number\",\"value\":\"nan\"},{\"type\":\"number\",\"value\":\"nan\"},{\"type\":\"number\",\"value\":\"nan\"},{\"type\":\"number\",\"value\":\"nan\"},{\"type\":\"number\",\"value\":\"nan\"},{\"type\":\"number\",\"value\":\"nan\"},{\"type\":\"number\",\"value\":\"nan\"},{\"type\":\"number\",\"value\":\"nan\"},{\"type\":\"number\",\"value\":\"nan\"},{\"type\":\"number\",\"value\":\"nan\"},{\"type\":\"number\",\"value\":\"nan\"},{\"type\":\"number\",\"value\":\"nan\"},{\"type\":\"number\",\"value\":\"nan\"},{\"type\":\"number\",\"value\":\"nan\"},{\"type\":\"number\",\"value\":\"nan\"},{\"type\":\"number\",\"value\":\"nan\"},{\"type\":\"number\",\"value\":\"nan\"},{\"type\":\"number\",\"value\":\"nan\"},{\"type\":\"number\",\"value\":\"nan\"}],\"shape\":[41],\"dtype\":\"object\",\"order\":\"little\"}]]}}},\"view\":{\"type\":\"object\",\"name\":\"CDSView\",\"id\":\"p1236\",\"attributes\":{\"filter\":{\"type\":\"object\",\"name\":\"AllIndices\",\"id\":\"p1237\"}}},\"glyph\":{\"type\":\"object\",\"name\":\"Line\",\"id\":\"p1232\",\"attributes\":{\"x\":{\"type\":\"field\",\"field\":\"TIME\"},\"y\":{\"type\":\"field\",\"field\":\"Value\"},\"line_color\":\"#ff7f0e\",\"line_width\":2}},\"nonselection_glyph\":{\"type\":\"object\",\"name\":\"Line\",\"id\":\"p1233\",\"attributes\":{\"x\":{\"type\":\"field\",\"field\":\"TIME\"},\"y\":{\"type\":\"field\",\"field\":\"Value\"},\"line_color\":\"#ff7f0e\",\"line_alpha\":0.1,\"line_width\":2}},\"muted_glyph\":{\"type\":\"object\",\"name\":\"Line\",\"id\":\"p1234\",\"attributes\":{\"x\":{\"type\":\"field\",\"field\":\"TIME\"},\"y\":{\"type\":\"field\",\"field\":\"Value\"},\"line_color\":\"#ff7f0e\",\"line_alpha\":0.2,\"line_width\":2}}}}],\"toolbar\":{\"type\":\"object\",\"name\":\"Toolbar\",\"id\":\"p1178\",\"attributes\":{\"tools\":[{\"type\":\"object\",\"name\":\"PanTool\",\"id\":\"p1192\"},{\"type\":\"object\",\"name\":\"WheelZoomTool\",\"id\":\"p1193\"},{\"type\":\"object\",\"name\":\"BoxZoomTool\",\"id\":\"p1194\",\"attributes\":{\"overlay\":{\"type\":\"object\",\"name\":\"BoxAnnotation\",\"id\":\"p1195\",\"attributes\":{\"syncable\":false,\"level\":\"overlay\",\"visible\":false,\"left_units\":\"canvas\",\"right_units\":\"canvas\",\"bottom_units\":\"canvas\",\"top_units\":\"canvas\",\"line_color\":\"black\",\"line_alpha\":1.0,\"line_width\":2,\"line_dash\":[4,4],\"fill_color\":\"lightgrey\",\"fill_alpha\":0.5}}}},{\"type\":\"object\",\"name\":\"SaveTool\",\"id\":\"p1196\"},{\"type\":\"object\",\"name\":\"ResetTool\",\"id\":\"p1197\"},{\"type\":\"object\",\"name\":\"HelpTool\",\"id\":\"p1198\"}]}},\"left\":[{\"type\":\"object\",\"name\":\"LinearAxis\",\"id\":\"p1187\",\"attributes\":{\"ticker\":{\"type\":\"object\",\"name\":\"BasicTicker\",\"id\":\"p1188\",\"attributes\":{\"mantissas\":[1,2,5]}},\"formatter\":{\"type\":\"object\",\"name\":\"BasicTickFormatter\",\"id\":\"p1189\"},\"axis_label\":\"FDI Inflows\",\"major_label_policy\":{\"type\":\"object\",\"name\":\"AllLabels\",\"id\":\"p1190\"}}}],\"below\":[{\"type\":\"object\",\"name\":\"CategoricalAxis\",\"id\":\"p1182\",\"attributes\":{\"ticker\":{\"type\":\"object\",\"name\":\"CategoricalTicker\",\"id\":\"p1183\"},\"formatter\":{\"type\":\"object\",\"name\":\"CategoricalTickFormatter\",\"id\":\"p1184\"},\"axis_label\":\"Date\",\"major_label_orientation\":45,\"major_label_policy\":{\"type\":\"object\",\"name\":\"AllLabels\",\"id\":\"p1185\"}}}],\"center\":[{\"type\":\"object\",\"name\":\"Grid\",\"id\":\"p1186\",\"attributes\":{\"axis\":{\"id\":\"p1182\"}}},{\"type\":\"object\",\"name\":\"Grid\",\"id\":\"p1191\",\"attributes\":{\"dimension\":1,\"axis\":{\"id\":\"p1187\"}}},{\"type\":\"object\",\"name\":\"Legend\",\"id\":\"p1211\",\"attributes\":{\"location\":\"top_left\",\"title\":\"Countries\",\"click_policy\":\"mute\",\"items\":[{\"type\":\"object\",\"name\":\"LegendItem\",\"id\":\"p1212\",\"attributes\":{\"label\":{\"type\":\"value\",\"value\":\"Country: BRA\"},\"renderers\":[{\"id\":\"p1208\"}]}},{\"type\":\"object\",\"name\":\"LegendItem\",\"id\":\"p1225\",\"attributes\":{\"label\":{\"type\":\"value\",\"value\":\"Country: IDN\"},\"renderers\":[{\"id\":\"p1222\"}]}},{\"type\":\"object\",\"name\":\"LegendItem\",\"id\":\"p1238\",\"attributes\":{\"label\":{\"type\":\"value\",\"value\":\"Country: IND\"},\"renderers\":[{\"id\":\"p1235\"}]}}]}}]}}]}};\n",
       "  const render_items = [{\"docid\":\"e4be95ce-ef30-404e-bda1-73a39ffffbed\",\"roots\":{\"p1170\":\"a0a84fc2-3225-475d-ae6c-057fe5385c32\"},\"root_ids\":[\"p1170\"]}];\n",
       "  root.Bokeh.embed.embed_items_notebook(docs_json, render_items);\n",
       "  }\n",
       "  if (root.Bokeh !== undefined) {\n",
       "    embed_document(root);\n",
       "  } else {\n",
       "    let attempts = 0;\n",
       "    const timer = setInterval(function(root) {\n",
       "      if (root.Bokeh !== undefined) {\n",
       "        clearInterval(timer);\n",
       "        embed_document(root);\n",
       "      } else {\n",
       "        attempts++;\n",
       "        if (attempts > 100) {\n",
       "          clearInterval(timer);\n",
       "          console.log(\"Bokeh: ERROR: Unable to run BokehJS code because BokehJS library is missing\");\n",
       "        }\n",
       "      }\n",
       "    }, 10, root)\n",
       "  }\n",
       "})(window);"
      ],
      "application/vnd.bokehjs_exec.v0+json": ""
     },
     "metadata": {
      "application/vnd.bokehjs_exec.v0+json": {
       "id": "p1170"
      }
     },
     "output_type": "display_data"
    }
   ],
   "source": [
    "fdi_inflows=pd.read_csv('FDI_Inflows.csv')\n",
    "country_codes=['IND','IDN','BRA']\n",
    "\n",
    "fdi = fdi_inflows[fdi_inflows['LOCATION'].isin(country_codes)]\n",
    "fdi=fdi[fdi['SUBJECT']=='INWARD']\n",
    "\n",
    "fdi=fdi[fdi['MEASURE']=='MLN_USD']\n",
    "fdi=fdi.sort_values('TIME')\n",
    "# bop=bop[(df_rates_forecast['TIME']>'2016') &(bop['TIME']<'2024')]\n",
    "fdi = fdi[fdi['TIME'].str.contains('Q1|Q2|Q3|Q4')]\n",
    "\n",
    "rates_bop(fdi,'FDI Inflows',0)"
   ]
  },
  {
   "cell_type": "code",
   "execution_count": 8,
   "id": "99eefc38-305e-4215-95a0-216df26337b3",
   "metadata": {
    "tags": []
   },
   "outputs": [],
   "source": [
    "common_cols=['LOCATION','TIME']\n",
    "fdi_inflows=pd.read_csv('FDI_Inflows.csv')\n",
    "country_codes=['IND']\n",
    "\n",
    "fdi = fdi_inflows[fdi_inflows['LOCATION'].isin(country_codes)]\n",
    "fdi=fdi[fdi['SUBJECT']=='INWARD']\n",
    "\n",
    "fdi=fdi[fdi['MEASURE']=='MLN_USD']\n",
    "fdi=fdi.sort_values('TIME')\n",
    "# bop=bop[(df_rates_forecast['TIME']>'2016') &(bop['TIME']<'2024')]\n",
    "fdi = fdi[fdi['TIME'].str.contains('Q1|Q2|Q3|Q4')]"
   ]
  },
  {
   "cell_type": "code",
   "execution_count": 9,
   "id": "87decc53-2f53-444c-9bc0-984fdccd1255",
   "metadata": {
    "tags": []
   },
   "outputs": [],
   "source": [
    "bop_fdi=pd.merge(bop,fdi,on=common_cols,how='inner')\n",
    "bop_fdi['pct']=(bop_fdi.Value_y/bop_fdi.Value_x)\n"
   ]
  },
  {
   "cell_type": "code",
   "execution_count": 10,
   "id": "5c0bce49-bf7e-4106-b040-42199fcc1ed5",
   "metadata": {
    "tags": []
   },
   "outputs": [
    {
     "data": {
      "text/html": [
       "\n",
       "  <div id=\"c1d62282-6d82-425e-a575-f70cae5d8579\" data-root-id=\"p1245\" style=\"display: contents;\"></div>\n"
      ]
     },
     "metadata": {},
     "output_type": "display_data"
    },
    {
     "data": {
      "application/javascript": [
       "(function(root) {\n",
       "  function embed_document(root) {\n",
       "  const docs_json = {\"15f42920-8078-4cf5-a26f-d9a90f42896a\":{\"version\":\"3.2.1\",\"title\":\"Bokeh Application\",\"roots\":[{\"type\":\"object\",\"name\":\"Figure\",\"id\":\"p1245\",\"attributes\":{\"width\":1500,\"height\":700,\"x_range\":{\"type\":\"object\",\"name\":\"FactorRange\",\"id\":\"p1255\",\"attributes\":{\"factors\":[\"2013-Q1\",\"2013-Q2\",\"2013-Q3\",\"2013-Q4\",\"2014-Q1\",\"2014-Q2\",\"2014-Q3\",\"2014-Q4\",\"2015-Q1\",\"2015-Q2\",\"2015-Q3\",\"2015-Q4\",\"2016-Q1\",\"2016-Q2\",\"2016-Q3\",\"2016-Q4\",\"2017-Q1\",\"2017-Q2\",\"2017-Q3\",\"2017-Q4\",\"2018-Q1\",\"2018-Q2\",\"2018-Q3\",\"2018-Q4\",\"2019-Q1\",\"2019-Q2\",\"2019-Q3\",\"2019-Q4\",\"2020-Q1\",\"2020-Q2\",\"2020-Q3\",\"2020-Q4\",\"2021-Q1\",\"2021-Q2\",\"2021-Q3\",\"2021-Q4\",\"2022-Q1\",\"2022-Q2\",\"2022-Q3\",\"2022-Q4\",\"2023-Q1\"]}},\"y_range\":{\"type\":\"object\",\"name\":\"DataRange1d\",\"id\":\"p1247\"},\"x_scale\":{\"type\":\"object\",\"name\":\"CategoricalScale\",\"id\":\"p1256\"},\"y_scale\":{\"type\":\"object\",\"name\":\"LinearScale\",\"id\":\"p1257\"},\"title\":{\"type\":\"object\",\"name\":\"Title\",\"id\":\"p1248\",\"attributes\":{\"text\":\"India current account and FDI Inflows \"}},\"renderers\":[{\"type\":\"object\",\"name\":\"GlyphRenderer\",\"id\":\"p1284\",\"attributes\":{\"data_source\":{\"type\":\"object\",\"name\":\"ColumnDataSource\",\"id\":\"p1275\",\"attributes\":{\"selected\":{\"type\":\"object\",\"name\":\"Selection\",\"id\":\"p1276\",\"attributes\":{\"indices\":[],\"line_indices\":[]}},\"selection_policy\":{\"type\":\"object\",\"name\":\"UnionRenderers\",\"id\":\"p1277\"},\"data\":{\"type\":\"map\",\"entries\":[[\"index\",{\"type\":\"ndarray\",\"array\":{\"type\":\"bytes\",\"data\":\"AAAAAAEAAAACAAAAAwAAAAQAAAAFAAAABgAAAAcAAAAIAAAACQAAAAoAAAALAAAADAAAAA0AAAAOAAAADwAAABAAAAARAAAAEgAAABMAAAAUAAAAFQAAABYAAAAXAAAAGAAAABkAAAAaAAAAGwAAABwAAAAdAAAAHgAAAB8AAAAgAAAAIQAAACIAAAAjAAAAJAAAACUAAAAmAAAAJwAAACgAAAA=\"},\"shape\":[41],\"dtype\":\"int32\",\"order\":\"little\"}],[\"LOCATION\",{\"type\":\"ndarray\",\"array\":[\"IND\",\"IND\",\"IND\",\"IND\",\"IND\",\"IND\",\"IND\",\"IND\",\"IND\",\"IND\",\"IND\",\"IND\",\"IND\",\"IND\",\"IND\",\"IND\",\"IND\",\"IND\",\"IND\",\"IND\",\"IND\",\"IND\",\"IND\",\"IND\",\"IND\",\"IND\",\"IND\",\"IND\",\"IND\",\"IND\",\"IND\",\"IND\",\"IND\",\"IND\",\"IND\",\"IND\",\"IND\",\"IND\",\"IND\",\"IND\",\"IND\"],\"shape\":[41],\"dtype\":\"object\",\"order\":\"little\"}],[\"INDICATOR_x\",{\"type\":\"ndarray\",\"array\":[\"BOP\",\"BOP\",\"BOP\",\"BOP\",\"BOP\",\"BOP\",\"BOP\",\"BOP\",\"BOP\",\"BOP\",\"BOP\",\"BOP\",\"BOP\",\"BOP\",\"BOP\",\"BOP\",\"BOP\",\"BOP\",\"BOP\",\"BOP\",\"BOP\",\"BOP\",\"BOP\",\"BOP\",\"BOP\",\"BOP\",\"BOP\",\"BOP\",\"BOP\",\"BOP\",\"BOP\",\"BOP\",\"BOP\",\"BOP\",\"BOP\",\"BOP\",\"BOP\",\"BOP\",\"BOP\",\"BOP\",\"BOP\"],\"shape\":[41],\"dtype\":\"object\",\"order\":\"little\"}],[\"SUBJECT_x\",{\"type\":\"ndarray\",\"array\":[\"TOT\",\"TOT\",\"TOT\",\"TOT\",\"TOT\",\"TOT\",\"TOT\",\"TOT\",\"TOT\",\"TOT\",\"TOT\",\"TOT\",\"TOT\",\"TOT\",\"TOT\",\"TOT\",\"TOT\",\"TOT\",\"TOT\",\"TOT\",\"TOT\",\"TOT\",\"TOT\",\"TOT\",\"TOT\",\"TOT\",\"TOT\",\"TOT\",\"TOT\",\"TOT\",\"TOT\",\"TOT\",\"TOT\",\"TOT\",\"TOT\",\"TOT\",\"TOT\",\"TOT\",\"TOT\",\"TOT\",\"TOT\"],\"shape\":[41],\"dtype\":\"object\",\"order\":\"little\"}],[\"MEASURE_x\",{\"type\":\"ndarray\",\"array\":[\"MLN_USD\",\"MLN_USD\",\"MLN_USD\",\"MLN_USD\",\"MLN_USD\",\"MLN_USD\",\"MLN_USD\",\"MLN_USD\",\"MLN_USD\",\"MLN_USD\",\"MLN_USD\",\"MLN_USD\",\"MLN_USD\",\"MLN_USD\",\"MLN_USD\",\"MLN_USD\",\"MLN_USD\",\"MLN_USD\",\"MLN_USD\",\"MLN_USD\",\"MLN_USD\",\"MLN_USD\",\"MLN_USD\",\"MLN_USD\",\"MLN_USD\",\"MLN_USD\",\"MLN_USD\",\"MLN_USD\",\"MLN_USD\",\"MLN_USD\",\"MLN_USD\",\"MLN_USD\",\"MLN_USD\",\"MLN_USD\",\"MLN_USD\",\"MLN_USD\",\"MLN_USD\",\"MLN_USD\",\"MLN_USD\",\"MLN_USD\",\"MLN_USD\"],\"shape\":[41],\"dtype\":\"object\",\"order\":\"little\"}],[\"FREQUENCY_x\",{\"type\":\"ndarray\",\"array\":[\"Q\",\"Q\",\"Q\",\"Q\",\"Q\",\"Q\",\"Q\",\"Q\",\"Q\",\"Q\",\"Q\",\"Q\",\"Q\",\"Q\",\"Q\",\"Q\",\"Q\",\"Q\",\"Q\",\"Q\",\"Q\",\"Q\",\"Q\",\"Q\",\"Q\",\"Q\",\"Q\",\"Q\",\"Q\",\"Q\",\"Q\",\"Q\",\"Q\",\"Q\",\"Q\",\"Q\",\"Q\",\"Q\",\"Q\",\"Q\",\"Q\"],\"shape\":[41],\"dtype\":\"object\",\"order\":\"little\"}],[\"TIME\",{\"type\":\"ndarray\",\"array\":[\"2013-Q1\",\"2013-Q2\",\"2013-Q3\",\"2013-Q4\",\"2014-Q1\",\"2014-Q2\",\"2014-Q3\",\"2014-Q4\",\"2015-Q1\",\"2015-Q2\",\"2015-Q3\",\"2015-Q4\",\"2016-Q1\",\"2016-Q2\",\"2016-Q3\",\"2016-Q4\",\"2017-Q1\",\"2017-Q2\",\"2017-Q3\",\"2017-Q4\",\"2018-Q1\",\"2018-Q2\",\"2018-Q3\",\"2018-Q4\",\"2019-Q1\",\"2019-Q2\",\"2019-Q3\",\"2019-Q4\",\"2020-Q1\",\"2020-Q2\",\"2020-Q3\",\"2020-Q4\",\"2021-Q1\",\"2021-Q2\",\"2021-Q3\",\"2021-Q4\",\"2022-Q1\",\"2022-Q2\",\"2022-Q3\",\"2022-Q4\",\"2023-Q1\"],\"shape\":[41],\"dtype\":\"object\",\"order\":\"little\"}],[\"Value_x\",{\"type\":\"ndarray\",\"array\":{\"type\":\"bytes\",\"data\":\"7FG4HgXb1MCkcD0KR5bWwArXo3D9EKvAZDvfTw1AncD8qfHSDfSvwPhT46Ub1b/A7nw/NS5Aw8Coxks3aQG2wL6fGi9dMqrA/tR46QYMuMC6SQwC6z+/wLKd76emhbTAUI2XbpKDp8DD0ytlGVJmQCGwcmhRaaPASOF6FA5RucDFILByiC+4wArXo3DdlMvA001iEJgPt8AAAAAAoMfGwEjhehQO5dDAAAAAACDfzMApXI/CdebRwFK4HoWL+8zAdZMYBBZMwsD2KFyPwjrLwNEi2/ne+LjA3IDPDyMEK8CkcD0K9ymwwFyPwvWIRdNA16NwPargz0DUK2UZYhqLQOF6FK5HxcnAeekmMWhTuED0/dR46b++wKRwPQrXDtHACtejcH3+0sCamZmZ6eHSwB+F61GgheDAH4XrUZiNy8A9Ctej8IS6wA==\"},\"shape\":[41],\"dtype\":\"float64\",\"order\":\"little\"}],[\"Flag Codes_x\",{\"type\":\"ndarray\",\"array\":[{\"type\":\"number\",\"value\":\"nan\"},{\"type\":\"number\",\"value\":\"nan\"},{\"type\":\"number\",\"value\":\"nan\"},{\"type\":\"number\",\"value\":\"nan\"},{\"type\":\"number\",\"value\":\"nan\"},{\"type\":\"number\",\"value\":\"nan\"},{\"type\":\"number\",\"value\":\"nan\"},{\"type\":\"number\",\"value\":\"nan\"},{\"type\":\"number\",\"value\":\"nan\"},{\"type\":\"number\",\"value\":\"nan\"},{\"type\":\"number\",\"value\":\"nan\"},{\"type\":\"number\",\"value\":\"nan\"},{\"type\":\"number\",\"value\":\"nan\"},{\"type\":\"number\",\"value\":\"nan\"},{\"type\":\"number\",\"value\":\"nan\"},{\"type\":\"number\",\"value\":\"nan\"},{\"type\":\"number\",\"value\":\"nan\"},{\"type\":\"number\",\"value\":\"nan\"},{\"type\":\"number\",\"value\":\"nan\"},{\"type\":\"number\",\"value\":\"nan\"},{\"type\":\"number\",\"value\":\"nan\"},{\"type\":\"number\",\"value\":\"nan\"},{\"type\":\"number\",\"value\":\"nan\"},{\"type\":\"number\",\"value\":\"nan\"},{\"type\":\"number\",\"value\":\"nan\"},{\"type\":\"number\",\"value\":\"nan\"},{\"type\":\"number\",\"value\":\"nan\"},{\"type\":\"number\",\"value\":\"nan\"},{\"type\":\"number\",\"value\":\"nan\"},{\"type\":\"number\",\"value\":\"nan\"},{\"type\":\"number\",\"value\":\"nan\"},{\"type\":\"number\",\"value\":\"nan\"},{\"type\":\"number\",\"value\":\"nan\"},{\"type\":\"number\",\"value\":\"nan\"},{\"type\":\"number\",\"value\":\"nan\"},{\"type\":\"number\",\"value\":\"nan\"},{\"type\":\"number\",\"value\":\"nan\"},{\"type\":\"number\",\"value\":\"nan\"},{\"type\":\"number\",\"value\":\"nan\"},{\"type\":\"number\",\"value\":\"nan\"},{\"type\":\"number\",\"value\":\"nan\"}],\"shape\":[41],\"dtype\":\"object\",\"order\":\"little\"}],[\"INDICATOR_y\",{\"type\":\"ndarray\",\"array\":[\"FDIFLOW\",\"FDIFLOW\",\"FDIFLOW\",\"FDIFLOW\",\"FDIFLOW\",\"FDIFLOW\",\"FDIFLOW\",\"FDIFLOW\",\"FDIFLOW\",\"FDIFLOW\",\"FDIFLOW\",\"FDIFLOW\",\"FDIFLOW\",\"FDIFLOW\",\"FDIFLOW\",\"FDIFLOW\",\"FDIFLOW\",\"FDIFLOW\",\"FDIFLOW\",\"FDIFLOW\",\"FDIFLOW\",\"FDIFLOW\",\"FDIFLOW\",\"FDIFLOW\",\"FDIFLOW\",\"FDIFLOW\",\"FDIFLOW\",\"FDIFLOW\",\"FDIFLOW\",\"FDIFLOW\",\"FDIFLOW\",\"FDIFLOW\",\"FDIFLOW\",\"FDIFLOW\",\"FDIFLOW\",\"FDIFLOW\",\"FDIFLOW\",\"FDIFLOW\",\"FDIFLOW\",\"FDIFLOW\",\"FDIFLOW\"],\"shape\":[41],\"dtype\":\"object\",\"order\":\"little\"}],[\"SUBJECT_y\",{\"type\":\"ndarray\",\"array\":[\"INWARD\",\"INWARD\",\"INWARD\",\"INWARD\",\"INWARD\",\"INWARD\",\"INWARD\",\"INWARD\",\"INWARD\",\"INWARD\",\"INWARD\",\"INWARD\",\"INWARD\",\"INWARD\",\"INWARD\",\"INWARD\",\"INWARD\",\"INWARD\",\"INWARD\",\"INWARD\",\"INWARD\",\"INWARD\",\"INWARD\",\"INWARD\",\"INWARD\",\"INWARD\",\"INWARD\",\"INWARD\",\"INWARD\",\"INWARD\",\"INWARD\",\"INWARD\",\"INWARD\",\"INWARD\",\"INWARD\",\"INWARD\",\"INWARD\",\"INWARD\",\"INWARD\",\"INWARD\",\"INWARD\"],\"shape\":[41],\"dtype\":\"object\",\"order\":\"little\"}],[\"MEASURE_y\",{\"type\":\"ndarray\",\"array\":[\"MLN_USD\",\"MLN_USD\",\"MLN_USD\",\"MLN_USD\",\"MLN_USD\",\"MLN_USD\",\"MLN_USD\",\"MLN_USD\",\"MLN_USD\",\"MLN_USD\",\"MLN_USD\",\"MLN_USD\",\"MLN_USD\",\"MLN_USD\",\"MLN_USD\",\"MLN_USD\",\"MLN_USD\",\"MLN_USD\",\"MLN_USD\",\"MLN_USD\",\"MLN_USD\",\"MLN_USD\",\"MLN_USD\",\"MLN_USD\",\"MLN_USD\",\"MLN_USD\",\"MLN_USD\",\"MLN_USD\",\"MLN_USD\",\"MLN_USD\",\"MLN_USD\",\"MLN_USD\",\"MLN_USD\",\"MLN_USD\",\"MLN_USD\",\"MLN_USD\",\"MLN_USD\",\"MLN_USD\",\"MLN_USD\",\"MLN_USD\",\"MLN_USD\"],\"shape\":[41],\"dtype\":\"object\",\"order\":\"little\"}],[\"FREQUENCY_y\",{\"type\":\"ndarray\",\"array\":[\"Q\",\"Q\",\"Q\",\"Q\",\"Q\",\"Q\",\"Q\",\"Q\",\"Q\",\"Q\",\"Q\",\"Q\",\"Q\",\"Q\",\"Q\",\"Q\",\"Q\",\"Q\",\"Q\",\"Q\",\"Q\",\"Q\",\"Q\",\"Q\",\"Q\",\"Q\",\"Q\",\"Q\",\"Q\",\"Q\",\"Q\",\"Q\",\"Q\",\"Q\",\"Q\",\"Q\",\"Q\",\"Q\",\"Q\",\"Q\",\"Q\"],\"shape\":[41],\"dtype\":\"object\",\"order\":\"little\"}],[\"Value_y\",{\"type\":\"ndarray\",\"array\":{\"type\":\"bytes\",\"data\":\"MgVrnDUDvEDBqQ8kS0y5QHYaaanaC8FAcqd0sNKRtkDp1JXPpBrDQAySPq32MsBA/FQVGp49wUCUFFgAM/q9QBcrajCle8RAyO9t+jtcxkAUd7zJT92/QEAYeO41LstAw9hCkCs8xkBqTIi5XAe3QF+1MuGjT8tAvqQxWsvFyUCQhlPmVNrBQA034PML0sNAe6AVGPaxzEALKqp+aWG3QKETQgePzsBAXI/C9QijyUB7FK5HYZLDQAAAAADAPsRAKVyPwvUew0AAAAAAgMrQQAAAAACATMRAAAAAAIDYyUAAAAAAgKjNQAAAAAAAcqBAAAAAAIBx2kAAAAAAgIbTQAAAAAAAdrZAAAAAAEDV0EAAAAAAADLJQAAAAAAARMFAAAAAAEDZ0EAAAAAAgMzPQAAAAACAxsFAAAAAAACPvEAAAAAAgDPCQA==\"},\"shape\":[41],\"dtype\":\"float64\",\"order\":\"little\"}],[\"Flag Codes_y\",{\"type\":\"ndarray\",\"array\":[{\"type\":\"number\",\"value\":\"nan\"},{\"type\":\"number\",\"value\":\"nan\"},{\"type\":\"number\",\"value\":\"nan\"},{\"type\":\"number\",\"value\":\"nan\"},{\"type\":\"number\",\"value\":\"nan\"},{\"type\":\"number\",\"value\":\"nan\"},{\"type\":\"number\",\"value\":\"nan\"},{\"type\":\"number\",\"value\":\"nan\"},{\"type\":\"number\",\"value\":\"nan\"},{\"type\":\"number\",\"value\":\"nan\"},{\"type\":\"number\",\"value\":\"nan\"},{\"type\":\"number\",\"value\":\"nan\"},{\"type\":\"number\",\"value\":\"nan\"},{\"type\":\"number\",\"value\":\"nan\"},{\"type\":\"number\",\"value\":\"nan\"},{\"type\":\"number\",\"value\":\"nan\"},{\"type\":\"number\",\"value\":\"nan\"},{\"type\":\"number\",\"value\":\"nan\"},{\"type\":\"number\",\"value\":\"nan\"},{\"type\":\"number\",\"value\":\"nan\"},{\"type\":\"number\",\"value\":\"nan\"},{\"type\":\"number\",\"value\":\"nan\"},{\"type\":\"number\",\"value\":\"nan\"},{\"type\":\"number\",\"value\":\"nan\"},{\"type\":\"number\",\"value\":\"nan\"},{\"type\":\"number\",\"value\":\"nan\"},{\"type\":\"number\",\"value\":\"nan\"},{\"type\":\"number\",\"value\":\"nan\"},{\"type\":\"number\",\"value\":\"nan\"},{\"type\":\"number\",\"value\":\"nan\"},{\"type\":\"number\",\"value\":\"nan\"},{\"type\":\"number\",\"value\":\"nan\"},{\"type\":\"number\",\"value\":\"nan\"},{\"type\":\"number\",\"value\":\"nan\"},{\"type\":\"number\",\"value\":\"nan\"},{\"type\":\"number\",\"value\":\"nan\"},{\"type\":\"number\",\"value\":\"nan\"},{\"type\":\"number\",\"value\":\"nan\"},{\"type\":\"number\",\"value\":\"nan\"},{\"type\":\"number\",\"value\":\"nan\"},{\"type\":\"number\",\"value\":\"nan\"}],\"shape\":[41],\"dtype\":\"object\",\"order\":\"little\"}],[\"pct\",{\"type\":\"ndarray\",\"array\":{\"type\":\"bytes\",\"data\":\"e6YWa5991b8vRUgAn+vRv9PN1SNLJwTAt5nWRP6wCMDmlDI3ySEDwNUZaWvKSPC/I62jbaeo7L/3jX1+1sv1v43pfCdABQnAfx9ps2bB/b+g1GUdllDwv/IEp//0MAXAS28b13BCDsAMYwj+7oFAQJCtbEjqghbA19tjXsdJAMDlqBk2/p73v4TV09Tl/ua/HLUITrzoA8BRS4g7BGzgv5G6S+Vj1d+/llLhZC5q7L/FBfJJfn7hvwPz6JVUWua/QvCvGGa48L9UxLAEk7vzv9WMi/vvAvq/lWuLThadjsAsKAZAgFsNwJzycwSXTrs/BRJARn6L+j+mRKUfnw03QA8rWYbp49u/RwpSPbYkBkAvlwopRTj6v9Q+0ufcMeC/oWGPTK1i7L+f2eV90/Hqv7lAa4W8NtG/iZ/7aHmV4L/XNcPKePb1vw==\"},\"shape\":[41],\"dtype\":\"float64\",\"order\":\"little\"}]]}}},\"view\":{\"type\":\"object\",\"name\":\"CDSView\",\"id\":\"p1285\",\"attributes\":{\"filter\":{\"type\":\"object\",\"name\":\"AllIndices\",\"id\":\"p1286\"}}},\"glyph\":{\"type\":\"object\",\"name\":\"VBar\",\"id\":\"p1281\",\"attributes\":{\"x\":{\"type\":\"field\",\"field\":\"TIME\"},\"width\":{\"type\":\"value\",\"value\":0.5},\"top\":{\"type\":\"field\",\"field\":\"Value_x\"},\"line_color\":{\"type\":\"value\",\"value\":\"blue\"},\"fill_color\":{\"type\":\"value\",\"value\":\"blue\"},\"fill_alpha\":{\"type\":\"value\",\"value\":0.8},\"hatch_color\":{\"type\":\"value\",\"value\":\"blue\"}}},\"nonselection_glyph\":{\"type\":\"object\",\"name\":\"VBar\",\"id\":\"p1282\",\"attributes\":{\"x\":{\"type\":\"field\",\"field\":\"TIME\"},\"width\":{\"type\":\"value\",\"value\":0.5},\"top\":{\"type\":\"field\",\"field\":\"Value_x\"},\"line_color\":{\"type\":\"value\",\"value\":\"blue\"},\"line_alpha\":{\"type\":\"value\",\"value\":0.1},\"fill_color\":{\"type\":\"value\",\"value\":\"blue\"},\"fill_alpha\":{\"type\":\"value\",\"value\":0.1},\"hatch_color\":{\"type\":\"value\",\"value\":\"blue\"},\"hatch_alpha\":{\"type\":\"value\",\"value\":0.1}}},\"muted_glyph\":{\"type\":\"object\",\"name\":\"VBar\",\"id\":\"p1283\",\"attributes\":{\"x\":{\"type\":\"field\",\"field\":\"TIME\"},\"width\":{\"type\":\"value\",\"value\":0.5},\"top\":{\"type\":\"field\",\"field\":\"Value_x\"},\"line_color\":{\"type\":\"value\",\"value\":\"blue\"},\"line_alpha\":{\"type\":\"value\",\"value\":0.2},\"fill_color\":{\"type\":\"value\",\"value\":\"blue\"},\"fill_alpha\":{\"type\":\"value\",\"value\":0.2},\"hatch_color\":{\"type\":\"value\",\"value\":\"blue\"},\"hatch_alpha\":{\"type\":\"value\",\"value\":0.2}}}}},{\"type\":\"object\",\"name\":\"GlyphRenderer\",\"id\":\"p1298\",\"attributes\":{\"data_source\":{\"type\":\"object\",\"name\":\"ColumnDataSource\",\"id\":\"p1289\",\"attributes\":{\"selected\":{\"type\":\"object\",\"name\":\"Selection\",\"id\":\"p1290\",\"attributes\":{\"indices\":[],\"line_indices\":[]}},\"selection_policy\":{\"type\":\"object\",\"name\":\"UnionRenderers\",\"id\":\"p1291\"},\"data\":{\"type\":\"map\",\"entries\":[[\"index\",{\"type\":\"ndarray\",\"array\":{\"type\":\"bytes\",\"data\":\"AAAAAAEAAAACAAAAAwAAAAQAAAAFAAAABgAAAAcAAAAIAAAACQAAAAoAAAALAAAADAAAAA0AAAAOAAAADwAAABAAAAARAAAAEgAAABMAAAAUAAAAFQAAABYAAAAXAAAAGAAAABkAAAAaAAAAGwAAABwAAAAdAAAAHgAAAB8AAAAgAAAAIQAAACIAAAAjAAAAJAAAACUAAAAmAAAAJwAAACgAAAA=\"},\"shape\":[41],\"dtype\":\"int32\",\"order\":\"little\"}],[\"LOCATION\",{\"type\":\"ndarray\",\"array\":[\"IND\",\"IND\",\"IND\",\"IND\",\"IND\",\"IND\",\"IND\",\"IND\",\"IND\",\"IND\",\"IND\",\"IND\",\"IND\",\"IND\",\"IND\",\"IND\",\"IND\",\"IND\",\"IND\",\"IND\",\"IND\",\"IND\",\"IND\",\"IND\",\"IND\",\"IND\",\"IND\",\"IND\",\"IND\",\"IND\",\"IND\",\"IND\",\"IND\",\"IND\",\"IND\",\"IND\",\"IND\",\"IND\",\"IND\",\"IND\",\"IND\"],\"shape\":[41],\"dtype\":\"object\",\"order\":\"little\"}],[\"INDICATOR_x\",{\"type\":\"ndarray\",\"array\":[\"BOP\",\"BOP\",\"BOP\",\"BOP\",\"BOP\",\"BOP\",\"BOP\",\"BOP\",\"BOP\",\"BOP\",\"BOP\",\"BOP\",\"BOP\",\"BOP\",\"BOP\",\"BOP\",\"BOP\",\"BOP\",\"BOP\",\"BOP\",\"BOP\",\"BOP\",\"BOP\",\"BOP\",\"BOP\",\"BOP\",\"BOP\",\"BOP\",\"BOP\",\"BOP\",\"BOP\",\"BOP\",\"BOP\",\"BOP\",\"BOP\",\"BOP\",\"BOP\",\"BOP\",\"BOP\",\"BOP\",\"BOP\"],\"shape\":[41],\"dtype\":\"object\",\"order\":\"little\"}],[\"SUBJECT_x\",{\"type\":\"ndarray\",\"array\":[\"TOT\",\"TOT\",\"TOT\",\"TOT\",\"TOT\",\"TOT\",\"TOT\",\"TOT\",\"TOT\",\"TOT\",\"TOT\",\"TOT\",\"TOT\",\"TOT\",\"TOT\",\"TOT\",\"TOT\",\"TOT\",\"TOT\",\"TOT\",\"TOT\",\"TOT\",\"TOT\",\"TOT\",\"TOT\",\"TOT\",\"TOT\",\"TOT\",\"TOT\",\"TOT\",\"TOT\",\"TOT\",\"TOT\",\"TOT\",\"TOT\",\"TOT\",\"TOT\",\"TOT\",\"TOT\",\"TOT\",\"TOT\"],\"shape\":[41],\"dtype\":\"object\",\"order\":\"little\"}],[\"MEASURE_x\",{\"type\":\"ndarray\",\"array\":[\"MLN_USD\",\"MLN_USD\",\"MLN_USD\",\"MLN_USD\",\"MLN_USD\",\"MLN_USD\",\"MLN_USD\",\"MLN_USD\",\"MLN_USD\",\"MLN_USD\",\"MLN_USD\",\"MLN_USD\",\"MLN_USD\",\"MLN_USD\",\"MLN_USD\",\"MLN_USD\",\"MLN_USD\",\"MLN_USD\",\"MLN_USD\",\"MLN_USD\",\"MLN_USD\",\"MLN_USD\",\"MLN_USD\",\"MLN_USD\",\"MLN_USD\",\"MLN_USD\",\"MLN_USD\",\"MLN_USD\",\"MLN_USD\",\"MLN_USD\",\"MLN_USD\",\"MLN_USD\",\"MLN_USD\",\"MLN_USD\",\"MLN_USD\",\"MLN_USD\",\"MLN_USD\",\"MLN_USD\",\"MLN_USD\",\"MLN_USD\",\"MLN_USD\"],\"shape\":[41],\"dtype\":\"object\",\"order\":\"little\"}],[\"FREQUENCY_x\",{\"type\":\"ndarray\",\"array\":[\"Q\",\"Q\",\"Q\",\"Q\",\"Q\",\"Q\",\"Q\",\"Q\",\"Q\",\"Q\",\"Q\",\"Q\",\"Q\",\"Q\",\"Q\",\"Q\",\"Q\",\"Q\",\"Q\",\"Q\",\"Q\",\"Q\",\"Q\",\"Q\",\"Q\",\"Q\",\"Q\",\"Q\",\"Q\",\"Q\",\"Q\",\"Q\",\"Q\",\"Q\",\"Q\",\"Q\",\"Q\",\"Q\",\"Q\",\"Q\",\"Q\"],\"shape\":[41],\"dtype\":\"object\",\"order\":\"little\"}],[\"TIME\",{\"type\":\"ndarray\",\"array\":[\"2013-Q1\",\"2013-Q2\",\"2013-Q3\",\"2013-Q4\",\"2014-Q1\",\"2014-Q2\",\"2014-Q3\",\"2014-Q4\",\"2015-Q1\",\"2015-Q2\",\"2015-Q3\",\"2015-Q4\",\"2016-Q1\",\"2016-Q2\",\"2016-Q3\",\"2016-Q4\",\"2017-Q1\",\"2017-Q2\",\"2017-Q3\",\"2017-Q4\",\"2018-Q1\",\"2018-Q2\",\"2018-Q3\",\"2018-Q4\",\"2019-Q1\",\"2019-Q2\",\"2019-Q3\",\"2019-Q4\",\"2020-Q1\",\"2020-Q2\",\"2020-Q3\",\"2020-Q4\",\"2021-Q1\",\"2021-Q2\",\"2021-Q3\",\"2021-Q4\",\"2022-Q1\",\"2022-Q2\",\"2022-Q3\",\"2022-Q4\",\"2023-Q1\"],\"shape\":[41],\"dtype\":\"object\",\"order\":\"little\"}],[\"Value_x\",{\"type\":\"ndarray\",\"array\":{\"type\":\"bytes\",\"data\":\"7FG4HgXb1MCkcD0KR5bWwArXo3D9EKvAZDvfTw1AncD8qfHSDfSvwPhT46Ub1b/A7nw/NS5Aw8Coxks3aQG2wL6fGi9dMqrA/tR46QYMuMC6SQwC6z+/wLKd76emhbTAUI2XbpKDp8DD0ytlGVJmQCGwcmhRaaPASOF6FA5RucDFILByiC+4wArXo3DdlMvA001iEJgPt8AAAAAAoMfGwEjhehQO5dDAAAAAACDfzMApXI/CdebRwFK4HoWL+8zAdZMYBBZMwsD2KFyPwjrLwNEi2/ne+LjA3IDPDyMEK8CkcD0K9ymwwFyPwvWIRdNA16NwPargz0DUK2UZYhqLQOF6FK5HxcnAeekmMWhTuED0/dR46b++wKRwPQrXDtHACtejcH3+0sCamZmZ6eHSwB+F61GgheDAH4XrUZiNy8A9Ctej8IS6wA==\"},\"shape\":[41],\"dtype\":\"float64\",\"order\":\"little\"}],[\"Flag Codes_x\",{\"type\":\"ndarray\",\"array\":[{\"type\":\"number\",\"value\":\"nan\"},{\"type\":\"number\",\"value\":\"nan\"},{\"type\":\"number\",\"value\":\"nan\"},{\"type\":\"number\",\"value\":\"nan\"},{\"type\":\"number\",\"value\":\"nan\"},{\"type\":\"number\",\"value\":\"nan\"},{\"type\":\"number\",\"value\":\"nan\"},{\"type\":\"number\",\"value\":\"nan\"},{\"type\":\"number\",\"value\":\"nan\"},{\"type\":\"number\",\"value\":\"nan\"},{\"type\":\"number\",\"value\":\"nan\"},{\"type\":\"number\",\"value\":\"nan\"},{\"type\":\"number\",\"value\":\"nan\"},{\"type\":\"number\",\"value\":\"nan\"},{\"type\":\"number\",\"value\":\"nan\"},{\"type\":\"number\",\"value\":\"nan\"},{\"type\":\"number\",\"value\":\"nan\"},{\"type\":\"number\",\"value\":\"nan\"},{\"type\":\"number\",\"value\":\"nan\"},{\"type\":\"number\",\"value\":\"nan\"},{\"type\":\"number\",\"value\":\"nan\"},{\"type\":\"number\",\"value\":\"nan\"},{\"type\":\"number\",\"value\":\"nan\"},{\"type\":\"number\",\"value\":\"nan\"},{\"type\":\"number\",\"value\":\"nan\"},{\"type\":\"number\",\"value\":\"nan\"},{\"type\":\"number\",\"value\":\"nan\"},{\"type\":\"number\",\"value\":\"nan\"},{\"type\":\"number\",\"value\":\"nan\"},{\"type\":\"number\",\"value\":\"nan\"},{\"type\":\"number\",\"value\":\"nan\"},{\"type\":\"number\",\"value\":\"nan\"},{\"type\":\"number\",\"value\":\"nan\"},{\"type\":\"number\",\"value\":\"nan\"},{\"type\":\"number\",\"value\":\"nan\"},{\"type\":\"number\",\"value\":\"nan\"},{\"type\":\"number\",\"value\":\"nan\"},{\"type\":\"number\",\"value\":\"nan\"},{\"type\":\"number\",\"value\":\"nan\"},{\"type\":\"number\",\"value\":\"nan\"},{\"type\":\"number\",\"value\":\"nan\"}],\"shape\":[41],\"dtype\":\"object\",\"order\":\"little\"}],[\"INDICATOR_y\",{\"type\":\"ndarray\",\"array\":[\"FDIFLOW\",\"FDIFLOW\",\"FDIFLOW\",\"FDIFLOW\",\"FDIFLOW\",\"FDIFLOW\",\"FDIFLOW\",\"FDIFLOW\",\"FDIFLOW\",\"FDIFLOW\",\"FDIFLOW\",\"FDIFLOW\",\"FDIFLOW\",\"FDIFLOW\",\"FDIFLOW\",\"FDIFLOW\",\"FDIFLOW\",\"FDIFLOW\",\"FDIFLOW\",\"FDIFLOW\",\"FDIFLOW\",\"FDIFLOW\",\"FDIFLOW\",\"FDIFLOW\",\"FDIFLOW\",\"FDIFLOW\",\"FDIFLOW\",\"FDIFLOW\",\"FDIFLOW\",\"FDIFLOW\",\"FDIFLOW\",\"FDIFLOW\",\"FDIFLOW\",\"FDIFLOW\",\"FDIFLOW\",\"FDIFLOW\",\"FDIFLOW\",\"FDIFLOW\",\"FDIFLOW\",\"FDIFLOW\",\"FDIFLOW\"],\"shape\":[41],\"dtype\":\"object\",\"order\":\"little\"}],[\"SUBJECT_y\",{\"type\":\"ndarray\",\"array\":[\"INWARD\",\"INWARD\",\"INWARD\",\"INWARD\",\"INWARD\",\"INWARD\",\"INWARD\",\"INWARD\",\"INWARD\",\"INWARD\",\"INWARD\",\"INWARD\",\"INWARD\",\"INWARD\",\"INWARD\",\"INWARD\",\"INWARD\",\"INWARD\",\"INWARD\",\"INWARD\",\"INWARD\",\"INWARD\",\"INWARD\",\"INWARD\",\"INWARD\",\"INWARD\",\"INWARD\",\"INWARD\",\"INWARD\",\"INWARD\",\"INWARD\",\"INWARD\",\"INWARD\",\"INWARD\",\"INWARD\",\"INWARD\",\"INWARD\",\"INWARD\",\"INWARD\",\"INWARD\",\"INWARD\"],\"shape\":[41],\"dtype\":\"object\",\"order\":\"little\"}],[\"MEASURE_y\",{\"type\":\"ndarray\",\"array\":[\"MLN_USD\",\"MLN_USD\",\"MLN_USD\",\"MLN_USD\",\"MLN_USD\",\"MLN_USD\",\"MLN_USD\",\"MLN_USD\",\"MLN_USD\",\"MLN_USD\",\"MLN_USD\",\"MLN_USD\",\"MLN_USD\",\"MLN_USD\",\"MLN_USD\",\"MLN_USD\",\"MLN_USD\",\"MLN_USD\",\"MLN_USD\",\"MLN_USD\",\"MLN_USD\",\"MLN_USD\",\"MLN_USD\",\"MLN_USD\",\"MLN_USD\",\"MLN_USD\",\"MLN_USD\",\"MLN_USD\",\"MLN_USD\",\"MLN_USD\",\"MLN_USD\",\"MLN_USD\",\"MLN_USD\",\"MLN_USD\",\"MLN_USD\",\"MLN_USD\",\"MLN_USD\",\"MLN_USD\",\"MLN_USD\",\"MLN_USD\",\"MLN_USD\"],\"shape\":[41],\"dtype\":\"object\",\"order\":\"little\"}],[\"FREQUENCY_y\",{\"type\":\"ndarray\",\"array\":[\"Q\",\"Q\",\"Q\",\"Q\",\"Q\",\"Q\",\"Q\",\"Q\",\"Q\",\"Q\",\"Q\",\"Q\",\"Q\",\"Q\",\"Q\",\"Q\",\"Q\",\"Q\",\"Q\",\"Q\",\"Q\",\"Q\",\"Q\",\"Q\",\"Q\",\"Q\",\"Q\",\"Q\",\"Q\",\"Q\",\"Q\",\"Q\",\"Q\",\"Q\",\"Q\",\"Q\",\"Q\",\"Q\",\"Q\",\"Q\",\"Q\"],\"shape\":[41],\"dtype\":\"object\",\"order\":\"little\"}],[\"Value_y\",{\"type\":\"ndarray\",\"array\":{\"type\":\"bytes\",\"data\":\"MgVrnDUDvEDBqQ8kS0y5QHYaaanaC8FAcqd0sNKRtkDp1JXPpBrDQAySPq32MsBA/FQVGp49wUCUFFgAM/q9QBcrajCle8RAyO9t+jtcxkAUd7zJT92/QEAYeO41LstAw9hCkCs8xkBqTIi5XAe3QF+1MuGjT8tAvqQxWsvFyUCQhlPmVNrBQA034PML0sNAe6AVGPaxzEALKqp+aWG3QKETQgePzsBAXI/C9QijyUB7FK5HYZLDQAAAAADAPsRAKVyPwvUew0AAAAAAgMrQQAAAAACATMRAAAAAAIDYyUAAAAAAgKjNQAAAAAAAcqBAAAAAAIBx2kAAAAAAgIbTQAAAAAAAdrZAAAAAAEDV0EAAAAAAADLJQAAAAAAARMFAAAAAAEDZ0EAAAAAAgMzPQAAAAACAxsFAAAAAAACPvEAAAAAAgDPCQA==\"},\"shape\":[41],\"dtype\":\"float64\",\"order\":\"little\"}],[\"Flag Codes_y\",{\"type\":\"ndarray\",\"array\":[{\"type\":\"number\",\"value\":\"nan\"},{\"type\":\"number\",\"value\":\"nan\"},{\"type\":\"number\",\"value\":\"nan\"},{\"type\":\"number\",\"value\":\"nan\"},{\"type\":\"number\",\"value\":\"nan\"},{\"type\":\"number\",\"value\":\"nan\"},{\"type\":\"number\",\"value\":\"nan\"},{\"type\":\"number\",\"value\":\"nan\"},{\"type\":\"number\",\"value\":\"nan\"},{\"type\":\"number\",\"value\":\"nan\"},{\"type\":\"number\",\"value\":\"nan\"},{\"type\":\"number\",\"value\":\"nan\"},{\"type\":\"number\",\"value\":\"nan\"},{\"type\":\"number\",\"value\":\"nan\"},{\"type\":\"number\",\"value\":\"nan\"},{\"type\":\"number\",\"value\":\"nan\"},{\"type\":\"number\",\"value\":\"nan\"},{\"type\":\"number\",\"value\":\"nan\"},{\"type\":\"number\",\"value\":\"nan\"},{\"type\":\"number\",\"value\":\"nan\"},{\"type\":\"number\",\"value\":\"nan\"},{\"type\":\"number\",\"value\":\"nan\"},{\"type\":\"number\",\"value\":\"nan\"},{\"type\":\"number\",\"value\":\"nan\"},{\"type\":\"number\",\"value\":\"nan\"},{\"type\":\"number\",\"value\":\"nan\"},{\"type\":\"number\",\"value\":\"nan\"},{\"type\":\"number\",\"value\":\"nan\"},{\"type\":\"number\",\"value\":\"nan\"},{\"type\":\"number\",\"value\":\"nan\"},{\"type\":\"number\",\"value\":\"nan\"},{\"type\":\"number\",\"value\":\"nan\"},{\"type\":\"number\",\"value\":\"nan\"},{\"type\":\"number\",\"value\":\"nan\"},{\"type\":\"number\",\"value\":\"nan\"},{\"type\":\"number\",\"value\":\"nan\"},{\"type\":\"number\",\"value\":\"nan\"},{\"type\":\"number\",\"value\":\"nan\"},{\"type\":\"number\",\"value\":\"nan\"},{\"type\":\"number\",\"value\":\"nan\"},{\"type\":\"number\",\"value\":\"nan\"}],\"shape\":[41],\"dtype\":\"object\",\"order\":\"little\"}],[\"pct\",{\"type\":\"ndarray\",\"array\":{\"type\":\"bytes\",\"data\":\"e6YWa5991b8vRUgAn+vRv9PN1SNLJwTAt5nWRP6wCMDmlDI3ySEDwNUZaWvKSPC/I62jbaeo7L/3jX1+1sv1v43pfCdABQnAfx9ps2bB/b+g1GUdllDwv/IEp//0MAXAS28b13BCDsAMYwj+7oFAQJCtbEjqghbA19tjXsdJAMDlqBk2/p73v4TV09Tl/ua/HLUITrzoA8BRS4g7BGzgv5G6S+Vj1d+/llLhZC5q7L/FBfJJfn7hvwPz6JVUWua/QvCvGGa48L9UxLAEk7vzv9WMi/vvAvq/lWuLThadjsAsKAZAgFsNwJzycwSXTrs/BRJARn6L+j+mRKUfnw03QA8rWYbp49u/RwpSPbYkBkAvlwopRTj6v9Q+0ufcMeC/oWGPTK1i7L+f2eV90/Hqv7lAa4W8NtG/iZ/7aHmV4L/XNcPKePb1vw==\"},\"shape\":[41],\"dtype\":\"float64\",\"order\":\"little\"}]]}}},\"view\":{\"type\":\"object\",\"name\":\"CDSView\",\"id\":\"p1299\",\"attributes\":{\"filter\":{\"type\":\"object\",\"name\":\"AllIndices\",\"id\":\"p1300\"}}},\"glyph\":{\"type\":\"object\",\"name\":\"Line\",\"id\":\"p1295\",\"attributes\":{\"x\":{\"type\":\"field\",\"field\":\"TIME\"},\"y\":{\"type\":\"field\",\"field\":\"Value_y\"},\"line_color\":\"green\",\"line_width\":2}},\"nonselection_glyph\":{\"type\":\"object\",\"name\":\"Line\",\"id\":\"p1296\",\"attributes\":{\"x\":{\"type\":\"field\",\"field\":\"TIME\"},\"y\":{\"type\":\"field\",\"field\":\"Value_y\"},\"line_color\":\"green\",\"line_alpha\":0.1,\"line_width\":2}},\"muted_glyph\":{\"type\":\"object\",\"name\":\"Line\",\"id\":\"p1297\",\"attributes\":{\"x\":{\"type\":\"field\",\"field\":\"TIME\"},\"y\":{\"type\":\"field\",\"field\":\"Value_y\"},\"line_color\":\"green\",\"line_alpha\":0.2,\"line_width\":2}}}}],\"toolbar\":{\"type\":\"object\",\"name\":\"Toolbar\",\"id\":\"p1254\",\"attributes\":{\"tools\":[{\"type\":\"object\",\"name\":\"PanTool\",\"id\":\"p1268\"},{\"type\":\"object\",\"name\":\"WheelZoomTool\",\"id\":\"p1269\"},{\"type\":\"object\",\"name\":\"BoxZoomTool\",\"id\":\"p1270\",\"attributes\":{\"overlay\":{\"type\":\"object\",\"name\":\"BoxAnnotation\",\"id\":\"p1271\",\"attributes\":{\"syncable\":false,\"level\":\"overlay\",\"visible\":false,\"left_units\":\"canvas\",\"right_units\":\"canvas\",\"bottom_units\":\"canvas\",\"top_units\":\"canvas\",\"line_color\":\"black\",\"line_alpha\":1.0,\"line_width\":2,\"line_dash\":[4,4],\"fill_color\":\"lightgrey\",\"fill_alpha\":0.5}}}},{\"type\":\"object\",\"name\":\"SaveTool\",\"id\":\"p1272\"},{\"type\":\"object\",\"name\":\"ResetTool\",\"id\":\"p1273\"},{\"type\":\"object\",\"name\":\"HelpTool\",\"id\":\"p1274\"}]}},\"left\":[{\"type\":\"object\",\"name\":\"LinearAxis\",\"id\":\"p1263\",\"attributes\":{\"ticker\":{\"type\":\"object\",\"name\":\"BasicTicker\",\"id\":\"p1264\",\"attributes\":{\"mantissas\":[1,2,5]}},\"formatter\":{\"type\":\"object\",\"name\":\"BasicTickFormatter\",\"id\":\"p1265\"},\"axis_label\":\"Curent Account & FDI (USD millions)\",\"major_label_policy\":{\"type\":\"object\",\"name\":\"AllLabels\",\"id\":\"p1266\"}}}],\"below\":[{\"type\":\"object\",\"name\":\"CategoricalAxis\",\"id\":\"p1258\",\"attributes\":{\"ticker\":{\"type\":\"object\",\"name\":\"CategoricalTicker\",\"id\":\"p1259\"},\"formatter\":{\"type\":\"object\",\"name\":\"CategoricalTickFormatter\",\"id\":\"p1260\"},\"axis_label\":\"Date\",\"major_label_orientation\":45,\"major_label_policy\":{\"type\":\"object\",\"name\":\"AllLabels\",\"id\":\"p1261\"}}}],\"center\":[{\"type\":\"object\",\"name\":\"Grid\",\"id\":\"p1262\",\"attributes\":{\"axis\":{\"id\":\"p1258\"}}},{\"type\":\"object\",\"name\":\"Grid\",\"id\":\"p1267\",\"attributes\":{\"dimension\":1,\"axis\":{\"id\":\"p1263\"}}},{\"type\":\"object\",\"name\":\"Legend\",\"id\":\"p1287\",\"attributes\":{\"location\":\"top_left\",\"click_policy\":\"mute\",\"items\":[{\"type\":\"object\",\"name\":\"LegendItem\",\"id\":\"p1288\",\"attributes\":{\"label\":{\"type\":\"value\",\"value\":\"Current Account\"},\"renderers\":[{\"id\":\"p1284\"}]}},{\"type\":\"object\",\"name\":\"LegendItem\",\"id\":\"p1301\",\"attributes\":{\"label\":{\"type\":\"value\",\"value\":\"FDI Inflows\"},\"renderers\":[{\"id\":\"p1298\"}]}}]}}]}}]}};\n",
       "  const render_items = [{\"docid\":\"15f42920-8078-4cf5-a26f-d9a90f42896a\",\"roots\":{\"p1245\":\"c1d62282-6d82-425e-a575-f70cae5d8579\"},\"root_ids\":[\"p1245\"]}];\n",
       "  root.Bokeh.embed.embed_items_notebook(docs_json, render_items);\n",
       "  }\n",
       "  if (root.Bokeh !== undefined) {\n",
       "    embed_document(root);\n",
       "  } else {\n",
       "    let attempts = 0;\n",
       "    const timer = setInterval(function(root) {\n",
       "      if (root.Bokeh !== undefined) {\n",
       "        clearInterval(timer);\n",
       "        embed_document(root);\n",
       "      } else {\n",
       "        attempts++;\n",
       "        if (attempts > 100) {\n",
       "          clearInterval(timer);\n",
       "          console.log(\"Bokeh: ERROR: Unable to run BokehJS code because BokehJS library is missing\");\n",
       "        }\n",
       "      }\n",
       "    }, 10, root)\n",
       "  }\n",
       "})(window);"
      ],
      "application/vnd.bokehjs_exec.v0+json": ""
     },
     "metadata": {
      "application/vnd.bokehjs_exec.v0+json": {
       "id": "p1245"
      }
     },
     "output_type": "display_data"
    }
   ],
   "source": [
    "rates_bop(bop_fdi,'Curent Account & FDI (USD millions)',1)"
   ]
  },
  {
   "cell_type": "code",
   "execution_count": 11,
   "id": "f3d44c64-2509-4b91-a5d5-66ebb1f55dba",
   "metadata": {
    "tags": []
   },
   "outputs": [
    {
     "data": {
      "text/html": [
       "\n",
       "  <div id=\"dcaf3160-6827-4de4-bcf5-6c6e1e6ede34\" data-root-id=\"p1310\" style=\"display: contents;\"></div>\n"
      ]
     },
     "metadata": {},
     "output_type": "display_data"
    },
    {
     "data": {
      "application/javascript": [
       "(function(root) {\n",
       "  function embed_document(root) {\n",
       "  const docs_json = {\"7f8004c3-3212-4a8d-bbff-80943c837f29\":{\"version\":\"3.2.1\",\"title\":\"Bokeh Application\",\"roots\":[{\"type\":\"object\",\"name\":\"Figure\",\"id\":\"p1310\",\"attributes\":{\"width\":1500,\"height\":700,\"x_range\":{\"type\":\"object\",\"name\":\"FactorRange\",\"id\":\"p1319\",\"attributes\":{\"factors\":[\"2020-Q1\",\"2020-Q2\",\"2020-Q3\",\"2020-Q4\",\"2021-Q1\",\"2021-Q2\",\"2021-Q3\",\"2021-Q4\",\"2022-Q1\",\"2022-Q2\",\"2022-Q3\",\"2022-Q4\",\"2023-Q1\"]}},\"y_range\":{\"type\":\"object\",\"name\":\"DataRange1d\",\"id\":\"p1312\"},\"x_scale\":{\"type\":\"object\",\"name\":\"CategoricalScale\",\"id\":\"p1320\"},\"y_scale\":{\"type\":\"object\",\"name\":\"LinearScale\",\"id\":\"p1321\"},\"title\":{\"type\":\"object\",\"name\":\"Title\",\"id\":\"p1317\"},\"renderers\":[{\"type\":\"object\",\"name\":\"GlyphRenderer\",\"id\":\"p1348\",\"attributes\":{\"data_source\":{\"type\":\"object\",\"name\":\"ColumnDataSource\",\"id\":\"p1339\",\"attributes\":{\"selected\":{\"type\":\"object\",\"name\":\"Selection\",\"id\":\"p1340\",\"attributes\":{\"indices\":[],\"line_indices\":[]}},\"selection_policy\":{\"type\":\"object\",\"name\":\"UnionRenderers\",\"id\":\"p1341\"},\"data\":{\"type\":\"map\",\"entries\":[[\"index\",{\"type\":\"ndarray\",\"array\":{\"type\":\"bytes\",\"data\":\"HAAAAB0AAAAeAAAAHwAAACAAAAAhAAAAIgAAACMAAAAkAAAAJQAAACYAAAAnAAAAKAAAAA==\"},\"shape\":[13],\"dtype\":\"int32\",\"order\":\"little\"}],[\"LOCATION\",{\"type\":\"ndarray\",\"array\":[\"IND\",\"IND\",\"IND\",\"IND\",\"IND\",\"IND\",\"IND\",\"IND\",\"IND\",\"IND\",\"IND\",\"IND\",\"IND\"],\"shape\":[13],\"dtype\":\"object\",\"order\":\"little\"}],[\"INDICATOR_x\",{\"type\":\"ndarray\",\"array\":[\"BOP\",\"BOP\",\"BOP\",\"BOP\",\"BOP\",\"BOP\",\"BOP\",\"BOP\",\"BOP\",\"BOP\",\"BOP\",\"BOP\",\"BOP\"],\"shape\":[13],\"dtype\":\"object\",\"order\":\"little\"}],[\"SUBJECT_x\",{\"type\":\"ndarray\",\"array\":[\"TOT\",\"TOT\",\"TOT\",\"TOT\",\"TOT\",\"TOT\",\"TOT\",\"TOT\",\"TOT\",\"TOT\",\"TOT\",\"TOT\",\"TOT\"],\"shape\":[13],\"dtype\":\"object\",\"order\":\"little\"}],[\"MEASURE_x\",{\"type\":\"ndarray\",\"array\":[\"MLN_USD\",\"MLN_USD\",\"MLN_USD\",\"MLN_USD\",\"MLN_USD\",\"MLN_USD\",\"MLN_USD\",\"MLN_USD\",\"MLN_USD\",\"MLN_USD\",\"MLN_USD\",\"MLN_USD\",\"MLN_USD\"],\"shape\":[13],\"dtype\":\"object\",\"order\":\"little\"}],[\"FREQUENCY_x\",{\"type\":\"ndarray\",\"array\":[\"Q\",\"Q\",\"Q\",\"Q\",\"Q\",\"Q\",\"Q\",\"Q\",\"Q\",\"Q\",\"Q\",\"Q\",\"Q\"],\"shape\":[13],\"dtype\":\"object\",\"order\":\"little\"}],[\"TIME\",{\"type\":\"ndarray\",\"array\":[\"2020-Q1\",\"2020-Q2\",\"2020-Q3\",\"2020-Q4\",\"2021-Q1\",\"2021-Q2\",\"2021-Q3\",\"2021-Q4\",\"2022-Q1\",\"2022-Q2\",\"2022-Q3\",\"2022-Q4\",\"2023-Q1\"],\"shape\":[13],\"dtype\":\"object\",\"order\":\"little\"}],[\"Value_x\",{\"type\":\"ndarray\",\"array\":{\"type\":\"bytes\",\"data\":\"pHA9CvcpsMBcj8L1iEXTQNejcD2q4M9A1CtlGWIai0DhehSuR8XJwHnpJjFoU7hA9P3UeOm/vsCkcD0K1w7RwArXo3B9/tLAmpmZmenh0sAfhetRoIXgwB+F61GYjcvAPQrXo/CEusA=\"},\"shape\":[13],\"dtype\":\"float64\",\"order\":\"little\"}],[\"Flag Codes_x\",{\"type\":\"ndarray\",\"array\":[{\"type\":\"number\",\"value\":\"nan\"},{\"type\":\"number\",\"value\":\"nan\"},{\"type\":\"number\",\"value\":\"nan\"},{\"type\":\"number\",\"value\":\"nan\"},{\"type\":\"number\",\"value\":\"nan\"},{\"type\":\"number\",\"value\":\"nan\"},{\"type\":\"number\",\"value\":\"nan\"},{\"type\":\"number\",\"value\":\"nan\"},{\"type\":\"number\",\"value\":\"nan\"},{\"type\":\"number\",\"value\":\"nan\"},{\"type\":\"number\",\"value\":\"nan\"},{\"type\":\"number\",\"value\":\"nan\"},{\"type\":\"number\",\"value\":\"nan\"}],\"shape\":[13],\"dtype\":\"object\",\"order\":\"little\"}],[\"INDICATOR_y\",{\"type\":\"ndarray\",\"array\":[\"FDIFLOW\",\"FDIFLOW\",\"FDIFLOW\",\"FDIFLOW\",\"FDIFLOW\",\"FDIFLOW\",\"FDIFLOW\",\"FDIFLOW\",\"FDIFLOW\",\"FDIFLOW\",\"FDIFLOW\",\"FDIFLOW\",\"FDIFLOW\"],\"shape\":[13],\"dtype\":\"object\",\"order\":\"little\"}],[\"SUBJECT_y\",{\"type\":\"ndarray\",\"array\":[\"INWARD\",\"INWARD\",\"INWARD\",\"INWARD\",\"INWARD\",\"INWARD\",\"INWARD\",\"INWARD\",\"INWARD\",\"INWARD\",\"INWARD\",\"INWARD\",\"INWARD\"],\"shape\":[13],\"dtype\":\"object\",\"order\":\"little\"}],[\"MEASURE_y\",{\"type\":\"ndarray\",\"array\":[\"MLN_USD\",\"MLN_USD\",\"MLN_USD\",\"MLN_USD\",\"MLN_USD\",\"MLN_USD\",\"MLN_USD\",\"MLN_USD\",\"MLN_USD\",\"MLN_USD\",\"MLN_USD\",\"MLN_USD\",\"MLN_USD\"],\"shape\":[13],\"dtype\":\"object\",\"order\":\"little\"}],[\"FREQUENCY_y\",{\"type\":\"ndarray\",\"array\":[\"Q\",\"Q\",\"Q\",\"Q\",\"Q\",\"Q\",\"Q\",\"Q\",\"Q\",\"Q\",\"Q\",\"Q\",\"Q\"],\"shape\":[13],\"dtype\":\"object\",\"order\":\"little\"}],[\"Value_y\",{\"type\":\"ndarray\",\"array\":{\"type\":\"bytes\",\"data\":\"AAAAAICozUAAAAAAAHKgQAAAAACAcdpAAAAAAICG00AAAAAAAHa2QAAAAABA1dBAAAAAAAAyyUAAAAAAAETBQAAAAABA2dBAAAAAAIDMz0AAAAAAgMbBQAAAAAAAj7xAAAAAAIAzwkA=\"},\"shape\":[13],\"dtype\":\"float64\",\"order\":\"little\"}],[\"Flag Codes_y\",{\"type\":\"ndarray\",\"array\":[{\"type\":\"number\",\"value\":\"nan\"},{\"type\":\"number\",\"value\":\"nan\"},{\"type\":\"number\",\"value\":\"nan\"},{\"type\":\"number\",\"value\":\"nan\"},{\"type\":\"number\",\"value\":\"nan\"},{\"type\":\"number\",\"value\":\"nan\"},{\"type\":\"number\",\"value\":\"nan\"},{\"type\":\"number\",\"value\":\"nan\"},{\"type\":\"number\",\"value\":\"nan\"},{\"type\":\"number\",\"value\":\"nan\"},{\"type\":\"number\",\"value\":\"nan\"},{\"type\":\"number\",\"value\":\"nan\"},{\"type\":\"number\",\"value\":\"nan\"}],\"shape\":[13],\"dtype\":\"object\",\"order\":\"little\"}],[\"pct\",{\"type\":\"ndarray\",\"array\":{\"type\":\"bytes\",\"data\":\"LCgGQIBbDcCc8nMEl067PwUSQEZ+i/o/pkSlH58NN0APK1mG6ePbv0cKUj22JAZAL5cKKUU4+r/UPtLn3DHgv6Fhj0ytYuy/n9nlfdPx6r+5QGuFvDbRv4mf+2h5leC/1zXDynj29b8=\"},\"shape\":[13],\"dtype\":\"float64\",\"order\":\"little\"}]]}}},\"view\":{\"type\":\"object\",\"name\":\"CDSView\",\"id\":\"p1349\",\"attributes\":{\"filter\":{\"type\":\"object\",\"name\":\"AllIndices\",\"id\":\"p1350\"}}},\"glyph\":{\"type\":\"object\",\"name\":\"Line\",\"id\":\"p1345\",\"attributes\":{\"x\":{\"type\":\"field\",\"field\":\"TIME\"},\"y\":{\"type\":\"field\",\"field\":\"pct\"},\"line_color\":\"green\",\"line_width\":2}},\"nonselection_glyph\":{\"type\":\"object\",\"name\":\"Line\",\"id\":\"p1346\",\"attributes\":{\"x\":{\"type\":\"field\",\"field\":\"TIME\"},\"y\":{\"type\":\"field\",\"field\":\"pct\"},\"line_color\":\"green\",\"line_alpha\":0.1,\"line_width\":2}},\"muted_glyph\":{\"type\":\"object\",\"name\":\"Line\",\"id\":\"p1347\",\"attributes\":{\"x\":{\"type\":\"field\",\"field\":\"TIME\"},\"y\":{\"type\":\"field\",\"field\":\"pct\"},\"line_color\":\"green\",\"line_alpha\":0.2,\"line_width\":2}}}}],\"toolbar\":{\"type\":\"object\",\"name\":\"Toolbar\",\"id\":\"p1318\",\"attributes\":{\"tools\":[{\"type\":\"object\",\"name\":\"PanTool\",\"id\":\"p1332\"},{\"type\":\"object\",\"name\":\"WheelZoomTool\",\"id\":\"p1333\"},{\"type\":\"object\",\"name\":\"BoxZoomTool\",\"id\":\"p1334\",\"attributes\":{\"overlay\":{\"type\":\"object\",\"name\":\"BoxAnnotation\",\"id\":\"p1335\",\"attributes\":{\"syncable\":false,\"level\":\"overlay\",\"visible\":false,\"left_units\":\"canvas\",\"right_units\":\"canvas\",\"bottom_units\":\"canvas\",\"top_units\":\"canvas\",\"line_color\":\"black\",\"line_alpha\":1.0,\"line_width\":2,\"line_dash\":[4,4],\"fill_color\":\"lightgrey\",\"fill_alpha\":0.5}}}},{\"type\":\"object\",\"name\":\"SaveTool\",\"id\":\"p1336\"},{\"type\":\"object\",\"name\":\"ResetTool\",\"id\":\"p1337\"},{\"type\":\"object\",\"name\":\"HelpTool\",\"id\":\"p1338\"}]}},\"left\":[{\"type\":\"object\",\"name\":\"LinearAxis\",\"id\":\"p1327\",\"attributes\":{\"ticker\":{\"type\":\"object\",\"name\":\"BasicTicker\",\"id\":\"p1328\",\"attributes\":{\"mantissas\":[1,2,5]}},\"formatter\":{\"type\":\"object\",\"name\":\"BasicTickFormatter\",\"id\":\"p1329\"},\"axis_label\":\"FDI as a % of Curent Account\",\"major_label_policy\":{\"type\":\"object\",\"name\":\"AllLabels\",\"id\":\"p1330\"}}}],\"below\":[{\"type\":\"object\",\"name\":\"CategoricalAxis\",\"id\":\"p1322\",\"attributes\":{\"ticker\":{\"type\":\"object\",\"name\":\"CategoricalTicker\",\"id\":\"p1323\"},\"formatter\":{\"type\":\"object\",\"name\":\"CategoricalTickFormatter\",\"id\":\"p1324\"},\"axis_label\":\"Date\",\"major_label_orientation\":45,\"major_label_policy\":{\"type\":\"object\",\"name\":\"AllLabels\",\"id\":\"p1325\"}}}],\"center\":[{\"type\":\"object\",\"name\":\"Grid\",\"id\":\"p1326\",\"attributes\":{\"axis\":{\"id\":\"p1322\"}}},{\"type\":\"object\",\"name\":\"Grid\",\"id\":\"p1331\",\"attributes\":{\"dimension\":1,\"axis\":{\"id\":\"p1327\"}}},{\"type\":\"object\",\"name\":\"Legend\",\"id\":\"p1351\",\"attributes\":{\"location\":\"top_left\",\"click_policy\":\"mute\",\"items\":[{\"type\":\"object\",\"name\":\"LegendItem\",\"id\":\"p1352\",\"attributes\":{\"label\":{\"type\":\"value\",\"value\":\"FDI as a % of Curent Account\"},\"renderers\":[{\"id\":\"p1348\"}]}}]}}]}}]}};\n",
       "  const render_items = [{\"docid\":\"7f8004c3-3212-4a8d-bbff-80943c837f29\",\"roots\":{\"p1310\":\"dcaf3160-6827-4de4-bcf5-6c6e1e6ede34\"},\"root_ids\":[\"p1310\"]}];\n",
       "  root.Bokeh.embed.embed_items_notebook(docs_json, render_items);\n",
       "  }\n",
       "  if (root.Bokeh !== undefined) {\n",
       "    embed_document(root);\n",
       "  } else {\n",
       "    let attempts = 0;\n",
       "    const timer = setInterval(function(root) {\n",
       "      if (root.Bokeh !== undefined) {\n",
       "        clearInterval(timer);\n",
       "        embed_document(root);\n",
       "      } else {\n",
       "        attempts++;\n",
       "        if (attempts > 100) {\n",
       "          clearInterval(timer);\n",
       "          console.log(\"Bokeh: ERROR: Unable to run BokehJS code because BokehJS library is missing\");\n",
       "        }\n",
       "      }\n",
       "    }, 10, root)\n",
       "  }\n",
       "})(window);"
      ],
      "application/vnd.bokehjs_exec.v0+json": ""
     },
     "metadata": {
      "application/vnd.bokehjs_exec.v0+json": {
       "id": "p1310"
      }
     },
     "output_type": "display_data"
    }
   ],
   "source": [
    "df=bop_fdi\n",
    "df=df[(df['TIME']>'2020')]\n",
    "\n",
    "p = figure(width=1500, height=700, x_range=df['TIME'].unique(), x_axis_label='Date', y_axis_label='FDI as a % of Curent Account')\n",
    "locations = df['LOCATION'].unique()\n",
    "\n",
    "for i, location in enumerate(locations):\n",
    "        location_data = df[df['LOCATION'] == location]\n",
    "p.line(x='TIME', y='pct', source=ColumnDataSource(location_data), legend_label='FDI as a % of Curent Account', line_width=2,line_color='green', muted_alpha=0.2)\n",
    "p.xaxis.major_label_orientation = 45\n",
    "p.legend.click_policy = \"mute\" \n",
    "p.legend.location = \"top_left\"\n",
    "show(p)\n"
   ]
  },
  {
   "cell_type": "code",
   "execution_count": 12,
   "id": "035c383f-e342-4a26-9ae9-4c1978c5656e",
   "metadata": {},
   "outputs": [
    {
     "data": {
      "text/html": [
       "<div>\n",
       "<style scoped>\n",
       "    .dataframe tbody tr th:only-of-type {\n",
       "        vertical-align: middle;\n",
       "    }\n",
       "\n",
       "    .dataframe tbody tr th {\n",
       "        vertical-align: top;\n",
       "    }\n",
       "\n",
       "    .dataframe thead th {\n",
       "        text-align: right;\n",
       "    }\n",
       "</style>\n",
       "<table border=\"1\" class=\"dataframe\">\n",
       "  <thead>\n",
       "    <tr style=\"text-align: right;\">\n",
       "      <th></th>\n",
       "      <th>LOCATION</th>\n",
       "      <th>INDICATOR</th>\n",
       "      <th>SUBJECT</th>\n",
       "      <th>MEASURE</th>\n",
       "      <th>FREQUENCY</th>\n",
       "      <th>TIME</th>\n",
       "      <th>Value</th>\n",
       "      <th>Flag Codes</th>\n",
       "    </tr>\n",
       "  </thead>\n",
       "  <tbody>\n",
       "    <tr>\n",
       "      <th>5520</th>\n",
       "      <td>POL</td>\n",
       "      <td>LTINTFORECAST</td>\n",
       "      <td>TOT</td>\n",
       "      <td>PC_PA</td>\n",
       "      <td>Q</td>\n",
       "      <td>2016-Q1</td>\n",
       "      <td>2.972281</td>\n",
       "      <td>NaN</td>\n",
       "    </tr>\n",
       "    <tr>\n",
       "      <th>8018</th>\n",
       "      <td>ZAF</td>\n",
       "      <td>LTINTFORECAST</td>\n",
       "      <td>TOT</td>\n",
       "      <td>PC_PA</td>\n",
       "      <td>Q</td>\n",
       "      <td>2016-Q1</td>\n",
       "      <td>9.373135</td>\n",
       "      <td>NaN</td>\n",
       "    </tr>\n",
       "    <tr>\n",
       "      <th>2665</th>\n",
       "      <td>CZE</td>\n",
       "      <td>LTINTFORECAST</td>\n",
       "      <td>TOT</td>\n",
       "      <td>PC_PA</td>\n",
       "      <td>Q</td>\n",
       "      <td>2016-Q1</td>\n",
       "      <td>0.476667</td>\n",
       "      <td>NaN</td>\n",
       "    </tr>\n",
       "    <tr>\n",
       "      <th>4685</th>\n",
       "      <td>MEX</td>\n",
       "      <td>LTINTFORECAST</td>\n",
       "      <td>TOT</td>\n",
       "      <td>PC_PA</td>\n",
       "      <td>Q</td>\n",
       "      <td>2016-Q1</td>\n",
       "      <td>6.110000</td>\n",
       "      <td>NaN</td>\n",
       "    </tr>\n",
       "    <tr>\n",
       "      <th>7329</th>\n",
       "      <td>IND</td>\n",
       "      <td>LTINTFORECAST</td>\n",
       "      <td>TOT</td>\n",
       "      <td>PC_PA</td>\n",
       "      <td>Q</td>\n",
       "      <td>2016-Q1</td>\n",
       "      <td>7.519900</td>\n",
       "      <td>NaN</td>\n",
       "    </tr>\n",
       "  </tbody>\n",
       "</table>\n",
       "</div>"
      ],
      "text/plain": [
       "     LOCATION      INDICATOR SUBJECT MEASURE FREQUENCY     TIME     Value  \\\n",
       "5520      POL  LTINTFORECAST     TOT   PC_PA         Q  2016-Q1  2.972281   \n",
       "8018      ZAF  LTINTFORECAST     TOT   PC_PA         Q  2016-Q1  9.373135   \n",
       "2665      CZE  LTINTFORECAST     TOT   PC_PA         Q  2016-Q1  0.476667   \n",
       "4685      MEX  LTINTFORECAST     TOT   PC_PA         Q  2016-Q1  6.110000   \n",
       "7329      IND  LTINTFORECAST     TOT   PC_PA         Q  2016-Q1  7.519900   \n",
       "\n",
       "      Flag Codes  \n",
       "5520         NaN  \n",
       "8018         NaN  \n",
       "2665         NaN  \n",
       "4685         NaN  \n",
       "7329         NaN  "
      ]
     },
     "execution_count": 12,
     "metadata": {},
     "output_type": "execute_result"
    }
   ],
   "source": [
    "# https://data.oecd.org/interest/long-term-interest-rates-forecast.htm#indicator-chart\n",
    "\n",
    "df_rates_forecast=pd.read_csv('Long-term-interest-rates-forecast.csv')\n",
    "country_codes=['HUN', 'CZE', 'MEX', 'POL', 'ZAF', 'IND', 'IDN', 'BRA', 'CHN']\n",
    "\n",
    "df_rates_forecast = df_rates_forecast[df_rates_forecast['LOCATION'].isin(country_codes)]\n",
    "df_rates_forecast=df_rates_forecast.sort_values('TIME')\n",
    "df_rates_forecast=df_rates_forecast[(df_rates_forecast['TIME']>'2016') &(df_rates_forecast['TIME']<'2024')]\n",
    "# df_rates_forecast = df_rates_forecast[df_rates_forecast['TIME'].str.contains('Q1|Q4')]\n",
    "df_rates_forecast.head()"
   ]
  },
  {
   "cell_type": "code",
   "execution_count": 13,
   "id": "0cb2969f-dc23-42ec-ab0f-31dabd848488",
   "metadata": {},
   "outputs": [
    {
     "data": {
      "text/html": [
       "\n",
       "  <div id=\"b30aea7c-f786-4868-a223-14eb96bbf5d1\" data-root-id=\"p1357\" style=\"display: contents;\"></div>\n"
      ]
     },
     "metadata": {},
     "output_type": "display_data"
    },
    {
     "data": {
      "application/javascript": [
       "(function(root) {\n",
       "  function embed_document(root) {\n",
       "  const docs_json = {\"bfba497d-c1d0-430d-9b89-7f6e71c5804a\":{\"version\":\"3.2.1\",\"title\":\"Bokeh Application\",\"roots\":[{\"type\":\"object\",\"name\":\"Figure\",\"id\":\"p1357\",\"attributes\":{\"width\":1500,\"height\":700,\"x_range\":{\"type\":\"object\",\"name\":\"FactorRange\",\"id\":\"p1366\",\"attributes\":{\"factors\":[\"2016-Q1\",\"2016-Q2\",\"2016-Q3\",\"2016-Q4\",\"2017\",\"2017-Q1\",\"2017-Q2\",\"2017-Q3\",\"2017-Q4\",\"2018\",\"2018-Q1\",\"2018-Q2\",\"2018-Q3\",\"2018-Q4\",\"2019\",\"2019-Q1\",\"2019-Q2\",\"2019-Q3\",\"2019-Q4\",\"2020\",\"2020-Q1\",\"2020-Q2\",\"2020-Q3\",\"2020-Q4\",\"2021\",\"2021-Q1\",\"2021-Q2\",\"2021-Q3\",\"2021-Q4\",\"2022\",\"2022-Q1\",\"2022-Q2\",\"2022-Q3\",\"2022-Q4\",\"2023\",\"2023-Q1\",\"2023-Q2\",\"2023-Q3\",\"2023-Q4\"]}},\"y_range\":{\"type\":\"object\",\"name\":\"DataRange1d\",\"id\":\"p1359\"},\"x_scale\":{\"type\":\"object\",\"name\":\"CategoricalScale\",\"id\":\"p1367\"},\"y_scale\":{\"type\":\"object\",\"name\":\"LinearScale\",\"id\":\"p1368\"},\"title\":{\"type\":\"object\",\"name\":\"Title\",\"id\":\"p1364\"},\"renderers\":[{\"type\":\"object\",\"name\":\"GlyphRenderer\",\"id\":\"p1395\",\"attributes\":{\"data_source\":{\"type\":\"object\",\"name\":\"ColumnDataSource\",\"id\":\"p1386\",\"attributes\":{\"selected\":{\"type\":\"object\",\"name\":\"Selection\",\"id\":\"p1387\",\"attributes\":{\"indices\":[],\"line_indices\":[]}},\"selection_policy\":{\"type\":\"object\",\"name\":\"UnionRenderers\",\"id\":\"p1388\"},\"data\":{\"type\":\"map\",\"entries\":[[\"index\",{\"type\":\"ndarray\",\"array\":{\"type\":\"bytes\",\"data\":\"kBUAAJEVAACSFQAAkxUAABIEAACUFQAAlRUAAJYVAACXFQAAEwQAAJgVAACZFQAAmhUAAJsVAAAUBAAAnBUAAJ0VAACeFQAAnxUAABUEAACgFQAAoRUAAKIVAACjFQAAFgQAAKQVAAClFQAAphUAAKcVAAAXBAAAqBUAAKkVAACqFQAAqxUAABgEAACsFQAArRUAAK4VAACvFQAA\"},\"shape\":[39],\"dtype\":\"int32\",\"order\":\"little\"}],[\"LOCATION\",{\"type\":\"ndarray\",\"array\":[\"POL\",\"POL\",\"POL\",\"POL\",\"POL\",\"POL\",\"POL\",\"POL\",\"POL\",\"POL\",\"POL\",\"POL\",\"POL\",\"POL\",\"POL\",\"POL\",\"POL\",\"POL\",\"POL\",\"POL\",\"POL\",\"POL\",\"POL\",\"POL\",\"POL\",\"POL\",\"POL\",\"POL\",\"POL\",\"POL\",\"POL\",\"POL\",\"POL\",\"POL\",\"POL\",\"POL\",\"POL\",\"POL\",\"POL\"],\"shape\":[39],\"dtype\":\"object\",\"order\":\"little\"}],[\"INDICATOR\",{\"type\":\"ndarray\",\"array\":[\"LTINTFORECAST\",\"LTINTFORECAST\",\"LTINTFORECAST\",\"LTINTFORECAST\",\"LTINTFORECAST\",\"LTINTFORECAST\",\"LTINTFORECAST\",\"LTINTFORECAST\",\"LTINTFORECAST\",\"LTINTFORECAST\",\"LTINTFORECAST\",\"LTINTFORECAST\",\"LTINTFORECAST\",\"LTINTFORECAST\",\"LTINTFORECAST\",\"LTINTFORECAST\",\"LTINTFORECAST\",\"LTINTFORECAST\",\"LTINTFORECAST\",\"LTINTFORECAST\",\"LTINTFORECAST\",\"LTINTFORECAST\",\"LTINTFORECAST\",\"LTINTFORECAST\",\"LTINTFORECAST\",\"LTINTFORECAST\",\"LTINTFORECAST\",\"LTINTFORECAST\",\"LTINTFORECAST\",\"LTINTFORECAST\",\"LTINTFORECAST\",\"LTINTFORECAST\",\"LTINTFORECAST\",\"LTINTFORECAST\",\"LTINTFORECAST\",\"LTINTFORECAST\",\"LTINTFORECAST\",\"LTINTFORECAST\",\"LTINTFORECAST\"],\"shape\":[39],\"dtype\":\"object\",\"order\":\"little\"}],[\"SUBJECT\",{\"type\":\"ndarray\",\"array\":[\"TOT\",\"TOT\",\"TOT\",\"TOT\",\"TOT\",\"TOT\",\"TOT\",\"TOT\",\"TOT\",\"TOT\",\"TOT\",\"TOT\",\"TOT\",\"TOT\",\"TOT\",\"TOT\",\"TOT\",\"TOT\",\"TOT\",\"TOT\",\"TOT\",\"TOT\",\"TOT\",\"TOT\",\"TOT\",\"TOT\",\"TOT\",\"TOT\",\"TOT\",\"TOT\",\"TOT\",\"TOT\",\"TOT\",\"TOT\",\"TOT\",\"TOT\",\"TOT\",\"TOT\",\"TOT\"],\"shape\":[39],\"dtype\":\"object\",\"order\":\"little\"}],[\"MEASURE\",{\"type\":\"ndarray\",\"array\":[\"PC_PA\",\"PC_PA\",\"PC_PA\",\"PC_PA\",\"PC_PA\",\"PC_PA\",\"PC_PA\",\"PC_PA\",\"PC_PA\",\"PC_PA\",\"PC_PA\",\"PC_PA\",\"PC_PA\",\"PC_PA\",\"PC_PA\",\"PC_PA\",\"PC_PA\",\"PC_PA\",\"PC_PA\",\"PC_PA\",\"PC_PA\",\"PC_PA\",\"PC_PA\",\"PC_PA\",\"PC_PA\",\"PC_PA\",\"PC_PA\",\"PC_PA\",\"PC_PA\",\"PC_PA\",\"PC_PA\",\"PC_PA\",\"PC_PA\",\"PC_PA\",\"PC_PA\",\"PC_PA\",\"PC_PA\",\"PC_PA\",\"PC_PA\"],\"shape\":[39],\"dtype\":\"object\",\"order\":\"little\"}],[\"FREQUENCY\",{\"type\":\"ndarray\",\"array\":[\"Q\",\"Q\",\"Q\",\"Q\",\"A\",\"Q\",\"Q\",\"Q\",\"Q\",\"A\",\"Q\",\"Q\",\"Q\",\"Q\",\"A\",\"Q\",\"Q\",\"Q\",\"Q\",\"A\",\"Q\",\"Q\",\"Q\",\"Q\",\"A\",\"Q\",\"Q\",\"Q\",\"Q\",\"A\",\"Q\",\"Q\",\"Q\",\"Q\",\"A\",\"Q\",\"Q\",\"Q\",\"Q\"],\"shape\":[39],\"dtype\":\"object\",\"order\":\"little\"}],[\"TIME\",{\"type\":\"ndarray\",\"array\":[\"2016-Q1\",\"2016-Q2\",\"2016-Q3\",\"2016-Q4\",\"2017\",\"2017-Q1\",\"2017-Q2\",\"2017-Q3\",\"2017-Q4\",\"2018\",\"2018-Q1\",\"2018-Q2\",\"2018-Q3\",\"2018-Q4\",\"2019\",\"2019-Q1\",\"2019-Q2\",\"2019-Q3\",\"2019-Q4\",\"2020\",\"2020-Q1\",\"2020-Q2\",\"2020-Q3\",\"2020-Q4\",\"2021\",\"2021-Q1\",\"2021-Q2\",\"2021-Q3\",\"2021-Q4\",\"2022\",\"2022-Q1\",\"2022-Q2\",\"2022-Q3\",\"2022-Q4\",\"2023\",\"2023-Q1\",\"2023-Q2\",\"2023-Q3\",\"2023-Q4\"],\"shape\":[39],\"dtype\":\"object\",\"order\":\"little\"}],[\"Value\",{\"type\":\"ndarray\",\"array\":{\"type\":\"bytes\",\"data\":\"soXBGjvHB0DSQK6WN0YIQDpEWd+OhwZAj8L1KFyPCkBcj8L1KFwLQMO7u7u7uw1Aj8L1KFyPCkBnLPnFkl8KQM2SXyz5xQpApfxiyS+WCUClNtBpA50KQF1VVVVVVQlAcHd3d3d3CUD27u7u7u4IQEjhehSuxwJA7FG4HoXrBUDhehSuR+EEQD7QaQOdNgBAFOi0gU4bAEAMY8kvlvz3P1K4HoXrUQBA6sWSXyz59T9GVVVVVVX1PwAAAAAAAPQ/Kui0gU4b/z9xPQrXo3D1P4Z3d3d3d/s/CUt+seQX+z8+0GkDnTYIQDPQaQOdNhhACtejcD0KEUBSuB6F61EaQJqZmZmZmRhA4RdLfrHkHEBSVVVVVdUXQHDaQKcNdBhAAAAAAAAAGECkcD0K16MXQD0K16NwPRdA\"},\"shape\":[39],\"dtype\":\"float64\",\"order\":\"little\"}],[\"Flag Codes\",{\"type\":\"ndarray\",\"array\":{\"type\":\"bytes\",\"data\":\"AAAAAAAA+H8AAAAAAAD4fwAAAAAAAPh/AAAAAAAA+H8AAAAAAAD4fwAAAAAAAPh/AAAAAAAA+H8AAAAAAAD4fwAAAAAAAPh/AAAAAAAA+H8AAAAAAAD4fwAAAAAAAPh/AAAAAAAA+H8AAAAAAAD4fwAAAAAAAPh/AAAAAAAA+H8AAAAAAAD4fwAAAAAAAPh/AAAAAAAA+H8AAAAAAAD4fwAAAAAAAPh/AAAAAAAA+H8AAAAAAAD4fwAAAAAAAPh/AAAAAAAA+H8AAAAAAAD4fwAAAAAAAPh/AAAAAAAA+H8AAAAAAAD4fwAAAAAAAPh/AAAAAAAA+H8AAAAAAAD4fwAAAAAAAPh/AAAAAAAA+H8AAAAAAAD4fwAAAAAAAPh/AAAAAAAA+H8AAAAAAAD4fwAAAAAAAPh/\"},\"shape\":[39],\"dtype\":\"float64\",\"order\":\"little\"}]]}}},\"view\":{\"type\":\"object\",\"name\":\"CDSView\",\"id\":\"p1396\",\"attributes\":{\"filter\":{\"type\":\"object\",\"name\":\"AllIndices\",\"id\":\"p1397\"}}},\"glyph\":{\"type\":\"object\",\"name\":\"Line\",\"id\":\"p1392\",\"attributes\":{\"x\":{\"type\":\"field\",\"field\":\"TIME\"},\"y\":{\"type\":\"field\",\"field\":\"Value\"},\"line_color\":\"#1f77b4\",\"line_width\":2}},\"nonselection_glyph\":{\"type\":\"object\",\"name\":\"Line\",\"id\":\"p1393\",\"attributes\":{\"x\":{\"type\":\"field\",\"field\":\"TIME\"},\"y\":{\"type\":\"field\",\"field\":\"Value\"},\"line_color\":\"#1f77b4\",\"line_alpha\":0.1,\"line_width\":2}},\"muted_glyph\":{\"type\":\"object\",\"name\":\"Line\",\"id\":\"p1394\",\"attributes\":{\"x\":{\"type\":\"field\",\"field\":\"TIME\"},\"y\":{\"type\":\"field\",\"field\":\"Value\"},\"line_color\":\"#1f77b4\",\"line_alpha\":0.2,\"line_width\":2}}}},{\"type\":\"object\",\"name\":\"GlyphRenderer\",\"id\":\"p1409\",\"attributes\":{\"data_source\":{\"type\":\"object\",\"name\":\"ColumnDataSource\",\"id\":\"p1400\",\"attributes\":{\"selected\":{\"type\":\"object\",\"name\":\"Selection\",\"id\":\"p1401\",\"attributes\":{\"indices\":[],\"line_indices\":[]}},\"selection_policy\":{\"type\":\"object\",\"name\":\"UnionRenderers\",\"id\":\"p1402\"},\"data\":{\"type\":\"map\",\"entries\":[[\"index\",{\"type\":\"ndarray\",\"array\":{\"type\":\"bytes\",\"data\":\"Uh8AAFMfAABUHwAAVR8AAGoeAABWHwAAVx8AAFgfAABZHwAAax4AAFofAABbHwAAXB8AAF0fAABsHgAAXh8AAF8fAABgHwAAYR8AAG0eAABiHwAAYx8AAGQfAABlHwAAbh4AAGYfAABnHwAAaB8AAGkfAABvHgAAah8AAGsfAABsHwAAbR8AAHAeAABuHwAAbx8AAHAfAABxHwAA\"},\"shape\":[39],\"dtype\":\"int32\",\"order\":\"little\"}],[\"LOCATION\",{\"type\":\"ndarray\",\"array\":[\"ZAF\",\"ZAF\",\"ZAF\",\"ZAF\",\"ZAF\",\"ZAF\",\"ZAF\",\"ZAF\",\"ZAF\",\"ZAF\",\"ZAF\",\"ZAF\",\"ZAF\",\"ZAF\",\"ZAF\",\"ZAF\",\"ZAF\",\"ZAF\",\"ZAF\",\"ZAF\",\"ZAF\",\"ZAF\",\"ZAF\",\"ZAF\",\"ZAF\",\"ZAF\",\"ZAF\",\"ZAF\",\"ZAF\",\"ZAF\",\"ZAF\",\"ZAF\",\"ZAF\",\"ZAF\",\"ZAF\",\"ZAF\",\"ZAF\",\"ZAF\",\"ZAF\"],\"shape\":[39],\"dtype\":\"object\",\"order\":\"little\"}],[\"INDICATOR\",{\"type\":\"ndarray\",\"array\":[\"LTINTFORECAST\",\"LTINTFORECAST\",\"LTINTFORECAST\",\"LTINTFORECAST\",\"LTINTFORECAST\",\"LTINTFORECAST\",\"LTINTFORECAST\",\"LTINTFORECAST\",\"LTINTFORECAST\",\"LTINTFORECAST\",\"LTINTFORECAST\",\"LTINTFORECAST\",\"LTINTFORECAST\",\"LTINTFORECAST\",\"LTINTFORECAST\",\"LTINTFORECAST\",\"LTINTFORECAST\",\"LTINTFORECAST\",\"LTINTFORECAST\",\"LTINTFORECAST\",\"LTINTFORECAST\",\"LTINTFORECAST\",\"LTINTFORECAST\",\"LTINTFORECAST\",\"LTINTFORECAST\",\"LTINTFORECAST\",\"LTINTFORECAST\",\"LTINTFORECAST\",\"LTINTFORECAST\",\"LTINTFORECAST\",\"LTINTFORECAST\",\"LTINTFORECAST\",\"LTINTFORECAST\",\"LTINTFORECAST\",\"LTINTFORECAST\",\"LTINTFORECAST\",\"LTINTFORECAST\",\"LTINTFORECAST\",\"LTINTFORECAST\"],\"shape\":[39],\"dtype\":\"object\",\"order\":\"little\"}],[\"SUBJECT\",{\"type\":\"ndarray\",\"array\":[\"TOT\",\"TOT\",\"TOT\",\"TOT\",\"TOT\",\"TOT\",\"TOT\",\"TOT\",\"TOT\",\"TOT\",\"TOT\",\"TOT\",\"TOT\",\"TOT\",\"TOT\",\"TOT\",\"TOT\",\"TOT\",\"TOT\",\"TOT\",\"TOT\",\"TOT\",\"TOT\",\"TOT\",\"TOT\",\"TOT\",\"TOT\",\"TOT\",\"TOT\",\"TOT\",\"TOT\",\"TOT\",\"TOT\",\"TOT\",\"TOT\",\"TOT\",\"TOT\",\"TOT\",\"TOT\"],\"shape\":[39],\"dtype\":\"object\",\"order\":\"little\"}],[\"MEASURE\",{\"type\":\"ndarray\",\"array\":[\"PC_PA\",\"PC_PA\",\"PC_PA\",\"PC_PA\",\"PC_PA\",\"PC_PA\",\"PC_PA\",\"PC_PA\",\"PC_PA\",\"PC_PA\",\"PC_PA\",\"PC_PA\",\"PC_PA\",\"PC_PA\",\"PC_PA\",\"PC_PA\",\"PC_PA\",\"PC_PA\",\"PC_PA\",\"PC_PA\",\"PC_PA\",\"PC_PA\",\"PC_PA\",\"PC_PA\",\"PC_PA\",\"PC_PA\",\"PC_PA\",\"PC_PA\",\"PC_PA\",\"PC_PA\",\"PC_PA\",\"PC_PA\",\"PC_PA\",\"PC_PA\",\"PC_PA\",\"PC_PA\",\"PC_PA\",\"PC_PA\",\"PC_PA\"],\"shape\":[39],\"dtype\":\"object\",\"order\":\"little\"}],[\"FREQUENCY\",{\"type\":\"ndarray\",\"array\":[\"Q\",\"Q\",\"Q\",\"Q\",\"A\",\"Q\",\"Q\",\"Q\",\"Q\",\"A\",\"Q\",\"Q\",\"Q\",\"Q\",\"A\",\"Q\",\"Q\",\"Q\",\"Q\",\"A\",\"Q\",\"Q\",\"Q\",\"Q\",\"A\",\"Q\",\"Q\",\"Q\",\"Q\",\"A\",\"Q\",\"Q\",\"Q\",\"Q\",\"A\",\"Q\",\"Q\",\"Q\",\"Q\"],\"shape\":[39],\"dtype\":\"object\",\"order\":\"little\"}],[\"TIME\",{\"type\":\"ndarray\",\"array\":[\"2016-Q1\",\"2016-Q2\",\"2016-Q3\",\"2016-Q4\",\"2017\",\"2017-Q1\",\"2017-Q2\",\"2017-Q3\",\"2017-Q4\",\"2018\",\"2018-Q1\",\"2018-Q2\",\"2018-Q3\",\"2018-Q4\",\"2019\",\"2019-Q1\",\"2019-Q2\",\"2019-Q3\",\"2019-Q4\",\"2020\",\"2020-Q1\",\"2020-Q2\",\"2020-Q3\",\"2020-Q4\",\"2021\",\"2021-Q1\",\"2021-Q2\",\"2021-Q3\",\"2021-Q4\",\"2022\",\"2022-Q1\",\"2022-Q2\",\"2022-Q3\",\"2022-Q4\",\"2023\",\"2023-Q1\",\"2023-Q2\",\"2023-Q3\",\"2023-Q4\"],\"shape\":[39],\"dtype\":\"object\",\"order\":\"little\"}],[\"Value\",{\"type\":\"ndarray\",\"array\":{\"type\":\"bytes\",\"data\":\"vT5Sigu/IkBZA3M6fkciQB9QNYi2WyFAuleHBT3AIUC1TAwcphsiQEF4znckbCFA+096ZS+rIUDPOEdcZ0EiQL0xoTbdFSNAmS+aslFBIkCyne+nxoshQI1DNMtovCFA3JBuym+ZIkBITNaMpyMjQEgNE4YoJSJAxE5HH6iHIkD0V8NbtyAiQE+FKwGdzSFAFwkWnKUeIkDriXUEgCUkQL5UhWraMyNAuGH+wdjXJEBmvfCI6HEkQIGzYVxkGCRAXXegyVeUI0Dogl9hK4kjQMBPf4belCNAVym/M9o1I0Bu4eMKe/0jQFbsFdoUeSVAeXyylPS3I0A1LJDPxekkQASNByXOZSZAW3sN38rcJkC48bXC4lUmQHWTpNdXJCZAZmZmZmZmJkBmZmZmZmYmQGZmZmZmZiZA\"},\"shape\":[39],\"dtype\":\"float64\",\"order\":\"little\"}],[\"Flag Codes\",{\"type\":\"ndarray\",\"array\":{\"type\":\"bytes\",\"data\":\"AAAAAAAA+H8AAAAAAAD4fwAAAAAAAPh/AAAAAAAA+H8AAAAAAAD4fwAAAAAAAPh/AAAAAAAA+H8AAAAAAAD4fwAAAAAAAPh/AAAAAAAA+H8AAAAAAAD4fwAAAAAAAPh/AAAAAAAA+H8AAAAAAAD4fwAAAAAAAPh/AAAAAAAA+H8AAAAAAAD4fwAAAAAAAPh/AAAAAAAA+H8AAAAAAAD4fwAAAAAAAPh/AAAAAAAA+H8AAAAAAAD4fwAAAAAAAPh/AAAAAAAA+H8AAAAAAAD4fwAAAAAAAPh/AAAAAAAA+H8AAAAAAAD4fwAAAAAAAPh/AAAAAAAA+H8AAAAAAAD4fwAAAAAAAPh/AAAAAAAA+H8AAAAAAAD4fwAAAAAAAPh/AAAAAAAA+H8AAAAAAAD4fwAAAAAAAPh/\"},\"shape\":[39],\"dtype\":\"float64\",\"order\":\"little\"}]]}}},\"view\":{\"type\":\"object\",\"name\":\"CDSView\",\"id\":\"p1410\",\"attributes\":{\"filter\":{\"type\":\"object\",\"name\":\"AllIndices\",\"id\":\"p1411\"}}},\"glyph\":{\"type\":\"object\",\"name\":\"Line\",\"id\":\"p1406\",\"attributes\":{\"x\":{\"type\":\"field\",\"field\":\"TIME\"},\"y\":{\"type\":\"field\",\"field\":\"Value\"},\"line_color\":\"#aec7e8\",\"line_width\":2}},\"nonselection_glyph\":{\"type\":\"object\",\"name\":\"Line\",\"id\":\"p1407\",\"attributes\":{\"x\":{\"type\":\"field\",\"field\":\"TIME\"},\"y\":{\"type\":\"field\",\"field\":\"Value\"},\"line_color\":\"#aec7e8\",\"line_alpha\":0.1,\"line_width\":2}},\"muted_glyph\":{\"type\":\"object\",\"name\":\"Line\",\"id\":\"p1408\",\"attributes\":{\"x\":{\"type\":\"field\",\"field\":\"TIME\"},\"y\":{\"type\":\"field\",\"field\":\"Value\"},\"line_color\":\"#aec7e8\",\"line_alpha\":0.2,\"line_width\":2}}}},{\"type\":\"object\",\"name\":\"GlyphRenderer\",\"id\":\"p1422\",\"attributes\":{\"data_source\":{\"type\":\"object\",\"name\":\"ColumnDataSource\",\"id\":\"p1413\",\"attributes\":{\"selected\":{\"type\":\"object\",\"name\":\"Selection\",\"id\":\"p1414\",\"attributes\":{\"indices\":[],\"line_indices\":[]}},\"selection_policy\":{\"type\":\"object\",\"name\":\"UnionRenderers\",\"id\":\"p1415\"},\"data\":{\"type\":\"map\",\"entries\":[[\"index\",{\"type\":\"ndarray\",\"array\":{\"type\":\"bytes\",\"data\":\"aQoAAGoKAABrCgAAbAoAAAYBAABtCgAAbgoAAG8KAABwCgAABwEAAHEKAAByCgAAcwoAAHQKAAAIAQAAdQoAAHYKAAB3CgAAeAoAAAkBAAB5CgAAegoAAHsKAAB8CgAACgEAAH0KAAB+CgAAfwoAAIAKAAALAQAAgQoAAIIKAACDCgAAhAoAAAwBAACFCgAAhgoAAIcKAACICgAA\"},\"shape\":[39],\"dtype\":\"int32\",\"order\":\"little\"}],[\"LOCATION\",{\"type\":\"ndarray\",\"array\":[\"CZE\",\"CZE\",\"CZE\",\"CZE\",\"CZE\",\"CZE\",\"CZE\",\"CZE\",\"CZE\",\"CZE\",\"CZE\",\"CZE\",\"CZE\",\"CZE\",\"CZE\",\"CZE\",\"CZE\",\"CZE\",\"CZE\",\"CZE\",\"CZE\",\"CZE\",\"CZE\",\"CZE\",\"CZE\",\"CZE\",\"CZE\",\"CZE\",\"CZE\",\"CZE\",\"CZE\",\"CZE\",\"CZE\",\"CZE\",\"CZE\",\"CZE\",\"CZE\",\"CZE\",\"CZE\"],\"shape\":[39],\"dtype\":\"object\",\"order\":\"little\"}],[\"INDICATOR\",{\"type\":\"ndarray\",\"array\":[\"LTINTFORECAST\",\"LTINTFORECAST\",\"LTINTFORECAST\",\"LTINTFORECAST\",\"LTINTFORECAST\",\"LTINTFORECAST\",\"LTINTFORECAST\",\"LTINTFORECAST\",\"LTINTFORECAST\",\"LTINTFORECAST\",\"LTINTFORECAST\",\"LTINTFORECAST\",\"LTINTFORECAST\",\"LTINTFORECAST\",\"LTINTFORECAST\",\"LTINTFORECAST\",\"LTINTFORECAST\",\"LTINTFORECAST\",\"LTINTFORECAST\",\"LTINTFORECAST\",\"LTINTFORECAST\",\"LTINTFORECAST\",\"LTINTFORECAST\",\"LTINTFORECAST\",\"LTINTFORECAST\",\"LTINTFORECAST\",\"LTINTFORECAST\",\"LTINTFORECAST\",\"LTINTFORECAST\",\"LTINTFORECAST\",\"LTINTFORECAST\",\"LTINTFORECAST\",\"LTINTFORECAST\",\"LTINTFORECAST\",\"LTINTFORECAST\",\"LTINTFORECAST\",\"LTINTFORECAST\",\"LTINTFORECAST\",\"LTINTFORECAST\"],\"shape\":[39],\"dtype\":\"object\",\"order\":\"little\"}],[\"SUBJECT\",{\"type\":\"ndarray\",\"array\":[\"TOT\",\"TOT\",\"TOT\",\"TOT\",\"TOT\",\"TOT\",\"TOT\",\"TOT\",\"TOT\",\"TOT\",\"TOT\",\"TOT\",\"TOT\",\"TOT\",\"TOT\",\"TOT\",\"TOT\",\"TOT\",\"TOT\",\"TOT\",\"TOT\",\"TOT\",\"TOT\",\"TOT\",\"TOT\",\"TOT\",\"TOT\",\"TOT\",\"TOT\",\"TOT\",\"TOT\",\"TOT\",\"TOT\",\"TOT\",\"TOT\",\"TOT\",\"TOT\",\"TOT\",\"TOT\"],\"shape\":[39],\"dtype\":\"object\",\"order\":\"little\"}],[\"MEASURE\",{\"type\":\"ndarray\",\"array\":[\"PC_PA\",\"PC_PA\",\"PC_PA\",\"PC_PA\",\"PC_PA\",\"PC_PA\",\"PC_PA\",\"PC_PA\",\"PC_PA\",\"PC_PA\",\"PC_PA\",\"PC_PA\",\"PC_PA\",\"PC_PA\",\"PC_PA\",\"PC_PA\",\"PC_PA\",\"PC_PA\",\"PC_PA\",\"PC_PA\",\"PC_PA\",\"PC_PA\",\"PC_PA\",\"PC_PA\",\"PC_PA\",\"PC_PA\",\"PC_PA\",\"PC_PA\",\"PC_PA\",\"PC_PA\",\"PC_PA\",\"PC_PA\",\"PC_PA\",\"PC_PA\",\"PC_PA\",\"PC_PA\",\"PC_PA\",\"PC_PA\",\"PC_PA\"],\"shape\":[39],\"dtype\":\"object\",\"order\":\"little\"}],[\"FREQUENCY\",{\"type\":\"ndarray\",\"array\":[\"Q\",\"Q\",\"Q\",\"Q\",\"A\",\"Q\",\"Q\",\"Q\",\"Q\",\"A\",\"Q\",\"Q\",\"Q\",\"Q\",\"A\",\"Q\",\"Q\",\"Q\",\"Q\",\"A\",\"Q\",\"Q\",\"Q\",\"Q\",\"A\",\"Q\",\"Q\",\"Q\",\"Q\",\"A\",\"Q\",\"Q\",\"Q\",\"Q\",\"A\",\"Q\",\"Q\",\"Q\",\"Q\"],\"shape\":[39],\"dtype\":\"object\",\"order\":\"little\"}],[\"TIME\",{\"type\":\"ndarray\",\"array\":[\"2016-Q1\",\"2016-Q2\",\"2016-Q3\",\"2016-Q4\",\"2017\",\"2017-Q1\",\"2017-Q2\",\"2017-Q3\",\"2017-Q4\",\"2018\",\"2018-Q1\",\"2018-Q2\",\"2018-Q3\",\"2018-Q4\",\"2019\",\"2019-Q1\",\"2019-Q2\",\"2019-Q3\",\"2019-Q4\",\"2020\",\"2020-Q1\",\"2020-Q2\",\"2020-Q3\",\"2020-Q4\",\"2021\",\"2021-Q1\",\"2021-Q2\",\"2021-Q3\",\"2021-Q4\",\"2022\",\"2022-Q1\",\"2022-Q2\",\"2022-Q3\",\"2022-Q4\",\"2023\",\"2023-Q1\",\"2023-Q2\",\"2023-Q3\",\"2023-Q4\"],\"shape\":[39],\"dtype\":\"object\",\"order\":\"little\"}],[\"Value\",{\"type\":\"ndarray\",\"array\":{\"type\":\"bytes\",\"data\":\"iE4b6LSB3j+c/GLJL5bcP2QDnTbQadM/6e7u7u7u3j9XyS+W/GLvPwadNtBpA+U/VvKLJb9Y6j/NzMzMzMzsP6LkF0t+sfg/xIFOG+i0/z/NzMzMzMz8P7eSXyz5xf4/CtejcD0KAUCP/GLJL5YAQLeSXyz5xfg/9ihcj8L1/D//c9pApw38PzW/WPKLJfM/4O7u7u7u9j8sdNpApw3yP14b6LSBTvc/UrgehetR8D/D9Shcj8LtP8SBThvotPE/hnd3d3d3/j/OWPKLJb/4PyrotIFOG/w/pfxiyS+W/D8+0GkDnTYEQBSuR+F6VBFA2GkDnTbQCUBSuB6F61ESQKRwPQrXoxFAcNpApw10FEAUrkfhelQSQFJVVVVVVRJAUlVVVVVVEkBSVVVVVVUSQFK4HoXrURJA\"},\"shape\":[39],\"dtype\":\"float64\",\"order\":\"little\"}],[\"Flag Codes\",{\"type\":\"ndarray\",\"array\":{\"type\":\"bytes\",\"data\":\"AAAAAAAA+H8AAAAAAAD4fwAAAAAAAPh/AAAAAAAA+H8AAAAAAAD4fwAAAAAAAPh/AAAAAAAA+H8AAAAAAAD4fwAAAAAAAPh/AAAAAAAA+H8AAAAAAAD4fwAAAAAAAPh/AAAAAAAA+H8AAAAAAAD4fwAAAAAAAPh/AAAAAAAA+H8AAAAAAAD4fwAAAAAAAPh/AAAAAAAA+H8AAAAAAAD4fwAAAAAAAPh/AAAAAAAA+H8AAAAAAAD4fwAAAAAAAPh/AAAAAAAA+H8AAAAAAAD4fwAAAAAAAPh/AAAAAAAA+H8AAAAAAAD4fwAAAAAAAPh/AAAAAAAA+H8AAAAAAAD4fwAAAAAAAPh/AAAAAAAA+H8AAAAAAAD4fwAAAAAAAPh/AAAAAAAA+H8AAAAAAAD4fwAAAAAAAPh/\"},\"shape\":[39],\"dtype\":\"float64\",\"order\":\"little\"}]]}}},\"view\":{\"type\":\"object\",\"name\":\"CDSView\",\"id\":\"p1423\",\"attributes\":{\"filter\":{\"type\":\"object\",\"name\":\"AllIndices\",\"id\":\"p1424\"}}},\"glyph\":{\"type\":\"object\",\"name\":\"Line\",\"id\":\"p1419\",\"attributes\":{\"x\":{\"type\":\"field\",\"field\":\"TIME\"},\"y\":{\"type\":\"field\",\"field\":\"Value\"},\"line_color\":\"#ff7f0e\",\"line_width\":2}},\"nonselection_glyph\":{\"type\":\"object\",\"name\":\"Line\",\"id\":\"p1420\",\"attributes\":{\"x\":{\"type\":\"field\",\"field\":\"TIME\"},\"y\":{\"type\":\"field\",\"field\":\"Value\"},\"line_color\":\"#ff7f0e\",\"line_alpha\":0.1,\"line_width\":2}},\"muted_glyph\":{\"type\":\"object\",\"name\":\"Line\",\"id\":\"p1421\",\"attributes\":{\"x\":{\"type\":\"field\",\"field\":\"TIME\"},\"y\":{\"type\":\"field\",\"field\":\"Value\"},\"line_color\":\"#ff7f0e\",\"line_alpha\":0.2,\"line_width\":2}}}},{\"type\":\"object\",\"name\":\"GlyphRenderer\",\"id\":\"p1435\",\"attributes\":{\"data_source\":{\"type\":\"object\",\"name\":\"ColumnDataSource\",\"id\":\"p1426\",\"attributes\":{\"selected\":{\"type\":\"object\",\"name\":\"Selection\",\"id\":\"p1427\",\"attributes\":{\"indices\":[],\"line_indices\":[]}},\"selection_policy\":{\"type\":\"object\",\"name\":\"UnionRenderers\",\"id\":\"p1428\"},\"data\":{\"type\":\"map\",\"entries\":[[\"index\",{\"type\":\"ndarray\",\"array\":{\"type\":\"bytes\",\"data\":\"TRIAAE4SAABPEgAAUBIAAEIDAABREgAAUhIAAFMSAABUEgAAQwMAAFUSAABWEgAAVxIAAFgSAABEAwAAWRIAAFoSAABbEgAAXBIAAEUDAABdEgAAXhIAAF8SAABgEgAARgMAAGESAABiEgAAYxIAAGQSAABHAwAAZRIAAGYSAABnEgAAaBIAAEgDAABpEgAAahIAAGsSAABsEgAA\"},\"shape\":[39],\"dtype\":\"int32\",\"order\":\"little\"}],[\"LOCATION\",{\"type\":\"ndarray\",\"array\":[\"MEX\",\"MEX\",\"MEX\",\"MEX\",\"MEX\",\"MEX\",\"MEX\",\"MEX\",\"MEX\",\"MEX\",\"MEX\",\"MEX\",\"MEX\",\"MEX\",\"MEX\",\"MEX\",\"MEX\",\"MEX\",\"MEX\",\"MEX\",\"MEX\",\"MEX\",\"MEX\",\"MEX\",\"MEX\",\"MEX\",\"MEX\",\"MEX\",\"MEX\",\"MEX\",\"MEX\",\"MEX\",\"MEX\",\"MEX\",\"MEX\",\"MEX\",\"MEX\",\"MEX\",\"MEX\"],\"shape\":[39],\"dtype\":\"object\",\"order\":\"little\"}],[\"INDICATOR\",{\"type\":\"ndarray\",\"array\":[\"LTINTFORECAST\",\"LTINTFORECAST\",\"LTINTFORECAST\",\"LTINTFORECAST\",\"LTINTFORECAST\",\"LTINTFORECAST\",\"LTINTFORECAST\",\"LTINTFORECAST\",\"LTINTFORECAST\",\"LTINTFORECAST\",\"LTINTFORECAST\",\"LTINTFORECAST\",\"LTINTFORECAST\",\"LTINTFORECAST\",\"LTINTFORECAST\",\"LTINTFORECAST\",\"LTINTFORECAST\",\"LTINTFORECAST\",\"LTINTFORECAST\",\"LTINTFORECAST\",\"LTINTFORECAST\",\"LTINTFORECAST\",\"LTINTFORECAST\",\"LTINTFORECAST\",\"LTINTFORECAST\",\"LTINTFORECAST\",\"LTINTFORECAST\",\"LTINTFORECAST\",\"LTINTFORECAST\",\"LTINTFORECAST\",\"LTINTFORECAST\",\"LTINTFORECAST\",\"LTINTFORECAST\",\"LTINTFORECAST\",\"LTINTFORECAST\",\"LTINTFORECAST\",\"LTINTFORECAST\",\"LTINTFORECAST\",\"LTINTFORECAST\"],\"shape\":[39],\"dtype\":\"object\",\"order\":\"little\"}],[\"SUBJECT\",{\"type\":\"ndarray\",\"array\":[\"TOT\",\"TOT\",\"TOT\",\"TOT\",\"TOT\",\"TOT\",\"TOT\",\"TOT\",\"TOT\",\"TOT\",\"TOT\",\"TOT\",\"TOT\",\"TOT\",\"TOT\",\"TOT\",\"TOT\",\"TOT\",\"TOT\",\"TOT\",\"TOT\",\"TOT\",\"TOT\",\"TOT\",\"TOT\",\"TOT\",\"TOT\",\"TOT\",\"TOT\",\"TOT\",\"TOT\",\"TOT\",\"TOT\",\"TOT\",\"TOT\",\"TOT\",\"TOT\",\"TOT\",\"TOT\"],\"shape\":[39],\"dtype\":\"object\",\"order\":\"little\"}],[\"MEASURE\",{\"type\":\"ndarray\",\"array\":[\"PC_PA\",\"PC_PA\",\"PC_PA\",\"PC_PA\",\"PC_PA\",\"PC_PA\",\"PC_PA\",\"PC_PA\",\"PC_PA\",\"PC_PA\",\"PC_PA\",\"PC_PA\",\"PC_PA\",\"PC_PA\",\"PC_PA\",\"PC_PA\",\"PC_PA\",\"PC_PA\",\"PC_PA\",\"PC_PA\",\"PC_PA\",\"PC_PA\",\"PC_PA\",\"PC_PA\",\"PC_PA\",\"PC_PA\",\"PC_PA\",\"PC_PA\",\"PC_PA\",\"PC_PA\",\"PC_PA\",\"PC_PA\",\"PC_PA\",\"PC_PA\",\"PC_PA\",\"PC_PA\",\"PC_PA\",\"PC_PA\",\"PC_PA\"],\"shape\":[39],\"dtype\":\"object\",\"order\":\"little\"}],[\"FREQUENCY\",{\"type\":\"ndarray\",\"array\":[\"Q\",\"Q\",\"Q\",\"Q\",\"A\",\"Q\",\"Q\",\"Q\",\"Q\",\"A\",\"Q\",\"Q\",\"Q\",\"Q\",\"A\",\"Q\",\"Q\",\"Q\",\"Q\",\"A\",\"Q\",\"Q\",\"Q\",\"Q\",\"A\",\"Q\",\"Q\",\"Q\",\"Q\",\"A\",\"Q\",\"Q\",\"Q\",\"Q\",\"A\",\"Q\",\"Q\",\"Q\",\"Q\"],\"shape\":[39],\"dtype\":\"object\",\"order\":\"little\"}],[\"TIME\",{\"type\":\"ndarray\",\"array\":[\"2016-Q1\",\"2016-Q2\",\"2016-Q3\",\"2016-Q4\",\"2017\",\"2017-Q1\",\"2017-Q2\",\"2017-Q3\",\"2017-Q4\",\"2018\",\"2018-Q1\",\"2018-Q2\",\"2018-Q3\",\"2018-Q4\",\"2019\",\"2019-Q1\",\"2019-Q2\",\"2019-Q3\",\"2019-Q4\",\"2020\",\"2020-Q1\",\"2020-Q2\",\"2020-Q3\",\"2020-Q4\",\"2021\",\"2021-Q1\",\"2021-Q2\",\"2021-Q3\",\"2021-Q4\",\"2022\",\"2022-Q1\",\"2022-Q2\",\"2022-Q3\",\"2022-Q4\",\"2023\",\"2023-Q1\",\"2023-Q2\",\"2023-Q3\",\"2023-Q4\"],\"shape\":[39],\"dtype\":\"object\",\"order\":\"little\"}],[\"Value\",{\"type\":\"ndarray\",\"array\":{\"type\":\"bytes\",\"data\":\"cT0K16NwGECdGj0gzXQZQDqrbdkNbBlAcdKeDDolG0Biz4fNnIwcQEKWAvmtTx1AEZE6ZkepHEBmA5020GkbQLkSRaCtzxxACiQRgFQxHkDlSJxStFkdQKzsyK48oh1AVG7T6KLIHUAX9gULXwAgQBneKCeV4h1ATRvotIHOIEDWM6mvUCAeQKUUqwwCVRxAQvl+dv53G0DHiyN9eRYZQMyeYY5CfBpAh1G0aaWVGkAAnTbQaQMXQLShQSyURBhA1L9qUQ/vGkBHr3ElU10YQLFSaatgIRpA/H4ekHHyGkBHfrHkF0seQEFfyxGS9yBApGPy+W0VHkB2d3d3d/chQGW41B2YDSBATRvotIHOIkDNzMzMzEwkQM3MzMzMTCRAzczMzMxMJEDNzMzMzEwkQM3MzMzMTCRA\"},\"shape\":[39],\"dtype\":\"float64\",\"order\":\"little\"}],[\"Flag Codes\",{\"type\":\"ndarray\",\"array\":{\"type\":\"bytes\",\"data\":\"AAAAAAAA+H8AAAAAAAD4fwAAAAAAAPh/AAAAAAAA+H8AAAAAAAD4fwAAAAAAAPh/AAAAAAAA+H8AAAAAAAD4fwAAAAAAAPh/AAAAAAAA+H8AAAAAAAD4fwAAAAAAAPh/AAAAAAAA+H8AAAAAAAD4fwAAAAAAAPh/AAAAAAAA+H8AAAAAAAD4fwAAAAAAAPh/AAAAAAAA+H8AAAAAAAD4fwAAAAAAAPh/AAAAAAAA+H8AAAAAAAD4fwAAAAAAAPh/AAAAAAAA+H8AAAAAAAD4fwAAAAAAAPh/AAAAAAAA+H8AAAAAAAD4fwAAAAAAAPh/AAAAAAAA+H8AAAAAAAD4fwAAAAAAAPh/AAAAAAAA+H8AAAAAAAD4fwAAAAAAAPh/AAAAAAAA+H8AAAAAAAD4fwAAAAAAAPh/\"},\"shape\":[39],\"dtype\":\"float64\",\"order\":\"little\"}]]}}},\"view\":{\"type\":\"object\",\"name\":\"CDSView\",\"id\":\"p1436\",\"attributes\":{\"filter\":{\"type\":\"object\",\"name\":\"AllIndices\",\"id\":\"p1437\"}}},\"glyph\":{\"type\":\"object\",\"name\":\"Line\",\"id\":\"p1432\",\"attributes\":{\"x\":{\"type\":\"field\",\"field\":\"TIME\"},\"y\":{\"type\":\"field\",\"field\":\"Value\"},\"line_color\":\"#ffbb78\",\"line_width\":2}},\"nonselection_glyph\":{\"type\":\"object\",\"name\":\"Line\",\"id\":\"p1433\",\"attributes\":{\"x\":{\"type\":\"field\",\"field\":\"TIME\"},\"y\":{\"type\":\"field\",\"field\":\"Value\"},\"line_color\":\"#ffbb78\",\"line_alpha\":0.1,\"line_width\":2}},\"muted_glyph\":{\"type\":\"object\",\"name\":\"Line\",\"id\":\"p1434\",\"attributes\":{\"x\":{\"type\":\"field\",\"field\":\"TIME\"},\"y\":{\"type\":\"field\",\"field\":\"Value\"},\"line_color\":\"#ffbb78\",\"line_alpha\":0.2,\"line_width\":2}}}},{\"type\":\"object\",\"name\":\"GlyphRenderer\",\"id\":\"p1448\",\"attributes\":{\"data_source\":{\"type\":\"object\",\"name\":\"ColumnDataSource\",\"id\":\"p1439\",\"attributes\":{\"selected\":{\"type\":\"object\",\"name\":\"Selection\",\"id\":\"p1440\",\"attributes\":{\"indices\":[],\"line_indices\":[]}},\"selection_policy\":{\"type\":\"object\",\"name\":\"UnionRenderers\",\"id\":\"p1441\"},\"data\":{\"type\":\"map\",\"entries\":[[\"index\",{\"type\":\"ndarray\",\"array\":{\"type\":\"bytes\",\"data\":\"oRwAAKIcAACjHAAApBwAAOsFAAClHAAAphwAAKccAACoHAAA7AUAAKkcAACqHAAAqxwAAKwcAADtBQAArRwAAK4cAACvHAAAsBwAAO4FAACxHAAAshwAALMcAAC0HAAA7wUAALUcAAC2HAAAtxwAALgcAADwBQAAuRwAALocAAC7HAAAvBwAAPEFAAA=\"},\"shape\":[35],\"dtype\":\"int32\",\"order\":\"little\"}],[\"LOCATION\",{\"type\":\"ndarray\",\"array\":[\"IND\",\"IND\",\"IND\",\"IND\",\"IND\",\"IND\",\"IND\",\"IND\",\"IND\",\"IND\",\"IND\",\"IND\",\"IND\",\"IND\",\"IND\",\"IND\",\"IND\",\"IND\",\"IND\",\"IND\",\"IND\",\"IND\",\"IND\",\"IND\",\"IND\",\"IND\",\"IND\",\"IND\",\"IND\",\"IND\",\"IND\",\"IND\",\"IND\",\"IND\",\"IND\"],\"shape\":[35],\"dtype\":\"object\",\"order\":\"little\"}],[\"INDICATOR\",{\"type\":\"ndarray\",\"array\":[\"LTINTFORECAST\",\"LTINTFORECAST\",\"LTINTFORECAST\",\"LTINTFORECAST\",\"LTINTFORECAST\",\"LTINTFORECAST\",\"LTINTFORECAST\",\"LTINTFORECAST\",\"LTINTFORECAST\",\"LTINTFORECAST\",\"LTINTFORECAST\",\"LTINTFORECAST\",\"LTINTFORECAST\",\"LTINTFORECAST\",\"LTINTFORECAST\",\"LTINTFORECAST\",\"LTINTFORECAST\",\"LTINTFORECAST\",\"LTINTFORECAST\",\"LTINTFORECAST\",\"LTINTFORECAST\",\"LTINTFORECAST\",\"LTINTFORECAST\",\"LTINTFORECAST\",\"LTINTFORECAST\",\"LTINTFORECAST\",\"LTINTFORECAST\",\"LTINTFORECAST\",\"LTINTFORECAST\",\"LTINTFORECAST\",\"LTINTFORECAST\",\"LTINTFORECAST\",\"LTINTFORECAST\",\"LTINTFORECAST\",\"LTINTFORECAST\"],\"shape\":[35],\"dtype\":\"object\",\"order\":\"little\"}],[\"SUBJECT\",{\"type\":\"ndarray\",\"array\":[\"TOT\",\"TOT\",\"TOT\",\"TOT\",\"TOT\",\"TOT\",\"TOT\",\"TOT\",\"TOT\",\"TOT\",\"TOT\",\"TOT\",\"TOT\",\"TOT\",\"TOT\",\"TOT\",\"TOT\",\"TOT\",\"TOT\",\"TOT\",\"TOT\",\"TOT\",\"TOT\",\"TOT\",\"TOT\",\"TOT\",\"TOT\",\"TOT\",\"TOT\",\"TOT\",\"TOT\",\"TOT\",\"TOT\",\"TOT\",\"TOT\"],\"shape\":[35],\"dtype\":\"object\",\"order\":\"little\"}],[\"MEASURE\",{\"type\":\"ndarray\",\"array\":[\"PC_PA\",\"PC_PA\",\"PC_PA\",\"PC_PA\",\"PC_PA\",\"PC_PA\",\"PC_PA\",\"PC_PA\",\"PC_PA\",\"PC_PA\",\"PC_PA\",\"PC_PA\",\"PC_PA\",\"PC_PA\",\"PC_PA\",\"PC_PA\",\"PC_PA\",\"PC_PA\",\"PC_PA\",\"PC_PA\",\"PC_PA\",\"PC_PA\",\"PC_PA\",\"PC_PA\",\"PC_PA\",\"PC_PA\",\"PC_PA\",\"PC_PA\",\"PC_PA\",\"PC_PA\",\"PC_PA\",\"PC_PA\",\"PC_PA\",\"PC_PA\",\"PC_PA\"],\"shape\":[35],\"dtype\":\"object\",\"order\":\"little\"}],[\"FREQUENCY\",{\"type\":\"ndarray\",\"array\":[\"Q\",\"Q\",\"Q\",\"Q\",\"A\",\"Q\",\"Q\",\"Q\",\"Q\",\"A\",\"Q\",\"Q\",\"Q\",\"Q\",\"A\",\"Q\",\"Q\",\"Q\",\"Q\",\"A\",\"Q\",\"Q\",\"Q\",\"Q\",\"A\",\"Q\",\"Q\",\"Q\",\"Q\",\"A\",\"Q\",\"Q\",\"Q\",\"Q\",\"A\"],\"shape\":[35],\"dtype\":\"object\",\"order\":\"little\"}],[\"TIME\",{\"type\":\"ndarray\",\"array\":[\"2016-Q1\",\"2016-Q2\",\"2016-Q3\",\"2016-Q4\",\"2017\",\"2017-Q1\",\"2017-Q2\",\"2017-Q3\",\"2017-Q4\",\"2018\",\"2018-Q1\",\"2018-Q2\",\"2018-Q3\",\"2018-Q4\",\"2019\",\"2019-Q1\",\"2019-Q2\",\"2019-Q3\",\"2019-Q4\",\"2020\",\"2020-Q1\",\"2020-Q2\",\"2020-Q3\",\"2020-Q4\",\"2021\",\"2021-Q1\",\"2021-Q2\",\"2021-Q3\",\"2021-Q4\",\"2022\",\"2022-Q1\",\"2022-Q2\",\"2022-Q3\",\"2022-Q4\",\"2023\"],\"shape\":[35],\"dtype\":\"object\",\"order\":\"little\"}],[\"Value\",{\"type\":\"ndarray\",\"array\":{\"type\":\"bytes\",\"data\":\"+MJkqmAUHkCqjgkezNMeQG+BBMWPcRxAWgFyr7kQG0Bzy1odEywcQJwn6t8IZRxAJ5TR27IWG0D/FUUiR40aQI/C9ShcDx1Au+GKnm7bHkALwV5O9vwdQPRgnqh/ox9A46WbxCCwH0Ae+YOB554eQEqHOwR7aRtA7IZtizJ7HUA62E/sjrIcQBtMw/AR0RpASOgbvnIqG0BBt5c0RjsYQJcQv3XY9xpAtILyUVlnGEC1Q7CXk90XQAuYwK27mRdATLc4PQLiGUCRfvs6cA4ZQLM1bkQKWBlAmTvnlG0tGUBQmU9DQdYZQKmwBhVCdB1AftI92E8sG0B4UaiUxF8dQKX3ja89cx1Aal4hhjBxHUAAAAAAAAAcQA==\"},\"shape\":[35],\"dtype\":\"float64\",\"order\":\"little\"}],[\"Flag Codes\",{\"type\":\"ndarray\",\"array\":{\"type\":\"bytes\",\"data\":\"AAAAAAAA+H8AAAAAAAD4fwAAAAAAAPh/AAAAAAAA+H8AAAAAAAD4fwAAAAAAAPh/AAAAAAAA+H8AAAAAAAD4fwAAAAAAAPh/AAAAAAAA+H8AAAAAAAD4fwAAAAAAAPh/AAAAAAAA+H8AAAAAAAD4fwAAAAAAAPh/AAAAAAAA+H8AAAAAAAD4fwAAAAAAAPh/AAAAAAAA+H8AAAAAAAD4fwAAAAAAAPh/AAAAAAAA+H8AAAAAAAD4fwAAAAAAAPh/AAAAAAAA+H8AAAAAAAD4fwAAAAAAAPh/AAAAAAAA+H8AAAAAAAD4fwAAAAAAAPh/AAAAAAAA+H8AAAAAAAD4fwAAAAAAAPh/AAAAAAAA+H8AAAAAAAD4fw==\"},\"shape\":[35],\"dtype\":\"float64\",\"order\":\"little\"}]]}}},\"view\":{\"type\":\"object\",\"name\":\"CDSView\",\"id\":\"p1449\",\"attributes\":{\"filter\":{\"type\":\"object\",\"name\":\"AllIndices\",\"id\":\"p1450\"}}},\"glyph\":{\"type\":\"object\",\"name\":\"Line\",\"id\":\"p1445\",\"attributes\":{\"x\":{\"type\":\"field\",\"field\":\"TIME\"},\"y\":{\"type\":\"field\",\"field\":\"Value\"},\"line_color\":\"#2ca02c\",\"line_width\":2}},\"nonselection_glyph\":{\"type\":\"object\",\"name\":\"Line\",\"id\":\"p1446\",\"attributes\":{\"x\":{\"type\":\"field\",\"field\":\"TIME\"},\"y\":{\"type\":\"field\",\"field\":\"Value\"},\"line_color\":\"#2ca02c\",\"line_alpha\":0.1,\"line_width\":2}},\"muted_glyph\":{\"type\":\"object\",\"name\":\"Line\",\"id\":\"p1447\",\"attributes\":{\"x\":{\"type\":\"field\",\"field\":\"TIME\"},\"y\":{\"type\":\"field\",\"field\":\"Value\"},\"line_color\":\"#2ca02c\",\"line_alpha\":0.2,\"line_width\":2}}}},{\"type\":\"object\",\"name\":\"GlyphRenderer\",\"id\":\"p1461\",\"attributes\":{\"data_source\":{\"type\":\"object\",\"name\":\"ColumnDataSource\",\"id\":\"p1452\",\"attributes\":{\"selected\":{\"type\":\"object\",\"name\":\"Selection\",\"id\":\"p1453\",\"attributes\":{\"indices\":[],\"line_indices\":[]}},\"selection_policy\":{\"type\":\"object\",\"name\":\"UnionRenderers\",\"id\":\"p1454\"},\"data\":{\"type\":\"map\",\"entries\":[[\"index\",{\"type\":\"ndarray\",\"array\":{\"type\":\"bytes\",\"data\":\"2A4AANkOAADaDgAA2w4AACICAADcDgAA3Q4AAN4OAADfDgAAIwIAAOAOAADhDgAA4g4AAOMOAAAkAgAA5A4AAOUOAADmDgAA5w4AACUCAADoDgAA6Q4AAOoOAADrDgAAJgIAAOwOAADtDgAA7g4AAO8OAAAnAgAA8A4AAPEOAADyDgAA8w4AACgCAAD0DgAA9Q4AAPYOAAD3DgAA\"},\"shape\":[39],\"dtype\":\"int32\",\"order\":\"little\"}],[\"LOCATION\",{\"type\":\"ndarray\",\"array\":[\"HUN\",\"HUN\",\"HUN\",\"HUN\",\"HUN\",\"HUN\",\"HUN\",\"HUN\",\"HUN\",\"HUN\",\"HUN\",\"HUN\",\"HUN\",\"HUN\",\"HUN\",\"HUN\",\"HUN\",\"HUN\",\"HUN\",\"HUN\",\"HUN\",\"HUN\",\"HUN\",\"HUN\",\"HUN\",\"HUN\",\"HUN\",\"HUN\",\"HUN\",\"HUN\",\"HUN\",\"HUN\",\"HUN\",\"HUN\",\"HUN\",\"HUN\",\"HUN\",\"HUN\",\"HUN\"],\"shape\":[39],\"dtype\":\"object\",\"order\":\"little\"}],[\"INDICATOR\",{\"type\":\"ndarray\",\"array\":[\"LTINTFORECAST\",\"LTINTFORECAST\",\"LTINTFORECAST\",\"LTINTFORECAST\",\"LTINTFORECAST\",\"LTINTFORECAST\",\"LTINTFORECAST\",\"LTINTFORECAST\",\"LTINTFORECAST\",\"LTINTFORECAST\",\"LTINTFORECAST\",\"LTINTFORECAST\",\"LTINTFORECAST\",\"LTINTFORECAST\",\"LTINTFORECAST\",\"LTINTFORECAST\",\"LTINTFORECAST\",\"LTINTFORECAST\",\"LTINTFORECAST\",\"LTINTFORECAST\",\"LTINTFORECAST\",\"LTINTFORECAST\",\"LTINTFORECAST\",\"LTINTFORECAST\",\"LTINTFORECAST\",\"LTINTFORECAST\",\"LTINTFORECAST\",\"LTINTFORECAST\",\"LTINTFORECAST\",\"LTINTFORECAST\",\"LTINTFORECAST\",\"LTINTFORECAST\",\"LTINTFORECAST\",\"LTINTFORECAST\",\"LTINTFORECAST\",\"LTINTFORECAST\",\"LTINTFORECAST\",\"LTINTFORECAST\",\"LTINTFORECAST\"],\"shape\":[39],\"dtype\":\"object\",\"order\":\"little\"}],[\"SUBJECT\",{\"type\":\"ndarray\",\"array\":[\"TOT\",\"TOT\",\"TOT\",\"TOT\",\"TOT\",\"TOT\",\"TOT\",\"TOT\",\"TOT\",\"TOT\",\"TOT\",\"TOT\",\"TOT\",\"TOT\",\"TOT\",\"TOT\",\"TOT\",\"TOT\",\"TOT\",\"TOT\",\"TOT\",\"TOT\",\"TOT\",\"TOT\",\"TOT\",\"TOT\",\"TOT\",\"TOT\",\"TOT\",\"TOT\",\"TOT\",\"TOT\",\"TOT\",\"TOT\",\"TOT\",\"TOT\",\"TOT\",\"TOT\",\"TOT\"],\"shape\":[39],\"dtype\":\"object\",\"order\":\"little\"}],[\"MEASURE\",{\"type\":\"ndarray\",\"array\":[\"PC_PA\",\"PC_PA\",\"PC_PA\",\"PC_PA\",\"PC_PA\",\"PC_PA\",\"PC_PA\",\"PC_PA\",\"PC_PA\",\"PC_PA\",\"PC_PA\",\"PC_PA\",\"PC_PA\",\"PC_PA\",\"PC_PA\",\"PC_PA\",\"PC_PA\",\"PC_PA\",\"PC_PA\",\"PC_PA\",\"PC_PA\",\"PC_PA\",\"PC_PA\",\"PC_PA\",\"PC_PA\",\"PC_PA\",\"PC_PA\",\"PC_PA\",\"PC_PA\",\"PC_PA\",\"PC_PA\",\"PC_PA\",\"PC_PA\",\"PC_PA\",\"PC_PA\",\"PC_PA\",\"PC_PA\",\"PC_PA\",\"PC_PA\"],\"shape\":[39],\"dtype\":\"object\",\"order\":\"little\"}],[\"FREQUENCY\",{\"type\":\"ndarray\",\"array\":[\"Q\",\"Q\",\"Q\",\"Q\",\"A\",\"Q\",\"Q\",\"Q\",\"Q\",\"A\",\"Q\",\"Q\",\"Q\",\"Q\",\"A\",\"Q\",\"Q\",\"Q\",\"Q\",\"A\",\"Q\",\"Q\",\"Q\",\"Q\",\"A\",\"Q\",\"Q\",\"Q\",\"Q\",\"A\",\"Q\",\"Q\",\"Q\",\"Q\",\"A\",\"Q\",\"Q\",\"Q\",\"Q\"],\"shape\":[39],\"dtype\":\"object\",\"order\":\"little\"}],[\"TIME\",{\"type\":\"ndarray\",\"array\":[\"2016-Q1\",\"2016-Q2\",\"2016-Q3\",\"2016-Q4\",\"2017\",\"2017-Q1\",\"2017-Q2\",\"2017-Q3\",\"2017-Q4\",\"2018\",\"2018-Q1\",\"2018-Q2\",\"2018-Q3\",\"2018-Q4\",\"2019\",\"2019-Q1\",\"2019-Q2\",\"2019-Q3\",\"2019-Q4\",\"2020\",\"2020-Q1\",\"2020-Q2\",\"2020-Q3\",\"2020-Q4\",\"2021\",\"2021-Q1\",\"2021-Q2\",\"2021-Q3\",\"2021-Q4\",\"2022\",\"2022-Q1\",\"2022-Q2\",\"2022-Q3\",\"2022-Q4\",\"2023\",\"2023-Q1\",\"2023-Q2\",\"2023-Q3\",\"2023-Q4\"],\"shape\":[39],\"dtype\":\"object\",\"order\":\"little\"}],[\"Value\",{\"type\":\"ndarray\",\"array\":{\"type\":\"bytes\",\"data\":\"PURERERECkDYaQOdNtAJQOG0gU4b6AZAmpmZmZmZCUAzMzMzM7MHQMO7u7u7uwtA9WLJL5b8CEDD9Shcj8IHQFK4HoXrUQJAcHd3d3d3CEAzbaDTBjoDQFyPwvUoXAdArw102kCnC0CZ0wY6baALQLgehetRuANAzAY6baDTBkAolvxiyS8IQHsUrkfhegBAt5JfLPnF/j/NzMzMzMwBQMP1KFyPwgFAw/UoXI/CAUAqIiIiIiICQIQlv1jyiwFA9WLJL5Z8CECEJb9Y8osDQKU20GkDnQZAXI/C9ShcB0Az0GkDnTYQQIWIiIiISB5ApA102kCnFEAAY8kvlvwcQMgvlvxiSSFA9ihcj8J1IkDcQKcNdFogQNxApw10WiBA3ECnDXRaIEDcQKcNdFogQNxApw10WiBA\"},\"shape\":[39],\"dtype\":\"float64\",\"order\":\"little\"}],[\"Flag Codes\",{\"type\":\"ndarray\",\"array\":{\"type\":\"bytes\",\"data\":\"AAAAAAAA+H8AAAAAAAD4fwAAAAAAAPh/AAAAAAAA+H8AAAAAAAD4fwAAAAAAAPh/AAAAAAAA+H8AAAAAAAD4fwAAAAAAAPh/AAAAAAAA+H8AAAAAAAD4fwAAAAAAAPh/AAAAAAAA+H8AAAAAAAD4fwAAAAAAAPh/AAAAAAAA+H8AAAAAAAD4fwAAAAAAAPh/AAAAAAAA+H8AAAAAAAD4fwAAAAAAAPh/AAAAAAAA+H8AAAAAAAD4fwAAAAAAAPh/AAAAAAAA+H8AAAAAAAD4fwAAAAAAAPh/AAAAAAAA+H8AAAAAAAD4fwAAAAAAAPh/AAAAAAAA+H8AAAAAAAD4fwAAAAAAAPh/AAAAAAAA+H8AAAAAAAD4fwAAAAAAAPh/AAAAAAAA+H8AAAAAAAD4fwAAAAAAAPh/\"},\"shape\":[39],\"dtype\":\"float64\",\"order\":\"little\"}]]}}},\"view\":{\"type\":\"object\",\"name\":\"CDSView\",\"id\":\"p1462\",\"attributes\":{\"filter\":{\"type\":\"object\",\"name\":\"AllIndices\",\"id\":\"p1463\"}}},\"glyph\":{\"type\":\"object\",\"name\":\"Line\",\"id\":\"p1458\",\"attributes\":{\"x\":{\"type\":\"field\",\"field\":\"TIME\"},\"y\":{\"type\":\"field\",\"field\":\"Value\"},\"line_color\":\"#98df8a\",\"line_width\":2}},\"nonselection_glyph\":{\"type\":\"object\",\"name\":\"Line\",\"id\":\"p1459\",\"attributes\":{\"x\":{\"type\":\"field\",\"field\":\"TIME\"},\"y\":{\"type\":\"field\",\"field\":\"Value\"},\"line_color\":\"#98df8a\",\"line_alpha\":0.1,\"line_width\":2}},\"muted_glyph\":{\"type\":\"object\",\"name\":\"Line\",\"id\":\"p1460\",\"attributes\":{\"x\":{\"type\":\"field\",\"field\":\"TIME\"},\"y\":{\"type\":\"field\",\"field\":\"Value\"},\"line_color\":\"#98df8a\",\"line_alpha\":0.2,\"line_width\":2}}}}],\"toolbar\":{\"type\":\"object\",\"name\":\"Toolbar\",\"id\":\"p1365\",\"attributes\":{\"tools\":[{\"type\":\"object\",\"name\":\"PanTool\",\"id\":\"p1379\"},{\"type\":\"object\",\"name\":\"WheelZoomTool\",\"id\":\"p1380\"},{\"type\":\"object\",\"name\":\"BoxZoomTool\",\"id\":\"p1381\",\"attributes\":{\"overlay\":{\"type\":\"object\",\"name\":\"BoxAnnotation\",\"id\":\"p1382\",\"attributes\":{\"syncable\":false,\"level\":\"overlay\",\"visible\":false,\"left_units\":\"canvas\",\"right_units\":\"canvas\",\"bottom_units\":\"canvas\",\"top_units\":\"canvas\",\"line_color\":\"black\",\"line_alpha\":1.0,\"line_width\":2,\"line_dash\":[4,4],\"fill_color\":\"lightgrey\",\"fill_alpha\":0.5}}}},{\"type\":\"object\",\"name\":\"SaveTool\",\"id\":\"p1383\"},{\"type\":\"object\",\"name\":\"ResetTool\",\"id\":\"p1384\"},{\"type\":\"object\",\"name\":\"HelpTool\",\"id\":\"p1385\"}]}},\"left\":[{\"type\":\"object\",\"name\":\"LinearAxis\",\"id\":\"p1374\",\"attributes\":{\"ticker\":{\"type\":\"object\",\"name\":\"BasicTicker\",\"id\":\"p1375\",\"attributes\":{\"mantissas\":[1,2,5]}},\"formatter\":{\"type\":\"object\",\"name\":\"BasicTickFormatter\",\"id\":\"p1376\"},\"axis_label\":\"Rate Forecast %\",\"major_label_policy\":{\"type\":\"object\",\"name\":\"AllLabels\",\"id\":\"p1377\"}}}],\"below\":[{\"type\":\"object\",\"name\":\"CategoricalAxis\",\"id\":\"p1369\",\"attributes\":{\"ticker\":{\"type\":\"object\",\"name\":\"CategoricalTicker\",\"id\":\"p1370\"},\"formatter\":{\"type\":\"object\",\"name\":\"CategoricalTickFormatter\",\"id\":\"p1371\"},\"axis_label\":\"Date\",\"major_label_orientation\":45,\"major_label_policy\":{\"type\":\"object\",\"name\":\"AllLabels\",\"id\":\"p1372\"}}}],\"center\":[{\"type\":\"object\",\"name\":\"Grid\",\"id\":\"p1373\",\"attributes\":{\"axis\":{\"id\":\"p1369\"}}},{\"type\":\"object\",\"name\":\"Grid\",\"id\":\"p1378\",\"attributes\":{\"dimension\":1,\"axis\":{\"id\":\"p1374\"}}},{\"type\":\"object\",\"name\":\"Legend\",\"id\":\"p1398\",\"attributes\":{\"location\":\"top_left\",\"title\":\"Countries\",\"click_policy\":\"mute\",\"items\":[{\"type\":\"object\",\"name\":\"LegendItem\",\"id\":\"p1399\",\"attributes\":{\"label\":{\"type\":\"value\",\"value\":\"Country: POL\"},\"renderers\":[{\"id\":\"p1395\"}]}},{\"type\":\"object\",\"name\":\"LegendItem\",\"id\":\"p1412\",\"attributes\":{\"label\":{\"type\":\"value\",\"value\":\"Country: ZAF\"},\"renderers\":[{\"id\":\"p1409\"}]}},{\"type\":\"object\",\"name\":\"LegendItem\",\"id\":\"p1425\",\"attributes\":{\"label\":{\"type\":\"value\",\"value\":\"Country: CZE\"},\"renderers\":[{\"id\":\"p1422\"}]}},{\"type\":\"object\",\"name\":\"LegendItem\",\"id\":\"p1438\",\"attributes\":{\"label\":{\"type\":\"value\",\"value\":\"Country: MEX\"},\"renderers\":[{\"id\":\"p1435\"}]}},{\"type\":\"object\",\"name\":\"LegendItem\",\"id\":\"p1451\",\"attributes\":{\"label\":{\"type\":\"value\",\"value\":\"Country: IND\"},\"renderers\":[{\"id\":\"p1448\"}]}},{\"type\":\"object\",\"name\":\"LegendItem\",\"id\":\"p1464\",\"attributes\":{\"label\":{\"type\":\"value\",\"value\":\"Country: HUN\"},\"renderers\":[{\"id\":\"p1461\"}]}}]}}]}}]}};\n",
       "  const render_items = [{\"docid\":\"bfba497d-c1d0-430d-9b89-7f6e71c5804a\",\"roots\":{\"p1357\":\"b30aea7c-f786-4868-a223-14eb96bbf5d1\"},\"root_ids\":[\"p1357\"]}];\n",
       "  root.Bokeh.embed.embed_items_notebook(docs_json, render_items);\n",
       "  }\n",
       "  if (root.Bokeh !== undefined) {\n",
       "    embed_document(root);\n",
       "  } else {\n",
       "    let attempts = 0;\n",
       "    const timer = setInterval(function(root) {\n",
       "      if (root.Bokeh !== undefined) {\n",
       "        clearInterval(timer);\n",
       "        embed_document(root);\n",
       "      } else {\n",
       "        attempts++;\n",
       "        if (attempts > 100) {\n",
       "          clearInterval(timer);\n",
       "          console.log(\"Bokeh: ERROR: Unable to run BokehJS code because BokehJS library is missing\");\n",
       "        }\n",
       "      }\n",
       "    }, 10, root)\n",
       "  }\n",
       "})(window);"
      ],
      "application/vnd.bokehjs_exec.v0+json": ""
     },
     "metadata": {
      "application/vnd.bokehjs_exec.v0+json": {
       "id": "p1357"
      }
     },
     "output_type": "display_data"
    }
   ],
   "source": [
    "rates_bop(df_rates_forecast,'Rate Forecast %',0)"
   ]
  },
  {
   "cell_type": "code",
   "execution_count": 14,
   "id": "ca1588dd-d3e7-4fb9-bc5b-b98e718c293d",
   "metadata": {},
   "outputs": [],
   "source": [
    "# https://stats.oecd.org/Index.aspx?QueryId=92129#\n",
    "# df_flows = web.DataReader('FDI_AGGR_SUMM', 'oecd', start_time, end_time) #Data source is migrating hence API is not usable \n",
    "# df_India_inw=df_flows[df_flows.index=='India']['US Dollar']['Directional principle: Inward']#['FDI financial flows - Debt']\n",
    "df=pd.read_csv('FDI_AGGR_SUMM.csv')\n",
    "\n",
    "def format(df):\n",
    "    df=df[(df['Reporting country']=='India')  & (df['Type of FDI']=='FDI financial flows - Debt')& (df['Unit']=='US Dollar')]\n",
    "    df = df[df['Time'].str.contains('Q1|Q2|Q3|Q4')]\n",
    "\n",
    "\n",
    "    # Extract the quarter and year into separate columns\n",
    "    df['Year'] = df['TIME'].str.split('-').str[0]\n",
    "    df['Quarter'] = df['TIME'].str.split('-').str[1]\n",
    "\n",
    "    # Define a custom sort order for quarters\n",
    "    quarter_order = ['Q1', 'Q2', 'Q3', 'Q4']\n",
    "\n",
    "    # Sort the DataFrame based on year and quarter\n",
    "    df = df.sort_values(by=['Year', 'Quarter'], key=lambda x: x.map({q: i for i, q in enumerate(quarter_order)}))\n",
    "\n",
    "    # Reset the index if needed\n",
    "    df.reset_index(drop=True, inplace=True)\n",
    "\n",
    "    df.index=df['TIME']\n",
    "    df['Year']=df['Year'].astype(int)\n",
    "    df=df[(df['Year'])>2015]\n",
    "    df = df.drop_duplicates()\n",
    "    return(df)\n",
    "df_flows=format(df)\n"
   ]
  },
  {
   "cell_type": "code",
   "execution_count": 15,
   "id": "eaad4ba1-5a97-4661-9b51-3b3c62df5536",
   "metadata": {},
   "outputs": [],
   "source": [
    "\n",
    "df_India_inw=df_flows[df_flows['Measurement principle']=='Directional principle: Inward']\n",
    "df_India_out=df_flows[df_flows['Measurement principle']=='Directional principle: Outward']\n"
   ]
  },
  {
   "cell_type": "code",
   "execution_count": 16,
   "id": "69aa479f-193c-444a-86fe-bb12dd16125a",
   "metadata": {},
   "outputs": [],
   "source": [
    "def India(df_inw,df_out,column):\n",
    "    \n",
    "    df=pd.merge(df_inw[column],df_out[column],how='inner',left_index=True,right_index=True)\n",
    "    df = df.drop_duplicates()\n",
    "    categories = df.index.tolist()\n",
    "\n",
    "\n",
    "    p = figure(title=\"India FDI financial flows - Debt\", x_axis_label='Year', y_axis_label='Flows (USD Millions)',x_range=categories,width=1500)\n",
    "    x=df.index\n",
    "    y_inw=df[column+'_x']\n",
    "    y_out=df[column+'_y']\n",
    "    \n",
    "\n",
    "    p.line(x, y_inw, legend_label=column+' inward', line_width=2,color='green')\n",
    "    p.line(x, y_out, legend_label=column+' outward', line_width=2,color='red')\n",
    "    \n",
    "    # p.xaxis.ticker.desired_num_ticks=15\n",
    "\n",
    "    p.xaxis.major_label_orientation = 45\n",
    "    p.legend.location = \"top_left\"\n",
    "\n",
    "\n",
    "    show(p)"
   ]
  },
  {
   "cell_type": "code",
   "execution_count": 17,
   "id": "ecb8d702-5ba0-444d-b3eb-be2f53cb56ea",
   "metadata": {},
   "outputs": [
    {
     "data": {
      "text/html": [
       "\n",
       "  <div id=\"cd577879-6e6b-400e-b581-65f016bc47eb\" data-root-id=\"p1483\" style=\"display: contents;\"></div>\n"
      ]
     },
     "metadata": {},
     "output_type": "display_data"
    },
    {
     "data": {
      "application/javascript": [
       "(function(root) {\n",
       "  function embed_document(root) {\n",
       "  const docs_json = {\"9ad3c02f-231f-4433-85c1-58dc8ae51f36\":{\"version\":\"3.2.1\",\"title\":\"Bokeh Application\",\"roots\":[{\"type\":\"object\",\"name\":\"Figure\",\"id\":\"p1483\",\"attributes\":{\"width\":1500,\"x_range\":{\"type\":\"object\",\"name\":\"FactorRange\",\"id\":\"p1493\",\"attributes\":{\"factors\":[\"2016-Q1\",\"2016-Q2\",\"2016-Q3\",\"2016-Q4\",\"2017-Q1\",\"2017-Q2\",\"2017-Q3\",\"2017-Q4\",\"2018-Q1\",\"2018-Q2\",\"2018-Q3\",\"2018-Q4\",\"2019-Q1\",\"2019-Q2\",\"2019-Q3\",\"2019-Q4\",\"2020-Q1\",\"2020-Q2\",\"2020-Q3\",\"2020-Q4\",\"2021-Q1\",\"2021-Q2\",\"2021-Q3\",\"2021-Q4\",\"2022-Q1\",\"2022-Q2\",\"2022-Q3\",\"2022-Q4\",\"2023-Q1\"]}},\"y_range\":{\"type\":\"object\",\"name\":\"DataRange1d\",\"id\":\"p1485\"},\"x_scale\":{\"type\":\"object\",\"name\":\"CategoricalScale\",\"id\":\"p1494\"},\"y_scale\":{\"type\":\"object\",\"name\":\"LinearScale\",\"id\":\"p1495\"},\"title\":{\"type\":\"object\",\"name\":\"Title\",\"id\":\"p1486\",\"attributes\":{\"text\":\"India FDI financial flows - Debt\"}},\"renderers\":[{\"type\":\"object\",\"name\":\"GlyphRenderer\",\"id\":\"p1519\",\"attributes\":{\"data_source\":{\"type\":\"object\",\"name\":\"ColumnDataSource\",\"id\":\"p1513\",\"attributes\":{\"selected\":{\"type\":\"object\",\"name\":\"Selection\",\"id\":\"p1514\",\"attributes\":{\"indices\":[],\"line_indices\":[]}},\"selection_policy\":{\"type\":\"object\",\"name\":\"UnionRenderers\",\"id\":\"p1515\"},\"data\":{\"type\":\"map\",\"entries\":[[\"x\",{\"type\":\"ndarray\",\"array\":[\"2016-Q1\",\"2016-Q2\",\"2016-Q3\",\"2016-Q4\",\"2017-Q1\",\"2017-Q2\",\"2017-Q3\",\"2017-Q4\",\"2018-Q1\",\"2018-Q2\",\"2018-Q3\",\"2018-Q4\",\"2019-Q1\",\"2019-Q2\",\"2019-Q3\",\"2019-Q4\",\"2020-Q1\",\"2020-Q2\",\"2020-Q3\",\"2020-Q4\",\"2021-Q1\",\"2021-Q2\",\"2021-Q3\",\"2021-Q4\",\"2022-Q1\",\"2022-Q2\",\"2022-Q3\",\"2022-Q4\",\"2023-Q1\"],\"shape\":[29],\"dtype\":\"object\",\"order\":\"little\"}],[\"y\",{\"type\":\"ndarray\",\"array\":{\"type\":\"bytes\",\"data\":\"SdV2E7zqhkCFa6RbpeGDQMiO1822cIVAZrLJK0EAekAuyzIfe3KHQJ7VXTRf4I5APs40YcvViEBy07ApQfd0QKa9HNFo8YFA9ihcj8IniUCuR+F6FKJ+QB+F61G4sI9A9ihcj8JthkAAAAAAAMiRQAAAAAAAuJNAAAAAAAAGsUAAAAAAAECYQAAAAAAABJBAAAAAAAAsmUAAAAAAADCFQAAAAAAA6IFAAAAAAABIjEAAAAAAAGCFQAAAAAAAkJZAAAAAAAAwlUAAAAAAANiFQAAAAAAAOIpAAAAAAADAUcAAAAAAAMiLQA==\"},\"shape\":[29],\"dtype\":\"float64\",\"order\":\"little\"}]]}}},\"view\":{\"type\":\"object\",\"name\":\"CDSView\",\"id\":\"p1520\",\"attributes\":{\"filter\":{\"type\":\"object\",\"name\":\"AllIndices\",\"id\":\"p1521\"}}},\"glyph\":{\"type\":\"object\",\"name\":\"Line\",\"id\":\"p1516\",\"attributes\":{\"x\":{\"type\":\"field\",\"field\":\"x\"},\"y\":{\"type\":\"field\",\"field\":\"y\"},\"line_color\":\"green\",\"line_width\":2}},\"nonselection_glyph\":{\"type\":\"object\",\"name\":\"Line\",\"id\":\"p1517\",\"attributes\":{\"x\":{\"type\":\"field\",\"field\":\"x\"},\"y\":{\"type\":\"field\",\"field\":\"y\"},\"line_color\":\"green\",\"line_alpha\":0.1,\"line_width\":2}},\"muted_glyph\":{\"type\":\"object\",\"name\":\"Line\",\"id\":\"p1518\",\"attributes\":{\"x\":{\"type\":\"field\",\"field\":\"x\"},\"y\":{\"type\":\"field\",\"field\":\"y\"},\"line_color\":\"green\",\"line_alpha\":0.2,\"line_width\":2}}}},{\"type\":\"object\",\"name\":\"GlyphRenderer\",\"id\":\"p1530\",\"attributes\":{\"data_source\":{\"type\":\"object\",\"name\":\"ColumnDataSource\",\"id\":\"p1524\",\"attributes\":{\"selected\":{\"type\":\"object\",\"name\":\"Selection\",\"id\":\"p1525\",\"attributes\":{\"indices\":[],\"line_indices\":[]}},\"selection_policy\":{\"type\":\"object\",\"name\":\"UnionRenderers\",\"id\":\"p1526\"},\"data\":{\"type\":\"map\",\"entries\":[[\"x\",{\"type\":\"ndarray\",\"array\":[\"2016-Q1\",\"2016-Q2\",\"2016-Q3\",\"2016-Q4\",\"2017-Q1\",\"2017-Q2\",\"2017-Q3\",\"2017-Q4\",\"2018-Q1\",\"2018-Q2\",\"2018-Q3\",\"2018-Q4\",\"2019-Q1\",\"2019-Q2\",\"2019-Q3\",\"2019-Q4\",\"2020-Q1\",\"2020-Q2\",\"2020-Q3\",\"2020-Q4\",\"2021-Q1\",\"2021-Q2\",\"2021-Q3\",\"2021-Q4\",\"2022-Q1\",\"2022-Q2\",\"2022-Q3\",\"2022-Q4\",\"2023-Q1\"],\"shape\":[29],\"dtype\":\"object\",\"order\":\"little\"}],[\"y\",{\"type\":\"ndarray\",\"array\":{\"type\":\"bytes\",\"data\":\"PQrXo3Brh0AK16NwPQKUQAAAAAAAFIRA4XoUrkcBjUBcj8L1KPmYQI/C9ShcXZNAuB6F61HlmECkcD0K18GGQLgehetRII5AFK5H4XpKh0CkcD0K1y6TQHsUrkfhR5FAAAAAAACWoEAAAAAAANiSQAAAAAAATJVAAAAAAAAokkAAAAAAAFyeQAAAAAAAqIhAAAAAAAAgmkAAAAAAAMCVQAAAAAAAJqZAAAAAAABCpkAAAAAAAJCaQAAAAAAAfJZAAAAAAAA8mUAAAAAAAESSQAAAAAAAJJJAAAAAAAAMl0AAAAAAACiOQA==\"},\"shape\":[29],\"dtype\":\"float64\",\"order\":\"little\"}]]}}},\"view\":{\"type\":\"object\",\"name\":\"CDSView\",\"id\":\"p1531\",\"attributes\":{\"filter\":{\"type\":\"object\",\"name\":\"AllIndices\",\"id\":\"p1532\"}}},\"glyph\":{\"type\":\"object\",\"name\":\"Line\",\"id\":\"p1527\",\"attributes\":{\"x\":{\"type\":\"field\",\"field\":\"x\"},\"y\":{\"type\":\"field\",\"field\":\"y\"},\"line_color\":\"red\",\"line_width\":2}},\"nonselection_glyph\":{\"type\":\"object\",\"name\":\"Line\",\"id\":\"p1528\",\"attributes\":{\"x\":{\"type\":\"field\",\"field\":\"x\"},\"y\":{\"type\":\"field\",\"field\":\"y\"},\"line_color\":\"red\",\"line_alpha\":0.1,\"line_width\":2}},\"muted_glyph\":{\"type\":\"object\",\"name\":\"Line\",\"id\":\"p1529\",\"attributes\":{\"x\":{\"type\":\"field\",\"field\":\"x\"},\"y\":{\"type\":\"field\",\"field\":\"y\"},\"line_color\":\"red\",\"line_alpha\":0.2,\"line_width\":2}}}}],\"toolbar\":{\"type\":\"object\",\"name\":\"Toolbar\",\"id\":\"p1492\",\"attributes\":{\"tools\":[{\"type\":\"object\",\"name\":\"PanTool\",\"id\":\"p1506\"},{\"type\":\"object\",\"name\":\"WheelZoomTool\",\"id\":\"p1507\"},{\"type\":\"object\",\"name\":\"BoxZoomTool\",\"id\":\"p1508\",\"attributes\":{\"overlay\":{\"type\":\"object\",\"name\":\"BoxAnnotation\",\"id\":\"p1509\",\"attributes\":{\"syncable\":false,\"level\":\"overlay\",\"visible\":false,\"left_units\":\"canvas\",\"right_units\":\"canvas\",\"bottom_units\":\"canvas\",\"top_units\":\"canvas\",\"line_color\":\"black\",\"line_alpha\":1.0,\"line_width\":2,\"line_dash\":[4,4],\"fill_color\":\"lightgrey\",\"fill_alpha\":0.5}}}},{\"type\":\"object\",\"name\":\"SaveTool\",\"id\":\"p1510\"},{\"type\":\"object\",\"name\":\"ResetTool\",\"id\":\"p1511\"},{\"type\":\"object\",\"name\":\"HelpTool\",\"id\":\"p1512\"}]}},\"left\":[{\"type\":\"object\",\"name\":\"LinearAxis\",\"id\":\"p1501\",\"attributes\":{\"ticker\":{\"type\":\"object\",\"name\":\"BasicTicker\",\"id\":\"p1502\",\"attributes\":{\"mantissas\":[1,2,5]}},\"formatter\":{\"type\":\"object\",\"name\":\"BasicTickFormatter\",\"id\":\"p1503\"},\"axis_label\":\"Flows (USD Millions)\",\"major_label_policy\":{\"type\":\"object\",\"name\":\"AllLabels\",\"id\":\"p1504\"}}}],\"below\":[{\"type\":\"object\",\"name\":\"CategoricalAxis\",\"id\":\"p1496\",\"attributes\":{\"ticker\":{\"type\":\"object\",\"name\":\"CategoricalTicker\",\"id\":\"p1497\"},\"formatter\":{\"type\":\"object\",\"name\":\"CategoricalTickFormatter\",\"id\":\"p1498\"},\"axis_label\":\"Year\",\"major_label_orientation\":45,\"major_label_policy\":{\"type\":\"object\",\"name\":\"AllLabels\",\"id\":\"p1499\"}}}],\"center\":[{\"type\":\"object\",\"name\":\"Grid\",\"id\":\"p1500\",\"attributes\":{\"axis\":{\"id\":\"p1496\"}}},{\"type\":\"object\",\"name\":\"Grid\",\"id\":\"p1505\",\"attributes\":{\"dimension\":1,\"axis\":{\"id\":\"p1501\"}}},{\"type\":\"object\",\"name\":\"Legend\",\"id\":\"p1522\",\"attributes\":{\"location\":\"top_left\",\"items\":[{\"type\":\"object\",\"name\":\"LegendItem\",\"id\":\"p1523\",\"attributes\":{\"label\":{\"type\":\"value\",\"value\":\"Value inward\"},\"renderers\":[{\"id\":\"p1519\"}]}},{\"type\":\"object\",\"name\":\"LegendItem\",\"id\":\"p1533\",\"attributes\":{\"label\":{\"type\":\"value\",\"value\":\"Value outward\"},\"renderers\":[{\"id\":\"p1530\"}]}}]}}]}}]}};\n",
       "  const render_items = [{\"docid\":\"9ad3c02f-231f-4433-85c1-58dc8ae51f36\",\"roots\":{\"p1483\":\"cd577879-6e6b-400e-b581-65f016bc47eb\"},\"root_ids\":[\"p1483\"]}];\n",
       "  root.Bokeh.embed.embed_items_notebook(docs_json, render_items);\n",
       "  }\n",
       "  if (root.Bokeh !== undefined) {\n",
       "    embed_document(root);\n",
       "  } else {\n",
       "    let attempts = 0;\n",
       "    const timer = setInterval(function(root) {\n",
       "      if (root.Bokeh !== undefined) {\n",
       "        clearInterval(timer);\n",
       "        embed_document(root);\n",
       "      } else {\n",
       "        attempts++;\n",
       "        if (attempts > 100) {\n",
       "          clearInterval(timer);\n",
       "          console.log(\"Bokeh: ERROR: Unable to run BokehJS code because BokehJS library is missing\");\n",
       "        }\n",
       "      }\n",
       "    }, 10, root)\n",
       "  }\n",
       "})(window);"
      ],
      "application/vnd.bokehjs_exec.v0+json": ""
     },
     "metadata": {
      "application/vnd.bokehjs_exec.v0+json": {
       "id": "p1483"
      }
     },
     "output_type": "display_data"
    }
   ],
   "source": [
    "India(df_India_inw,df_India_out,'Value')\n",
    "# Data Source: https://stats.oecd.org/Index.aspx?QueryId=92129#"
   ]
  },
  {
   "cell_type": "code",
   "execution_count": 18,
   "id": "9aa2bf99-f4a5-4b22-b4f6-33e401007220",
   "metadata": {},
   "outputs": [
    {
     "name": "stdout",
     "output_type": "stream",
     "text": [
      "Requirement already satisfied: PublicDataReader in /Users/hit/anaconda3/lib/python3.11/site-packages (1.0.25)\n",
      "Requirement already satisfied: beautifulsoup4 in /Users/hit/anaconda3/lib/python3.11/site-packages (from PublicDataReader) (4.12.2)\n",
      "Requirement already satisfied: lxml in /Users/hit/anaconda3/lib/python3.11/site-packages (from PublicDataReader) (4.9.3)\n",
      "Requirement already satisfied: numpy in /Users/hit/anaconda3/lib/python3.11/site-packages (from PublicDataReader) (1.24.3)\n",
      "Requirement already satisfied: pandas in /Users/hit/anaconda3/lib/python3.11/site-packages (from PublicDataReader) (2.0.3)\n",
      "Requirement already satisfied: requests in /Users/hit/anaconda3/lib/python3.11/site-packages (from PublicDataReader) (2.31.0)\n",
      "Requirement already satisfied: xmltodict in /Users/hit/anaconda3/lib/python3.11/site-packages (from PublicDataReader) (0.13.0)\n",
      "Requirement already satisfied: soupsieve>1.2 in /Users/hit/anaconda3/lib/python3.11/site-packages (from beautifulsoup4->PublicDataReader) (2.4)\n",
      "Requirement already satisfied: python-dateutil>=2.8.2 in /Users/hit/anaconda3/lib/python3.11/site-packages (from pandas->PublicDataReader) (2.8.2)\n",
      "Requirement already satisfied: pytz>=2020.1 in /Users/hit/anaconda3/lib/python3.11/site-packages (from pandas->PublicDataReader) (2023.3.post1)\n",
      "Requirement already satisfied: tzdata>=2022.1 in /Users/hit/anaconda3/lib/python3.11/site-packages (from pandas->PublicDataReader) (2023.3)\n",
      "Requirement already satisfied: charset-normalizer<4,>=2 in /Users/hit/anaconda3/lib/python3.11/site-packages (from requests->PublicDataReader) (2.0.4)\n",
      "Requirement already satisfied: idna<4,>=2.5 in /Users/hit/anaconda3/lib/python3.11/site-packages (from requests->PublicDataReader) (3.4)\n",
      "Requirement already satisfied: urllib3<3,>=1.21.1 in /Users/hit/anaconda3/lib/python3.11/site-packages (from requests->PublicDataReader) (1.26.16)\n",
      "Requirement already satisfied: certifi>=2017.4.17 in /Users/hit/anaconda3/lib/python3.11/site-packages (from requests->PublicDataReader) (2023.7.22)\n",
      "Requirement already satisfied: six>=1.5 in /Users/hit/anaconda3/lib/python3.11/site-packages (from python-dateutil>=2.8.2->pandas->PublicDataReader) (1.16.0)\n",
      "Requirement already satisfied: fredapi in /Users/hit/anaconda3/lib/python3.11/site-packages (0.5.1)\n",
      "Requirement already satisfied: pandas in /Users/hit/anaconda3/lib/python3.11/site-packages (from fredapi) (2.0.3)\n",
      "Requirement already satisfied: python-dateutil>=2.8.2 in /Users/hit/anaconda3/lib/python3.11/site-packages (from pandas->fredapi) (2.8.2)\n",
      "Requirement already satisfied: pytz>=2020.1 in /Users/hit/anaconda3/lib/python3.11/site-packages (from pandas->fredapi) (2023.3.post1)\n",
      "Requirement already satisfied: tzdata>=2022.1 in /Users/hit/anaconda3/lib/python3.11/site-packages (from pandas->fredapi) (2023.3)\n",
      "Requirement already satisfied: numpy>=1.21.0 in /Users/hit/anaconda3/lib/python3.11/site-packages (from pandas->fredapi) (1.24.3)\n",
      "Requirement already satisfied: six>=1.5 in /Users/hit/anaconda3/lib/python3.11/site-packages (from python-dateutil>=2.8.2->pandas->fredapi) (1.16.0)\n"
     ]
    }
   ],
   "source": [
    "!pip install PublicDataReader --upgrade\n",
    "!pip install fredapi\n",
    "\n",
    "# https://fred.stlouisfed.org/series/INDBCABP6USD\n",
    "from fredapi import Fred\n",
    "fred = Fred(api_key='46638c506833ac8e65a7798cf2c5315e')"
   ]
  },
  {
   "cell_type": "code",
   "execution_count": 19,
   "id": "8a05a743-1814-4d26-a15f-0ca1bc1dfa9e",
   "metadata": {},
   "outputs": [],
   "source": [
    "# data = fred.get_series('SP500')\n",
    "# data = fred.get_series('DAAA')#inv grade bonds\n",
    "def fred_data_func(tag,metric):\n",
    "    df=pd.DataFrame(fred.get_series(tag),columns=[metric]) \n",
    "    return(df)"
   ]
  },
  {
   "cell_type": "code",
   "execution_count": 20,
   "id": "46a90980-ed1f-4609-bd9a-f3f6177b8447",
   "metadata": {},
   "outputs": [
    {
     "data": {
      "text/html": [
       "<div>\n",
       "<style scoped>\n",
       "    .dataframe tbody tr th:only-of-type {\n",
       "        vertical-align: middle;\n",
       "    }\n",
       "\n",
       "    .dataframe tbody tr th {\n",
       "        vertical-align: top;\n",
       "    }\n",
       "\n",
       "    .dataframe thead th {\n",
       "        text-align: right;\n",
       "    }\n",
       "</style>\n",
       "<table border=\"1\" class=\"dataframe\">\n",
       "  <thead>\n",
       "    <tr style=\"text-align: right;\">\n",
       "      <th></th>\n",
       "      <th>CPI</th>\n",
       "      <th>BOP</th>\n",
       "      <th>GDP</th>\n",
       "    </tr>\n",
       "    <tr>\n",
       "      <th>Date</th>\n",
       "      <th></th>\n",
       "      <th></th>\n",
       "      <th></th>\n",
       "    </tr>\n",
       "  </thead>\n",
       "  <tbody>\n",
       "    <tr>\n",
       "      <th>2013-01-01</th>\n",
       "      <td>84.539369</td>\n",
       "      <td>NaN</td>\n",
       "      <td>24670800.0</td>\n",
       "    </tr>\n",
       "    <tr>\n",
       "      <th>2014-01-01</th>\n",
       "      <td>90.659866</td>\n",
       "      <td>NaN</td>\n",
       "      <td>25989000.0</td>\n",
       "    </tr>\n",
       "    <tr>\n",
       "      <th>2015-01-01</th>\n",
       "      <td>97.162894</td>\n",
       "      <td>NaN</td>\n",
       "      <td>27837300.0</td>\n",
       "    </tr>\n",
       "    <tr>\n",
       "      <th>2016-01-01</th>\n",
       "      <td>102.900861</td>\n",
       "      <td>-14351.000000</td>\n",
       "      <td>30367400.0</td>\n",
       "    </tr>\n",
       "    <tr>\n",
       "      <th>2017-01-01</th>\n",
       "      <td>104.813516</td>\n",
       "      <td>-48662.000000</td>\n",
       "      <td>32277300.0</td>\n",
       "    </tr>\n",
       "    <tr>\n",
       "      <th>2018-01-01</th>\n",
       "      <td>110.168951</td>\n",
       "      <td>-57183.000000</td>\n",
       "      <td>35160600.0</td>\n",
       "    </tr>\n",
       "    <tr>\n",
       "      <th>2019-01-01</th>\n",
       "      <td>117.437042</td>\n",
       "      <td>-57805.627897</td>\n",
       "      <td>37172100.0</td>\n",
       "    </tr>\n",
       "    <tr>\n",
       "      <th>2020-01-01</th>\n",
       "      <td>126.235257</td>\n",
       "      <td>-73539.005381</td>\n",
       "      <td>38266800.0</td>\n",
       "    </tr>\n",
       "    <tr>\n",
       "      <th>2021-01-01</th>\n",
       "      <td>130.228035</td>\n",
       "      <td>-80444.597061</td>\n",
       "      <td>39557800.0</td>\n",
       "    </tr>\n",
       "    <tr>\n",
       "      <th>2022-01-01</th>\n",
       "      <td>137.830179</td>\n",
       "      <td>-93095.565048</td>\n",
       "      <td>41123600.0</td>\n",
       "    </tr>\n",
       "    <tr>\n",
       "      <th>2023-01-01</th>\n",
       "      <td>146.313731</td>\n",
       "      <td>-102639.199651</td>\n",
       "      <td>43615100.0</td>\n",
       "    </tr>\n",
       "  </tbody>\n",
       "</table>\n",
       "</div>"
      ],
      "text/plain": [
       "                   CPI            BOP         GDP\n",
       "Date                                             \n",
       "2013-01-01   84.539369            NaN  24670800.0\n",
       "2014-01-01   90.659866            NaN  25989000.0\n",
       "2015-01-01   97.162894            NaN  27837300.0\n",
       "2016-01-01  102.900861  -14351.000000  30367400.0\n",
       "2017-01-01  104.813516  -48662.000000  32277300.0\n",
       "2018-01-01  110.168951  -57183.000000  35160600.0\n",
       "2019-01-01  117.437042  -57805.627897  37172100.0\n",
       "2020-01-01  126.235257  -73539.005381  38266800.0\n",
       "2021-01-01  130.228035  -80444.597061  39557800.0\n",
       "2022-01-01  137.830179  -93095.565048  41123600.0\n",
       "2023-01-01  146.313731 -102639.199651  43615100.0"
      ]
     },
     "execution_count": 20,
     "metadata": {},
     "output_type": "execute_result"
    }
   ],
   "source": [
    "CPI = fred_data_func('INDCPIALLMINMEI','CPI')\n",
    "BOP = fred_data_func('INDBCABP6USD','BOP')\n",
    "GDP = fred_data_func('NGDPRNSAXDCINQ','GDP')\n",
    "\n",
    "\n",
    "data1=pd.merge(CPI,BOP, left_index=True, right_index=True,how='inner')\n",
    "fred_data=pd.merge(data1,GDP, left_index=True, right_index=True,how='inner')\n",
    "\n",
    "fred_data.index.name='Date'\n",
    "fred_data=fred_data[fred_data.index.year>2012]\n",
    "fred_data['BOP']=fred_data['BOP']/1000000\n",
    "fred_data"
   ]
  },
  {
   "cell_type": "code",
   "execution_count": 21,
   "id": "20c22c42-04b6-4207-9d62-b4182f0758b9",
   "metadata": {},
   "outputs": [
    {
     "data": {
      "text/html": [
       "\n",
       "  <div id=\"ada9c5aa-6704-4993-a5d3-67525b0eeb5c\" data-root-id=\"p1536\" style=\"display: contents;\"></div>\n"
      ]
     },
     "metadata": {},
     "output_type": "display_data"
    },
    {
     "data": {
      "application/javascript": [
       "(function(root) {\n",
       "  function embed_document(root) {\n",
       "  const docs_json = {\"aaf35cd6-1cc1-49a5-9815-b9f5a08e08a3\":{\"version\":\"3.2.1\",\"title\":\"Bokeh Application\",\"roots\":[{\"type\":\"object\",\"name\":\"Figure\",\"id\":\"p1536\",\"attributes\":{\"x_range\":{\"type\":\"object\",\"name\":\"DataRange1d\",\"id\":\"p1537\"},\"y_range\":{\"type\":\"object\",\"name\":\"Range1d\",\"id\":\"p1587\",\"attributes\":{\"start\":-102640.1996507,\"end\":-14350.0}},\"x_scale\":{\"type\":\"object\",\"name\":\"LinearScale\",\"id\":\"p1545\"},\"y_scale\":{\"type\":\"object\",\"name\":\"LinearScale\",\"id\":\"p1546\"},\"extra_y_ranges\":{\"type\":\"map\",\"entries\":[[\"CPI_range\",{\"type\":\"object\",\"name\":\"Range1d\",\"id\":\"p1588\",\"attributes\":{\"start\":74.5393688237169,\"end\":156.313731308641}}]]},\"title\":{\"type\":\"object\",\"name\":\"Title\",\"id\":\"p1543\"},\"renderers\":[{\"type\":\"object\",\"name\":\"GlyphRenderer\",\"id\":\"p1582\",\"attributes\":{\"data_source\":{\"type\":\"object\",\"name\":\"ColumnDataSource\",\"id\":\"p1576\",\"attributes\":{\"selected\":{\"type\":\"object\",\"name\":\"Selection\",\"id\":\"p1577\",\"attributes\":{\"indices\":[],\"line_indices\":[]}},\"selection_policy\":{\"type\":\"object\",\"name\":\"UnionRenderers\",\"id\":\"p1578\"},\"data\":{\"type\":\"map\",\"entries\":[[\"x\",{\"type\":\"ndarray\",\"array\":{\"type\":\"bytes\",\"data\":\"AACAhTa/c0IAAECYsTR0QgAAAKssqnRCAADAvacfdUIAAEA2dZV1QgAAAEnwCnZCAADAW2uAdkIAAIBu5vV2QgAAAOeza3dCAADA+S7hd0IAAIAMqlZ4Qg==\"},\"shape\":[11],\"dtype\":\"float64\",\"order\":\"little\"}],[\"y\",{\"type\":\"ndarray\",\"array\":{\"type\":\"bytes\",\"data\":\"AAAAAAAA+H8AAAAAAAD4fwAAAAAAAPh/AAAAAIAHzMAAAAAAwMLnwAAAAADg6+vAaN67F7Q57MCoEgoWMPTxwHsLkI3Jo/PAY+BvCnm69sCy7sQx8w75wA==\"},\"shape\":[11],\"dtype\":\"float64\",\"order\":\"little\"}]]}}},\"view\":{\"type\":\"object\",\"name\":\"CDSView\",\"id\":\"p1583\",\"attributes\":{\"filter\":{\"type\":\"object\",\"name\":\"AllIndices\",\"id\":\"p1584\"}}},\"glyph\":{\"type\":\"object\",\"name\":\"Line\",\"id\":\"p1579\",\"attributes\":{\"x\":{\"type\":\"field\",\"field\":\"x\"},\"y\":{\"type\":\"field\",\"field\":\"y\"},\"line_color\":\"blue\"}},\"nonselection_glyph\":{\"type\":\"object\",\"name\":\"Line\",\"id\":\"p1580\",\"attributes\":{\"x\":{\"type\":\"field\",\"field\":\"x\"},\"y\":{\"type\":\"field\",\"field\":\"y\"},\"line_color\":\"blue\",\"line_alpha\":0.1}},\"muted_glyph\":{\"type\":\"object\",\"name\":\"Line\",\"id\":\"p1581\",\"attributes\":{\"x\":{\"type\":\"field\",\"field\":\"x\"},\"y\":{\"type\":\"field\",\"field\":\"y\"},\"line_color\":\"blue\",\"line_alpha\":0.2}}}},{\"type\":\"object\",\"name\":\"GlyphRenderer\",\"id\":\"p1599\",\"attributes\":{\"y_range_name\":\"CPI_range\",\"data_source\":{\"type\":\"object\",\"name\":\"ColumnDataSource\",\"id\":\"p1593\",\"attributes\":{\"selected\":{\"type\":\"object\",\"name\":\"Selection\",\"id\":\"p1594\",\"attributes\":{\"indices\":[],\"line_indices\":[]}},\"selection_policy\":{\"type\":\"object\",\"name\":\"UnionRenderers\",\"id\":\"p1595\"},\"data\":{\"type\":\"map\",\"entries\":[[\"x\",{\"type\":\"ndarray\",\"array\":{\"type\":\"bytes\",\"data\":\"AACAhTa/c0IAAECYsTR0QgAAAKssqnRCAADAvacfdUIAAEA2dZV1QgAAAEnwCnZCAADAW2uAdkIAAIBu5vV2QgAAAOeza3dCAADA+S7hd0IAAIAMqlZ4Qg==\"},\"shape\":[11],\"dtype\":\"float64\",\"order\":\"little\"}],[\"y\",{\"type\":\"ndarray\",\"array\":{\"type\":\"bytes\",\"data\":\"JpbQBIUiVUAS+RQ/O6pWQCai/dxsSlhAwL6ds6e5WUDLHdOlEDRaQEX0zhjQiltAyikAfvhbXUD7d8JxDo9fQLrU8A9MR2BATY/L05A6YUAFyz0WCkpiQA==\"},\"shape\":[11],\"dtype\":\"float64\",\"order\":\"little\"}]]}}},\"view\":{\"type\":\"object\",\"name\":\"CDSView\",\"id\":\"p1600\",\"attributes\":{\"filter\":{\"type\":\"object\",\"name\":\"AllIndices\",\"id\":\"p1601\"}}},\"glyph\":{\"type\":\"object\",\"name\":\"Line\",\"id\":\"p1596\",\"attributes\":{\"x\":{\"type\":\"field\",\"field\":\"x\"},\"y\":{\"type\":\"field\",\"field\":\"y\"},\"line_color\":\"green\"}},\"nonselection_glyph\":{\"type\":\"object\",\"name\":\"Line\",\"id\":\"p1597\",\"attributes\":{\"x\":{\"type\":\"field\",\"field\":\"x\"},\"y\":{\"type\":\"field\",\"field\":\"y\"},\"line_color\":\"green\",\"line_alpha\":0.1}},\"muted_glyph\":{\"type\":\"object\",\"name\":\"Line\",\"id\":\"p1598\",\"attributes\":{\"x\":{\"type\":\"field\",\"field\":\"x\"},\"y\":{\"type\":\"field\",\"field\":\"y\"},\"line_color\":\"green\",\"line_alpha\":0.2}}}}],\"toolbar\":{\"type\":\"object\",\"name\":\"Toolbar\",\"id\":\"p1544\",\"attributes\":{\"tools\":[{\"type\":\"object\",\"name\":\"PanTool\",\"id\":\"p1569\"},{\"type\":\"object\",\"name\":\"WheelZoomTool\",\"id\":\"p1570\"},{\"type\":\"object\",\"name\":\"BoxZoomTool\",\"id\":\"p1571\",\"attributes\":{\"overlay\":{\"type\":\"object\",\"name\":\"BoxAnnotation\",\"id\":\"p1572\",\"attributes\":{\"syncable\":false,\"level\":\"overlay\",\"visible\":false,\"left_units\":\"canvas\",\"right_units\":\"canvas\",\"bottom_units\":\"canvas\",\"top_units\":\"canvas\",\"line_color\":\"black\",\"line_alpha\":1.0,\"line_width\":2,\"line_dash\":[4,4],\"fill_color\":\"lightgrey\",\"fill_alpha\":0.5}}}},{\"type\":\"object\",\"name\":\"SaveTool\",\"id\":\"p1573\"},{\"type\":\"object\",\"name\":\"ResetTool\",\"id\":\"p1574\"},{\"type\":\"object\",\"name\":\"HelpTool\",\"id\":\"p1575\"}]}},\"left\":[{\"type\":\"object\",\"name\":\"LinearAxis\",\"id\":\"p1564\",\"attributes\":{\"ticker\":{\"type\":\"object\",\"name\":\"BasicTicker\",\"id\":\"p1565\",\"attributes\":{\"mantissas\":[1,2,5]}},\"formatter\":{\"type\":\"object\",\"name\":\"NumeralTickFormatter\",\"id\":\"p1603\",\"attributes\":{\"format\":\",000\"}},\"axis_label\":\"BOP (USD billion) \",\"major_label_policy\":{\"type\":\"object\",\"name\":\"AllLabels\",\"id\":\"p1567\"}}}],\"right\":[{\"type\":\"object\",\"name\":\"LinearAxis\",\"id\":\"p1589\",\"attributes\":{\"y_range_name\":\"CPI_range\",\"ticker\":{\"type\":\"object\",\"name\":\"BasicTicker\",\"id\":\"p1590\",\"attributes\":{\"mantissas\":[1,2,5]}},\"formatter\":{\"id\":\"p1603\"},\"axis_label\":\"CPI\",\"major_label_policy\":{\"type\":\"object\",\"name\":\"AllLabels\",\"id\":\"p1592\"}}}],\"below\":[{\"type\":\"object\",\"name\":\"DatetimeAxis\",\"id\":\"p1547\",\"attributes\":{\"ticker\":{\"type\":\"object\",\"name\":\"DatetimeTicker\",\"id\":\"p1548\",\"attributes\":{\"num_minor_ticks\":5,\"tickers\":[{\"type\":\"object\",\"name\":\"AdaptiveTicker\",\"id\":\"p1549\",\"attributes\":{\"num_minor_ticks\":0,\"mantissas\":[1,2,5],\"max_interval\":500.0}},{\"type\":\"object\",\"name\":\"AdaptiveTicker\",\"id\":\"p1550\",\"attributes\":{\"num_minor_ticks\":0,\"base\":60,\"mantissas\":[1,2,5,10,15,20,30],\"min_interval\":1000.0,\"max_interval\":1800000.0}},{\"type\":\"object\",\"name\":\"AdaptiveTicker\",\"id\":\"p1551\",\"attributes\":{\"num_minor_ticks\":0,\"base\":24,\"mantissas\":[1,2,4,6,8,12],\"min_interval\":3600000.0,\"max_interval\":43200000.0}},{\"type\":\"object\",\"name\":\"DaysTicker\",\"id\":\"p1552\",\"attributes\":{\"days\":[1,2,3,4,5,6,7,8,9,10,11,12,13,14,15,16,17,18,19,20,21,22,23,24,25,26,27,28,29,30,31]}},{\"type\":\"object\",\"name\":\"DaysTicker\",\"id\":\"p1553\",\"attributes\":{\"days\":[1,4,7,10,13,16,19,22,25,28]}},{\"type\":\"object\",\"name\":\"DaysTicker\",\"id\":\"p1554\",\"attributes\":{\"days\":[1,8,15,22]}},{\"type\":\"object\",\"name\":\"DaysTicker\",\"id\":\"p1555\",\"attributes\":{\"days\":[1,15]}},{\"type\":\"object\",\"name\":\"MonthsTicker\",\"id\":\"p1556\",\"attributes\":{\"months\":[0,1,2,3,4,5,6,7,8,9,10,11]}},{\"type\":\"object\",\"name\":\"MonthsTicker\",\"id\":\"p1557\",\"attributes\":{\"months\":[0,2,4,6,8,10]}},{\"type\":\"object\",\"name\":\"MonthsTicker\",\"id\":\"p1558\",\"attributes\":{\"months\":[0,4,8]}},{\"type\":\"object\",\"name\":\"MonthsTicker\",\"id\":\"p1559\",\"attributes\":{\"months\":[0,6]}},{\"type\":\"object\",\"name\":\"YearsTicker\",\"id\":\"p1560\"}]}},\"formatter\":{\"type\":\"object\",\"name\":\"DatetimeTickFormatter\",\"id\":\"p1561\"},\"axis_label\":\"Date\",\"major_label_policy\":{\"type\":\"object\",\"name\":\"AllLabels\",\"id\":\"p1562\"}}}],\"center\":[{\"type\":\"object\",\"name\":\"Grid\",\"id\":\"p1563\",\"attributes\":{\"axis\":{\"id\":\"p1547\"}}},{\"type\":\"object\",\"name\":\"Grid\",\"id\":\"p1568\",\"attributes\":{\"dimension\":1,\"axis\":{\"id\":\"p1564\"}}},{\"type\":\"object\",\"name\":\"Legend\",\"id\":\"p1585\",\"attributes\":{\"location\":\"top_left\",\"items\":[{\"type\":\"object\",\"name\":\"LegendItem\",\"id\":\"p1586\",\"attributes\":{\"label\":{\"type\":\"value\",\"value\":\"BOP\"},\"renderers\":[{\"id\":\"p1582\"}]}},{\"type\":\"object\",\"name\":\"LegendItem\",\"id\":\"p1602\",\"attributes\":{\"label\":{\"type\":\"value\",\"value\":\"CPI\"},\"renderers\":[{\"id\":\"p1599\"}]}}]}}]}}]}};\n",
       "  const render_items = [{\"docid\":\"aaf35cd6-1cc1-49a5-9815-b9f5a08e08a3\",\"roots\":{\"p1536\":\"ada9c5aa-6704-4993-a5d3-67525b0eeb5c\"},\"root_ids\":[\"p1536\"]}];\n",
       "  root.Bokeh.embed.embed_items_notebook(docs_json, render_items);\n",
       "  }\n",
       "  if (root.Bokeh !== undefined) {\n",
       "    embed_document(root);\n",
       "  } else {\n",
       "    let attempts = 0;\n",
       "    const timer = setInterval(function(root) {\n",
       "      if (root.Bokeh !== undefined) {\n",
       "        clearInterval(timer);\n",
       "        embed_document(root);\n",
       "      } else {\n",
       "        attempts++;\n",
       "        if (attempts > 100) {\n",
       "          clearInterval(timer);\n",
       "          console.log(\"Bokeh: ERROR: Unable to run BokehJS code because BokehJS library is missing\");\n",
       "        }\n",
       "      }\n",
       "    }, 10, root)\n",
       "  }\n",
       "})(window);"
      ],
      "application/vnd.bokehjs_exec.v0+json": ""
     },
     "metadata": {
      "application/vnd.bokehjs_exec.v0+json": {
       "id": "p1536"
      }
     },
     "output_type": "display_data"
    }
   ],
   "source": [
    "from bokeh.layouts import column\n",
    "import numpy as np\n",
    "\n",
    "def fred_chart(df):\n",
    "    \n",
    "    # pandas dataframe\n",
    "    x_column = \"Date\"\n",
    "    y_column1 = \"BOP\"\n",
    "    y_column2 = \"CPI\"\n",
    "    y_column3 = \"GDP\"\n",
    "    \n",
    "    # Bokeh plot\n",
    "    \n",
    "    y_overlimit = 0 #0.05 # show y axis below and above y min and max value\n",
    "    p = figure(x_axis_type='datetime',x_axis_label=x_column,\n",
    "           y_axis_label=str(y_column1)+' (USD billion) ')#, tools=\"hover\", tooltips=\"$name @y_column2: @$name\")\n",
    "    \n",
    "    # FIRST AXIS\n",
    "    p.line(df.index, df[y_column1], line_width=1, color=\"blue\",legend_label=y_column1)\n",
    "    # p.vbar(x=df.index, top=df[y_column1], width=1, legend_label=y_column1) #color=\"red\",\n",
    "\n",
    "    p.y_range = Range1d(\n",
    "        df[y_column1].min()-1 ,#* (1 - y_overlimit), \n",
    "        df[y_column1].max()+1 #* (1 + y_overlimit)\n",
    "    )\n",
    "    \n",
    "    # SECOND AXIS\n",
    "    y_column2_range = y_column2 + \"_range\"\n",
    "    p.extra_y_ranges = {\n",
    "        y_column2_range: Range1d(\n",
    "            start=df[y_column2].min()-10 ,#* (1 - y_overlimit),\n",
    "            end=df[y_column2].max()+10 ,#* (1 + y_overlimit),\n",
    "        )\n",
    "    }\n",
    "    p.add_layout(LinearAxis(y_range_name=y_column2_range,axis_label=y_column2), \"right\")\n",
    "    \n",
    "    p.line(\n",
    "        df.index,\n",
    "        df[y_column2],\n",
    "        legend_label=y_column2,\n",
    "        line_width=1,\n",
    "        y_range_name=y_column2_range,\n",
    "        color=\"green\",\n",
    "    )\n",
    "    \n",
    "    p.legend.location = \"top_left\"\n",
    "    p.yaxis.formatter=NumeralTickFormatter(format=\",000\")\n",
    "\n",
    "          \n",
    "    show(p)\n",
    "\n",
    "\n",
    "\n",
    "fred_chart(fred_data)"
   ]
  },
  {
   "cell_type": "code",
   "execution_count": 22,
   "id": "36139c3e-e811-463c-a881-303b5a5b94f2",
   "metadata": {},
   "outputs": [],
   "source": [
    "#10yr yields: INDIRLTLT01STM\n",
    "India_Yield_10yr = fred_data_func('INDIRLTLT01STM','India 10yr_yield')\n",
    "US_Yield_10yr = fred_data_func('DGS10','US 10yr_yield')\n",
    "Yield_10yr=pd.merge(India_Yield_10yr,US_Yield_10yr, left_index=True, right_index=True,how='inner')\n",
    "Yield_10yr=Yield_10yr.bfill()\n",
    "# df.dropna()\n",
    "Yield_10yr.index.name='Date'\n",
    "Yield_10yr=Yield_10yr[Yield_10yr.index>'2018-01-01']\n"
   ]
  },
  {
   "cell_type": "code",
   "execution_count": 23,
   "id": "d44cc50f-e3ab-403b-a9f6-6430a1f25dd0",
   "metadata": {},
   "outputs": [
    {
     "data": {
      "text/html": [
       "\n",
       "  <div id=\"feb4c915-a729-4c9b-be27-6ad8756e6701\" data-root-id=\"p1608\" style=\"display: contents;\"></div>\n"
      ]
     },
     "metadata": {},
     "output_type": "display_data"
    },
    {
     "data": {
      "application/javascript": [
       "(function(root) {\n",
       "  function embed_document(root) {\n",
       "  const docs_json = {\"a5a1c858-f5d2-4bd7-bf08-e5df5d093427\":{\"version\":\"3.2.1\",\"title\":\"Bokeh Application\",\"roots\":[{\"type\":\"object\",\"name\":\"Figure\",\"id\":\"p1608\",\"attributes\":{\"x_range\":{\"type\":\"object\",\"name\":\"DataRange1d\",\"id\":\"p1609\"},\"y_range\":{\"type\":\"object\",\"name\":\"Range1d\",\"id\":\"p1659\",\"attributes\":{\"start\":4.81,\"end\":8.936}},\"x_scale\":{\"type\":\"object\",\"name\":\"LinearScale\",\"id\":\"p1617\"},\"y_scale\":{\"type\":\"object\",\"name\":\"LinearScale\",\"id\":\"p1618\"},\"extra_y_ranges\":{\"type\":\"map\",\"entries\":[[\"US 10yr_yield_range\",{\"type\":\"object\",\"name\":\"Range1d\",\"id\":\"p1660\",\"attributes\":{\"start\":-0.38,\"end\":5.07}}]]},\"title\":{\"type\":\"object\",\"name\":\"Title\",\"id\":\"p1615\"},\"renderers\":[{\"type\":\"object\",\"name\":\"GlyphRenderer\",\"id\":\"p1654\",\"attributes\":{\"data_source\":{\"type\":\"object\",\"name\":\"ColumnDataSource\",\"id\":\"p1648\",\"attributes\":{\"selected\":{\"type\":\"object\",\"name\":\"Selection\",\"id\":\"p1649\",\"attributes\":{\"indices\":[],\"line_indices\":[]}},\"selection_policy\":{\"type\":\"object\",\"name\":\"UnionRenderers\",\"id\":\"p1650\"},\"data\":{\"type\":\"map\",\"entries\":[[\"x\",{\"type\":\"ndarray\",\"array\":{\"type\":\"bytes\",\"data\":\"AABAm+oUdkIAAEC87R12QgAAAPuPMXZCAABATYo7dkIAAACMLE92QgAAwMrOYnZCAAAAHclsdkIAAMBba4B2QgAAAK5linZCAAAAz2iTdkIAAEAhY512QgAAwA0Lp3ZCAACATK26dkIAAMCep8R2QgAAgN1J2HZCAADAL0TidkIAAIBu5vV2QgAAwJkwE3dCAABAhtgcd0IAAIDY0iZ3QgAAAMV6MHdCAACAaW9Ed0IAAABWF053QgAAwJS5YXdCAAAA57Nrd0IAAEA5rnV3QgAAQFqxfndCAACArKuId0IAAEDrTZx3QgAAwNf1pXdCAABAfOq5d0IAAMBoksN3QgAAALuMzXdCAACApzTXd0IAAABMKet3QgAAAG0s9HdCAABAvyb+d0IAAAD+yBF4QgAAgOpwG3hCAADAPGsleEIAAACPZS94QgAAwM0HQ3hCAABAuq9MeEIAAMBepGB4QgAAwH+naXhCAACAvkl9eEIAAMAQRId4QgAAgE/mmnhC\"},\"shape\":[48],\"dtype\":\"float64\",\"order\":\"little\"}],[\"y\",{\"type\":\"ndarray\",\"array\":{\"type\":\"bytes\",\"data\":\"SOF6FK5HHkA730+Nl24eQKRwPQrXYx9AWDm0yHa+H0Dn+6nx0k0fQDMzMzMzsx9AVOOlm8QgH0CkcD0K12MdQLgehetRuB1A/Knx0k1iHUBxPQrXo7AdQFK4HoXrUR1AZmZmZmZmGkB7FK5H4XoaQClcj8L1KBpAj8L1KFyPGkBI4XoUrkcbQLgehetRuBpArkfhehSuF0BxPQrXo3AXQD0K16NwPRdAH4XrUbgeGEDNzMzMzMwXQI/C9ShcjxdAw/UoXI/CF0DNzMzMzMwYQGZmZmZmZhlAH4XrUbgeGUAUrkfhehQZQNejcD0K1xhAw/UoXI/CGEBxPQrXo3AZQGZmZmZmZhlAw/UoXI/CGUAAAAAAAAAbQEjhehSuRxtAcT0K16NwHEAfhetRuB4eQJqZmZmZmR1AH4XrUbgeHUAfhetRuB4dQHE9CtejcB1AKVyPwvUoHUBcj8L1KFwdQHE9CtejcB1ACtejcD0KHEAzMzMzMzMcQMP1KFyPwhxA\"},\"shape\":[48],\"dtype\":\"float64\",\"order\":\"little\"}]]}}},\"view\":{\"type\":\"object\",\"name\":\"CDSView\",\"id\":\"p1655\",\"attributes\":{\"filter\":{\"type\":\"object\",\"name\":\"AllIndices\",\"id\":\"p1656\"}}},\"glyph\":{\"type\":\"object\",\"name\":\"Line\",\"id\":\"p1651\",\"attributes\":{\"x\":{\"type\":\"field\",\"field\":\"x\"},\"y\":{\"type\":\"field\",\"field\":\"y\"},\"line_color\":\"blue\"}},\"nonselection_glyph\":{\"type\":\"object\",\"name\":\"Line\",\"id\":\"p1652\",\"attributes\":{\"x\":{\"type\":\"field\",\"field\":\"x\"},\"y\":{\"type\":\"field\",\"field\":\"y\"},\"line_color\":\"blue\",\"line_alpha\":0.1}},\"muted_glyph\":{\"type\":\"object\",\"name\":\"Line\",\"id\":\"p1653\",\"attributes\":{\"x\":{\"type\":\"field\",\"field\":\"x\"},\"y\":{\"type\":\"field\",\"field\":\"y\"},\"line_color\":\"blue\",\"line_alpha\":0.2}}}},{\"type\":\"object\",\"name\":\"GlyphRenderer\",\"id\":\"p1671\",\"attributes\":{\"y_range_name\":\"US 10yr_yield_range\",\"data_source\":{\"type\":\"object\",\"name\":\"ColumnDataSource\",\"id\":\"p1665\",\"attributes\":{\"selected\":{\"type\":\"object\",\"name\":\"Selection\",\"id\":\"p1666\",\"attributes\":{\"indices\":[],\"line_indices\":[]}},\"selection_policy\":{\"type\":\"object\",\"name\":\"UnionRenderers\",\"id\":\"p1667\"},\"data\":{\"type\":\"map\",\"entries\":[[\"x\",{\"type\":\"ndarray\",\"array\":{\"type\":\"bytes\",\"data\":\"AABAm+oUdkIAAEC87R12QgAAAPuPMXZCAABATYo7dkIAAACMLE92QgAAwMrOYnZCAAAAHclsdkIAAMBba4B2QgAAAK5linZCAAAAz2iTdkIAAEAhY512QgAAwA0Lp3ZCAACATK26dkIAAMCep8R2QgAAgN1J2HZCAADAL0TidkIAAIBu5vV2QgAAwJkwE3dCAABAhtgcd0IAAIDY0iZ3QgAAAMV6MHdCAACAaW9Ed0IAAABWF053QgAAwJS5YXdCAAAA57Nrd0IAAEA5rnV3QgAAQFqxfndCAACArKuId0IAAEDrTZx3QgAAwNf1pXdCAABAfOq5d0IAAMBoksN3QgAAALuMzXdCAACApzTXd0IAAABMKet3QgAAAG0s9HdCAABAvyb+d0IAAAD+yBF4QgAAgOpwG3hCAADAPGsleEIAAACPZS94QgAAwM0HQ3hCAABAuq9MeEIAAMBepGB4QgAAwH+naXhCAACAvkl9eEIAAMAQRId4QgAAgE/mmnhC\"},\"shape\":[48],\"dtype\":\"float64\",\"order\":\"little\"}],[\"y\",{\"type\":\"ndarray\",\"array\":{\"type\":\"bytes\",\"data\":\"PQrXo3A9BkB7FK5H4XoGQMP1KFyPwgdAH4XrUbgeB0AAAAAAAAAIQLgehetRuAhAH4XrUbgeCUCamZmZmZkFQJqZmZmZmQVAFK5H4XoUBkDsUbgehesDQClcj8L1KARAPQrXo3A9AEBmZmZmZmb+P2ZmZmZmZvo/rkfhehSu+z/Xo3A9CtfjP9ejcD0K1+M/exSuR+F65D8fhetRuB7lPxSuR+F6FOY/w/UoXI/C5T/D9Shcj8LlP3E9CtejcO0/cT0K16Nw8T9xPQrXo3DxPzMzMzMzM/c/CtejcD0K+z/sUbgehev5P65H4XoUrvc/9ihcj8L19D+uR+F6FK73P0jhehSuR/k/4XoUrkfh9j/2KFyPwvX8P4XrUbgehfs/H4XrUbgeA0CF61G4HoUHQArXo3A9CgdAzczMzMzMBEAUrkfhehQKQEjhehSuRxBAPQrXo3A9DEAfhetRuB4LQArXo3A9ChBAuB6F61G4DEDhehSuR+EMQDMzMzMzMxBA\"},\"shape\":[48],\"dtype\":\"float64\",\"order\":\"little\"}]]}}},\"view\":{\"type\":\"object\",\"name\":\"CDSView\",\"id\":\"p1672\",\"attributes\":{\"filter\":{\"type\":\"object\",\"name\":\"AllIndices\",\"id\":\"p1673\"}}},\"glyph\":{\"type\":\"object\",\"name\":\"Line\",\"id\":\"p1668\",\"attributes\":{\"x\":{\"type\":\"field\",\"field\":\"x\"},\"y\":{\"type\":\"field\",\"field\":\"y\"},\"line_color\":\"green\"}},\"nonselection_glyph\":{\"type\":\"object\",\"name\":\"Line\",\"id\":\"p1669\",\"attributes\":{\"x\":{\"type\":\"field\",\"field\":\"x\"},\"y\":{\"type\":\"field\",\"field\":\"y\"},\"line_color\":\"green\",\"line_alpha\":0.1}},\"muted_glyph\":{\"type\":\"object\",\"name\":\"Line\",\"id\":\"p1670\",\"attributes\":{\"x\":{\"type\":\"field\",\"field\":\"x\"},\"y\":{\"type\":\"field\",\"field\":\"y\"},\"line_color\":\"green\",\"line_alpha\":0.2}}}}],\"toolbar\":{\"type\":\"object\",\"name\":\"Toolbar\",\"id\":\"p1616\",\"attributes\":{\"tools\":[{\"type\":\"object\",\"name\":\"PanTool\",\"id\":\"p1641\"},{\"type\":\"object\",\"name\":\"WheelZoomTool\",\"id\":\"p1642\"},{\"type\":\"object\",\"name\":\"BoxZoomTool\",\"id\":\"p1643\",\"attributes\":{\"overlay\":{\"type\":\"object\",\"name\":\"BoxAnnotation\",\"id\":\"p1644\",\"attributes\":{\"syncable\":false,\"level\":\"overlay\",\"visible\":false,\"left_units\":\"canvas\",\"right_units\":\"canvas\",\"bottom_units\":\"canvas\",\"top_units\":\"canvas\",\"line_color\":\"black\",\"line_alpha\":1.0,\"line_width\":2,\"line_dash\":[4,4],\"fill_color\":\"lightgrey\",\"fill_alpha\":0.5}}}},{\"type\":\"object\",\"name\":\"SaveTool\",\"id\":\"p1645\"},{\"type\":\"object\",\"name\":\"ResetTool\",\"id\":\"p1646\"},{\"type\":\"object\",\"name\":\"HelpTool\",\"id\":\"p1647\"}]}},\"left\":[{\"type\":\"object\",\"name\":\"LinearAxis\",\"id\":\"p1636\",\"attributes\":{\"ticker\":{\"type\":\"object\",\"name\":\"BasicTicker\",\"id\":\"p1637\",\"attributes\":{\"mantissas\":[1,2,5]}},\"formatter\":{\"type\":\"object\",\"name\":\"BasicTickFormatter\",\"id\":\"p1638\"},\"axis_label\":\"India 10yr_yield\",\"major_label_policy\":{\"type\":\"object\",\"name\":\"AllLabels\",\"id\":\"p1639\"}}}],\"right\":[{\"type\":\"object\",\"name\":\"LinearAxis\",\"id\":\"p1661\",\"attributes\":{\"y_range_name\":\"US 10yr_yield_range\",\"ticker\":{\"type\":\"object\",\"name\":\"BasicTicker\",\"id\":\"p1662\",\"attributes\":{\"mantissas\":[1,2,5]}},\"formatter\":{\"type\":\"object\",\"name\":\"BasicTickFormatter\",\"id\":\"p1663\"},\"axis_label\":\"US 10yr_yield\",\"major_label_policy\":{\"type\":\"object\",\"name\":\"AllLabels\",\"id\":\"p1664\"}}}],\"below\":[{\"type\":\"object\",\"name\":\"DatetimeAxis\",\"id\":\"p1619\",\"attributes\":{\"ticker\":{\"type\":\"object\",\"name\":\"DatetimeTicker\",\"id\":\"p1620\",\"attributes\":{\"num_minor_ticks\":5,\"tickers\":[{\"type\":\"object\",\"name\":\"AdaptiveTicker\",\"id\":\"p1621\",\"attributes\":{\"num_minor_ticks\":0,\"mantissas\":[1,2,5],\"max_interval\":500.0}},{\"type\":\"object\",\"name\":\"AdaptiveTicker\",\"id\":\"p1622\",\"attributes\":{\"num_minor_ticks\":0,\"base\":60,\"mantissas\":[1,2,5,10,15,20,30],\"min_interval\":1000.0,\"max_interval\":1800000.0}},{\"type\":\"object\",\"name\":\"AdaptiveTicker\",\"id\":\"p1623\",\"attributes\":{\"num_minor_ticks\":0,\"base\":24,\"mantissas\":[1,2,4,6,8,12],\"min_interval\":3600000.0,\"max_interval\":43200000.0}},{\"type\":\"object\",\"name\":\"DaysTicker\",\"id\":\"p1624\",\"attributes\":{\"days\":[1,2,3,4,5,6,7,8,9,10,11,12,13,14,15,16,17,18,19,20,21,22,23,24,25,26,27,28,29,30,31]}},{\"type\":\"object\",\"name\":\"DaysTicker\",\"id\":\"p1625\",\"attributes\":{\"days\":[1,4,7,10,13,16,19,22,25,28]}},{\"type\":\"object\",\"name\":\"DaysTicker\",\"id\":\"p1626\",\"attributes\":{\"days\":[1,8,15,22]}},{\"type\":\"object\",\"name\":\"DaysTicker\",\"id\":\"p1627\",\"attributes\":{\"days\":[1,15]}},{\"type\":\"object\",\"name\":\"MonthsTicker\",\"id\":\"p1628\",\"attributes\":{\"months\":[0,1,2,3,4,5,6,7,8,9,10,11]}},{\"type\":\"object\",\"name\":\"MonthsTicker\",\"id\":\"p1629\",\"attributes\":{\"months\":[0,2,4,6,8,10]}},{\"type\":\"object\",\"name\":\"MonthsTicker\",\"id\":\"p1630\",\"attributes\":{\"months\":[0,4,8]}},{\"type\":\"object\",\"name\":\"MonthsTicker\",\"id\":\"p1631\",\"attributes\":{\"months\":[0,6]}},{\"type\":\"object\",\"name\":\"YearsTicker\",\"id\":\"p1632\"}]}},\"formatter\":{\"type\":\"object\",\"name\":\"DatetimeTickFormatter\",\"id\":\"p1633\"},\"axis_label\":\"Date\",\"major_label_policy\":{\"type\":\"object\",\"name\":\"AllLabels\",\"id\":\"p1634\"}}}],\"center\":[{\"type\":\"object\",\"name\":\"Grid\",\"id\":\"p1635\",\"attributes\":{\"axis\":{\"id\":\"p1619\"}}},{\"type\":\"object\",\"name\":\"Grid\",\"id\":\"p1640\",\"attributes\":{\"dimension\":1,\"axis\":{\"id\":\"p1636\"}}},{\"type\":\"object\",\"name\":\"Legend\",\"id\":\"p1657\",\"attributes\":{\"location\":\"top_left\",\"items\":[{\"type\":\"object\",\"name\":\"LegendItem\",\"id\":\"p1658\",\"attributes\":{\"label\":{\"type\":\"value\",\"value\":\"India 10yr_yield\"},\"renderers\":[{\"id\":\"p1654\"}]}},{\"type\":\"object\",\"name\":\"LegendItem\",\"id\":\"p1674\",\"attributes\":{\"label\":{\"type\":\"value\",\"value\":\"US 10yr_yield\"},\"renderers\":[{\"id\":\"p1671\"}]}}]}}]}}]}};\n",
       "  const render_items = [{\"docid\":\"a5a1c858-f5d2-4bd7-bf08-e5df5d093427\",\"roots\":{\"p1608\":\"feb4c915-a729-4c9b-be27-6ad8756e6701\"},\"root_ids\":[\"p1608\"]}];\n",
       "  root.Bokeh.embed.embed_items_notebook(docs_json, render_items);\n",
       "  }\n",
       "  if (root.Bokeh !== undefined) {\n",
       "    embed_document(root);\n",
       "  } else {\n",
       "    let attempts = 0;\n",
       "    const timer = setInterval(function(root) {\n",
       "      if (root.Bokeh !== undefined) {\n",
       "        clearInterval(timer);\n",
       "        embed_document(root);\n",
       "      } else {\n",
       "        attempts++;\n",
       "        if (attempts > 100) {\n",
       "          clearInterval(timer);\n",
       "          console.log(\"Bokeh: ERROR: Unable to run BokehJS code because BokehJS library is missing\");\n",
       "        }\n",
       "      }\n",
       "    }, 10, root)\n",
       "  }\n",
       "})(window);"
      ],
      "application/vnd.bokehjs_exec.v0+json": ""
     },
     "metadata": {
      "application/vnd.bokehjs_exec.v0+json": {
       "id": "p1608"
      }
     },
     "output_type": "display_data"
    }
   ],
   "source": [
    "from bokeh.layouts import column\n",
    "import numpy as np\n",
    "\n",
    "def fred_chart(df):\n",
    "    \n",
    "    # pandas dataframe\n",
    "    x_column = \"Date\"\n",
    "    y_column1 = \"India 10yr_yield\"\n",
    "    y_column2 = \"US 10yr_yield\"\n",
    "    \n",
    "\n",
    "\n",
    "    y_overlimit = 0 #0.05 # show y axis below and above y min and max value\n",
    "    p = figure(x_axis_type='datetime',x_axis_label=x_column,\n",
    "           y_axis_label=y_column1)#, tools=\"hover\", tooltips=\"$name @y_column2: @$name\")\n",
    "    \n",
    "    # FIRST AXIS\n",
    "    p.line(df.index, df[y_column1], line_width=1, color=\"blue\",legend_label=y_column1)\n",
    "\n",
    "    p.y_range = Range1d(\n",
    "        df[y_column1].min()-1 ,#* (1 - y_overlimit), \n",
    "        df[y_column1].max()+1 #* (1 + y_overlimit)\n",
    "    )\n",
    "    \n",
    "    # SECOND AXIS\n",
    "    y_column2_range = y_column2 + \"_range\"\n",
    "    p.extra_y_ranges = {\n",
    "        y_column2_range: Range1d(\n",
    "            start=df[y_column2].min()-1 ,#* (1 - y_overlimit),\n",
    "            end=df[y_column2].max()+1 ,#* (1 + y_overlimit),\n",
    "        )\n",
    "    }\n",
    "    p.add_layout(LinearAxis(y_range_name=y_column2_range,axis_label=y_column2), \"right\")\n",
    "    \n",
    "    p.line(\n",
    "        df.index,\n",
    "        df[y_column2],\n",
    "        legend_label=y_column2,\n",
    "        line_width=1,\n",
    "        y_range_name=y_column2_range,\n",
    "        color=\"green\",\n",
    "    )\n",
    "\n",
    "    \n",
    "    p.legend.location = \"top_left\"\n",
    "\n",
    "    \n",
    "    show(p)\n",
    "\n",
    "fred_chart(Yield_10yr)"
   ]
  },
  {
   "cell_type": "code",
   "execution_count": null,
   "id": "3694feae-5f72-41ef-b2f7-a1bd4d2a0c52",
   "metadata": {},
   "outputs": [],
   "source": []
  },
  {
   "cell_type": "code",
   "execution_count": null,
   "id": "f939d817-0c21-486e-affc-5c01114d9508",
   "metadata": {},
   "outputs": [],
   "source": []
  },
  {
   "cell_type": "code",
   "execution_count": null,
   "id": "1ceb10d3-a443-4592-b0d3-4293d8308587",
   "metadata": {},
   "outputs": [],
   "source": []
  }
 ],
 "metadata": {
  "kernelspec": {
   "display_name": "Python 3 (ipykernel)",
   "language": "python",
   "name": "python3"
  },
  "language_info": {
   "codemirror_mode": {
    "name": "ipython",
    "version": 3
   },
   "file_extension": ".py",
   "mimetype": "text/x-python",
   "name": "python",
   "nbconvert_exporter": "python",
   "pygments_lexer": "ipython3",
   "version": "3.11.5"
  }
 },
 "nbformat": 4,
 "nbformat_minor": 5
}
